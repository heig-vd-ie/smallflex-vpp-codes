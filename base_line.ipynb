{
 "cells": [
  {
   "cell_type": "code",
   "execution_count": 1,
   "metadata": {},
   "outputs": [],
   "source": [
    "import pyomo.environ as pyo\n",
    "import json\n",
    "from datetime import timedelta\n",
    "import polars as pl\n",
    "from polars  import col as c\n",
    "import os \n",
    "import numpy as np\n",
    "import math\n",
    "from datetime import timedelta, datetime, timezone\n",
    "from optimization_model.optimizaztion_pipeline import first_stage_pipeline\n",
    "from optimization_model.input_data_prepocessing import generate_first_problem_input_data\n",
    "from data_display.first_stage_optimization_plots import plot_first_stage_summarized\n",
    "from utility.pyomo_preprocessing import extract_optimization_results\n",
    "from utility.polars_operation import linear_interpolation_for_bound, arange_float\n",
    "from data_federation.input_model import SmallflexInputSchema\n",
    "from utility.pyomo_preprocessing import generate_datetime_index, generate_clean_timeseries, optimal_segments, generate_segments, process_performance_table\n",
    "from config import settings\n",
    "from utility.general_function import pl_to_dict\n",
    "\n",
    "from optimization_model.first_model_baseline_2 import generate_baseline_model"
   ]
  },
  {
   "cell_type": "code",
   "execution_count": 2,
   "metadata": {},
   "outputs": [],
   "source": [
    "os.chdir(os.getcwd().replace(\"/src\", \"\"))\n",
    "os.environ['GRB_LICENSE_FILE'] = '/home/ltomasini/gruobi_license/gurobi.lic'\n"
   ]
  },
  {
   "cell_type": "code",
   "execution_count": 3,
   "metadata": {},
   "outputs": [
    {
     "name": "stderr",
     "output_type": "stream",
     "text": [
      "Read and validate tables from small_flex_input_data.db file: 100%|████████████████████████████████████████████████████| 12/12 [00:00<00:00, 23.47it/s]\n"
     ]
    }
   ],
   "source": [
    "output_file_names: dict[str, str] = json.load(open(settings.OUTPUT_FILE_NAMES))\n",
    "\n",
    "small_flex_input_schema: SmallflexInputSchema = SmallflexInputSchema()\\\n",
    ".duckdb_to_schema(file_path=output_file_names[\"duckdb_input\"])"
   ]
  },
  {
   "cell_type": "code",
   "execution_count": 6,
   "metadata": {},
   "outputs": [
    {
     "name": "stdout",
     "output_type": "stream",
     "text": [
      "shape: (1, 2)\n",
      "┌────────────────┬──────────────────┐\n",
      "│ powered_volume ┆ discharge_volume │\n",
      "│ ---            ┆ ---              │\n",
      "│ f64            ┆ f64              │\n",
      "╞════════════════╪══════════════════╡\n",
      "│ 23.820974      ┆ 23.820974        │\n",
      "└────────────────┴──────────────────┘\n"
     ]
    },
    {
     "data": {
      "application/vnd.plotly.v1+json": {
       "config": {
        "plotlyServerURL": "https://plot.ly"
       },
       "data": [
        {
         "line": {
          "color": "#636EFA"
         },
         "mode": "lines",
         "showlegend": false,
         "type": "scatter",
         "x": [
          0,
          1,
          2,
          3,
          4,
          5,
          6,
          7,
          8,
          9,
          10,
          11,
          12,
          13,
          14,
          15,
          16,
          17,
          18,
          19,
          20,
          21,
          22,
          23,
          24,
          25,
          26,
          27,
          28,
          29,
          30,
          31,
          32,
          33,
          34,
          35,
          36,
          37,
          38,
          39,
          40,
          41,
          42,
          43,
          44,
          45,
          46,
          47,
          48,
          49,
          50,
          51,
          52,
          53,
          54,
          55,
          56,
          57,
          58,
          59,
          60,
          61,
          62,
          63,
          64,
          65,
          66,
          67,
          68,
          69,
          70,
          71,
          72,
          73,
          74,
          75,
          76,
          77,
          78,
          79,
          80,
          81,
          82,
          83,
          84,
          85,
          86,
          87,
          88,
          89,
          90,
          91,
          92,
          93,
          94,
          95,
          96,
          97,
          98,
          99,
          100,
          101,
          102,
          103,
          104,
          105,
          106,
          107,
          108,
          109,
          110,
          111,
          112,
          113,
          114,
          115,
          116,
          117,
          118,
          119,
          120,
          121
         ],
         "xaxis": "x",
         "y": [
          37.050138888888874,
          38.14500000000002,
          45.618888888888904,
          41.682222222222215,
          43.388333333333335,
          42.56430555555557,
          44.55694444444445,
          50.17291666666668,
          42.16458333333334,
          41.2188888888889,
          37.16805555555555,
          35.93736111111111,
          37.918888888888894,
          32.65763888888889,
          35.37708333333333,
          31.64569444444444,
          34.649166666666666,
          29.51875000000001,
          33.931527777777774,
          34.313194444444456,
          31.931527777777767,
          36.44736111111112,
          29.79791666666667,
          32.219027777777775,
          25.34125,
          29.411666666666665,
          22.78805555555555,
          16.244583333333335,
          22.374722222222225,
          14.417323943661971,
          23.664583333333333,
          15.919999999999996,
          20.34166666666666,
          19.445000000000004,
          7.322500000000002,
          21.39680555555555,
          12.827222222222225,
          14.120000000000005,
          16.374444444444446,
          23.748472222222215,
          12.700138888888889,
          19.411944444444444,
          22.036666666666676,
          15.597916666666666,
          23.33319444444444,
          15.317916666666669,
          21.55333333333333,
          14.81944444444445,
          8.308055555555555,
          21.08277777777777,
          8.173472222222223,
          22.48722222222222,
          15.997777777777777,
          30.872222222222213,
          22.899722222222223,
          27.09777777777778,
          30.94777777777778,
          23.650833333333324,
          34.04208333333334,
          27.02347222222222,
          31.208472222222227,
          31.023611111111094,
          23.178611111111106,
          39.29597222222221,
          30.348333333333326,
          38.426527777777785,
          31.595138888888886,
          35.583750000000016,
          33.38513888888889,
          28.02194444444444,
          36.4213888888889,
          32.763749999999995,
          34.56319444444444,
          32.199861111111105,
          36.68236111111112,
          35.94583333333333,
          35.118472222222216,
          35.98791666666666,
          29.45833333333334,
          39.7875,
          38.069027777777784,
          50.47055555555555,
          40.155694444444435,
          41.64958333333334,
          46.57430555555556,
          42.31972222222223,
          54.93513888888888,
          41.971111111111114,
          54.00152777777779,
          40.330833333333345,
          46.18041666666668,
          46.01458333333335,
          26.32361111111111,
          35.41749999999999,
          35.37333333333333,
          46.2697222222222,
          44.81555555555556,
          41.85999999999998,
          45.01638888888888,
          31.804999999999993,
          37.08680555555557,
          28.51027777777778,
          34.866944444444435,
          39.31069444444445,
          41.67472222222222,
          42.23583333333333,
          30.31916666666666,
          40.82875000000001,
          40.57874999999999,
          47.81055555555556,
          54.94958333333332,
          55.10680555555557,
          59.058333333333344,
          51.55027777777778,
          74.60208333333333,
          49.755138888888894,
          53.591111111111125,
          53.791944444444454,
          48.22763888888892,
          38.44208333333333,
          33.03694444444445,
          49.2425
         ],
         "yaxis": "y"
        },
        {
         "line": {
          "color": "#636EFA"
         },
         "mode": "lines",
         "showlegend": false,
         "type": "scatter",
         "x": [
          0,
          1,
          2,
          3,
          4,
          5,
          6,
          7,
          8,
          9,
          10,
          11,
          12,
          13,
          14,
          15,
          16,
          17,
          18,
          19,
          20,
          21,
          22,
          23,
          24,
          25,
          26,
          27,
          28,
          29,
          30,
          31,
          32,
          33,
          34,
          35,
          36,
          37,
          38,
          39,
          40,
          41,
          42,
          43,
          44,
          45,
          46,
          47,
          48,
          49,
          50,
          51,
          52,
          53,
          54,
          55,
          56,
          57,
          58,
          59,
          60,
          61,
          62,
          63,
          64,
          65,
          66,
          67,
          68,
          69,
          70,
          71,
          72,
          73,
          74,
          75,
          76,
          77,
          78,
          79,
          80,
          81,
          82,
          83,
          84,
          85,
          86,
          87,
          88,
          89,
          90,
          91,
          92,
          93,
          94,
          95,
          96,
          97,
          98,
          99,
          100,
          101,
          102,
          103,
          104,
          105,
          106,
          107,
          108,
          109,
          110,
          111,
          112,
          113,
          114,
          115,
          116,
          117,
          118,
          119,
          120,
          121
         ],
         "xaxis": "x2",
         "y": [
          17026600,
          16465475.289999977,
          15901733.979999976,
          15336410.319999976,
          14769588.309999976,
          14201650.15,
          13631963.739999976,
          13060998.429999974,
          12488822.469999973,
          11915565.009999974,
          11342175.25,
          10768276.239999974,
          10194253.329999974,
          9619729.569999974,
          9495446.849999342,
          8919200.039999342,
          8947286.48999934,
          8372429.87999933,
          8400616.07999933,
          7829470.169999342,
          7254056.009999342,
          7280019.359999342,
          6702748.799999341,
          6727159.199999342,
          6752290.949999342,
          6778574.549999274,
          6802417.949999293,
          6825466.499999311,
          6847454.549999311,
          6868554.299999329,
          6888943.199999342,
          6908779.799999341,
          6927851.999999342,
          6954001.199999312,
          6988554.599999312,
          7043605.049999329,
          7085619.749999329,
          7152722.099999341,
          7199346.299999306,
          7253363.549999329,
          7305007.799999341,
          7341124.649999341,
          7398043.049999172,
          7556309.5499992,
          7820576.699999234,
          8187801.599999234,
          8598400.949999342,
          9009173.549999341,
          9770661.899999341,
          10242175.949999342,
          10527060.899999341,
          10718028.59999934,
          11234615.99999934,
          11898840.74999934,
          12270469.34999934,
          12474863.399999341,
          12931713.149999358,
          13439877.449999359,
          14050970.099999359,
          14160218.93999934,
          14839413.53999934,
          15669253.73999934,
          16335339.08999934,
          16913672.789999295,
          16915985.429999333,
          17433382.37999934,
          17149028.21999934,
          17616027.26999934,
          17461169.60999934,
          17270494.34999934,
          17634899.999999337,
          17472581.03999934,
          17590387.859999306,
          17274252.299999308,
          17634899.999999307,
          17384319.089999307,
          17342204.1,
          17634900,
          17385962.850000806,
          17634900.000000805,
          17274388.290000804,
          17634900.000000417,
          17328497.94000042,
          17585009.79000042,
          17634899.999999233,
          17228450.78999923,
          17416161.389999233,
          16978231.079999235,
          17108467.829999235,
          16633596.419999234,
          16780954.469999235,
          16251264.659999236,
          15868056.149999237,
          16923545.549999233,
          17067165.599999234,
          17178095.999999233,
          16656631.889999233,
          16728364.739999233,
          16799220.839999232,
          16587093.450000579,
          16675163.25000058,
          16739197.50000058,
          16872491.85000058,
          17123855.550000556,
          17258956.950000565,
          17343615.300000574,
          17415612.750000577,
          17487252.150000576,
          17565302.850000575,
          17634900.000000574,
          17634899.99999942,
          17634899.99999942,
          17634900.00000094,
          17287449.909999996,
          17335096.81,
          16777746.85,
          16820060.8,
          16859720.35,
          16896907.15,
          16931970.85,
          16965313.6,
          16996768.45
         ],
         "yaxis": "y2"
        },
        {
         "marker": {
          "color": "#636EFA"
         },
         "showlegend": false,
         "type": "bar",
         "x": [
          0,
          1,
          2,
          3,
          4,
          5,
          6,
          7,
          8,
          9,
          10,
          11,
          12,
          13,
          14,
          15,
          16,
          17,
          18,
          19,
          20,
          21,
          22,
          23,
          24,
          25,
          26,
          27,
          28,
          29,
          30,
          31,
          32,
          33,
          34,
          35,
          36,
          37,
          38,
          39,
          40,
          41,
          42,
          43,
          44,
          45,
          46,
          47,
          48,
          49,
          50,
          51,
          52,
          53,
          54,
          55,
          56,
          57,
          58,
          59,
          60,
          61,
          62,
          63,
          64,
          65,
          66,
          67,
          68,
          69,
          70,
          71,
          72,
          73,
          74,
          75,
          76,
          77,
          78,
          79,
          80,
          81,
          82,
          83,
          84,
          85,
          86,
          87,
          88,
          89,
          90,
          91,
          92,
          93,
          94,
          95,
          96,
          97,
          98,
          99,
          100,
          101,
          102,
          103,
          104,
          105,
          106,
          107,
          108,
          109,
          110,
          111,
          112,
          113,
          114,
          115,
          116,
          117,
          118,
          119,
          120,
          121
         ],
         "xaxis": "x3",
         "y": [
          0.6025881600000225,
          0.60258816,
          0.60258816,
          0.60258816,
          0.60258816,
          0.60258816,
          0.60258816,
          0.60258816,
          0.60258816,
          0.60258816,
          0.60258816,
          0.60258816,
          0.60258816,
          0.1514829700006322,
          0.60258816,
          0,
          0.60258816,
          0,
          0.60258816,
          0.6025881599999982,
          0,
          0.60258816,
          0,
          0,
          0,
          0,
          0,
          0,
          0,
          0,
          0,
          0,
          0,
          0,
          0,
          0,
          0,
          0,
          0,
          0,
          0,
          0,
          0,
          0,
          0,
          0,
          0,
          0,
          0,
          0,
          0,
          0,
          0,
          0,
          0,
          0,
          0,
          0,
          0.60258816,
          0,
          0,
          0,
          0,
          0.60258816,
          0,
          0.60258816,
          0,
          0.60258816,
          0.60258816,
          0,
          0.60258816,
          0.3576489300000332,
          0.60258816,
          0,
          0.60258816,
          0.41314403999925403,
          0,
          0.5320759499992467,
          0,
          0.60258816,
          0.2718969900003874,
          0.60258816,
          0,
          0.13810704000118748,
          0.60258816,
          0,
          0.60258816,
          0,
          0.60258816,
          0,
          0.60258816,
          0.60258816,
          0,
          0,
          0,
          0.60258816,
          0,
          0,
          0.30159368999865277,
          0,
          0,
          0,
          0,
          0,
          0,
          0,
          0,
          0,
          0,
          0.06433770000115484,
          0.05513025,
          0.05036639999848006,
          0.39460454000094236,
          0,
          0.60258816,
          0,
          0,
          0,
          0,
          0,
          0,
          0
         ],
         "yaxis": "y3"
        }
       ],
       "layout": {
        "annotations": [
         {
          "font": {
           "size": 16
          },
          "showarrow": false,
          "text": "Price [EUR/MWh]",
          "textangle": 90,
          "x": 0.98,
          "xanchor": "left",
          "xref": "paper",
          "y": 0.85,
          "yanchor": "middle",
          "yref": "paper"
         },
         {
          "font": {
           "size": 16
          },
          "showarrow": false,
          "text": "Height [masl]",
          "textangle": 90,
          "x": 0.98,
          "xanchor": "left",
          "xref": "paper",
          "y": 0.49999999999999994,
          "yanchor": "middle",
          "yref": "paper"
         },
         {
          "font": {
           "size": 16
          },
          "showarrow": false,
          "text": "Volume [Mm3]",
          "textangle": 90,
          "x": 0.98,
          "xanchor": "left",
          "xref": "paper",
          "y": 0.15,
          "yanchor": "middle",
          "yref": "paper"
         },
         {
          "font": {
           "size": 16
          },
          "showarrow": false,
          "text": "<b>Index<b>",
          "x": 0.49,
          "xanchor": "center",
          "xref": "paper",
          "y": 0,
          "yanchor": "top",
          "yref": "paper",
          "yshift": -30
         }
        ],
        "height": 800,
        "margin": {
         "b": 60,
         "l": 65,
         "r": 10,
         "t": 60
        },
        "template": {
         "data": {
          "bar": [
           {
            "error_x": {
             "color": "#2a3f5f"
            },
            "error_y": {
             "color": "#2a3f5f"
            },
            "marker": {
             "line": {
              "color": "#E5ECF6",
              "width": 0.5
             },
             "pattern": {
              "fillmode": "overlay",
              "size": 10,
              "solidity": 0.2
             }
            },
            "type": "bar"
           }
          ],
          "barpolar": [
           {
            "marker": {
             "line": {
              "color": "#E5ECF6",
              "width": 0.5
             },
             "pattern": {
              "fillmode": "overlay",
              "size": 10,
              "solidity": 0.2
             }
            },
            "type": "barpolar"
           }
          ],
          "carpet": [
           {
            "aaxis": {
             "endlinecolor": "#2a3f5f",
             "gridcolor": "white",
             "linecolor": "white",
             "minorgridcolor": "white",
             "startlinecolor": "#2a3f5f"
            },
            "baxis": {
             "endlinecolor": "#2a3f5f",
             "gridcolor": "white",
             "linecolor": "white",
             "minorgridcolor": "white",
             "startlinecolor": "#2a3f5f"
            },
            "type": "carpet"
           }
          ],
          "choropleth": [
           {
            "colorbar": {
             "outlinewidth": 0,
             "ticks": ""
            },
            "type": "choropleth"
           }
          ],
          "contour": [
           {
            "colorbar": {
             "outlinewidth": 0,
             "ticks": ""
            },
            "colorscale": [
             [
              0,
              "#0d0887"
             ],
             [
              0.1111111111111111,
              "#46039f"
             ],
             [
              0.2222222222222222,
              "#7201a8"
             ],
             [
              0.3333333333333333,
              "#9c179e"
             ],
             [
              0.4444444444444444,
              "#bd3786"
             ],
             [
              0.5555555555555556,
              "#d8576b"
             ],
             [
              0.6666666666666666,
              "#ed7953"
             ],
             [
              0.7777777777777778,
              "#fb9f3a"
             ],
             [
              0.8888888888888888,
              "#fdca26"
             ],
             [
              1,
              "#f0f921"
             ]
            ],
            "type": "contour"
           }
          ],
          "contourcarpet": [
           {
            "colorbar": {
             "outlinewidth": 0,
             "ticks": ""
            },
            "type": "contourcarpet"
           }
          ],
          "heatmap": [
           {
            "colorbar": {
             "outlinewidth": 0,
             "ticks": ""
            },
            "colorscale": [
             [
              0,
              "#0d0887"
             ],
             [
              0.1111111111111111,
              "#46039f"
             ],
             [
              0.2222222222222222,
              "#7201a8"
             ],
             [
              0.3333333333333333,
              "#9c179e"
             ],
             [
              0.4444444444444444,
              "#bd3786"
             ],
             [
              0.5555555555555556,
              "#d8576b"
             ],
             [
              0.6666666666666666,
              "#ed7953"
             ],
             [
              0.7777777777777778,
              "#fb9f3a"
             ],
             [
              0.8888888888888888,
              "#fdca26"
             ],
             [
              1,
              "#f0f921"
             ]
            ],
            "type": "heatmap"
           }
          ],
          "heatmapgl": [
           {
            "colorbar": {
             "outlinewidth": 0,
             "ticks": ""
            },
            "colorscale": [
             [
              0,
              "#0d0887"
             ],
             [
              0.1111111111111111,
              "#46039f"
             ],
             [
              0.2222222222222222,
              "#7201a8"
             ],
             [
              0.3333333333333333,
              "#9c179e"
             ],
             [
              0.4444444444444444,
              "#bd3786"
             ],
             [
              0.5555555555555556,
              "#d8576b"
             ],
             [
              0.6666666666666666,
              "#ed7953"
             ],
             [
              0.7777777777777778,
              "#fb9f3a"
             ],
             [
              0.8888888888888888,
              "#fdca26"
             ],
             [
              1,
              "#f0f921"
             ]
            ],
            "type": "heatmapgl"
           }
          ],
          "histogram": [
           {
            "marker": {
             "pattern": {
              "fillmode": "overlay",
              "size": 10,
              "solidity": 0.2
             }
            },
            "type": "histogram"
           }
          ],
          "histogram2d": [
           {
            "colorbar": {
             "outlinewidth": 0,
             "ticks": ""
            },
            "colorscale": [
             [
              0,
              "#0d0887"
             ],
             [
              0.1111111111111111,
              "#46039f"
             ],
             [
              0.2222222222222222,
              "#7201a8"
             ],
             [
              0.3333333333333333,
              "#9c179e"
             ],
             [
              0.4444444444444444,
              "#bd3786"
             ],
             [
              0.5555555555555556,
              "#d8576b"
             ],
             [
              0.6666666666666666,
              "#ed7953"
             ],
             [
              0.7777777777777778,
              "#fb9f3a"
             ],
             [
              0.8888888888888888,
              "#fdca26"
             ],
             [
              1,
              "#f0f921"
             ]
            ],
            "type": "histogram2d"
           }
          ],
          "histogram2dcontour": [
           {
            "colorbar": {
             "outlinewidth": 0,
             "ticks": ""
            },
            "colorscale": [
             [
              0,
              "#0d0887"
             ],
             [
              0.1111111111111111,
              "#46039f"
             ],
             [
              0.2222222222222222,
              "#7201a8"
             ],
             [
              0.3333333333333333,
              "#9c179e"
             ],
             [
              0.4444444444444444,
              "#bd3786"
             ],
             [
              0.5555555555555556,
              "#d8576b"
             ],
             [
              0.6666666666666666,
              "#ed7953"
             ],
             [
              0.7777777777777778,
              "#fb9f3a"
             ],
             [
              0.8888888888888888,
              "#fdca26"
             ],
             [
              1,
              "#f0f921"
             ]
            ],
            "type": "histogram2dcontour"
           }
          ],
          "mesh3d": [
           {
            "colorbar": {
             "outlinewidth": 0,
             "ticks": ""
            },
            "type": "mesh3d"
           }
          ],
          "parcoords": [
           {
            "line": {
             "colorbar": {
              "outlinewidth": 0,
              "ticks": ""
             }
            },
            "type": "parcoords"
           }
          ],
          "pie": [
           {
            "automargin": true,
            "type": "pie"
           }
          ],
          "scatter": [
           {
            "fillpattern": {
             "fillmode": "overlay",
             "size": 10,
             "solidity": 0.2
            },
            "type": "scatter"
           }
          ],
          "scatter3d": [
           {
            "line": {
             "colorbar": {
              "outlinewidth": 0,
              "ticks": ""
             }
            },
            "marker": {
             "colorbar": {
              "outlinewidth": 0,
              "ticks": ""
             }
            },
            "type": "scatter3d"
           }
          ],
          "scattercarpet": [
           {
            "marker": {
             "colorbar": {
              "outlinewidth": 0,
              "ticks": ""
             }
            },
            "type": "scattercarpet"
           }
          ],
          "scattergeo": [
           {
            "marker": {
             "colorbar": {
              "outlinewidth": 0,
              "ticks": ""
             }
            },
            "type": "scattergeo"
           }
          ],
          "scattergl": [
           {
            "marker": {
             "colorbar": {
              "outlinewidth": 0,
              "ticks": ""
             }
            },
            "type": "scattergl"
           }
          ],
          "scattermapbox": [
           {
            "marker": {
             "colorbar": {
              "outlinewidth": 0,
              "ticks": ""
             }
            },
            "type": "scattermapbox"
           }
          ],
          "scatterpolar": [
           {
            "marker": {
             "colorbar": {
              "outlinewidth": 0,
              "ticks": ""
             }
            },
            "type": "scatterpolar"
           }
          ],
          "scatterpolargl": [
           {
            "marker": {
             "colorbar": {
              "outlinewidth": 0,
              "ticks": ""
             }
            },
            "type": "scatterpolargl"
           }
          ],
          "scatterternary": [
           {
            "marker": {
             "colorbar": {
              "outlinewidth": 0,
              "ticks": ""
             }
            },
            "type": "scatterternary"
           }
          ],
          "surface": [
           {
            "colorbar": {
             "outlinewidth": 0,
             "ticks": ""
            },
            "colorscale": [
             [
              0,
              "#0d0887"
             ],
             [
              0.1111111111111111,
              "#46039f"
             ],
             [
              0.2222222222222222,
              "#7201a8"
             ],
             [
              0.3333333333333333,
              "#9c179e"
             ],
             [
              0.4444444444444444,
              "#bd3786"
             ],
             [
              0.5555555555555556,
              "#d8576b"
             ],
             [
              0.6666666666666666,
              "#ed7953"
             ],
             [
              0.7777777777777778,
              "#fb9f3a"
             ],
             [
              0.8888888888888888,
              "#fdca26"
             ],
             [
              1,
              "#f0f921"
             ]
            ],
            "type": "surface"
           }
          ],
          "table": [
           {
            "cells": {
             "fill": {
              "color": "#EBF0F8"
             },
             "line": {
              "color": "white"
             }
            },
            "header": {
             "fill": {
              "color": "#C8D4E3"
             },
             "line": {
              "color": "white"
             }
            },
            "type": "table"
           }
          ]
         },
         "layout": {
          "annotationdefaults": {
           "arrowcolor": "#2a3f5f",
           "arrowhead": 0,
           "arrowwidth": 1
          },
          "autotypenumbers": "strict",
          "coloraxis": {
           "colorbar": {
            "outlinewidth": 0,
            "ticks": ""
           }
          },
          "colorscale": {
           "diverging": [
            [
             0,
             "#8e0152"
            ],
            [
             0.1,
             "#c51b7d"
            ],
            [
             0.2,
             "#de77ae"
            ],
            [
             0.3,
             "#f1b6da"
            ],
            [
             0.4,
             "#fde0ef"
            ],
            [
             0.5,
             "#f7f7f7"
            ],
            [
             0.6,
             "#e6f5d0"
            ],
            [
             0.7,
             "#b8e186"
            ],
            [
             0.8,
             "#7fbc41"
            ],
            [
             0.9,
             "#4d9221"
            ],
            [
             1,
             "#276419"
            ]
           ],
           "sequential": [
            [
             0,
             "#0d0887"
            ],
            [
             0.1111111111111111,
             "#46039f"
            ],
            [
             0.2222222222222222,
             "#7201a8"
            ],
            [
             0.3333333333333333,
             "#9c179e"
            ],
            [
             0.4444444444444444,
             "#bd3786"
            ],
            [
             0.5555555555555556,
             "#d8576b"
            ],
            [
             0.6666666666666666,
             "#ed7953"
            ],
            [
             0.7777777777777778,
             "#fb9f3a"
            ],
            [
             0.8888888888888888,
             "#fdca26"
            ],
            [
             1,
             "#f0f921"
            ]
           ],
           "sequentialminus": [
            [
             0,
             "#0d0887"
            ],
            [
             0.1111111111111111,
             "#46039f"
            ],
            [
             0.2222222222222222,
             "#7201a8"
            ],
            [
             0.3333333333333333,
             "#9c179e"
            ],
            [
             0.4444444444444444,
             "#bd3786"
            ],
            [
             0.5555555555555556,
             "#d8576b"
            ],
            [
             0.6666666666666666,
             "#ed7953"
            ],
            [
             0.7777777777777778,
             "#fb9f3a"
            ],
            [
             0.8888888888888888,
             "#fdca26"
            ],
            [
             1,
             "#f0f921"
            ]
           ]
          },
          "colorway": [
           "#636efa",
           "#EF553B",
           "#00cc96",
           "#ab63fa",
           "#FFA15A",
           "#19d3f3",
           "#FF6692",
           "#B6E880",
           "#FF97FF",
           "#FECB52"
          ],
          "font": {
           "color": "#2a3f5f"
          },
          "geo": {
           "bgcolor": "white",
           "lakecolor": "white",
           "landcolor": "#E5ECF6",
           "showlakes": true,
           "showland": true,
           "subunitcolor": "white"
          },
          "hoverlabel": {
           "align": "left"
          },
          "hovermode": "closest",
          "mapbox": {
           "style": "light"
          },
          "paper_bgcolor": "white",
          "plot_bgcolor": "#E5ECF6",
          "polar": {
           "angularaxis": {
            "gridcolor": "white",
            "linecolor": "white",
            "ticks": ""
           },
           "bgcolor": "#E5ECF6",
           "radialaxis": {
            "gridcolor": "white",
            "linecolor": "white",
            "ticks": ""
           }
          },
          "scene": {
           "xaxis": {
            "backgroundcolor": "#E5ECF6",
            "gridcolor": "white",
            "gridwidth": 2,
            "linecolor": "white",
            "showbackground": true,
            "ticks": "",
            "zerolinecolor": "white"
           },
           "yaxis": {
            "backgroundcolor": "#E5ECF6",
            "gridcolor": "white",
            "gridwidth": 2,
            "linecolor": "white",
            "showbackground": true,
            "ticks": "",
            "zerolinecolor": "white"
           },
           "zaxis": {
            "backgroundcolor": "#E5ECF6",
            "gridcolor": "white",
            "gridwidth": 2,
            "linecolor": "white",
            "showbackground": true,
            "ticks": "",
            "zerolinecolor": "white"
           }
          },
          "shapedefaults": {
           "line": {
            "color": "#2a3f5f"
           }
          },
          "ternary": {
           "aaxis": {
            "gridcolor": "white",
            "linecolor": "white",
            "ticks": ""
           },
           "baxis": {
            "gridcolor": "white",
            "linecolor": "white",
            "ticks": ""
           },
           "bgcolor": "#E5ECF6",
           "caxis": {
            "gridcolor": "white",
            "linecolor": "white",
            "ticks": ""
           }
          },
          "title": {
           "x": 0.05
          },
          "xaxis": {
           "automargin": true,
           "gridcolor": "white",
           "linecolor": "white",
           "ticks": "",
           "title": {
            "standoff": 15
           },
           "zerolinecolor": "white",
           "zerolinewidth": 2
          },
          "yaxis": {
           "automargin": true,
           "gridcolor": "white",
           "linecolor": "white",
           "ticks": "",
           "title": {
            "standoff": 15
           },
           "zerolinecolor": "white",
           "zerolinewidth": 2
          }
         }
        },
        "title": {
         "text": "First stage optimization results ([0: 1] flow factor and 3 days per index and 2020 year)"
        },
        "width": 1200,
        "xaxis": {
         "anchor": "y",
         "domain": [
          0,
          0.98
         ],
         "matches": "x3",
         "showticklabels": false
        },
        "xaxis2": {
         "anchor": "y2",
         "domain": [
          0,
          0.98
         ],
         "matches": "x3",
         "showticklabels": false
        },
        "xaxis3": {
         "anchor": "y3",
         "domain": [
          0,
          0.98
         ]
        },
        "yaxis": {
         "anchor": "x",
         "domain": [
          0.7,
          1
         ]
        },
        "yaxis2": {
         "anchor": "x2",
         "domain": [
          0.35,
          0.6499999999999999
         ]
        },
        "yaxis3": {
         "anchor": "x3",
         "domain": [
          0,
          0.3
         ]
        }
       }
      },
      "text/html": [
       "<div>                            <div id=\"3a3b0335-a061-4c63-80bc-e788c495dbbb\" class=\"plotly-graph-div\" style=\"height:800px; width:1200px;\"></div>            <script type=\"text/javascript\">                require([\"plotly\"], function(Plotly) {                    window.PLOTLYENV=window.PLOTLYENV || {};                                    if (document.getElementById(\"3a3b0335-a061-4c63-80bc-e788c495dbbb\")) {                    Plotly.newPlot(                        \"3a3b0335-a061-4c63-80bc-e788c495dbbb\",                        [{\"line\":{\"color\":\"#636EFA\"},\"mode\":\"lines\",\"showlegend\":false,\"x\":[0,1,2,3,4,5,6,7,8,9,10,11,12,13,14,15,16,17,18,19,20,21,22,23,24,25,26,27,28,29,30,31,32,33,34,35,36,37,38,39,40,41,42,43,44,45,46,47,48,49,50,51,52,53,54,55,56,57,58,59,60,61,62,63,64,65,66,67,68,69,70,71,72,73,74,75,76,77,78,79,80,81,82,83,84,85,86,87,88,89,90,91,92,93,94,95,96,97,98,99,100,101,102,103,104,105,106,107,108,109,110,111,112,113,114,115,116,117,118,119,120,121],\"y\":[37.050138888888874,38.14500000000002,45.618888888888904,41.682222222222215,43.388333333333335,42.56430555555557,44.55694444444445,50.17291666666668,42.16458333333334,41.2188888888889,37.16805555555555,35.93736111111111,37.918888888888894,32.65763888888889,35.37708333333333,31.64569444444444,34.649166666666666,29.51875000000001,33.931527777777774,34.313194444444456,31.931527777777767,36.44736111111112,29.79791666666667,32.219027777777775,25.34125,29.411666666666665,22.78805555555555,16.244583333333335,22.374722222222225,14.417323943661971,23.664583333333333,15.919999999999996,20.34166666666666,19.445000000000004,7.322500000000002,21.39680555555555,12.827222222222225,14.120000000000005,16.374444444444446,23.748472222222215,12.700138888888889,19.411944444444444,22.036666666666676,15.597916666666666,23.33319444444444,15.317916666666669,21.55333333333333,14.81944444444445,8.308055555555555,21.08277777777777,8.173472222222223,22.48722222222222,15.997777777777777,30.872222222222213,22.899722222222223,27.09777777777778,30.94777777777778,23.650833333333324,34.04208333333334,27.02347222222222,31.208472222222227,31.023611111111094,23.178611111111106,39.29597222222221,30.348333333333326,38.426527777777785,31.595138888888886,35.583750000000016,33.38513888888889,28.02194444444444,36.4213888888889,32.763749999999995,34.56319444444444,32.199861111111105,36.68236111111112,35.94583333333333,35.118472222222216,35.98791666666666,29.45833333333334,39.7875,38.069027777777784,50.47055555555555,40.155694444444435,41.64958333333334,46.57430555555556,42.31972222222223,54.93513888888888,41.971111111111114,54.00152777777779,40.330833333333345,46.18041666666668,46.01458333333335,26.32361111111111,35.41749999999999,35.37333333333333,46.2697222222222,44.81555555555556,41.85999999999998,45.01638888888888,31.804999999999993,37.08680555555557,28.51027777777778,34.866944444444435,39.31069444444445,41.67472222222222,42.23583333333333,30.31916666666666,40.82875000000001,40.57874999999999,47.81055555555556,54.94958333333332,55.10680555555557,59.058333333333344,51.55027777777778,74.60208333333333,49.755138888888894,53.591111111111125,53.791944444444454,48.22763888888892,38.44208333333333,33.03694444444445,49.2425],\"type\":\"scatter\",\"xaxis\":\"x\",\"yaxis\":\"y\"},{\"line\":{\"color\":\"#636EFA\"},\"mode\":\"lines\",\"showlegend\":false,\"x\":[0,1,2,3,4,5,6,7,8,9,10,11,12,13,14,15,16,17,18,19,20,21,22,23,24,25,26,27,28,29,30,31,32,33,34,35,36,37,38,39,40,41,42,43,44,45,46,47,48,49,50,51,52,53,54,55,56,57,58,59,60,61,62,63,64,65,66,67,68,69,70,71,72,73,74,75,76,77,78,79,80,81,82,83,84,85,86,87,88,89,90,91,92,93,94,95,96,97,98,99,100,101,102,103,104,105,106,107,108,109,110,111,112,113,114,115,116,117,118,119,120,121],\"y\":[17026600.0,16465475.289999977,15901733.979999976,15336410.319999976,14769588.309999976,14201650.15,13631963.739999976,13060998.429999974,12488822.469999973,11915565.009999974,11342175.25,10768276.239999974,10194253.329999974,9619729.569999974,9495446.849999342,8919200.039999342,8947286.48999934,8372429.87999933,8400616.07999933,7829470.169999342,7254056.009999342,7280019.359999342,6702748.799999341,6727159.199999342,6752290.949999342,6778574.549999274,6802417.949999293,6825466.499999311,6847454.549999311,6868554.299999329,6888943.199999342,6908779.799999341,6927851.999999342,6954001.199999312,6988554.599999312,7043605.049999329,7085619.749999329,7152722.099999341,7199346.299999306,7253363.549999329,7305007.799999341,7341124.649999341,7398043.049999172,7556309.5499992,7820576.699999234,8187801.599999234,8598400.949999342,9009173.549999341,9770661.899999341,10242175.949999342,10527060.899999341,10718028.59999934,11234615.99999934,11898840.74999934,12270469.34999934,12474863.399999341,12931713.149999358,13439877.449999359,14050970.099999359,14160218.93999934,14839413.53999934,15669253.73999934,16335339.08999934,16913672.789999295,16915985.429999333,17433382.37999934,17149028.21999934,17616027.26999934,17461169.60999934,17270494.34999934,17634899.999999337,17472581.03999934,17590387.859999306,17274252.299999308,17634899.999999307,17384319.089999307,17342204.1,17634900.0,17385962.850000806,17634900.000000805,17274388.290000804,17634900.000000417,17328497.94000042,17585009.79000042,17634899.999999233,17228450.78999923,17416161.389999233,16978231.079999235,17108467.829999235,16633596.419999234,16780954.469999235,16251264.659999236,15868056.149999237,16923545.549999233,17067165.599999234,17178095.999999233,16656631.889999233,16728364.739999233,16799220.839999232,16587093.450000579,16675163.25000058,16739197.50000058,16872491.85000058,17123855.550000556,17258956.950000565,17343615.300000574,17415612.750000577,17487252.150000576,17565302.850000575,17634900.000000574,17634899.99999942,17634899.99999942,17634900.00000094,17287449.909999996,17335096.81,16777746.85,16820060.8,16859720.35,16896907.15,16931970.85,16965313.6,16996768.45],\"type\":\"scatter\",\"xaxis\":\"x2\",\"yaxis\":\"y2\"},{\"marker\":{\"color\":\"#636EFA\"},\"showlegend\":false,\"x\":[0,1,2,3,4,5,6,7,8,9,10,11,12,13,14,15,16,17,18,19,20,21,22,23,24,25,26,27,28,29,30,31,32,33,34,35,36,37,38,39,40,41,42,43,44,45,46,47,48,49,50,51,52,53,54,55,56,57,58,59,60,61,62,63,64,65,66,67,68,69,70,71,72,73,74,75,76,77,78,79,80,81,82,83,84,85,86,87,88,89,90,91,92,93,94,95,96,97,98,99,100,101,102,103,104,105,106,107,108,109,110,111,112,113,114,115,116,117,118,119,120,121],\"y\":[0.6025881600000225,0.60258816,0.60258816,0.60258816,0.60258816,0.60258816,0.60258816,0.60258816,0.60258816,0.60258816,0.60258816,0.60258816,0.60258816,0.1514829700006322,0.60258816,0.0,0.60258816,0.0,0.60258816,0.6025881599999982,0.0,0.60258816,0.0,0.0,0.0,0.0,0.0,0.0,0.0,0.0,0.0,0.0,0.0,0.0,0.0,0.0,0.0,0.0,0.0,0.0,0.0,0.0,0.0,0.0,0.0,0.0,0.0,0.0,0.0,0.0,0.0,0.0,0.0,0.0,0.0,0.0,0.0,0.0,0.60258816,0.0,0.0,0.0,0.0,0.60258816,0.0,0.60258816,0.0,0.60258816,0.60258816,0.0,0.60258816,0.3576489300000332,0.60258816,0.0,0.60258816,0.41314403999925403,0.0,0.5320759499992467,0.0,0.60258816,0.2718969900003874,0.60258816,0.0,0.13810704000118748,0.60258816,0.0,0.60258816,0.0,0.60258816,0.0,0.60258816,0.60258816,0.0,0.0,0.0,0.60258816,0.0,0.0,0.30159368999865277,0.0,0.0,0.0,0.0,0.0,0.0,0.0,0.0,0.0,0.0,0.06433770000115484,0.05513025,0.05036639999848006,0.39460454000094236,0.0,0.60258816,0.0,0.0,0.0,0.0,0.0,0.0,0.0],\"type\":\"bar\",\"xaxis\":\"x3\",\"yaxis\":\"y3\"}],                        {\"template\":{\"data\":{\"histogram2dcontour\":[{\"type\":\"histogram2dcontour\",\"colorbar\":{\"outlinewidth\":0,\"ticks\":\"\"},\"colorscale\":[[0.0,\"#0d0887\"],[0.1111111111111111,\"#46039f\"],[0.2222222222222222,\"#7201a8\"],[0.3333333333333333,\"#9c179e\"],[0.4444444444444444,\"#bd3786\"],[0.5555555555555556,\"#d8576b\"],[0.6666666666666666,\"#ed7953\"],[0.7777777777777778,\"#fb9f3a\"],[0.8888888888888888,\"#fdca26\"],[1.0,\"#f0f921\"]]}],\"choropleth\":[{\"type\":\"choropleth\",\"colorbar\":{\"outlinewidth\":0,\"ticks\":\"\"}}],\"histogram2d\":[{\"type\":\"histogram2d\",\"colorbar\":{\"outlinewidth\":0,\"ticks\":\"\"},\"colorscale\":[[0.0,\"#0d0887\"],[0.1111111111111111,\"#46039f\"],[0.2222222222222222,\"#7201a8\"],[0.3333333333333333,\"#9c179e\"],[0.4444444444444444,\"#bd3786\"],[0.5555555555555556,\"#d8576b\"],[0.6666666666666666,\"#ed7953\"],[0.7777777777777778,\"#fb9f3a\"],[0.8888888888888888,\"#fdca26\"],[1.0,\"#f0f921\"]]}],\"heatmap\":[{\"type\":\"heatmap\",\"colorbar\":{\"outlinewidth\":0,\"ticks\":\"\"},\"colorscale\":[[0.0,\"#0d0887\"],[0.1111111111111111,\"#46039f\"],[0.2222222222222222,\"#7201a8\"],[0.3333333333333333,\"#9c179e\"],[0.4444444444444444,\"#bd3786\"],[0.5555555555555556,\"#d8576b\"],[0.6666666666666666,\"#ed7953\"],[0.7777777777777778,\"#fb9f3a\"],[0.8888888888888888,\"#fdca26\"],[1.0,\"#f0f921\"]]}],\"heatmapgl\":[{\"type\":\"heatmapgl\",\"colorbar\":{\"outlinewidth\":0,\"ticks\":\"\"},\"colorscale\":[[0.0,\"#0d0887\"],[0.1111111111111111,\"#46039f\"],[0.2222222222222222,\"#7201a8\"],[0.3333333333333333,\"#9c179e\"],[0.4444444444444444,\"#bd3786\"],[0.5555555555555556,\"#d8576b\"],[0.6666666666666666,\"#ed7953\"],[0.7777777777777778,\"#fb9f3a\"],[0.8888888888888888,\"#fdca26\"],[1.0,\"#f0f921\"]]}],\"contourcarpet\":[{\"type\":\"contourcarpet\",\"colorbar\":{\"outlinewidth\":0,\"ticks\":\"\"}}],\"contour\":[{\"type\":\"contour\",\"colorbar\":{\"outlinewidth\":0,\"ticks\":\"\"},\"colorscale\":[[0.0,\"#0d0887\"],[0.1111111111111111,\"#46039f\"],[0.2222222222222222,\"#7201a8\"],[0.3333333333333333,\"#9c179e\"],[0.4444444444444444,\"#bd3786\"],[0.5555555555555556,\"#d8576b\"],[0.6666666666666666,\"#ed7953\"],[0.7777777777777778,\"#fb9f3a\"],[0.8888888888888888,\"#fdca26\"],[1.0,\"#f0f921\"]]}],\"surface\":[{\"type\":\"surface\",\"colorbar\":{\"outlinewidth\":0,\"ticks\":\"\"},\"colorscale\":[[0.0,\"#0d0887\"],[0.1111111111111111,\"#46039f\"],[0.2222222222222222,\"#7201a8\"],[0.3333333333333333,\"#9c179e\"],[0.4444444444444444,\"#bd3786\"],[0.5555555555555556,\"#d8576b\"],[0.6666666666666666,\"#ed7953\"],[0.7777777777777778,\"#fb9f3a\"],[0.8888888888888888,\"#fdca26\"],[1.0,\"#f0f921\"]]}],\"mesh3d\":[{\"type\":\"mesh3d\",\"colorbar\":{\"outlinewidth\":0,\"ticks\":\"\"}}],\"scatter\":[{\"fillpattern\":{\"fillmode\":\"overlay\",\"size\":10,\"solidity\":0.2},\"type\":\"scatter\"}],\"parcoords\":[{\"type\":\"parcoords\",\"line\":{\"colorbar\":{\"outlinewidth\":0,\"ticks\":\"\"}}}],\"scatterpolargl\":[{\"type\":\"scatterpolargl\",\"marker\":{\"colorbar\":{\"outlinewidth\":0,\"ticks\":\"\"}}}],\"bar\":[{\"error_x\":{\"color\":\"#2a3f5f\"},\"error_y\":{\"color\":\"#2a3f5f\"},\"marker\":{\"line\":{\"color\":\"#E5ECF6\",\"width\":0.5},\"pattern\":{\"fillmode\":\"overlay\",\"size\":10,\"solidity\":0.2}},\"type\":\"bar\"}],\"scattergeo\":[{\"type\":\"scattergeo\",\"marker\":{\"colorbar\":{\"outlinewidth\":0,\"ticks\":\"\"}}}],\"scatterpolar\":[{\"type\":\"scatterpolar\",\"marker\":{\"colorbar\":{\"outlinewidth\":0,\"ticks\":\"\"}}}],\"histogram\":[{\"marker\":{\"pattern\":{\"fillmode\":\"overlay\",\"size\":10,\"solidity\":0.2}},\"type\":\"histogram\"}],\"scattergl\":[{\"type\":\"scattergl\",\"marker\":{\"colorbar\":{\"outlinewidth\":0,\"ticks\":\"\"}}}],\"scatter3d\":[{\"type\":\"scatter3d\",\"line\":{\"colorbar\":{\"outlinewidth\":0,\"ticks\":\"\"}},\"marker\":{\"colorbar\":{\"outlinewidth\":0,\"ticks\":\"\"}}}],\"scattermapbox\":[{\"type\":\"scattermapbox\",\"marker\":{\"colorbar\":{\"outlinewidth\":0,\"ticks\":\"\"}}}],\"scatterternary\":[{\"type\":\"scatterternary\",\"marker\":{\"colorbar\":{\"outlinewidth\":0,\"ticks\":\"\"}}}],\"scattercarpet\":[{\"type\":\"scattercarpet\",\"marker\":{\"colorbar\":{\"outlinewidth\":0,\"ticks\":\"\"}}}],\"carpet\":[{\"aaxis\":{\"endlinecolor\":\"#2a3f5f\",\"gridcolor\":\"white\",\"linecolor\":\"white\",\"minorgridcolor\":\"white\",\"startlinecolor\":\"#2a3f5f\"},\"baxis\":{\"endlinecolor\":\"#2a3f5f\",\"gridcolor\":\"white\",\"linecolor\":\"white\",\"minorgridcolor\":\"white\",\"startlinecolor\":\"#2a3f5f\"},\"type\":\"carpet\"}],\"table\":[{\"cells\":{\"fill\":{\"color\":\"#EBF0F8\"},\"line\":{\"color\":\"white\"}},\"header\":{\"fill\":{\"color\":\"#C8D4E3\"},\"line\":{\"color\":\"white\"}},\"type\":\"table\"}],\"barpolar\":[{\"marker\":{\"line\":{\"color\":\"#E5ECF6\",\"width\":0.5},\"pattern\":{\"fillmode\":\"overlay\",\"size\":10,\"solidity\":0.2}},\"type\":\"barpolar\"}],\"pie\":[{\"automargin\":true,\"type\":\"pie\"}]},\"layout\":{\"autotypenumbers\":\"strict\",\"colorway\":[\"#636efa\",\"#EF553B\",\"#00cc96\",\"#ab63fa\",\"#FFA15A\",\"#19d3f3\",\"#FF6692\",\"#B6E880\",\"#FF97FF\",\"#FECB52\"],\"font\":{\"color\":\"#2a3f5f\"},\"hovermode\":\"closest\",\"hoverlabel\":{\"align\":\"left\"},\"paper_bgcolor\":\"white\",\"plot_bgcolor\":\"#E5ECF6\",\"polar\":{\"bgcolor\":\"#E5ECF6\",\"angularaxis\":{\"gridcolor\":\"white\",\"linecolor\":\"white\",\"ticks\":\"\"},\"radialaxis\":{\"gridcolor\":\"white\",\"linecolor\":\"white\",\"ticks\":\"\"}},\"ternary\":{\"bgcolor\":\"#E5ECF6\",\"aaxis\":{\"gridcolor\":\"white\",\"linecolor\":\"white\",\"ticks\":\"\"},\"baxis\":{\"gridcolor\":\"white\",\"linecolor\":\"white\",\"ticks\":\"\"},\"caxis\":{\"gridcolor\":\"white\",\"linecolor\":\"white\",\"ticks\":\"\"}},\"coloraxis\":{\"colorbar\":{\"outlinewidth\":0,\"ticks\":\"\"}},\"colorscale\":{\"sequential\":[[0.0,\"#0d0887\"],[0.1111111111111111,\"#46039f\"],[0.2222222222222222,\"#7201a8\"],[0.3333333333333333,\"#9c179e\"],[0.4444444444444444,\"#bd3786\"],[0.5555555555555556,\"#d8576b\"],[0.6666666666666666,\"#ed7953\"],[0.7777777777777778,\"#fb9f3a\"],[0.8888888888888888,\"#fdca26\"],[1.0,\"#f0f921\"]],\"sequentialminus\":[[0.0,\"#0d0887\"],[0.1111111111111111,\"#46039f\"],[0.2222222222222222,\"#7201a8\"],[0.3333333333333333,\"#9c179e\"],[0.4444444444444444,\"#bd3786\"],[0.5555555555555556,\"#d8576b\"],[0.6666666666666666,\"#ed7953\"],[0.7777777777777778,\"#fb9f3a\"],[0.8888888888888888,\"#fdca26\"],[1.0,\"#f0f921\"]],\"diverging\":[[0,\"#8e0152\"],[0.1,\"#c51b7d\"],[0.2,\"#de77ae\"],[0.3,\"#f1b6da\"],[0.4,\"#fde0ef\"],[0.5,\"#f7f7f7\"],[0.6,\"#e6f5d0\"],[0.7,\"#b8e186\"],[0.8,\"#7fbc41\"],[0.9,\"#4d9221\"],[1,\"#276419\"]]},\"xaxis\":{\"gridcolor\":\"white\",\"linecolor\":\"white\",\"ticks\":\"\",\"title\":{\"standoff\":15},\"zerolinecolor\":\"white\",\"automargin\":true,\"zerolinewidth\":2},\"yaxis\":{\"gridcolor\":\"white\",\"linecolor\":\"white\",\"ticks\":\"\",\"title\":{\"standoff\":15},\"zerolinecolor\":\"white\",\"automargin\":true,\"zerolinewidth\":2},\"scene\":{\"xaxis\":{\"backgroundcolor\":\"#E5ECF6\",\"gridcolor\":\"white\",\"linecolor\":\"white\",\"showbackground\":true,\"ticks\":\"\",\"zerolinecolor\":\"white\",\"gridwidth\":2},\"yaxis\":{\"backgroundcolor\":\"#E5ECF6\",\"gridcolor\":\"white\",\"linecolor\":\"white\",\"showbackground\":true,\"ticks\":\"\",\"zerolinecolor\":\"white\",\"gridwidth\":2},\"zaxis\":{\"backgroundcolor\":\"#E5ECF6\",\"gridcolor\":\"white\",\"linecolor\":\"white\",\"showbackground\":true,\"ticks\":\"\",\"zerolinecolor\":\"white\",\"gridwidth\":2}},\"shapedefaults\":{\"line\":{\"color\":\"#2a3f5f\"}},\"annotationdefaults\":{\"arrowcolor\":\"#2a3f5f\",\"arrowhead\":0,\"arrowwidth\":1},\"geo\":{\"bgcolor\":\"white\",\"landcolor\":\"#E5ECF6\",\"subunitcolor\":\"white\",\"showland\":true,\"showlakes\":true,\"lakecolor\":\"white\"},\"title\":{\"x\":0.05},\"mapbox\":{\"style\":\"light\"}}},\"xaxis\":{\"anchor\":\"y\",\"domain\":[0.0,0.98],\"matches\":\"x3\",\"showticklabels\":false},\"yaxis\":{\"anchor\":\"x\",\"domain\":[0.7,1.0]},\"xaxis2\":{\"anchor\":\"y2\",\"domain\":[0.0,0.98],\"matches\":\"x3\",\"showticklabels\":false},\"yaxis2\":{\"anchor\":\"x2\",\"domain\":[0.35,0.6499999999999999]},\"xaxis3\":{\"anchor\":\"y3\",\"domain\":[0.0,0.98]},\"yaxis3\":{\"anchor\":\"x3\",\"domain\":[0.0,0.3]},\"annotations\":[{\"font\":{\"size\":16},\"showarrow\":false,\"text\":\"Price [EUR\\u002fMWh]\",\"textangle\":90,\"x\":0.98,\"xanchor\":\"left\",\"xref\":\"paper\",\"y\":0.85,\"yanchor\":\"middle\",\"yref\":\"paper\"},{\"font\":{\"size\":16},\"showarrow\":false,\"text\":\"Height [masl]\",\"textangle\":90,\"x\":0.98,\"xanchor\":\"left\",\"xref\":\"paper\",\"y\":0.49999999999999994,\"yanchor\":\"middle\",\"yref\":\"paper\"},{\"font\":{\"size\":16},\"showarrow\":false,\"text\":\"Volume [Mm3]\",\"textangle\":90,\"x\":0.98,\"xanchor\":\"left\",\"xref\":\"paper\",\"y\":0.15,\"yanchor\":\"middle\",\"yref\":\"paper\"},{\"font\":{\"size\":16},\"showarrow\":false,\"text\":\"\\u003cb\\u003eIndex\\u003cb\\u003e\",\"x\":0.49,\"xanchor\":\"center\",\"xref\":\"paper\",\"y\":0,\"yanchor\":\"top\",\"yref\":\"paper\",\"yshift\":-30}],\"margin\":{\"t\":60,\"l\":65,\"r\":10,\"b\":60},\"width\":1200,\"height\":800,\"title\":{\"text\":\"First stage optimization results ([0: 1] flow factor and 3 days per index and 2020 year)\"}},                        {\"responsive\": true}                    ).then(function(){\n",
       "                            \n",
       "var gd = document.getElementById('3a3b0335-a061-4c63-80bc-e788c495dbbb');\n",
       "var x = new MutationObserver(function (mutations, observer) {{\n",
       "        var display = window.getComputedStyle(gd).display;\n",
       "        if (!display || display === 'none') {{\n",
       "            console.log([gd, 'removed!']);\n",
       "            Plotly.purge(gd);\n",
       "            observer.disconnect();\n",
       "        }}\n",
       "}});\n",
       "\n",
       "// Listen for the removal of the full notebook cells\n",
       "var notebookContainer = gd.closest('#notebook-container');\n",
       "if (notebookContainer) {{\n",
       "    x.observe(notebookContainer, {childList: true});\n",
       "}}\n",
       "\n",
       "// Listen for the clearing of the current output cell\n",
       "var outputEl = gd.closest('.output');\n",
       "if (outputEl) {{\n",
       "    x.observe(outputEl, {childList: true});\n",
       "}}\n",
       "\n",
       "                        })                };                });            </script>        </div>"
      ]
     },
     "metadata": {},
     "output_type": "display_data"
    }
   ],
   "source": [
    "\n",
    "market_country = \"CH\"\n",
    "market = \"DA\"\n",
    "n_segments = 5\n",
    "nb_days = 3\n",
    "year = 2020\n",
    "max_flow_factor: float = 1\n",
    "min_flow_factor: float = 0\n",
    "second_time_delta: timedelta = timedelta(minutes=60)\n",
    "first_time_delta: timedelta = timedelta(days=nb_days)\n",
    "min_datetime = datetime(year, 1, 1, tzinfo=timezone.utc)\n",
    "max_datetime = datetime(year + 1, 1, 1, tzinfo=timezone.utc)\n",
    "\n",
    "\n",
    "performance_table_per_volume, performance_table_per_state = process_performance_table(\n",
    "    small_flex_input_schema=small_flex_input_schema, power_plant_name=\"Aegina hydro\", state=[True, False, False])\n",
    "        \n",
    "first_datetime_index, second_datetime_index = generate_datetime_index(\n",
    "        min_datetime=min_datetime, max_datetime=max_datetime, first_time_delta=first_time_delta, second_time_delta=second_time_delta)\n",
    "\n",
    "market_price_measurement:pl.DataFrame = small_flex_input_schema.market_price_measurement\\\n",
    "    .filter(c(\"country\") == market_country).filter(c(\"market\") == market)\n",
    "    \n",
    "discharge_flow_measurement: pl.DataFrame = small_flex_input_schema.discharge_flow_measurement\\\n",
    "    .filter(c(\"river\") == \"Griessee\")\\\n",
    "    .with_columns(\n",
    "        (c(\"value\") * timedelta(hours=1).total_seconds()).alias(\"discharge_volume\")\n",
    "    )\n",
    "    \n",
    "discharge_volume: pl.DataFrame = generate_clean_timeseries(\n",
    "    data=discharge_flow_measurement, datetime_index=first_datetime_index,\n",
    "    col_name=\"discharge_volume\", min_datetime=min_datetime,\n",
    "    max_datetime=max_datetime, time_delta=first_time_delta, agg_type=\"sum\")\n",
    "\n",
    "market_price: pl.DataFrame = generate_clean_timeseries(\n",
    "    data=market_price_measurement, datetime_index=first_datetime_index,\n",
    "    col_name=\"avg\", min_datetime=min_datetime, \n",
    "    max_datetime=max_datetime, time_delta=first_time_delta, agg_type=\"mean\")\n",
    "    \n",
    "start_basin_volume: float = performance_table_per_volume[\"volume\"][-2]\n",
    "rated_flow: float = performance_table_per_state[\"flow\"][0][0]*3600\n",
    "data: dict = {}\n",
    "\n",
    "sets: dict = {\n",
    "    \"T\": first_datetime_index[\"index\"].to_list(),\n",
    "    \"H\": performance_table_per_state[\"index\"].to_list(),\n",
    "}\n",
    "\n",
    "constant_params: dict =  {\n",
    "    \"t_max\": first_datetime_index.height - 1,\n",
    "    \"h_max\": n_segments - 1,\n",
    "    \"max_flow\": rated_flow*max_flow_factor,\n",
    "    \"min_flow\": rated_flow*min_flow_factor,\n",
    "    \"start_basin_volume\": start_basin_volume,\n",
    "}\n",
    "    \n",
    "set_params: dict = {\n",
    "    \"max_basin_volume\": pl_to_dict(performance_table_per_state.select(\"index\", c(\"volume\").list.get(1))),\n",
    "    \"min_basin_volume\": pl_to_dict(performance_table_per_state.select(\"index\", c(\"volume\").list.get(0))),\n",
    "    \"alpha\": pl_to_dict(performance_table_per_state[[\"index\", \"mean_alpha\"]]),\n",
    "    \"market_price\": pl_to_dict(market_price[[\"index\", \"avg\"]]),\n",
    "    \"nb_hours\": pl_to_dict(first_datetime_index[[\"index\", \"n_index\"]]),\n",
    "    \"discharge_volume\": pl_to_dict(discharge_volume[[\"index\", \"discharge_volume\"]])\n",
    "}\n",
    "    \n",
    "data.update(dict(map(lambda set: (set[0], {None: set[1]}), sets.items())))\n",
    "data.update(dict(map(lambda constant_param: (constant_param[0], {None: constant_param[1]}), constant_params.items())))\n",
    "data.update(set_params)\n",
    "model: pyo.AbstractModel = generate_baseline_model()\n",
    "solver = pyo.SolverFactory('gurobi')\n",
    "model_instance = model.create_instance({None: data})\n",
    "res = solver.solve(model_instance, load_solutions=True, tee=False)\n",
    "\n",
    "plot_first_stage_summarized(model_instance=model_instance, min_flow_factor=min_flow_factor, max_flow_factor=max_flow_factor, nb_days=nb_days, year=year)\n"
   ]
  },
  {
   "cell_type": "markdown",
   "metadata": {},
   "source": []
  }
 ],
 "metadata": {
  "kernelspec": {
   "display_name": ".venv",
   "language": "python",
   "name": "python3"
  },
  "language_info": {
   "codemirror_mode": {
    "name": "ipython",
    "version": 3
   },
   "file_extension": ".py",
   "mimetype": "text/x-python",
   "name": "python",
   "nbconvert_exporter": "python",
   "pygments_lexer": "ipython3",
   "version": "3.12.7"
  }
 },
 "nbformat": 4,
 "nbformat_minor": 2
}
