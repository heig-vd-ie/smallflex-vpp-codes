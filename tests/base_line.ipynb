{
 "cells": [
  {
   "cell_type": "code",
   "execution_count": 1,
   "metadata": {},
   "outputs": [],
   "source": [
    "import pyomo.environ as pyo\n",
    "import json\n",
    "from datetime import timedelta\n",
    "import polars as pl\n",
    "from polars import selectors as cs\n",
    "from polars  import col as c\n",
    "import os \n",
    "import numpy as np\n",
    "import math\n",
    "import tqdm\n",
    "from datetime import timedelta, datetime, timezone\n",
    "# from optimization_model.optimizaztion_pipeline import first_stage_pipeline\n",
    "from typing_extensions import Optional\n",
    "from data_display.input_data_plots import plot_basin_height_volume_table\n",
    "\n",
    "from data_display.baseline_plots import *\n",
    "from utility.pyomo_preprocessing import extract_optimization_results, linear_interpolation_for_bound, arange_float, linear_interpolation_using_cols \n",
    "from data_federation.input_model import SmallflexInputSchema\n",
    "from utility.pyomo_preprocessing import *\n",
    "from config import settings\n",
    "from utility.general_function import pl_to_dict, pl_to_dict_with_tuple, build_non_existing_dirs, generate_log\n",
    "from pyomo_models.input_data_preprocessing import (\n",
    "    generate_baseline_index, generate_clean_timeseries, generate_water_flow_factor, generate_basin_volume_table,\n",
    "    clean_hydro_power_performance_table, generate_hydro_power_state, split_timestamps_per_sim, generate_second_stage_state\n",
    ")\n",
    "from plotly.subplots import make_subplots\n",
    "import plotly.express as px\n",
    "import plotly.graph_objs as go\n",
    "from plotly.graph_objects import Figure\n",
    "\n",
    "from plotly.subplots import make_subplots\n",
    "\n",
    "import networkx as nx\n",
    "from pyomo_models.baseline.baseline_input import BaseLineInput\n",
    "from pyomo_models.baseline.first_stage.first_stage_pipeline import BaselineFirstStage\n",
    "from pyomo_models.baseline.second_stage.second_stage_pipeline import BaselineSecondStage\n",
    "COLORS = px.colors.qualitative.Plotly\n",
    "\n",
    "log = generate_log(name=\"test\")"
   ]
  },
  {
   "cell_type": "code",
   "execution_count": 2,
   "metadata": {},
   "outputs": [],
   "source": [
    "os.chdir(os.getcwd().replace(\"/src\", \"\"))\n",
    "os.environ['GRB_LICENSE_FILE'] = \"/home/ltomasini/gruobi_license/gurobi.lic\"\n"
   ]
  },
  {
   "cell_type": "code",
   "execution_count": 3,
   "metadata": {},
   "outputs": [
    {
     "name": "stderr",
     "output_type": "stream",
     "text": [
      "Read and validate tables from small_flex_input_data.db file: 100%|████████████████████████████████████████████████████| 12/12 [00:01<00:00,  9.83it/s]\n",
      "Solving first stage optimization problem: 100%|██████████| 1/1 [00:25<00:00, 25.46s/it]\n"
     ]
    }
   ],
   "source": [
    "output_file_names: dict[str, str] = json.load(open(settings.OUTPUT_FILE_NAMES))\n",
    "\n",
    "sim_setting: dict = {\"quantile\": 0.15, \"buffer\": 0.3, \"powered_volume_enabled\": True, \"with_penalty\": True}\n",
    "baseline_input = BaseLineInput(\n",
    "    input_schema_file_name=output_file_names[\"duckdb_input\"],\n",
    "    real_timestep=timedelta(hours=1),\n",
    "    year=2020,\n",
    "    hydro_power_mask = c(\"name\").is_in([\"Aegina hydro\"]),\n",
    "    volume_factor=1e-6,\n",
    ")\n",
    "baseline_first_stage = BaselineFirstStage(\n",
    "    baseline_input, timestep=timedelta(days=1), turbine_factor=0.8)\n",
    "baseline_first_stage.solve_model() \n",
    "\n"
   ]
  },
  {
   "cell_type": "code",
   "execution_count": 4,
   "metadata": {},
   "outputs": [
    {
     "name": "stderr",
     "output_type": "stream",
     "text": [
      "Solving second stage optimization problem:   0%|          | 0/92 [00:00<?, ?it/s]"
     ]
    },
    {
     "name": "stderr",
     "output_type": "stream",
     "text": [
      "Solving second stage optimization problem:  43%|████▎     | 40/92 [00:17<00:52,  1.02s/it]2024-12-11 09:50:48 B01BPC15 pyomo.core[27986] WARNING Loading a SolverResults object with an 'aborted' status, but containing a solution\n",
      "Solving second stage optimization problem: 100%|██████████| 92/92 [01:25<00:00,  1.08it/s]\n"
     ]
    }
   ],
   "source": [
    "sim_setting = {\"quantile\": 0.15, \"buffer\": 0.3, \"powered_volume_enabled\": True, \"with_penalty\": True}\n",
    "baseline_second_stage = BaselineSecondStage(\n",
    "    input_instance=baseline_input, \n",
    "    first_stage=baseline_first_stage, \n",
    "    timestep=timedelta(days=4), \n",
    "    log_solver_info=False,\n",
    "    time_limit=20,\n",
    "    **sim_setting\n",
    "    )\n",
    "baseline_second_stage.solve_model()\n",
    "\n",
    "\n",
    "\n"
   ]
  },
  {
   "cell_type": "code",
   "execution_count": 5,
   "metadata": {},
   "outputs": [
    {
     "data": {
      "text/plain": [
       "1220873.9657944546"
      ]
     },
     "execution_count": 5,
     "metadata": {},
     "output_type": "execute_result"
    }
   ],
   "source": [
    "baseline_second_stage.simulation_results[\"income\"].sum()"
   ]
  },
  {
   "cell_type": "code",
   "execution_count": 6,
   "metadata": {},
   "outputs": [
    {
     "ename": "ColumnNotFoundError",
     "evalue": "\"volume_buffer\" not found",
     "output_type": "error",
     "traceback": [
      "\u001b[0;31m---------------------------------------------------------------------------\u001b[0m",
      "\u001b[0;31mTypeError\u001b[0m                                 Traceback (most recent call last)",
      "File \u001b[0;32m~/git/smallflex/smallflex-vpp-codes/.venv/lib/python3.12/site-packages/polars/_utils/construction/series.py:310\u001b[0m, in \u001b[0;36m_construct_series_with_fallbacks\u001b[0;34m(constructor, name, values, dtype, strict)\u001b[0m\n\u001b[1;32m    309\u001b[0m \u001b[38;5;28;01mtry\u001b[39;00m:\n\u001b[0;32m--> 310\u001b[0m     \u001b[38;5;28;01mreturn\u001b[39;00m \u001b[43mconstructor\u001b[49m\u001b[43m(\u001b[49m\u001b[43mname\u001b[49m\u001b[43m,\u001b[49m\u001b[43m \u001b[49m\u001b[43mvalues\u001b[49m\u001b[43m,\u001b[49m\u001b[43m \u001b[49m\u001b[43mstrict\u001b[49m\u001b[43m)\u001b[49m\n\u001b[1;32m    311\u001b[0m \u001b[38;5;28;01mexcept\u001b[39;00m \u001b[38;5;167;01mTypeError\u001b[39;00m:\n",
      "\u001b[0;31mTypeError\u001b[0m: 'str' object cannot be interpreted as an integer",
      "\nDuring handling of the above exception, another exception occurred:\n",
      "\u001b[0;31mTypeError\u001b[0m                                 Traceback (most recent call last)",
      "File \u001b[0;32m~/git/smallflex/smallflex-vpp-codes/.venv/lib/python3.12/site-packages/polars/_utils/getitem.py:167\u001b[0m, in \u001b[0;36mget_df_item_by_key\u001b[0;34m(df, key)\u001b[0m\n\u001b[1;32m    166\u001b[0m \u001b[38;5;28;01mtry\u001b[39;00m:\n\u001b[0;32m--> 167\u001b[0m     \u001b[38;5;28;01mreturn\u001b[39;00m \u001b[43m_select_rows\u001b[49m\u001b[43m(\u001b[49m\u001b[43mdf\u001b[49m\u001b[43m,\u001b[49m\u001b[43m \u001b[49m\u001b[43mkey\u001b[49m\u001b[43m)\u001b[49m  \u001b[38;5;66;03m# type: ignore[arg-type]\u001b[39;00m\n\u001b[1;32m    168\u001b[0m \u001b[38;5;28;01mexcept\u001b[39;00m \u001b[38;5;167;01mTypeError\u001b[39;00m:\n",
      "File \u001b[0;32m~/git/smallflex/smallflex-vpp-codes/.venv/lib/python3.12/site-packages/polars/_utils/getitem.py:306\u001b[0m, in \u001b[0;36m_select_rows\u001b[0;34m(df, key)\u001b[0m\n\u001b[1;32m    305\u001b[0m     _raise_on_boolean_mask()\n\u001b[0;32m--> 306\u001b[0m s \u001b[38;5;241m=\u001b[39m \u001b[43mpl\u001b[49m\u001b[38;5;241;43m.\u001b[39;49m\u001b[43mSeries\u001b[49m\u001b[43m(\u001b[49m\u001b[38;5;124;43m\"\u001b[39;49m\u001b[38;5;124;43m\"\u001b[39;49m\u001b[43m,\u001b[49m\u001b[43m \u001b[49m\u001b[43mkey\u001b[49m\u001b[43m,\u001b[49m\u001b[43m \u001b[49m\u001b[43mdtype\u001b[49m\u001b[38;5;241;43m=\u001b[39;49m\u001b[43mInt64\u001b[49m\u001b[43m)\u001b[49m\n\u001b[1;32m    307\u001b[0m indices \u001b[38;5;241m=\u001b[39m _convert_series_to_indices(s, df\u001b[38;5;241m.\u001b[39mheight)\n",
      "File \u001b[0;32m~/git/smallflex/smallflex-vpp-codes/.venv/lib/python3.12/site-packages/polars/series/series.py:289\u001b[0m, in \u001b[0;36mSeries.__init__\u001b[0;34m(self, name, values, dtype, strict, nan_to_null)\u001b[0m\n\u001b[1;32m    288\u001b[0m \u001b[38;5;28;01mif\u001b[39;00m \u001b[38;5;28misinstance\u001b[39m(values, Sequence):\n\u001b[0;32m--> 289\u001b[0m     \u001b[38;5;28mself\u001b[39m\u001b[38;5;241m.\u001b[39m_s \u001b[38;5;241m=\u001b[39m \u001b[43msequence_to_pyseries\u001b[49m\u001b[43m(\u001b[49m\n\u001b[1;32m    290\u001b[0m \u001b[43m        \u001b[49m\u001b[43mname\u001b[49m\u001b[43m,\u001b[49m\n\u001b[1;32m    291\u001b[0m \u001b[43m        \u001b[49m\u001b[43mvalues\u001b[49m\u001b[43m,\u001b[49m\n\u001b[1;32m    292\u001b[0m \u001b[43m        \u001b[49m\u001b[43mdtype\u001b[49m\u001b[38;5;241;43m=\u001b[39;49m\u001b[43mdtype\u001b[49m\u001b[43m,\u001b[49m\n\u001b[1;32m    293\u001b[0m \u001b[43m        \u001b[49m\u001b[43mstrict\u001b[49m\u001b[38;5;241;43m=\u001b[39;49m\u001b[43mstrict\u001b[49m\u001b[43m,\u001b[49m\n\u001b[1;32m    294\u001b[0m \u001b[43m        \u001b[49m\u001b[43mnan_to_null\u001b[49m\u001b[38;5;241;43m=\u001b[39;49m\u001b[43mnan_to_null\u001b[49m\u001b[43m,\u001b[49m\n\u001b[1;32m    295\u001b[0m \u001b[43m    \u001b[49m\u001b[43m)\u001b[49m\n\u001b[1;32m    297\u001b[0m \u001b[38;5;28;01melif\u001b[39;00m values \u001b[38;5;129;01mis\u001b[39;00m \u001b[38;5;28;01mNone\u001b[39;00m:\n",
      "File \u001b[0;32m~/git/smallflex/smallflex-vpp-codes/.venv/lib/python3.12/site-packages/polars/_utils/construction/series.py:135\u001b[0m, in \u001b[0;36msequence_to_pyseries\u001b[0;34m(name, values, dtype, strict, nan_to_null)\u001b[0m\n\u001b[1;32m    134\u001b[0m constructor \u001b[38;5;241m=\u001b[39m polars_type_to_constructor(dtype)\n\u001b[0;32m--> 135\u001b[0m pyseries \u001b[38;5;241m=\u001b[39m \u001b[43m_construct_series_with_fallbacks\u001b[49m\u001b[43m(\u001b[49m\n\u001b[1;32m    136\u001b[0m \u001b[43m    \u001b[49m\u001b[43mconstructor\u001b[49m\u001b[43m,\u001b[49m\u001b[43m \u001b[49m\u001b[43mname\u001b[49m\u001b[43m,\u001b[49m\u001b[43m \u001b[49m\u001b[43mvalues\u001b[49m\u001b[43m,\u001b[49m\u001b[43m \u001b[49m\u001b[43mdtype\u001b[49m\u001b[43m,\u001b[49m\u001b[43m \u001b[49m\u001b[43mstrict\u001b[49m\u001b[38;5;241;43m=\u001b[39;49m\u001b[43mstrict\u001b[49m\n\u001b[1;32m    137\u001b[0m \u001b[43m\u001b[49m\u001b[43m)\u001b[49m\n\u001b[1;32m    138\u001b[0m \u001b[38;5;28;01mif\u001b[39;00m dtype \u001b[38;5;129;01min\u001b[39;00m (\n\u001b[1;32m    139\u001b[0m     Date,\n\u001b[1;32m    140\u001b[0m     Datetime,\n\u001b[0;32m   (...)\u001b[0m\n\u001b[1;32m    146\u001b[0m     Decimal,\n\u001b[1;32m    147\u001b[0m ):\n",
      "File \u001b[0;32m~/git/smallflex/smallflex-vpp-codes/.venv/lib/python3.12/site-packages/polars/_utils/construction/series.py:315\u001b[0m, in \u001b[0;36m_construct_series_with_fallbacks\u001b[0;34m(constructor, name, values, dtype, strict)\u001b[0m\n\u001b[1;32m    314\u001b[0m \u001b[38;5;28;01melse\u001b[39;00m:\n\u001b[0;32m--> 315\u001b[0m     \u001b[38;5;28;01mreturn\u001b[39;00m \u001b[43mPySeries\u001b[49m\u001b[38;5;241;43m.\u001b[39;49m\u001b[43mnew_from_any_values_and_dtype\u001b[49m\u001b[43m(\u001b[49m\n\u001b[1;32m    316\u001b[0m \u001b[43m        \u001b[49m\u001b[43mname\u001b[49m\u001b[43m,\u001b[49m\u001b[43m \u001b[49m\u001b[43mvalues\u001b[49m\u001b[43m,\u001b[49m\u001b[43m \u001b[49m\u001b[43mdtype\u001b[49m\u001b[43m,\u001b[49m\u001b[43m \u001b[49m\u001b[43mstrict\u001b[49m\u001b[38;5;241;43m=\u001b[39;49m\u001b[43mstrict\u001b[49m\n\u001b[1;32m    317\u001b[0m \u001b[43m    \u001b[49m\u001b[43m)\u001b[49m\n",
      "\u001b[0;31mTypeError\u001b[0m: unexpected value while building Series of type Int64; found value of type String: \"H\"\n\nHint: Try setting `strict=False` to allow passing data with mixed types.",
      "\nDuring handling of the above exception, another exception occurred:\n",
      "\u001b[0;31mColumnNotFoundError\u001b[0m                       Traceback (most recent call last)",
      "Cell \u001b[0;32mIn[6], line 1\u001b[0m\n\u001b[0;32m----> 1\u001b[0m \u001b[43mbaseline_second_stage\u001b[49m\u001b[38;5;241;43m.\u001b[39;49m\u001b[43mcalculated_feasibility\u001b[49m\u001b[43m(\u001b[49m\u001b[43m)\u001b[49m\n",
      "File \u001b[0;32m~/git/smallflex/smallflex-vpp-codes/src/pyomo_models/baseline/second_stage/second_stage_pipeline.py:407\u001b[0m, in \u001b[0;36mBaselineSecondStage.calculated_feasibility\u001b[0;34m(self)\u001b[0m\n\u001b[1;32m    405\u001b[0m remaining_volume \u001b[38;5;241m=\u001b[39m \u001b[38;5;28mself\u001b[39m\u001b[38;5;241m.\u001b[39mremaining_volume\u001b[38;5;241m.\u001b[39mfilter(c(\u001b[38;5;124m\"\u001b[39m\u001b[38;5;124msim_nb\u001b[39m\u001b[38;5;124m\"\u001b[39m) \u001b[38;5;241m==\u001b[39m \u001b[38;5;28mself\u001b[39m\u001b[38;5;241m.\u001b[39msim_nb)[[\u001b[38;5;124m\"\u001b[39m\u001b[38;5;124mH\u001b[39m\u001b[38;5;124m\"\u001b[39m, \u001b[38;5;124m\"\u001b[39m\u001b[38;5;124mremaining_volume\u001b[39m\u001b[38;5;124m\"\u001b[39m]]\n\u001b[1;32m    406\u001b[0m powered_volume \u001b[38;5;241m=\u001b[39m \u001b[38;5;28mself\u001b[39m\u001b[38;5;241m.\u001b[39mpowered_volume\u001b[38;5;241m.\u001b[39mfilter(c(\u001b[38;5;124m\"\u001b[39m\u001b[38;5;124msim_nb\u001b[39m\u001b[38;5;124m\"\u001b[39m) \u001b[38;5;241m==\u001b[39m \u001b[38;5;28mself\u001b[39m\u001b[38;5;241m.\u001b[39msim_nb)[[\u001b[38;5;124m\"\u001b[39m\u001b[38;5;124mH\u001b[39m\u001b[38;5;124m\"\u001b[39m, \u001b[38;5;124m\"\u001b[39m\u001b[38;5;124mpowered_volume\u001b[39m\u001b[38;5;124m\"\u001b[39m]]\n\u001b[0;32m--> 407\u001b[0m volume_buffer \u001b[38;5;241m=\u001b[39m \u001b[38;5;28;43mself\u001b[39;49m\u001b[38;5;241;43m.\u001b[39;49m\u001b[43mpowered_volume\u001b[49m\u001b[38;5;241;43m.\u001b[39;49m\u001b[43mfilter\u001b[49m\u001b[43m(\u001b[49m\u001b[43mc\u001b[49m\u001b[43m(\u001b[49m\u001b[38;5;124;43m\"\u001b[39;49m\u001b[38;5;124;43msim_nb\u001b[39;49m\u001b[38;5;124;43m\"\u001b[39;49m\u001b[43m)\u001b[49m\u001b[43m \u001b[49m\u001b[38;5;241;43m==\u001b[39;49m\u001b[43m \u001b[49m\u001b[38;5;28;43mself\u001b[39;49m\u001b[38;5;241;43m.\u001b[39;49m\u001b[43msim_nb\u001b[49m\u001b[43m)\u001b[49m\u001b[43m[\u001b[49m\u001b[43m[\u001b[49m\u001b[38;5;124;43m\"\u001b[39;49m\u001b[38;5;124;43mH\u001b[39;49m\u001b[38;5;124;43m\"\u001b[39;49m\u001b[43m,\u001b[49m\u001b[43m \u001b[49m\u001b[38;5;124;43m\"\u001b[39;49m\u001b[38;5;124;43mvolume_buffer\u001b[39;49m\u001b[38;5;124;43m\"\u001b[39;49m\u001b[43m]\u001b[49m\u001b[43m]\u001b[49m\n\u001b[1;32m    408\u001b[0m basin_power_mapping \u001b[38;5;241m=\u001b[39mpl\u001b[38;5;241m.\u001b[39mfrom_dicts(\u001b[38;5;28mself\u001b[39m\u001b[38;5;241m.\u001b[39mpower_performance_table)\u001b[38;5;241m.\u001b[39mdrop(\u001b[38;5;124m\"\u001b[39m\u001b[38;5;124mpower_performance\u001b[39m\u001b[38;5;124m\"\u001b[39m)\u001b[38;5;241m.\u001b[39mwith_columns(\n\u001b[1;32m    409\u001b[0m     pl\u001b[38;5;241m.\u001b[39mall()\u001b[38;5;241m.\u001b[39mcast(pl\u001b[38;5;241m.\u001b[39mUInt32)\n\u001b[1;32m    410\u001b[0m )\n\u001b[1;32m    412\u001b[0m \u001b[38;5;28mprint\u001b[39m(start_basin_volume\\\n\u001b[1;32m    413\u001b[0m     \u001b[38;5;241m.\u001b[39mjoin(basin_power_mapping, on\u001b[38;5;241m=\u001b[39m\u001b[38;5;124m\"\u001b[39m\u001b[38;5;124mB\u001b[39m\u001b[38;5;124m\"\u001b[39m, how\u001b[38;5;241m=\u001b[39m\u001b[38;5;124m\"\u001b[39m\u001b[38;5;124minner\u001b[39m\u001b[38;5;124m\"\u001b[39m)\\\n\u001b[1;32m    414\u001b[0m     \u001b[38;5;241m.\u001b[39mjoin(remaining_volume, on\u001b[38;5;241m=\u001b[39m\u001b[38;5;124m\"\u001b[39m\u001b[38;5;124mH\u001b[39m\u001b[38;5;124m\"\u001b[39m, how\u001b[38;5;241m=\u001b[39m\u001b[38;5;124m\"\u001b[39m\u001b[38;5;124minner\u001b[39m\u001b[38;5;124m\"\u001b[39m)\\\n\u001b[0;32m   (...)\u001b[0m\n\u001b[1;32m    425\u001b[0m     )\u001b[38;5;241m.\u001b[39mto_dicts()[\u001b[38;5;241m0\u001b[39m]\n\u001b[1;32m    426\u001b[0m )\n",
      "File \u001b[0;32m~/git/smallflex/smallflex-vpp-codes/.venv/lib/python3.12/site-packages/polars/dataframe/frame.py:1353\u001b[0m, in \u001b[0;36mDataFrame.__getitem__\u001b[0;34m(self, key)\u001b[0m\n\u001b[1;32m   1216\u001b[0m \u001b[38;5;28;01mdef\u001b[39;00m \u001b[38;5;21m__getitem__\u001b[39m(\n\u001b[1;32m   1217\u001b[0m     \u001b[38;5;28mself\u001b[39m,\n\u001b[1;32m   1218\u001b[0m     key: (\n\u001b[0;32m   (...)\u001b[0m\n\u001b[1;32m   1227\u001b[0m     ),\n\u001b[1;32m   1228\u001b[0m ) \u001b[38;5;241m-\u001b[39m\u001b[38;5;241m>\u001b[39m DataFrame \u001b[38;5;241m|\u001b[39m Series \u001b[38;5;241m|\u001b[39m Any:\n\u001b[1;32m   1229\u001b[0m \u001b[38;5;250m    \u001b[39m\u001b[38;5;124;03m\"\"\"\u001b[39;00m\n\u001b[1;32m   1230\u001b[0m \u001b[38;5;124;03m    Get part of the DataFrame as a new DataFrame, Series, or scalar.\u001b[39;00m\n\u001b[1;32m   1231\u001b[0m \n\u001b[0;32m   (...)\u001b[0m\n\u001b[1;32m   1351\u001b[0m \u001b[38;5;124;03m    └─────┴─────┴─────┘\u001b[39;00m\n\u001b[1;32m   1352\u001b[0m \u001b[38;5;124;03m    \"\"\"\u001b[39;00m\n\u001b[0;32m-> 1353\u001b[0m     \u001b[38;5;28;01mreturn\u001b[39;00m \u001b[43mget_df_item_by_key\u001b[49m\u001b[43m(\u001b[49m\u001b[38;5;28;43mself\u001b[39;49m\u001b[43m,\u001b[49m\u001b[43m \u001b[49m\u001b[43mkey\u001b[49m\u001b[43m)\u001b[49m\n",
      "File \u001b[0;32m~/git/smallflex/smallflex-vpp-codes/.venv/lib/python3.12/site-packages/polars/_utils/getitem.py:169\u001b[0m, in \u001b[0;36mget_df_item_by_key\u001b[0;34m(df, key)\u001b[0m\n\u001b[1;32m    167\u001b[0m     \u001b[38;5;28;01mreturn\u001b[39;00m _select_rows(df, key)  \u001b[38;5;66;03m# type: ignore[arg-type]\u001b[39;00m\n\u001b[1;32m    168\u001b[0m \u001b[38;5;28;01mexcept\u001b[39;00m \u001b[38;5;167;01mTypeError\u001b[39;00m:\n\u001b[0;32m--> 169\u001b[0m     \u001b[38;5;28;01mreturn\u001b[39;00m \u001b[43m_select_columns\u001b[49m\u001b[43m(\u001b[49m\u001b[43mdf\u001b[49m\u001b[43m,\u001b[49m\u001b[43m \u001b[49m\u001b[43mkey\u001b[49m\u001b[43m)\u001b[49m\n",
      "File \u001b[0;32m~/git/smallflex/smallflex-vpp-codes/.venv/lib/python3.12/site-packages/polars/_utils/getitem.py:217\u001b[0m, in \u001b[0;36m_select_columns\u001b[0;34m(df, key)\u001b[0m\n\u001b[1;32m    215\u001b[0m     \u001b[38;5;28;01mreturn\u001b[39;00m _select_columns_by_index(df, key)  \u001b[38;5;66;03m# type: ignore[arg-type]\u001b[39;00m\n\u001b[1;32m    216\u001b[0m \u001b[38;5;28;01melif\u001b[39;00m \u001b[38;5;28misinstance\u001b[39m(first, \u001b[38;5;28mstr\u001b[39m):\n\u001b[0;32m--> 217\u001b[0m     \u001b[38;5;28;01mreturn\u001b[39;00m \u001b[43m_select_columns_by_name\u001b[49m\u001b[43m(\u001b[49m\u001b[43mdf\u001b[49m\u001b[43m,\u001b[49m\u001b[43m \u001b[49m\u001b[43mkey\u001b[49m\u001b[43m)\u001b[49m  \u001b[38;5;66;03m# type: ignore[arg-type]\u001b[39;00m\n\u001b[1;32m    218\u001b[0m \u001b[38;5;28;01melse\u001b[39;00m:\n\u001b[1;32m    219\u001b[0m     msg \u001b[38;5;241m=\u001b[39m \u001b[38;5;124mf\u001b[39m\u001b[38;5;124m\"\u001b[39m\u001b[38;5;124mcannot select columns using Sequence with elements of type \u001b[39m\u001b[38;5;132;01m{\u001b[39;00m\u001b[38;5;28mtype\u001b[39m(first)\u001b[38;5;241m.\u001b[39m\u001b[38;5;18m__name__\u001b[39m\u001b[38;5;132;01m!r}\u001b[39;00m\u001b[38;5;124m\"\u001b[39m\n",
      "File \u001b[0;32m~/git/smallflex/smallflex-vpp-codes/.venv/lib/python3.12/site-packages/polars/_utils/getitem.py:265\u001b[0m, in \u001b[0;36m_select_columns_by_name\u001b[0;34m(df, key)\u001b[0m\n\u001b[1;32m    264\u001b[0m \u001b[38;5;28;01mdef\u001b[39;00m \u001b[38;5;21m_select_columns_by_name\u001b[39m(df: DataFrame, key: Iterable[\u001b[38;5;28mstr\u001b[39m]) \u001b[38;5;241m-\u001b[39m\u001b[38;5;241m>\u001b[39m DataFrame:\n\u001b[0;32m--> 265\u001b[0m     \u001b[38;5;28;01mreturn\u001b[39;00m df\u001b[38;5;241m.\u001b[39m_from_pydf(\u001b[43mdf\u001b[49m\u001b[38;5;241;43m.\u001b[39;49m\u001b[43m_df\u001b[49m\u001b[38;5;241;43m.\u001b[39;49m\u001b[43mselect\u001b[49m\u001b[43m(\u001b[49m\u001b[43mkey\u001b[49m\u001b[43m)\u001b[49m)\n",
      "\u001b[0;31mColumnNotFoundError\u001b[0m: \"volume_buffer\" not found"
     ]
    }
   ],
   "source": [
    "baseline_second_stage.calculated_feasibility()"
   ]
  },
  {
   "cell_type": "code",
   "execution_count": null,
   "metadata": {},
   "outputs": [
    {
     "name": "stdout",
     "output_type": "stream",
     "text": [
      "[0, 10, 19, 28, 36]\n",
      "shape: (4, 8)\n",
      "┌────────────┬────────────┬────────────┬───────────┬───────────┬───────────┬───────────┬───────────┐\n",
      "│ height     ┆ flow_turbi ┆ flow_pumpe ┆ electrica ┆ electrica ┆ volume    ┆ alpha_tur ┆ alpha_pum │\n",
      "│ ---        ┆ ned        ┆ d          ┆ l_power_t ┆ l_power_p ┆ ---       ┆ bined     ┆ ped       │\n",
      "│ struct[4]  ┆ ---        ┆ ---        ┆ urbined   ┆ umped     ┆ struct[4] ┆ ---       ┆ ---       │\n",
      "│            ┆ struct[4]  ┆ struct[4]  ┆ ---       ┆ ---       ┆           ┆ struct[4] ┆ struct[4] │\n",
      "│            ┆            ┆            ┆ struct[4] ┆ struct[4] ┆           ┆           ┆           │\n",
      "╞════════════╪════════════╪════════════╪═══════════╪═══════════╪═══════════╪═══════════╪═══════════╡\n",
      "│ {2350.0,23 ┆ {2.3248,2. ┆ {2.7354,2. ┆ {7.2683,7 ┆ {12.108,1 ┆ {1.39706, ┆ {3.126419 ┆ {4.426409 │\n",
      "│ 55.0,2360. ┆ 3506,2.376 ┆ 6739,2.612 ┆ .4618,7.6 ┆ 1.981,11. ┆ 2.901725, ┆ ,3.173902 ┆ ,4.482,4. │\n",
      "│ 0,10.0}    ┆ 4,0.0516}  ┆ 4,-0.123}  ┆ 553,0.387 ┆ 854,-0.25 ┆ 4.40639,3 ┆ ,3.221385 ┆ 53759,0.1 │\n",
      "│            ┆            ┆            ┆ }         ┆ 4}        ┆ .00…      ┆ ,0.…      ┆ 111…      │\n",
      "│ {2360.0,23 ┆ {2.3764,2. ┆ {2.6124,2. ┆ {7.6553,7 ┆ {11.854,1 ┆ {4.40639, ┆ {3.221385 ┆ {4.53759, │\n",
      "│ 64.5,2369. ┆ 39918,2.42 ┆ 55674,2.50 ┆ .82915,8. ┆ 1.7366,11 ┆ 6.43919,8 ┆ ,3.262867 ┆ 4.591632, │\n",
      "│ 0,9.0}     ┆ 196,0.0455 ┆ 108,-0.111 ┆ 003,0.347 ┆ .6192,-0. ┆ .47199,4. ┆ ,3.304349 ┆ 4.645673, │\n",
      "│            ┆ …          ┆ …          ┆ 7}        ┆ 234…      ┆ 065…      ┆ ,0.…      ┆ 0.1…      │\n",
      "│ {2369.0,23 ┆ {2.42196,2 ┆ {2.50108,2 ┆ {8.003,8. ┆ {11.6192, ┆ {8.47199, ┆ {3.304349 ┆ {4.645673 │\n",
      "│ 73.5,2378. ┆ .44431,2.4 ┆ .44524,2.3 ┆ 17648,8.3 ┆ 11.4984,1 ┆ 10.942595 ┆ ,3.344738 ┆ ,4.703685 │\n",
      "│ 0,9.0}     ┆ 6666,0.044 ┆ 894,-0.111 ┆ 4996,0.34 ┆ 1.3776,-0 ┆ ,13.4132, ┆ ,3.385128 ┆ ,4.761697 │\n",
      "│            ┆ …          ┆ …          ┆ 696…      ┆ .24…      ┆ 4.9…      ┆ ,0.…      ┆ ,0.…      │\n",
      "│ {2378.0,23 ┆ {2.46666,2 ┆ {2.3894,2. ┆ {8.34996, ┆ {11.3776, ┆ {13.4132, ┆ {3.385128 ┆ {4.761697 │\n",
      "│ 82.0,2386. ┆ .48625,2.5 ┆ 33252,2.27 ┆ 8.50395,8 ┆ 11.2651,1 ┆ 15.8282,1 ┆ ,3.420116 ┆ ,4.83128, │\n",
      "│ 0,8.0}     ┆ 0584,0.039 ┆ 564,-0.113 ┆ .65794,0. ┆ 1.1526,-0 ┆ 8.2432,4. ┆ ,3.455105 ┆ 4.900863, │\n",
      "│            ┆ …          ┆ …          ┆ 307…      ┆ .22…      ┆ 83}       ┆ ,0.…      ┆ 0.1…      │\n",
      "└────────────┴────────────┴────────────┴───────────┴───────────┴───────────┴───────────┴───────────┘\n"
     ]
    }
   ],
   "source": [
    "power_performance_table = baseline_first_stage.power_performance_table\n",
    "\n",
    "state_index: pl.DataFrame = pl.DataFrame()\n",
    "for data in power_performance_table: \n",
    "    power_performance: pl.DataFrame = data[\"power_performance\"]\n",
    "    y_cols: list[str] = power_performance.select(cs.starts_with(\"alpha\")).columns\n",
    "    \n",
    "    segments = generate_state_index_using_errors(data=power_performance, column_list=y_cols, error_percent=1.3)\n",
    "    print(segments)\n",
    "    if len(segments) > 10:\n",
    "        log.warning(f\"{len(segments)} states found in {data[\"H\"]} hydro power plant\")\n",
    "    state_performance_table = filter_by_index(data=power_performance, index_list=segments)\\\n",
    "    .with_columns(\n",
    "        c(col).abs().pipe(get_min_avg_max_diff).alias(col) for col in power_performance.columns\n",
    "    ).slice(offset=0, length=len(segments)-1) \n",
    "    print(state_performance_table)\n",
    "    state_index = pl.concat([\n",
    "        state_index , \n",
    "        state_performance_table.with_columns(\n",
    "            pl.lit(data[\"H\"]).alias(\"H\"),\n",
    "            pl.lit(data[\"B\"]).alias(\"B\"))\n",
    "        ], how=\"diagonal\")\n",
    "    # Add every downstream basin\n"
   ]
  },
  {
   "cell_type": "code",
   "execution_count": null,
   "metadata": {},
   "outputs": [
    {
     "data": {
      "text/html": [
       "<div><style>\n",
       ".dataframe > thead > tr,\n",
       ".dataframe > tbody > tr {\n",
       "  text-align: right;\n",
       "  white-space: pre-wrap;\n",
       "}\n",
       "</style>\n",
       "<small>shape: (5, 8)</small><table border=\"1\" class=\"dataframe\"><thead><tr><th>height</th><th>flow_turbined</th><th>flow_pumped</th><th>electrical_power_turbined</th><th>electrical_power_pumped</th><th>volume</th><th>alpha_turbined</th><th>alpha_pumped</th></tr><tr><td>struct[4]</td><td>struct[4]</td><td>struct[4]</td><td>struct[4]</td><td>struct[4]</td><td>struct[4]</td><td>struct[4]</td><td>struct[4]</td></tr></thead><tbody><tr><td>{2350.0,2355.0,2360.0,10.0}</td><td>{2.3248,2.3506,2.3764,0.0516}</td><td>{2.7354,2.6739,2.6124,-0.123}</td><td>{7.2683,7.4618,7.6553,0.387}</td><td>{12.108,11.981,11.854,-0.254}</td><td>{1.39706,2.901725,4.40639,3.00933}</td><td>{3.126419,3.173902,3.221385,0.094966}</td><td>{4.426409,4.482,4.53759,0.111181}</td></tr><tr><td>{2360.0,2364.5,2369.0,9.0}</td><td>{2.3764,2.39918,2.42196,0.04556}</td><td>{2.6124,2.55674,2.50108,-0.11132}</td><td>{7.6553,7.82915,8.003,0.3477}</td><td>{11.854,11.7366,11.6192,-0.2348}</td><td>{4.40639,6.43919,8.47199,4.0656}</td><td>{3.221385,3.262867,3.304349,0.082963}</td><td>{4.53759,4.591632,4.645673,0.108083}</td></tr><tr><td>{2369.0,2373.5,2378.0,9.0}</td><td>{2.42196,2.44431,2.46666,0.0447}</td><td>{2.50108,2.44524,2.3894,-0.11168}</td><td>{8.003,8.17648,8.34996,0.34696}</td><td>{11.6192,11.4984,11.3776,-0.2416}</td><td>{8.47199,10.942595,13.4132,4.94121}</td><td>{3.304349,3.344738,3.385128,0.08078}</td><td>{4.645673,4.703685,4.761697,0.116024}</td></tr><tr><td>{2378.0,2382.0,2386.0,8.0}</td><td>{2.46666,2.48625,2.50584,0.03918}</td><td>{2.3894,2.33252,2.27564,-0.11376}</td><td>{8.34996,8.50395,8.65794,0.30798}</td><td>{11.3776,11.2651,11.1526,-0.225}</td><td>{13.4132,15.8282,18.2432,4.83}</td><td>{3.385128,3.420116,3.455105,0.069977}</td><td>{4.761697,4.83128,4.900863,0.139166}</td></tr><tr><td>{2386.0,null,null,null}</td><td>{2.50584,null,null,null}</td><td>{2.27564,null,null,null}</td><td>{8.65794,null,null,null}</td><td>{11.1526,null,null,null}</td><td>{18.2432,null,null,null}</td><td>{3.455105,null,null,null}</td><td>{4.900863,null,null,null}</td></tr></tbody></table></div>"
      ],
      "text/plain": [
       "shape: (5, 8)\n",
       "┌────────────┬────────────┬────────────┬───────────┬───────────┬───────────┬───────────┬───────────┐\n",
       "│ height     ┆ flow_turbi ┆ flow_pumpe ┆ electrica ┆ electrica ┆ volume    ┆ alpha_tur ┆ alpha_pum │\n",
       "│ ---        ┆ ned        ┆ d          ┆ l_power_t ┆ l_power_p ┆ ---       ┆ bined     ┆ ped       │\n",
       "│ struct[4]  ┆ ---        ┆ ---        ┆ urbined   ┆ umped     ┆ struct[4] ┆ ---       ┆ ---       │\n",
       "│            ┆ struct[4]  ┆ struct[4]  ┆ ---       ┆ ---       ┆           ┆ struct[4] ┆ struct[4] │\n",
       "│            ┆            ┆            ┆ struct[4] ┆ struct[4] ┆           ┆           ┆           │\n",
       "╞════════════╪════════════╪════════════╪═══════════╪═══════════╪═══════════╪═══════════╪═══════════╡\n",
       "│ {2350.0,23 ┆ {2.3248,2. ┆ {2.7354,2. ┆ {7.2683,7 ┆ {12.108,1 ┆ {1.39706, ┆ {3.126419 ┆ {4.426409 │\n",
       "│ 55.0,2360. ┆ 3506,2.376 ┆ 6739,2.612 ┆ .4618,7.6 ┆ 1.981,11. ┆ 2.901725, ┆ ,3.173902 ┆ ,4.482,4. │\n",
       "│ 0,10.0}    ┆ 4,0.0516}  ┆ 4,-0.123}  ┆ 553,0.387 ┆ 854,-0.25 ┆ 4.40639,3 ┆ ,3.221385 ┆ 53759,0.1 │\n",
       "│            ┆            ┆            ┆ }         ┆ 4}        ┆ .00…      ┆ ,0.…      ┆ 111…      │\n",
       "│ {2360.0,23 ┆ {2.3764,2. ┆ {2.6124,2. ┆ {7.6553,7 ┆ {11.854,1 ┆ {4.40639, ┆ {3.221385 ┆ {4.53759, │\n",
       "│ 64.5,2369. ┆ 39918,2.42 ┆ 55674,2.50 ┆ .82915,8. ┆ 1.7366,11 ┆ 6.43919,8 ┆ ,3.262867 ┆ 4.591632, │\n",
       "│ 0,9.0}     ┆ 196,0.0455 ┆ 108,-0.111 ┆ 003,0.347 ┆ .6192,-0. ┆ .47199,4. ┆ ,3.304349 ┆ 4.645673, │\n",
       "│            ┆ …          ┆ …          ┆ 7}        ┆ 234…      ┆ 065…      ┆ ,0.…      ┆ 0.1…      │\n",
       "│ {2369.0,23 ┆ {2.42196,2 ┆ {2.50108,2 ┆ {8.003,8. ┆ {11.6192, ┆ {8.47199, ┆ {3.304349 ┆ {4.645673 │\n",
       "│ 73.5,2378. ┆ .44431,2.4 ┆ .44524,2.3 ┆ 17648,8.3 ┆ 11.4984,1 ┆ 10.942595 ┆ ,3.344738 ┆ ,4.703685 │\n",
       "│ 0,9.0}     ┆ 6666,0.044 ┆ 894,-0.111 ┆ 4996,0.34 ┆ 1.3776,-0 ┆ ,13.4132, ┆ ,3.385128 ┆ ,4.761697 │\n",
       "│            ┆ …          ┆ …          ┆ 696…      ┆ .24…      ┆ 4.9…      ┆ ,0.…      ┆ ,0.…      │\n",
       "│ {2378.0,23 ┆ {2.46666,2 ┆ {2.3894,2. ┆ {8.34996, ┆ {11.3776, ┆ {13.4132, ┆ {3.385128 ┆ {4.761697 │\n",
       "│ 82.0,2386. ┆ .48625,2.5 ┆ 33252,2.27 ┆ 8.50395,8 ┆ 11.2651,1 ┆ 15.8282,1 ┆ ,3.420116 ┆ ,4.83128, │\n",
       "│ 0,8.0}     ┆ 0584,0.039 ┆ 564,-0.113 ┆ .65794,0. ┆ 1.1526,-0 ┆ 8.2432,4. ┆ ,3.455105 ┆ 4.900863, │\n",
       "│            ┆ …          ┆ …          ┆ 307…      ┆ .22…      ┆ 83}       ┆ ,0.…      ┆ 0.1…      │\n",
       "│ {2386.0,nu ┆ {2.50584,n ┆ {2.27564,n ┆ {8.65794, ┆ {11.1526, ┆ {18.2432, ┆ {3.455105 ┆ {4.900863 │\n",
       "│ ll,null,nu ┆ ull,null,n ┆ ull,null,n ┆ null,null ┆ null,null ┆ null,null ┆ ,null,nul ┆ ,null,nul │\n",
       "│ ll}        ┆ ull}       ┆ ull}       ┆ ,null}    ┆ ,null}    ┆ ,null}    ┆ l,null}   ┆ l,null}   │\n",
       "└────────────┴────────────┴────────────┴───────────┴───────────┴───────────┴───────────┴───────────┘"
      ]
     },
     "execution_count": 8,
     "metadata": {},
     "output_type": "execute_result"
    }
   ],
   "source": [
    "filter_by_index(data=power_performance, index_list=segments).with_columns(\n",
    "        c(col).abs().pipe(get_min_avg_max_diff).alias(col) for col in power_performance.columns\n",
    "    )"
   ]
  },
  {
   "cell_type": "code",
   "execution_count": null,
   "metadata": {},
   "outputs": [
    {
     "data": {
      "text/html": [
       "<div><style>\n",
       ".dataframe > thead > tr,\n",
       ".dataframe > tbody > tr {\n",
       "  text-align: right;\n",
       "  white-space: pre-wrap;\n",
       "}\n",
       "</style>\n",
       "<small>shape: (4, 14)</small><table border=\"1\" class=\"dataframe\"><thead><tr><th>F</th><th>min</th><th>max</th><th>S</th><th>H</th><th>B</th><th>flow</th><th>d_flow</th><th>electrical_power</th><th>d_electrical_power</th><th>S_BH</th><th>BS</th><th>HS</th><th>HSF</th></tr><tr><td>u32</td><td>f64</td><td>f64</td><td>u32</td><td>i32</td><td>i64</td><td>f64</td><td>f64</td><td>f64</td><td>f64</td><td>list[i64]</td><td>list[i64]</td><td>list[i64]</td><td>list[i64]</td></tr></thead><tbody><tr><td>0</td><td>14.0021</td><td>16.4183</td><td>0</td><td>0</td><td>0</td><td>-2.3768</td><td>0.023442</td><td>-11.3508</td><td>0.046602</td><td>[0, 0, … 0]</td><td>[0, 0]</td><td>[0, 0]</td><td>[0, 0, 0]</td></tr><tr><td>1</td><td>14.0021</td><td>16.4183</td><td>0</td><td>0</td><td>0</td><td>2.47158</td><td>0.00812</td><td>8.38848</td><td>0.063745</td><td>[0, 0, … 0]</td><td>[0, 0]</td><td>[0, 0]</td><td>[0, 0, 1]</td></tr><tr><td>2</td><td>14.0021</td><td>16.4183</td><td>0</td><td>0</td><td>0</td><td>0.0</td><td>0.0</td><td>0.0</td><td>0.0</td><td>[0, 0, … 0]</td><td>[0, 0]</td><td>[0, 0]</td><td>[0, 0, 2]</td></tr><tr><td>null</td><td>0.0</td><td>1.0</td><td>1</td><td>null</td><td>1</td><td>null</td><td>null</td><td>null</td><td>null</td><td>[null, 1, … 1]</td><td>[1, 1]</td><td>[null, 1]</td><td>[null, 1, null]</td></tr></tbody></table></div>"
      ],
      "text/plain": [
       "shape: (4, 14)\n",
       "┌──────┬─────────┬─────────┬─────┬───┬────────────────┬───────────┬───────────┬─────────────────┐\n",
       "│ F    ┆ min     ┆ max     ┆ S   ┆ … ┆ S_BH           ┆ BS        ┆ HS        ┆ HSF             │\n",
       "│ ---  ┆ ---     ┆ ---     ┆ --- ┆   ┆ ---            ┆ ---       ┆ ---       ┆ ---             │\n",
       "│ u32  ┆ f64     ┆ f64     ┆ u32 ┆   ┆ list[i64]      ┆ list[i64] ┆ list[i64] ┆ list[i64]       │\n",
       "╞══════╪═════════╪═════════╪═════╪═══╪════════════════╪═══════════╪═══════════╪═════════════════╡\n",
       "│ 0    ┆ 14.0021 ┆ 16.4183 ┆ 0   ┆ … ┆ [0, 0, … 0]    ┆ [0, 0]    ┆ [0, 0]    ┆ [0, 0, 0]       │\n",
       "│ 1    ┆ 14.0021 ┆ 16.4183 ┆ 0   ┆ … ┆ [0, 0, … 0]    ┆ [0, 0]    ┆ [0, 0]    ┆ [0, 0, 1]       │\n",
       "│ 2    ┆ 14.0021 ┆ 16.4183 ┆ 0   ┆ … ┆ [0, 0, … 0]    ┆ [0, 0]    ┆ [0, 0]    ┆ [0, 0, 2]       │\n",
       "│ null ┆ 0.0     ┆ 1.0     ┆ 1   ┆ … ┆ [null, 1, … 1] ┆ [1, 1]    ┆ [null, 1] ┆ [null, 1, null] │\n",
       "└──────┴─────────┴─────────┴─────┴───┴────────────────┴───────────┴───────────┴─────────────────┘"
      ]
     },
     "execution_count": 9,
     "metadata": {},
     "output_type": "execute_result"
    }
   ],
   "source": [
    "baseline_first_stage.index[\"state\"].unnest([\"volume\"])"
   ]
  }
 ],
 "metadata": {
  "kernelspec": {
   "display_name": ".venv",
   "language": "python",
   "name": "python3"
  },
  "language_info": {
   "codemirror_mode": {
    "name": "ipython",
    "version": 3
   },
   "file_extension": ".py",
   "mimetype": "text/x-python",
   "name": "python",
   "nbconvert_exporter": "python",
   "pygments_lexer": "ipython3",
   "version": "3.12.7"
  }
 },
 "nbformat": 4,
 "nbformat_minor": 2
}
