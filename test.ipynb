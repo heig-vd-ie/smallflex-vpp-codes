{
 "cells": [
  {
   "cell_type": "code",
   "execution_count": 1,
   "metadata": {},
   "outputs": [],
   "source": [
    "\n",
    "import json\n",
    "import os\n",
    "import polars as pl\n",
    "from polars import col as c\n",
    "import polars.selectors as cs\n",
    "import re\n",
    "from data_federation.input_model import SmallflexInputSchema\n",
    "import owncloud\n",
    "import streamlit as st\n",
    "from datetime import date\n",
    "import plotly.graph_objs as go\n",
    "from data_federation.parser.market_price import parse_market_price\n",
    "from data_federation.parser.discharge_flow import parse_discharge_flow\n",
    "from data_federation.parser.weather import parse_weather\n",
    "from data_federation.parser.aegina_hydro_power_plant import parse_aegina_hydro_power_plant\n",
    "from data_federation.parser.merezenbach_hydro_power_plant import parse_merezenbach_hydro_power_plant\n",
    "from data_federation.parser.morel_hydro_power_plant import parse_morel_hydro_power_plant\n",
    "from data_federation.parser.aegina_wind_power_plant import parse_aegina_wind_power_plant\n",
    "from data_federation.parser.parser_pipeline import input_pipeline\n",
    "from utility.general_function import dictionary_key_filtering, scan_switch_directory, modify_string, generate_uuid, pl_to_dict, load_envrc\n",
    "from utility.polars_operation import modify_string_col, generate_uuid_col\n",
    "from data_display.input_data_plots import plot_market_prices\n",
    "from data_federation.parser.hydro_power_plant import get_hydro_power_plant_data\n",
    "from config import settings\n",
    "import plotly.express as px\n",
    "from datetime import timedelta, date\n",
    "from utility.pyomo_preprocessing import *\n",
    "from datetime import timedelta, date, datetime, timezone\n",
    "from datetime import timedelta, date\n",
    "import numpy as np\n",
    "from typing_extensions import Optional\n",
    "import pyomo.environ as pyo\n",
    "from itertools import product\n",
    "\n",
    "\n"
   ]
  },
  {
   "cell_type": "code",
   "execution_count": 2,
   "metadata": {},
   "outputs": [],
   "source": [
    "os.chdir(os.getcwd().replace(\"/src\", \"\"))\n",
    "os.environ['GRB_LICENSE_FILE'] = '/home/ltomasini/gruobi_license/gurobi.lic'\n",
    "\n"
   ]
  },
  {
   "cell_type": "code",
   "execution_count": 3,
   "metadata": {},
   "outputs": [],
   "source": [
    "\n",
    "input_file_names: dict[str, str] = json.load(open(settings.INPUT_FILE_NAMES))\n",
    "output_file_names: dict[str, str] = json.load(open(settings.OUTPUT_FILE_NAMES))\n",
    "market_price_metadata: dict = json.load(open(input_file_names[\"market_price_metadata\"]))\n"
   ]
  },
  {
   "cell_type": "code",
   "execution_count": 4,
   "metadata": {},
   "outputs": [
    {
     "name": "stderr",
     "output_type": "stream",
     "text": [
      "Read and validate tables from small_flex_input_data.db file: 100%|████████████████████████████████████████████████████| 12/12 [00:01<00:00,  9.72it/s]\n"
     ]
    }
   ],
   "source": [
    "output_file_names: dict[str, str] = json.load(open(settings.OUTPUT_FILE_NAMES))\n",
    "small_flex_input_schema: SmallflexInputSchema = SmallflexInputSchema()\\\n",
    "    .duckdb_to_schema(file_path=output_file_names[\"duckdb_input\"])\n"
   ]
  },
  {
   "cell_type": "code",
   "execution_count": null,
   "metadata": {},
   "outputs": [],
   "source": []
  },
  {
   "cell_type": "code",
   "execution_count": 5,
   "metadata": {},
   "outputs": [],
   "source": [
    "year = 2020\n",
    "\n",
    "min_datetime = datetime(year, 1, 1, tzinfo=timezone.utc)\n",
    "max_datetime = datetime(year+1, 1, 1, tzinfo=timezone.utc)\n",
    "first_time_delta = timedelta(days=3)\n",
    "second_time_delta = timedelta(minutes=60)\n",
    "n_segments = 5\n",
    "\n",
    "market_country = \"CH\"\n",
    "market = \"DA\"\n",
    "hydro_power_plant_name = \"Aegina hydro\"\n",
    "\n",
    "power_plant_metadata = small_flex_input_schema.hydro_power_plant\\\n",
    "    .filter(c(\"name\") == hydro_power_plant_name).to_dicts()[0]\n",
    "water_basin_uuid = power_plant_metadata[\"upstream_basin_fk\"]\n",
    "power_plant_uuid = power_plant_metadata[\"uuid\"]\n",
    "\n",
    "first_datetime_index, second_datetime_index = generate_datetime_index(\n",
    "    min_datetime=min_datetime, max_datetime=max_datetime, first_time_delta=first_time_delta, second_time_delta=second_time_delta)\n",
    "\n",
    "market_price_measurement:pl.DataFrame = small_flex_input_schema.market_price_measurement\\\n",
    "    .filter(c(\"country\") == market_country).filter(c(\"market\") == market)\n",
    "    \n",
    "discharge_flow_measurement: pl.DataFrame = small_flex_input_schema.discharge_flow_measurement\\\n",
    "    .filter(c(\"river\") == \"Griessee\")\\\n",
    "    .with_columns(\n",
    "        (c(\"value\") * timedelta(hours=1).total_seconds()).alias(\"discharge_volume\")\n",
    "    )\n",
    "    \n",
    "\n",
    "basin_metadata = small_flex_input_schema.water_basin.filter(c(\"uuid\") == water_basin_uuid).to_dicts()[0]\n",
    "\n",
    "down_stream_height = small_flex_input_schema.water_basin.filter(c(\"uuid\") == power_plant_metadata[\"downstream_basin_fk\"])[\"height_max\"][0]\n",
    "basin_height_volume_table: pl.DataFrame = small_flex_input_schema\\\n",
    "    .basin_height_volume_table\\\n",
    "    .filter(c(\"water_basin_fk\") == water_basin_uuid)\n",
    "if basin_metadata[\"height_min\"] is not None:\n",
    "    basin_height_volume_table = basin_height_volume_table.filter(c(\"height\") >= basin_metadata[\"height_min\"])\n",
    "if basin_metadata[\"height_max\"] is not None:\n",
    "    basin_height_volume_table = basin_height_volume_table.filter(c(\"height\") <= basin_metadata[\"height_max\"])\n",
    "\n",
    "\n"
   ]
  },
  {
   "cell_type": "code",
   "execution_count": 6,
   "metadata": {},
   "outputs": [
    {
     "ename": "TypeError",
     "evalue": "generate_segments() got an unexpected keyword argument 'min_x'",
     "output_type": "error",
     "traceback": [
      "\u001b[0;31m---------------------------------------------------------------------------\u001b[0m",
      "\u001b[0;31mTypeError\u001b[0m                                 Traceback (most recent call last)",
      "Cell \u001b[0;32mIn[6], line 11\u001b[0m\n\u001b[1;32m      1\u001b[0m discharge_volume: pl\u001b[38;5;241m.\u001b[39mDataFrame \u001b[38;5;241m=\u001b[39m generate_clean_timeseries(\n\u001b[1;32m      2\u001b[0m     data\u001b[38;5;241m=\u001b[39mdischarge_flow_measurement, datetime_index\u001b[38;5;241m=\u001b[39mfirst_datetime_index,\n\u001b[1;32m      3\u001b[0m     col_name\u001b[38;5;241m=\u001b[39m\u001b[38;5;124m\"\u001b[39m\u001b[38;5;124mdischarge_volume\u001b[39m\u001b[38;5;124m\"\u001b[39m, min_datetime\u001b[38;5;241m=\u001b[39mmin_datetime, \n\u001b[1;32m      4\u001b[0m     max_datetime\u001b[38;5;241m=\u001b[39mmax_datetime, time_delta\u001b[38;5;241m=\u001b[39mfirst_time_delta, agg_type\u001b[38;5;241m=\u001b[39m\u001b[38;5;124m\"\u001b[39m\u001b[38;5;124msum\u001b[39m\u001b[38;5;124m\"\u001b[39m)\n\u001b[1;32m      6\u001b[0m market_price: pl\u001b[38;5;241m.\u001b[39mDataFrame \u001b[38;5;241m=\u001b[39m generate_clean_timeseries(\n\u001b[1;32m      7\u001b[0m     data\u001b[38;5;241m=\u001b[39mmarket_price_measurement, datetime_index\u001b[38;5;241m=\u001b[39mfirst_datetime_index,\n\u001b[1;32m      8\u001b[0m     col_name\u001b[38;5;241m=\u001b[39m\u001b[38;5;124m\"\u001b[39m\u001b[38;5;124mavg\u001b[39m\u001b[38;5;124m\"\u001b[39m, min_datetime\u001b[38;5;241m=\u001b[39mmin_datetime, \n\u001b[1;32m      9\u001b[0m     max_datetime\u001b[38;5;241m=\u001b[39mmax_datetime, time_delta\u001b[38;5;241m=\u001b[39mfirst_time_delta, agg_type\u001b[38;5;241m=\u001b[39m\u001b[38;5;124m\"\u001b[39m\u001b[38;5;124mmean\u001b[39m\u001b[38;5;124m\"\u001b[39m)\n\u001b[0;32m---> 11\u001b[0m basin_height : pl\u001b[38;5;241m.\u001b[39mDataFrame \u001b[38;5;241m=\u001b[39m \u001b[43mgenerate_segments\u001b[49m\u001b[43m(\u001b[49m\n\u001b[1;32m     12\u001b[0m \u001b[43m    \u001b[49m\u001b[43mdata\u001b[49m\u001b[38;5;241;43m=\u001b[39;49m\u001b[43mbasin_height_volume_table\u001b[49m\u001b[43m,\u001b[49m\u001b[43m \u001b[49m\u001b[43mx_col\u001b[49m\u001b[38;5;241;43m=\u001b[39;49m\u001b[38;5;124;43m\"\u001b[39;49m\u001b[38;5;124;43mheight\u001b[39;49m\u001b[38;5;124;43m\"\u001b[39;49m\u001b[43m,\u001b[49m\u001b[43m \u001b[49m\u001b[43my_col\u001b[49m\u001b[38;5;241;43m=\u001b[39;49m\u001b[38;5;124;43m\"\u001b[39;49m\u001b[38;5;124;43mvolume\u001b[39;49m\u001b[38;5;124;43m\"\u001b[39;49m\u001b[43m,\u001b[49m\n\u001b[1;32m     13\u001b[0m \u001b[43m    \u001b[49m\u001b[43mmin_x\u001b[49m\u001b[38;5;241;43m=\u001b[39;49m\u001b[43mbasin_metadata\u001b[49m\u001b[43m[\u001b[49m\u001b[38;5;124;43m\"\u001b[39;49m\u001b[38;5;124;43mheight_min\u001b[39;49m\u001b[38;5;124;43m\"\u001b[39;49m\u001b[43m]\u001b[49m\u001b[43m,\u001b[49m\u001b[43m \u001b[49m\u001b[43mmax_x\u001b[49m\u001b[38;5;241;43m=\u001b[39;49m\u001b[43mbasin_metadata\u001b[49m\u001b[43m[\u001b[49m\u001b[38;5;124;43m\"\u001b[39;49m\u001b[38;5;124;43mheight_max\u001b[39;49m\u001b[38;5;124;43m\"\u001b[39;49m\u001b[43m]\u001b[49m\u001b[43m,\u001b[49m\u001b[43m \u001b[49m\n\u001b[1;32m     14\u001b[0m \u001b[43m    \u001b[49m\u001b[43mn_segments\u001b[49m\u001b[38;5;241;43m=\u001b[39;49m\u001b[43mn_segments\u001b[49m\u001b[43m)\u001b[49m\n",
      "\u001b[0;31mTypeError\u001b[0m: generate_segments() got an unexpected keyword argument 'min_x'"
     ]
    }
   ],
   "source": [
    "discharge_volume: pl.DataFrame = generate_clean_timeseries(\n",
    "    data=discharge_flow_measurement, datetime_index=first_datetime_index,\n",
    "    col_name=\"discharge_volume\", min_datetime=min_datetime, \n",
    "    max_datetime=max_datetime, time_delta=first_time_delta, agg_type=\"sum\")\n",
    "\n",
    "market_price: pl.DataFrame = generate_clean_timeseries(\n",
    "    data=market_price_measurement, datetime_index=first_datetime_index,\n",
    "    col_name=\"avg\", min_datetime=min_datetime, \n",
    "    max_datetime=max_datetime, time_delta=first_time_delta, agg_type=\"mean\")\n",
    "\n",
    "basin_height : pl.DataFrame = generate_segments(\n",
    "    data=basin_height_volume_table, x_col=\"height\", y_col=\"volume\",\n",
    "    min_x=basin_metadata[\"height_min\"], max_x=basin_metadata[\"height_max\"], \n",
    "    n_segments=n_segments)\n"
   ]
  },
  {
   "cell_type": "code",
   "execution_count": null,
   "metadata": {},
   "outputs": [],
   "source": [
    "resource_fk_list = small_flex_input_schema.resource\\\n",
    "    .filter(c(\"uuid\").is_in(power_plant_metadata[\"resource_fk_list\"]))\\\n",
    "    .filter(c(\"type\") == \"hydro_turbine\")[\"uuid\"].to_list()\n",
    "    \n",
    "not_selected_resource = [idx for idx, item in enumerate(power_plant_metadata[\"resource_fk_list\"]) if item not in resource_fk_list]\n",
    "\n",
    "power_plant_state = small_flex_input_schema.power_plant_state.filter(c(\"power_plant_fk\") == power_plant_uuid)\n",
    "if not_selected_resource:\n",
    "    power_plant_state = power_plant_state\\\n",
    "    .filter(\n",
    "        pl.all_horizontal(c(\"resource_state_list\").list.get(i) == False for i in not_selected_resource)\n",
    "    ).with_row_index(name=\"index\")\n",
    "power_plant_state_mapping = pl_to_dict(power_plant_state[[\"uuid\", \"index\"]])\n",
    "\n",
    "power_performance_table: pl.DataFrame = small_flex_input_schema.hydro_power_performance_table.join(\n",
    "    power_plant_state[[\"uuid\", \"index\"]], left_on=\"power_plant_state_fk\", right_on=\"uuid\", how=\"inner\"\n",
    ").sort(\"index\", \"head\")\n"
   ]
  },
  {
   "cell_type": "code",
   "execution_count": null,
   "metadata": {},
   "outputs": [],
   "source": [
    "\n",
    "\n",
    "solver = pyo.SolverFactory('gurobi')\n",
    "\n",
    "model: pyo.AbstractModel = pyo.AbstractModel()\n",
    "model.T = pyo.Set()\n",
    "model.H = pyo.Set()\n",
    "\n",
    "model.t_max = pyo.Param()\n",
    "model.h_max = pyo.Param()\n",
    "model.alpha = pyo.Param()\n",
    "model.max_flow = pyo.Param() # m^3/h\n",
    "model.min_flow = pyo.Param() # m^3/h\n",
    "model.start_basin_height = pyo.Param()\n",
    "model.basin_dH_dV_2 = pyo.Param()\n",
    "\n",
    "model.max_basin_height = pyo.Param(model.H)\n",
    "model.min_basin_height = pyo.Param(model.H)\n",
    "model.basin_dH_dV = pyo.Param(model.H)\n",
    "\n",
    "model.discharge_volume = pyo.Param(model.T)\n",
    "model.market_price = pyo.Param(model.T)\n",
    "model.nb_hours = pyo.Param(model.T)\n",
    "\n",
    "\n",
    "model.basin_state = pyo.Var(model.T, model.H, within=pyo.Binary)\n",
    "model.basin_height = pyo.Var(model.T, within=pyo.NonNegativeReals)\n",
    "\n",
    "model.basin_volume_state= pyo.Var(model.T, model.H, within=pyo.Reals)\n",
    "model.V_tot = pyo.Var(model.T, within=pyo.Reals)\n",
    "\n",
    "\n",
    "@model.Objective(sense=pyo.maximize) # type: ignore\n",
    "def selling_income(model):\n",
    "    return sum(model.market_price[t] * model.V_tot[t] * model.alpha  for t in model.T)\n",
    "\n",
    "### Basin height constraints\n",
    "@model.Constraint(model.T, model.H) # type: ignore\n",
    "def basin_max_state_height_constraint(model, t, h):\n",
    "    return model.basin_height[t] <= model.max_basin_height[h] + 1e6 *  (1 - model.basin_state[t, h])\n",
    "\n",
    "@model.Constraint(model.T, model.H) # type: ignore\n",
    "def basin_min_state_height_constraint(model, t, h):\n",
    "    return model.basin_height[t] >= model.basin_state[t, h] * model.min_basin_height[h]\n",
    "\n",
    "@model.Constraint(model.T) # type: ignore\n",
    "def basin_max_height_constraint(model, t):\n",
    "    return model.basin_height[t] <=  model.max_basin_height[model.h_max]\n",
    "\n",
    "@model.Constraint(model.T) # type: ignore\n",
    "def basin_min_height_constraint(model, t):\n",
    "    return model.basin_height[t] >= model.min_basin_height[0]\n",
    "\n",
    "\n",
    "@model.Constraint(model.T) # type: ignore\n",
    "def basin_state_constraint(model, t):\n",
    "    return sum(model.basin_state[t, h] for h in model.H) == 1\n",
    "\n",
    "@model.Constraint(model.T) # type: ignore\n",
    "def basin_height_evolution(model, t):\n",
    "    if t == 0:\n",
    "        return model.basin_height[t] == model.start_basin_height\n",
    "    else:\n",
    "        return (\n",
    "            model.basin_height[t] == model.basin_height[t - 1] + \n",
    "            sum(\n",
    "                (model.discharge_volume[t- 1] * model.basin_state[t - 1, h] - model.basin_volume_state[t - 1, h]) * model.basin_dH_dV[h] \n",
    "                for h in model.H\n",
    "            )\n",
    "        )  \n",
    "        \n",
    "@model.Constraint() # type: ignore\n",
    "def basin_end_height_constraint(model):\n",
    "    return (\n",
    "        model.start_basin_height == model.basin_height[model.t_max] + \n",
    "        sum(\n",
    "            (model.discharge_volume[model.t_max- 1] * model.basin_state[model.t_max - 1, h] - model.basin_volume_state[model.t_max - 1, h]) * model.basin_dH_dV[h] \n",
    "            for h in model.H\n",
    "        )\n",
    "    )\n",
    "    \n",
    "# Basin volume constraints \n",
    "@model.Constraint(model.T, model.H) # type: ignore\n",
    "def volume_max_inactive_constraint(model, t, h):\n",
    "    return (\n",
    "        model.basin_volume_state[t, h] <= model.max_flow * model.nb_hours[t] * model.basin_state[t, h]\n",
    "    )\n",
    "    \n",
    "@model.Constraint(model.T, model.H) # type: ignore\n",
    "def volume_min_inactive_constraint(model, t, h):\n",
    "    return (\n",
    "        model.basin_volume_state[t, h] >= model.min_flow * model.nb_hours[t] * model.basin_state[t, h]\n",
    "    )\n",
    "\n",
    "@model.Constraint(model.T, model.H) # type: ignore\n",
    "def volume_max_active_constraint(model, t, h):\n",
    "    return (\n",
    "        model.basin_volume_state[t, h] <= model.V_tot[t]  - model.min_flow * model.nb_hours[t] * (1 - model.basin_state[t, h])\n",
    "    )\n",
    "\n",
    "@model.Constraint(model.T, model.H) # type: ignore\n",
    "def volume_min_active_constraint(model, t, h):\n",
    "    return (\n",
    "        model.basin_volume_state[t, h] >= model.V_tot[t]  - model.max_flow * model.nb_hours[t] * (1 - model.basin_state[t, h])\n",
    "    )\n",
    "\n",
    "@model.Constraint(model.T) # type: ignore\n",
    "def max_volume_constraint(model, t):\n",
    "    return (\n",
    "        model.V_tot[t] <= model.max_flow * model.nb_hours[t]\n",
    "    )\n",
    "\n",
    "@model.Constraint(model.T) # type: ignore\n",
    "def min_volume_constraint(model, t):\n",
    "    return (\n",
    "        model.V_tot[t] >= model.min_flow * model.nb_hours[t]\n",
    "    )\n"
   ]
  },
  {
   "cell_type": "code",
   "execution_count": null,
   "metadata": {},
   "outputs": [],
   "source": [
    "alpha = power_performance_table.select((c(\"electrical_power\")/c(\"flow\")).drop_nans().alias(\"alpha\")).mean()[\"alpha\"][0]\n",
    "max_flow = 0.8*power_performance_table.filter(c(\"flow\") > 0)[\"flow\"].min()*3600 # type: ignore\n",
    "min_flow = 0\n",
    "start_height = small_flex_input_schema.basin_height_measurement.filter(c(\"timestamp\") == min_datetime)[\"height\"][0]\n",
    "data: dict = {}\n",
    "\n",
    "sets: dict = {\n",
    "    \"T\": first_datetime_index[\"index\"].to_list(),\n",
    "    \"H\": basin_height[\"index\"].to_list(),\n",
    "}\n",
    "\n",
    "constant_params: dict =  {\n",
    "    \"t_max\": first_datetime_index.height - 1,\n",
    "    \"h_max\": basin_height.height - 1,\n",
    "    \"alpha\": alpha,\n",
    "    \"max_flow\": max_flow,\n",
    "    \"min_flow\": min_flow,\n",
    "    \"start_basin_height\": start_height,\n",
    "    \"basin_dH_dV_2\": basin_height[\"dx_dy\"][0]\n",
    "}\n",
    "\n",
    "set_params: dict = {\n",
    "    \"max_basin_height\": pl_to_dict(basin_height[[\"index\", \"max_height\"]]),\n",
    "    \"min_basin_height\": pl_to_dict(basin_height[[\"index\", \"min_height\"]]),\n",
    "    \"basin_dH_dV\": pl_to_dict(basin_height[[\"index\", \"dx_dy\"]]),\n",
    "    \"market_price\": pl_to_dict(market_price[[\"index\", \"avg\"]]),\n",
    "    \"nb_hours\": pl_to_dict(first_datetime_index[[\"index\", \"n_index\"]]),\n",
    "    \"discharge_volume\": pl_to_dict(discharge_volume[[\"index\", \"discharge_volume\"]])\n",
    "}\n",
    "\n",
    "data.update(dict(map(lambda set: (set[0], {None: set[1]}), sets.items())))\n",
    "data.update(dict(map(lambda constant_param: (constant_param[0], {None: constant_param[1]}), constant_params.items())))\n",
    "data.update(set_params)\n",
    "\n",
    "model_instance = model.create_instance({None: data})\n",
    "res = solver.solve(model_instance, load_solutions=True, tee=False)"
   ]
  },
  {
   "cell_type": "code",
   "execution_count": null,
   "metadata": {},
   "outputs": [],
   "source": [
    "result = pl.DataFrame({\n",
    "    col : getattr(model_instance, col).extract_values().values() for col in [\"basin_height\", \"V_tot\", \"market_price\"]\n",
    "}).with_row_index(name=\"index\")\n",
    "\n"
   ]
  },
  {
   "cell_type": "code",
   "execution_count": null,
   "metadata": {},
   "outputs": [
    {
     "data": {
      "text/plain": [
       "24.569510946149776"
      ]
     },
     "execution_count": 22,
     "metadata": {},
     "output_type": "execute_result"
    }
   ],
   "source": [
    "result[\"V_tot\"].sum()/1e6"
   ]
  },
  {
   "cell_type": "code",
   "execution_count": null,
   "metadata": {},
   "outputs": [
    {
     "data": {
      "application/vnd.plotly.v1+json": {
       "config": {
        "plotlyServerURL": "https://plot.ly"
       },
       "data": [
        {
         "legendgroup": "2020",
         "line": {
          "color": "#636EFA"
         },
         "mode": "lines",
         "name": "2020",
         "showlegend": false,
         "type": "scatter",
         "x": [
          0,
          1,
          2,
          3,
          4,
          5,
          6,
          7,
          8,
          9,
          10,
          11,
          12,
          13,
          14,
          15,
          16,
          17,
          18,
          19,
          20,
          21,
          22,
          23,
          24,
          25,
          26,
          27,
          28,
          29,
          30,
          31,
          32,
          33,
          34,
          35,
          36,
          37,
          38,
          39,
          40,
          41,
          42,
          43,
          44,
          45,
          46,
          47,
          48,
          49,
          50,
          51,
          52,
          53,
          54,
          55,
          56,
          57,
          58,
          59,
          60,
          61,
          62,
          63,
          64,
          65,
          66,
          67,
          68,
          69,
          70,
          71,
          72,
          73,
          74,
          75,
          76,
          77,
          78,
          79,
          80,
          81,
          82,
          83,
          84,
          85,
          86,
          87,
          88,
          89,
          90,
          91,
          92,
          93,
          94,
          95,
          96,
          97,
          98,
          99,
          100,
          101,
          102,
          103,
          104,
          105,
          106,
          107,
          108,
          109,
          110,
          111,
          112,
          113,
          114,
          115,
          116,
          117,
          118,
          119,
          120,
          121
         ],
         "xaxis": "x",
         "y": [
          37.050138888888874,
          38.14500000000002,
          45.618888888888904,
          41.682222222222215,
          43.388333333333335,
          42.56430555555557,
          44.55694444444445,
          50.17291666666668,
          42.16458333333334,
          41.2188888888889,
          37.16805555555555,
          35.93736111111111,
          37.918888888888894,
          32.65763888888889,
          35.37708333333333,
          31.64569444444444,
          34.649166666666666,
          29.51875000000001,
          33.931527777777774,
          34.313194444444456,
          31.931527777777767,
          36.44736111111112,
          29.79791666666667,
          32.219027777777775,
          25.34125,
          29.411666666666665,
          22.78805555555555,
          16.244583333333335,
          22.374722222222225,
          14.417323943661971,
          23.664583333333333,
          15.919999999999996,
          20.34166666666666,
          19.445000000000004,
          7.322500000000002,
          21.39680555555555,
          12.827222222222225,
          14.120000000000005,
          16.374444444444446,
          23.748472222222215,
          12.700138888888889,
          19.411944444444444,
          22.036666666666676,
          15.597916666666666,
          23.33319444444444,
          15.317916666666669,
          21.55333333333333,
          14.81944444444445,
          8.308055555555555,
          21.08277777777777,
          8.173472222222223,
          22.48722222222222,
          15.997777777777777,
          30.872222222222213,
          22.899722222222223,
          27.09777777777778,
          30.94777777777778,
          23.650833333333324,
          34.04208333333334,
          27.02347222222222,
          31.208472222222227,
          31.023611111111094,
          23.178611111111106,
          39.29597222222221,
          30.348333333333326,
          38.426527777777785,
          31.595138888888886,
          35.583750000000016,
          33.38513888888889,
          28.02194444444444,
          36.4213888888889,
          32.763749999999995,
          34.56319444444444,
          32.199861111111105,
          36.68236111111112,
          35.94583333333333,
          35.118472222222216,
          35.98791666666666,
          29.45833333333334,
          39.7875,
          38.069027777777784,
          50.47055555555555,
          40.155694444444435,
          41.64958333333334,
          46.57430555555556,
          42.31972222222223,
          54.93513888888888,
          41.971111111111114,
          54.00152777777779,
          40.330833333333345,
          46.18041666666668,
          46.01458333333335,
          26.32361111111111,
          35.41749999999999,
          35.37333333333333,
          46.2697222222222,
          44.81555555555556,
          41.85999999999998,
          45.01638888888888,
          31.804999999999993,
          37.08680555555557,
          28.51027777777778,
          34.866944444444435,
          39.31069444444445,
          41.67472222222222,
          42.23583333333333,
          30.31916666666666,
          40.82875000000001,
          40.57874999999999,
          47.81055555555556,
          54.94958333333332,
          55.10680555555557,
          59.058333333333344,
          51.55027777777778,
          74.60208333333333,
          49.755138888888894,
          53.591111111111125,
          53.791944444444454,
          48.22763888888892,
          38.44208333333333,
          33.03694444444445,
          49.2425
         ],
         "yaxis": "y"
        },
        {
         "legendgroup": "2020",
         "line": {
          "color": "#636EFA"
         },
         "mode": "lines",
         "name": "2020",
         "showlegend": false,
         "type": "scatter",
         "x": [
          0,
          1,
          2,
          3,
          4,
          5,
          6,
          7,
          8,
          9,
          10,
          11,
          12,
          13,
          14,
          15,
          16,
          17,
          18,
          19,
          20,
          21,
          22,
          23,
          24,
          25,
          26,
          27,
          28,
          29,
          30,
          31,
          32,
          33,
          34,
          35,
          36,
          37,
          38,
          39,
          40,
          41,
          42,
          43,
          44,
          45,
          46,
          47,
          48,
          49,
          50,
          51,
          52,
          53,
          54,
          55,
          56,
          57,
          58,
          59,
          60,
          61,
          62,
          63,
          64,
          65,
          66,
          67,
          68,
          69,
          70,
          71,
          72,
          73,
          74,
          75,
          76,
          77,
          78,
          79,
          80,
          81,
          82,
          83,
          84,
          85,
          86,
          87,
          88,
          89,
          90,
          91,
          92,
          93,
          94,
          95,
          96,
          97,
          98,
          99,
          100,
          101,
          102,
          103,
          104,
          105,
          106,
          107,
          108,
          109,
          110,
          111,
          112,
          113,
          114,
          115,
          116,
          117,
          118,
          119,
          120,
          121
         ],
         "xaxis": "x2",
         "y": [
          2380.58,
          2379.826551819241,
          2379.0686291926463,
          2378.30800071136,
          2377.5448100173044,
          2376.779710681221,
          2376.011621797652,
          2375.241345965833,
          2374.4689998948243,
          2373.6948044340797,
          2372.826924538112,
          2371.958068720224,
          2371.0889754615387,
          2370.2189223786136,
          2369.347213246738,
          2368.473858126964,
          2367.807594348323,
          2366.936903394782,
          2367,
          2366.136420197113,
          2365.118105325215,
          2364.0970803361274,
          2363.074609794507,
          2362.9707110305226,
          2361.9478244518314,
          2362.0066619656827,
          2362.0600369363015,
          2362.1116325845337,
          2362.160854235922,
          2362.2080873711425,
          2362.25372922333,
          2362.2981347167656,
          2362.34082905208,
          2362.399365702965,
          2362.4767156912126,
          2362.599949632316,
          2362.6940022161784,
          2362.8442151035897,
          2362.948586347,
          2363.0695074040495,
          2363.18511634935,
          2363.265966220073,
          2363.39338168631,
          2363.747671334072,
          2364.339250193076,
          2365.1613065377255,
          2366.080459353279,
          2367,
          2368.704640206843,
          2369.60824530718,
          2370.1541961517605,
          2370.5201648598395,
          2371.51014810511,
          2372.783062182368,
          2373.4952477437337,
          2373.8869465829484,
          2374.7624491563874,
          2375.6314217318954,
          2376.676404140035,
          2377.3857489942925,
          2378.54718729453,
          2379.9662330162664,
          2381.105254199175,
          2382.0942180535662,
          2382.304260628006,
          2383.1890212461794,
          2382.908857036103,
          2383.707436092598,
          2383.6487138593084,
          2384.353094339397,
          2384.976236335421,
          2384.9047551084795,
          2385.7177953153923,
          2385.383284184426,
          2386,
          2385.7775888198707,
          2385.5877053527993,
          2385.9144895846784,
          2385.57431177992,
          2386,
          2385.589604637582,
          2386,
          2385.682133376654,
          2386,
          2386,
          2385.5110504619206,
          2385.5827456332427,
          2385.0399626941407,
          2385.262670515358,
          2384.6567174503557,
          2384.9087030861638,
          2384.2090093033794,
          2383.75980189385,
          2385.564712908535,
          2385.8103064788493,
          2386,
          2385.3143723523503,
          2384.7584234922947,
          2384.879589043884,
          2384.208226834535,
          2384.358828206828,
          2384.468328238891,
          2384.6962646260404,
          2385.1261023021193,
          2385.3571287860987,
          2385.5018965008667,
          2385.62501378706,
          2385.7475187995647,
          2385.8809872817055,
          2386,
          2386,
          2385.2699223598315,
          2384.5316984272063,
          2383.787981986619,
          2383.045107646795,
          2382.29811437488,
          2381.8727406211647,
          2381.116207730158,
          2380.3554463800947,
          2380.415406109056,
          2380.472422974157,
          2380.5262114870784
         ],
         "yaxis": "y2"
        },
        {
         "marker": {
          "color": "#636EFA"
         },
         "showlegend": false,
         "type": "bar",
         "x": [
          0,
          1,
          2,
          3,
          4,
          5,
          6,
          7,
          8,
          9,
          10,
          11,
          12,
          13,
          14,
          15,
          16,
          17,
          18,
          19,
          20,
          21,
          22,
          23,
          24,
          25,
          26,
          27,
          28,
          29,
          30,
          31,
          32,
          33,
          34,
          35,
          36,
          37,
          38,
          39,
          40,
          41,
          42,
          43,
          44,
          45,
          46,
          47,
          48,
          49,
          50,
          51,
          52,
          53,
          54,
          55,
          56,
          57,
          58,
          59,
          60,
          61,
          62,
          63,
          64,
          65,
          66,
          67,
          68,
          69,
          70,
          71,
          72,
          73,
          74,
          75,
          76,
          77,
          78,
          79,
          80,
          81,
          82,
          83,
          84,
          85,
          86,
          87,
          88,
          89,
          90,
          91,
          92,
          93,
          94,
          95,
          96,
          97,
          98,
          99,
          100,
          101,
          102,
          103,
          104,
          105,
          106,
          107,
          108,
          109,
          110,
          111,
          112,
          113,
          114,
          115,
          116,
          117,
          118,
          119,
          120,
          121
         ],
         "xaxis": "x3",
         "y": [
          0.48207052800559996,
          0.48207052800000005,
          0.48207052800000005,
          0.48207052800000005,
          0.48207052800000005,
          0.48207052800000005,
          0.48207052800000005,
          0.48207052800000005,
          0.48207052800000005,
          0.4820705280000001,
          0.48207052800000005,
          0.48207052800000005,
          0.48207052799999994,
          0.482070528000116,
          0.48207052799999983,
          0.3757524077487514,
          0.48207052800000005,
          0,
          0.48207052800016426,
          0.4820705280000001,
          0.48207052800000005,
          0.4820705279999999,
          0.07082353635333512,
          0.48207052800000005,
          0,
          0,
          0,
          0,
          0,
          0,
          0,
          0,
          0,
          0,
          0,
          0,
          0,
          0,
          0,
          0,
          0,
          0,
          0,
          0,
          0,
          0,
          0,
          0,
          0,
          0,
          0,
          0,
          0,
          0,
          0,
          0,
          0,
          0,
          0.29702099604102594,
          0,
          0,
          0,
          0,
          0.48207052800000005,
          0,
          0.48207052800000005,
          0,
          0.48207052800000005,
          0,
          0,
          0.48207052800000005,
          0,
          0.48207052800000005,
          0,
          0.48207052800000005,
          0.48207052800000005,
          0.1015965660000226,
          0.4820705280000001,
          0,
          0.48207052799999994,
          0.39241462199989874,
          0.48207052799999994,
          0.07062742200007549,
          0.18799725,
          0.4820705280000001,
          0.1457841600006171,
          0.48207052800000005,
          0,
          0.48207052800000005,
          0,
          0.48207052800000005,
          0.4820705279999999,
          0,
          0,
          0,
          0.48207052800000005,
          0.39684479399979955,
          0,
          0.48207052800000005,
          0,
          0,
          0,
          0,
          0,
          0,
          0,
          0,
          0,
          0,
          0.06433770000000005,
          0.48207052800000005,
          0.48207052800000005,
          0.48207052800000005,
          0.48207052800000005,
          0.48207052800000005,
          0.2910672040008195,
          0.48207052799966676,
          0.48207052799986555,
          0,
          0,
          0,
          0.48207052800000005
         ],
         "yaxis": "y3"
        }
       ],
       "layout": {
        "annotations": [
         {
          "font": {
           "size": 16
          },
          "showarrow": false,
          "text": "Prece [EUR/MWh]",
          "textangle": 90,
          "x": 0.98,
          "xanchor": "left",
          "xref": "paper",
          "y": 0.85,
          "yanchor": "middle",
          "yref": "paper"
         },
         {
          "font": {
           "size": 16
          },
          "showarrow": false,
          "text": "Height [masl]",
          "textangle": 90,
          "x": 0.98,
          "xanchor": "left",
          "xref": "paper",
          "y": 0.49999999999999994,
          "yanchor": "middle",
          "yref": "paper"
         },
         {
          "font": {
           "size": 16
          },
          "showarrow": false,
          "text": "Volume [Mm3]",
          "textangle": 90,
          "x": 0.98,
          "xanchor": "left",
          "xref": "paper",
          "y": 0.15,
          "yanchor": "middle",
          "yref": "paper"
         },
         {
          "font": {
           "size": 16
          },
          "showarrow": false,
          "text": "<b>Week<b>",
          "x": 0.49,
          "xanchor": "center",
          "xref": "paper",
          "y": 0,
          "yanchor": "top",
          "yref": "paper",
          "yshift": -30
         }
        ],
        "autosize": true,
        "margin": {
         "b": 60,
         "l": 65,
         "r": 10,
         "t": 20
        },
        "template": {
         "data": {
          "candlestick": [
           {
            "decreasing": {
             "line": {
              "color": "#000033"
             }
            },
            "increasing": {
             "line": {
              "color": "#000032"
             }
            },
            "type": "candlestick"
           }
          ],
          "contour": [
           {
            "colorscale": [
             [
              0,
              "#000011"
             ],
             [
              0.1111111111111111,
              "#000012"
             ],
             [
              0.2222222222222222,
              "#000013"
             ],
             [
              0.3333333333333333,
              "#000014"
             ],
             [
              0.4444444444444444,
              "#000015"
             ],
             [
              0.5555555555555556,
              "#000016"
             ],
             [
              0.6666666666666666,
              "#000017"
             ],
             [
              0.7777777777777778,
              "#000018"
             ],
             [
              0.8888888888888888,
              "#000019"
             ],
             [
              1,
              "#000020"
             ]
            ],
            "type": "contour"
           }
          ],
          "contourcarpet": [
           {
            "colorscale": [
             [
              0,
              "#000011"
             ],
             [
              0.1111111111111111,
              "#000012"
             ],
             [
              0.2222222222222222,
              "#000013"
             ],
             [
              0.3333333333333333,
              "#000014"
             ],
             [
              0.4444444444444444,
              "#000015"
             ],
             [
              0.5555555555555556,
              "#000016"
             ],
             [
              0.6666666666666666,
              "#000017"
             ],
             [
              0.7777777777777778,
              "#000018"
             ],
             [
              0.8888888888888888,
              "#000019"
             ],
             [
              1,
              "#000020"
             ]
            ],
            "type": "contourcarpet"
           }
          ],
          "heatmap": [
           {
            "colorscale": [
             [
              0,
              "#000011"
             ],
             [
              0.1111111111111111,
              "#000012"
             ],
             [
              0.2222222222222222,
              "#000013"
             ],
             [
              0.3333333333333333,
              "#000014"
             ],
             [
              0.4444444444444444,
              "#000015"
             ],
             [
              0.5555555555555556,
              "#000016"
             ],
             [
              0.6666666666666666,
              "#000017"
             ],
             [
              0.7777777777777778,
              "#000018"
             ],
             [
              0.8888888888888888,
              "#000019"
             ],
             [
              1,
              "#000020"
             ]
            ],
            "type": "heatmap"
           }
          ],
          "histogram2d": [
           {
            "colorscale": [
             [
              0,
              "#000011"
             ],
             [
              0.1111111111111111,
              "#000012"
             ],
             [
              0.2222222222222222,
              "#000013"
             ],
             [
              0.3333333333333333,
              "#000014"
             ],
             [
              0.4444444444444444,
              "#000015"
             ],
             [
              0.5555555555555556,
              "#000016"
             ],
             [
              0.6666666666666666,
              "#000017"
             ],
             [
              0.7777777777777778,
              "#000018"
             ],
             [
              0.8888888888888888,
              "#000019"
             ],
             [
              1,
              "#000020"
             ]
            ],
            "type": "histogram2d"
           }
          ],
          "icicle": [
           {
            "textfont": {
             "color": "white"
            },
            "type": "icicle"
           }
          ],
          "sankey": [
           {
            "textfont": {
             "color": "#000036"
            },
            "type": "sankey"
           }
          ],
          "scatter": [
           {
            "marker": {
             "line": {
              "width": 0
             }
            },
            "type": "scatter"
           }
          ],
          "table": [
           {
            "cells": {
             "fill": {
              "color": "#000038"
             },
             "font": {
              "color": "#000037"
             },
             "line": {
              "color": "#000039"
             }
            },
            "header": {
             "fill": {
              "color": "#000040"
             },
             "font": {
              "color": "#000036"
             },
             "line": {
              "color": "#000039"
             }
            },
            "type": "table"
           }
          ],
          "waterfall": [
           {
            "connector": {
             "line": {
              "color": "#000036",
              "width": 2
             }
            },
            "decreasing": {
             "marker": {
              "color": "#000033"
             }
            },
            "increasing": {
             "marker": {
              "color": "#000032"
             }
            },
            "totals": {
             "marker": {
              "color": "#000034"
             }
            },
            "type": "waterfall"
           }
          ]
         },
         "layout": {
          "coloraxis": {
           "colorscale": [
            [
             0,
             "#000011"
            ],
            [
             0.1111111111111111,
             "#000012"
            ],
            [
             0.2222222222222222,
             "#000013"
            ],
            [
             0.3333333333333333,
             "#000014"
            ],
            [
             0.4444444444444444,
             "#000015"
            ],
            [
             0.5555555555555556,
             "#000016"
            ],
            [
             0.6666666666666666,
             "#000017"
            ],
            [
             0.7777777777777778,
             "#000018"
            ],
            [
             0.8888888888888888,
             "#000019"
            ],
            [
             1,
             "#000020"
            ]
           ]
          },
          "colorscale": {
           "diverging": [
            [
             0,
             "#000021"
            ],
            [
             0.1,
             "#000022"
            ],
            [
             0.2,
             "#000023"
            ],
            [
             0.3,
             "#000024"
            ],
            [
             0.4,
             "#000025"
            ],
            [
             0.5,
             "#000026"
            ],
            [
             0.6,
             "#000027"
            ],
            [
             0.7,
             "#000028"
            ],
            [
             0.8,
             "#000029"
            ],
            [
             0.9,
             "#000030"
            ],
            [
             1,
             "#000031"
            ]
           ],
           "sequential": [
            [
             0,
             "#000011"
            ],
            [
             0.1111111111111111,
             "#000012"
            ],
            [
             0.2222222222222222,
             "#000013"
            ],
            [
             0.3333333333333333,
             "#000014"
            ],
            [
             0.4444444444444444,
             "#000015"
            ],
            [
             0.5555555555555556,
             "#000016"
            ],
            [
             0.6666666666666666,
             "#000017"
            ],
            [
             0.7777777777777778,
             "#000018"
            ],
            [
             0.8888888888888888,
             "#000019"
            ],
            [
             1,
             "#000020"
            ]
           ],
           "sequentialminus": [
            [
             0,
             "#000011"
            ],
            [
             0.1111111111111111,
             "#000012"
            ],
            [
             0.2222222222222222,
             "#000013"
            ],
            [
             0.3333333333333333,
             "#000014"
            ],
            [
             0.4444444444444444,
             "#000015"
            ],
            [
             0.5555555555555556,
             "#000016"
            ],
            [
             0.6666666666666666,
             "#000017"
            ],
            [
             0.7777777777777778,
             "#000018"
            ],
            [
             0.8888888888888888,
             "#000019"
            ],
            [
             1,
             "#000020"
            ]
           ]
          },
          "colorway": [
           "#000001",
           "#000002",
           "#000003",
           "#000004",
           "#000005",
           "#000006",
           "#000007",
           "#000008",
           "#000009",
           "#000010"
          ]
         }
        },
        "xaxis": {
         "anchor": "y",
         "domain": [
          0,
          0.98
         ],
         "matches": "x3",
         "showticklabels": false
        },
        "xaxis2": {
         "anchor": "y2",
         "domain": [
          0,
          0.98
         ],
         "matches": "x3",
         "showticklabels": false
        },
        "xaxis3": {
         "anchor": "y3",
         "domain": [
          0,
          0.98
         ]
        },
        "yaxis": {
         "anchor": "x",
         "domain": [
          0.7,
          1
         ]
        },
        "yaxis2": {
         "anchor": "x2",
         "domain": [
          0.35,
          0.6499999999999999
         ]
        },
        "yaxis3": {
         "anchor": "x3",
         "domain": [
          0,
          0.3
         ]
        }
       }
      },
      "text/html": [
       "<div>                            <div id=\"ab327780-c88c-4eaf-a112-d31ad5821767\" class=\"plotly-graph-div\" style=\"height:525px; width:100%;\"></div>            <script type=\"text/javascript\">                require([\"plotly\"], function(Plotly) {                    window.PLOTLYENV=window.PLOTLYENV || {};                                    if (document.getElementById(\"ab327780-c88c-4eaf-a112-d31ad5821767\")) {                    Plotly.newPlot(                        \"ab327780-c88c-4eaf-a112-d31ad5821767\",                        [{\"legendgroup\":\"2020\",\"line\":{\"color\":\"#636EFA\"},\"mode\":\"lines\",\"name\":\"2020\",\"showlegend\":false,\"x\":[0,1,2,3,4,5,6,7,8,9,10,11,12,13,14,15,16,17,18,19,20,21,22,23,24,25,26,27,28,29,30,31,32,33,34,35,36,37,38,39,40,41,42,43,44,45,46,47,48,49,50,51,52,53,54,55,56,57,58,59,60,61,62,63,64,65,66,67,68,69,70,71,72,73,74,75,76,77,78,79,80,81,82,83,84,85,86,87,88,89,90,91,92,93,94,95,96,97,98,99,100,101,102,103,104,105,106,107,108,109,110,111,112,113,114,115,116,117,118,119,120,121],\"y\":[37.050138888888874,38.14500000000002,45.618888888888904,41.682222222222215,43.388333333333335,42.56430555555557,44.55694444444445,50.17291666666668,42.16458333333334,41.2188888888889,37.16805555555555,35.93736111111111,37.918888888888894,32.65763888888889,35.37708333333333,31.64569444444444,34.649166666666666,29.51875000000001,33.931527777777774,34.313194444444456,31.931527777777767,36.44736111111112,29.79791666666667,32.219027777777775,25.34125,29.411666666666665,22.78805555555555,16.244583333333335,22.374722222222225,14.417323943661971,23.664583333333333,15.919999999999996,20.34166666666666,19.445000000000004,7.322500000000002,21.39680555555555,12.827222222222225,14.120000000000005,16.374444444444446,23.748472222222215,12.700138888888889,19.411944444444444,22.036666666666676,15.597916666666666,23.33319444444444,15.317916666666669,21.55333333333333,14.81944444444445,8.308055555555555,21.08277777777777,8.173472222222223,22.48722222222222,15.997777777777777,30.872222222222213,22.899722222222223,27.09777777777778,30.94777777777778,23.650833333333324,34.04208333333334,27.02347222222222,31.208472222222227,31.023611111111094,23.178611111111106,39.29597222222221,30.348333333333326,38.426527777777785,31.595138888888886,35.583750000000016,33.38513888888889,28.02194444444444,36.4213888888889,32.763749999999995,34.56319444444444,32.199861111111105,36.68236111111112,35.94583333333333,35.118472222222216,35.98791666666666,29.45833333333334,39.7875,38.069027777777784,50.47055555555555,40.155694444444435,41.64958333333334,46.57430555555556,42.31972222222223,54.93513888888888,41.971111111111114,54.00152777777779,40.330833333333345,46.18041666666668,46.01458333333335,26.32361111111111,35.41749999999999,35.37333333333333,46.2697222222222,44.81555555555556,41.85999999999998,45.01638888888888,31.804999999999993,37.08680555555557,28.51027777777778,34.866944444444435,39.31069444444445,41.67472222222222,42.23583333333333,30.31916666666666,40.82875000000001,40.57874999999999,47.81055555555556,54.94958333333332,55.10680555555557,59.058333333333344,51.55027777777778,74.60208333333333,49.755138888888894,53.591111111111125,53.791944444444454,48.22763888888892,38.44208333333333,33.03694444444445,49.2425],\"type\":\"scatter\",\"xaxis\":\"x\",\"yaxis\":\"y\"},{\"legendgroup\":\"2020\",\"line\":{\"color\":\"#636EFA\"},\"mode\":\"lines\",\"name\":\"2020\",\"showlegend\":false,\"x\":[0,1,2,3,4,5,6,7,8,9,10,11,12,13,14,15,16,17,18,19,20,21,22,23,24,25,26,27,28,29,30,31,32,33,34,35,36,37,38,39,40,41,42,43,44,45,46,47,48,49,50,51,52,53,54,55,56,57,58,59,60,61,62,63,64,65,66,67,68,69,70,71,72,73,74,75,76,77,78,79,80,81,82,83,84,85,86,87,88,89,90,91,92,93,94,95,96,97,98,99,100,101,102,103,104,105,106,107,108,109,110,111,112,113,114,115,116,117,118,119,120,121],\"y\":[2380.58,2379.826551819241,2379.0686291926463,2378.30800071136,2377.5448100173044,2376.779710681221,2376.011621797652,2375.241345965833,2374.4689998948243,2373.6948044340797,2372.826924538112,2371.958068720224,2371.0889754615387,2370.2189223786136,2369.347213246738,2368.473858126964,2367.807594348323,2366.936903394782,2367.0,2366.136420197113,2365.118105325215,2364.0970803361274,2363.074609794507,2362.9707110305226,2361.9478244518314,2362.0066619656827,2362.0600369363015,2362.1116325845337,2362.160854235922,2362.2080873711425,2362.25372922333,2362.2981347167656,2362.34082905208,2362.399365702965,2362.4767156912126,2362.599949632316,2362.6940022161784,2362.8442151035897,2362.948586347,2363.0695074040495,2363.18511634935,2363.265966220073,2363.39338168631,2363.747671334072,2364.339250193076,2365.1613065377255,2366.080459353279,2367.0,2368.704640206843,2369.60824530718,2370.1541961517605,2370.5201648598395,2371.51014810511,2372.783062182368,2373.4952477437337,2373.8869465829484,2374.7624491563874,2375.6314217318954,2376.676404140035,2377.3857489942925,2378.54718729453,2379.9662330162664,2381.105254199175,2382.0942180535662,2382.304260628006,2383.1890212461794,2382.908857036103,2383.707436092598,2383.6487138593084,2384.353094339397,2384.976236335421,2384.9047551084795,2385.7177953153923,2385.383284184426,2386.0,2385.7775888198707,2385.5877053527993,2385.9144895846784,2385.57431177992,2386.0,2385.589604637582,2386.0,2385.682133376654,2386.0,2386.0,2385.5110504619206,2385.5827456332427,2385.0399626941407,2385.262670515358,2384.6567174503557,2384.9087030861638,2384.2090093033794,2383.75980189385,2385.564712908535,2385.8103064788493,2386.0,2385.3143723523503,2384.7584234922947,2384.879589043884,2384.208226834535,2384.358828206828,2384.468328238891,2384.6962646260404,2385.1261023021193,2385.3571287860987,2385.5018965008667,2385.62501378706,2385.7475187995647,2385.8809872817055,2386.0,2386.0,2385.2699223598315,2384.5316984272063,2383.787981986619,2383.045107646795,2382.29811437488,2381.8727406211647,2381.116207730158,2380.3554463800947,2380.415406109056,2380.472422974157,2380.5262114870784],\"type\":\"scatter\",\"xaxis\":\"x2\",\"yaxis\":\"y2\"},{\"marker\":{\"color\":\"#636EFA\"},\"showlegend\":false,\"x\":[0,1,2,3,4,5,6,7,8,9,10,11,12,13,14,15,16,17,18,19,20,21,22,23,24,25,26,27,28,29,30,31,32,33,34,35,36,37,38,39,40,41,42,43,44,45,46,47,48,49,50,51,52,53,54,55,56,57,58,59,60,61,62,63,64,65,66,67,68,69,70,71,72,73,74,75,76,77,78,79,80,81,82,83,84,85,86,87,88,89,90,91,92,93,94,95,96,97,98,99,100,101,102,103,104,105,106,107,108,109,110,111,112,113,114,115,116,117,118,119,120,121],\"y\":[0.48207052800559996,0.48207052800000005,0.48207052800000005,0.48207052800000005,0.48207052800000005,0.48207052800000005,0.48207052800000005,0.48207052800000005,0.48207052800000005,0.4820705280000001,0.48207052800000005,0.48207052800000005,0.48207052799999994,0.482070528000116,0.48207052799999983,0.3757524077487514,0.48207052800000005,0.0,0.48207052800016426,0.4820705280000001,0.48207052800000005,0.4820705279999999,0.07082353635333512,0.48207052800000005,0.0,0.0,0.0,0.0,0.0,0.0,0.0,0.0,0.0,0.0,0.0,0.0,0.0,0.0,0.0,0.0,0.0,0.0,0.0,0.0,0.0,0.0,0.0,0.0,0.0,0.0,0.0,0.0,0.0,0.0,0.0,0.0,0.0,0.0,0.29702099604102594,0.0,0.0,0.0,0.0,0.48207052800000005,0.0,0.48207052800000005,0.0,0.48207052800000005,0.0,0.0,0.48207052800000005,0.0,0.48207052800000005,0.0,0.48207052800000005,0.48207052800000005,0.1015965660000226,0.4820705280000001,0.0,0.48207052799999994,0.39241462199989874,0.48207052799999994,0.07062742200007549,0.18799725,0.4820705280000001,0.1457841600006171,0.48207052800000005,0.0,0.48207052800000005,0.0,0.48207052800000005,0.4820705279999999,0.0,0.0,0.0,0.48207052800000005,0.39684479399979955,0.0,0.48207052800000005,0.0,0.0,0.0,0.0,0.0,0.0,0.0,0.0,0.0,0.0,0.06433770000000005,0.48207052800000005,0.48207052800000005,0.48207052800000005,0.48207052800000005,0.48207052800000005,0.2910672040008195,0.48207052799966676,0.48207052799986555,0.0,0.0,0.0,0.48207052800000005],\"type\":\"bar\",\"xaxis\":\"x3\",\"yaxis\":\"y3\"}],                        {\"template\":{\"data\":{\"candlestick\":[{\"decreasing\":{\"line\":{\"color\":\"#000033\"}},\"increasing\":{\"line\":{\"color\":\"#000032\"}},\"type\":\"candlestick\"}],\"contourcarpet\":[{\"colorscale\":[[0.0,\"#000011\"],[0.1111111111111111,\"#000012\"],[0.2222222222222222,\"#000013\"],[0.3333333333333333,\"#000014\"],[0.4444444444444444,\"#000015\"],[0.5555555555555556,\"#000016\"],[0.6666666666666666,\"#000017\"],[0.7777777777777778,\"#000018\"],[0.8888888888888888,\"#000019\"],[1.0,\"#000020\"]],\"type\":\"contourcarpet\"}],\"contour\":[{\"colorscale\":[[0.0,\"#000011\"],[0.1111111111111111,\"#000012\"],[0.2222222222222222,\"#000013\"],[0.3333333333333333,\"#000014\"],[0.4444444444444444,\"#000015\"],[0.5555555555555556,\"#000016\"],[0.6666666666666666,\"#000017\"],[0.7777777777777778,\"#000018\"],[0.8888888888888888,\"#000019\"],[1.0,\"#000020\"]],\"type\":\"contour\"}],\"heatmap\":[{\"colorscale\":[[0.0,\"#000011\"],[0.1111111111111111,\"#000012\"],[0.2222222222222222,\"#000013\"],[0.3333333333333333,\"#000014\"],[0.4444444444444444,\"#000015\"],[0.5555555555555556,\"#000016\"],[0.6666666666666666,\"#000017\"],[0.7777777777777778,\"#000018\"],[0.8888888888888888,\"#000019\"],[1.0,\"#000020\"]],\"type\":\"heatmap\"}],\"histogram2d\":[{\"colorscale\":[[0.0,\"#000011\"],[0.1111111111111111,\"#000012\"],[0.2222222222222222,\"#000013\"],[0.3333333333333333,\"#000014\"],[0.4444444444444444,\"#000015\"],[0.5555555555555556,\"#000016\"],[0.6666666666666666,\"#000017\"],[0.7777777777777778,\"#000018\"],[0.8888888888888888,\"#000019\"],[1.0,\"#000020\"]],\"type\":\"histogram2d\"}],\"icicle\":[{\"textfont\":{\"color\":\"white\"},\"type\":\"icicle\"}],\"sankey\":[{\"textfont\":{\"color\":\"#000036\"},\"type\":\"sankey\"}],\"scatter\":[{\"marker\":{\"line\":{\"width\":0}},\"type\":\"scatter\"}],\"table\":[{\"cells\":{\"fill\":{\"color\":\"#000038\"},\"font\":{\"color\":\"#000037\"},\"line\":{\"color\":\"#000039\"}},\"header\":{\"fill\":{\"color\":\"#000040\"},\"font\":{\"color\":\"#000036\"},\"line\":{\"color\":\"#000039\"}},\"type\":\"table\"}],\"waterfall\":[{\"connector\":{\"line\":{\"color\":\"#000036\",\"width\":2}},\"decreasing\":{\"marker\":{\"color\":\"#000033\"}},\"increasing\":{\"marker\":{\"color\":\"#000032\"}},\"totals\":{\"marker\":{\"color\":\"#000034\"}},\"type\":\"waterfall\"}]},\"layout\":{\"coloraxis\":{\"colorscale\":[[0.0,\"#000011\"],[0.1111111111111111,\"#000012\"],[0.2222222222222222,\"#000013\"],[0.3333333333333333,\"#000014\"],[0.4444444444444444,\"#000015\"],[0.5555555555555556,\"#000016\"],[0.6666666666666666,\"#000017\"],[0.7777777777777778,\"#000018\"],[0.8888888888888888,\"#000019\"],[1.0,\"#000020\"]]},\"colorscale\":{\"diverging\":[[0.0,\"#000021\"],[0.1,\"#000022\"],[0.2,\"#000023\"],[0.3,\"#000024\"],[0.4,\"#000025\"],[0.5,\"#000026\"],[0.6,\"#000027\"],[0.7,\"#000028\"],[0.8,\"#000029\"],[0.9,\"#000030\"],[1.0,\"#000031\"]],\"sequential\":[[0.0,\"#000011\"],[0.1111111111111111,\"#000012\"],[0.2222222222222222,\"#000013\"],[0.3333333333333333,\"#000014\"],[0.4444444444444444,\"#000015\"],[0.5555555555555556,\"#000016\"],[0.6666666666666666,\"#000017\"],[0.7777777777777778,\"#000018\"],[0.8888888888888888,\"#000019\"],[1.0,\"#000020\"]],\"sequentialminus\":[[0.0,\"#000011\"],[0.1111111111111111,\"#000012\"],[0.2222222222222222,\"#000013\"],[0.3333333333333333,\"#000014\"],[0.4444444444444444,\"#000015\"],[0.5555555555555556,\"#000016\"],[0.6666666666666666,\"#000017\"],[0.7777777777777778,\"#000018\"],[0.8888888888888888,\"#000019\"],[1.0,\"#000020\"]]},\"colorway\":[\"#000001\",\"#000002\",\"#000003\",\"#000004\",\"#000005\",\"#000006\",\"#000007\",\"#000008\",\"#000009\",\"#000010\"]}},\"xaxis\":{\"anchor\":\"y\",\"domain\":[0.0,0.98],\"matches\":\"x3\",\"showticklabels\":false},\"yaxis\":{\"anchor\":\"x\",\"domain\":[0.7,1.0]},\"xaxis2\":{\"anchor\":\"y2\",\"domain\":[0.0,0.98],\"matches\":\"x3\",\"showticklabels\":false},\"yaxis2\":{\"anchor\":\"x2\",\"domain\":[0.35,0.6499999999999999]},\"xaxis3\":{\"anchor\":\"y3\",\"domain\":[0.0,0.98]},\"yaxis3\":{\"anchor\":\"x3\",\"domain\":[0.0,0.3]},\"annotations\":[{\"font\":{\"size\":16},\"showarrow\":false,\"text\":\"Prece [EUR\\u002fMWh]\",\"textangle\":90,\"x\":0.98,\"xanchor\":\"left\",\"xref\":\"paper\",\"y\":0.85,\"yanchor\":\"middle\",\"yref\":\"paper\"},{\"font\":{\"size\":16},\"showarrow\":false,\"text\":\"Height [masl]\",\"textangle\":90,\"x\":0.98,\"xanchor\":\"left\",\"xref\":\"paper\",\"y\":0.49999999999999994,\"yanchor\":\"middle\",\"yref\":\"paper\"},{\"font\":{\"size\":16},\"showarrow\":false,\"text\":\"Volume [Mm3]\",\"textangle\":90,\"x\":0.98,\"xanchor\":\"left\",\"xref\":\"paper\",\"y\":0.15,\"yanchor\":\"middle\",\"yref\":\"paper\"},{\"font\":{\"size\":16},\"showarrow\":false,\"text\":\"\\u003cb\\u003eWeek\\u003cb\\u003e\",\"x\":0.49,\"xanchor\":\"center\",\"xref\":\"paper\",\"y\":0,\"yanchor\":\"top\",\"yref\":\"paper\",\"yshift\":-30}],\"margin\":{\"t\":20,\"l\":65,\"r\":10,\"b\":60},\"autosize\":true},                        {\"responsive\": true}                    ).then(function(){\n",
       "                            \n",
       "var gd = document.getElementById('ab327780-c88c-4eaf-a112-d31ad5821767');\n",
       "var x = new MutationObserver(function (mutations, observer) {{\n",
       "        var display = window.getComputedStyle(gd).display;\n",
       "        if (!display || display === 'none') {{\n",
       "            console.log([gd, 'removed!']);\n",
       "            Plotly.purge(gd);\n",
       "            observer.disconnect();\n",
       "        }}\n",
       "}});\n",
       "\n",
       "// Listen for the removal of the full notebook cells\n",
       "var notebookContainer = gd.closest('#notebook-container');\n",
       "if (notebookContainer) {{\n",
       "    x.observe(notebookContainer, {childList: true});\n",
       "}}\n",
       "\n",
       "// Listen for the clearing of the current output cell\n",
       "var outputEl = gd.closest('.output');\n",
       "if (outputEl) {{\n",
       "    x.observe(outputEl, {childList: true});\n",
       "}}\n",
       "\n",
       "                        })                };                });            </script>        </div>"
      ]
     },
     "metadata": {},
     "output_type": "display_data"
    }
   ],
   "source": []
  }
 ],
 "metadata": {
  "kernelspec": {
   "display_name": ".venv",
   "language": "python",
   "name": "python3"
  },
  "language_info": {
   "codemirror_mode": {
    "name": "ipython",
    "version": 3
   },
   "file_extension": ".py",
   "mimetype": "text/x-python",
   "name": "python",
   "nbconvert_exporter": "python",
   "pygments_lexer": "ipython3",
   "version": "3.12.7"
  }
 },
 "nbformat": 4,
 "nbformat_minor": 2
}
