{
 "cells": [
  {
   "cell_type": "code",
   "execution_count": 1,
   "metadata": {},
   "outputs": [],
   "source": [
    "import json\n",
    "from config import settings\n",
    "import os\n",
    "import polars as pl\n",
    "from polars import col as c\n",
    "import polars.selectors as cs\n",
    "\n",
    "from data_federation.input_model import SmallflexInputSchema\n",
    "\n",
    "from data_federation.parser.market_price import parse_market_price\n",
    "from utility.general_function import dictionary_key_filtering\n",
    "os.chdir(os.getcwd().replace(\"/src\", \"\"))\n",
    "\n"
   ]
  },
  {
   "cell_type": "code",
   "execution_count": 2,
   "metadata": {},
   "outputs": [],
   "source": [
    "input_file_names: dict[str, str] = json.load(open(settings.INPUT_FILE_NAMES))\n",
    "market_price_metadata: dict = json.load(open(input_file_names[\"market_price_metadata\"]))\n",
    "small_flex_input_schema: SmallflexInputSchema = SmallflexInputSchema()"
   ]
  },
  {
   "cell_type": "code",
   "execution_count": 3,
   "metadata": {},
   "outputs": [
    {
     "data": {
      "text/plain": [
       "SmallflexInputSchema(market_price=shape: (1_663_990, 9)\n",
       "┌─────────────────────────┬──────────┬───────────┬─────────┬───┬─────────┬──────┬──────────┬──────┐\n",
       "│ timestamp               ┆ market   ┆ direction ┆ country ┆ … ┆ unit    ┆ max  ┆ mean     ┆ min  │\n",
       "│ ---                     ┆ ---      ┆ ---       ┆ ---     ┆   ┆ ---     ┆ ---  ┆ ---      ┆ ---  │\n",
       "│ datetime[μs, UTC]       ┆ str      ┆ str       ┆ str     ┆   ┆ str     ┆ f64  ┆ f64      ┆ f64  │\n",
       "╞═════════════════════════╪══════════╪═══════════╪═════════╪═══╪═════════╪══════╪══════════╪══════╡\n",
       "│ 2019-12-25 08:00:00 UTC ┆ mFRR-cap ┆ neg       ┆ AT      ┆ … ┆ EUR/MWh ┆ 1.84 ┆ 0.289282 ┆ 0.0  │\n",
       "│ 2019-12-12 12:00:00 UTC ┆ aFRR-cap ┆ pos       ┆ AT      ┆ … ┆ EUR/MWh ┆ 1.79 ┆ 1.315441 ┆ 0.0  │\n",
       "│ 2019-12-30 00:00:00 UTC ┆ mFRR-cap ┆ neg       ┆ AT      ┆ … ┆ EUR/MWh ┆ 5.24 ┆ 4.430974 ┆ 0.0  │\n",
       "│ 2019-12-14 12:00:00 UTC ┆ aFRR-cap ┆ pos       ┆ AT      ┆ … ┆ EUR/MWh ┆ 1.44 ┆ 0.965686 ┆ 0.0  │\n",
       "│ 2019-12-20 00:00:00 UTC ┆ aFRR-cap ┆ neg       ┆ AT      ┆ … ┆ EUR/MWh ┆ 10.0 ┆ 5.14115  ┆ 2.0  │\n",
       "│ …                       ┆ …        ┆ …         ┆ …       ┆ … ┆ …       ┆ …    ┆ …        ┆ …    │\n",
       "│ 2023-12-30 21:30:00 UTC ┆ IDA      ┆ sym       ┆ FR      ┆ … ┆ EUR/MWh ┆ null ┆ 19.75    ┆ null │\n",
       "│ 2023-12-30 22:00:00 UTC ┆ IDA      ┆ sym       ┆ FR      ┆ … ┆ EUR/MWh ┆ null ┆ 44.75    ┆ null │\n",
       "│ 2023-12-30 22:30:00 UTC ┆ IDA      ┆ sym       ┆ FR      ┆ … ┆ EUR/MWh ┆ null ┆ 51.35    ┆ null │\n",
       "│ 2023-12-30 23:00:00 UTC ┆ IDA      ┆ sym       ┆ FR      ┆ … ┆ EUR/MWh ┆ null ┆ 44.5     ┆ null │\n",
       "│ 2023-12-30 23:30:00 UTC ┆ IDA      ┆ sym       ┆ FR      ┆ … ┆ EUR/MWh ┆ null ┆ 42.2     ┆ null │\n",
       "└─────────────────────────┴──────────┴───────────┴─────────┴───┴─────────┴──────┴──────────┴──────┘)"
      ]
     },
     "execution_count": 3,
     "metadata": {},
     "output_type": "execute_result"
    }
   ],
   "source": [
    "\n",
    "kwargs: dict = {\"small_flex_input_schema\": small_flex_input_schema, \"input_file_names\": input_file_names}\n",
    "kwargs[\"small_flex_input_schema\"] = parse_market_price(**kwargs)\n",
    "kwargs[\"small_flex_input_schema\"]"
   ]
  },
  {
   "cell_type": "code",
   "execution_count": 4,
   "metadata": {},
   "outputs": [
    {
     "ename": "InvalidOperationError",
     "evalue": "conversion from `str` to `datetime[μs, UTC]` failed in column 'timestamp' for 5760 out of 5760 values: [\"2023-11-01 001 00\", \"2023-11-01 002 00\", … \"2023-11-30 096 00\"]\n\nYou might want to try:\n- setting `strict=False` to set values that cannot be converted to `null`\n- using `str.strptime`, `str.to_date`, or `str.to_datetime` and providing a format string",
     "output_type": "error",
     "traceback": [
      "\u001b[0;31m---------------------------------------------------------------------------\u001b[0m",
      "\u001b[0;31mInvalidOperationError\u001b[0m                     Traceback (most recent call last)",
      "Cell \u001b[0;32mIn[4], line 15\u001b[0m\n\u001b[1;32m      8\u001b[0m     \u001b[38;5;28;01mcontinue\u001b[39;00m\n\u001b[1;32m      9\u001b[0m col_mapping \u001b[38;5;241m=\u001b[39m dictionary_key_filtering(market_price_metadata[name][\u001b[38;5;124m\"\u001b[39m\u001b[38;5;124mcol_mapping\u001b[39m\u001b[38;5;124m\"\u001b[39m], data\u001b[38;5;241m.\u001b[39mcolumns)\n\u001b[1;32m     10\u001b[0m data \u001b[38;5;241m=\u001b[39m \u001b[43mdata\u001b[49m\u001b[43m[\u001b[49m\u001b[38;5;28;43mlist\u001b[39;49m\u001b[43m(\u001b[49m\u001b[43mcol_mapping\u001b[49m\u001b[38;5;241;43m.\u001b[39;49m\u001b[43mkeys\u001b[49m\u001b[43m(\u001b[49m\u001b[43m)\u001b[49m\u001b[43m)\u001b[49m\u001b[43m]\u001b[49m\u001b[38;5;241;43m.\u001b[39;49m\u001b[43mrename\u001b[49m\u001b[43m(\u001b[49m\u001b[43mcol_mapping\u001b[49m\u001b[43m)\u001b[49m\u001b[38;5;241;43m.\u001b[39;49m\u001b[43mwith_columns\u001b[49m\u001b[43m(\u001b[49m\n\u001b[1;32m     11\u001b[0m \u001b[43m    \u001b[49m\u001b[43mc\u001b[49m\u001b[43m(\u001b[49m\u001b[38;5;124;43m\"\u001b[39;49m\u001b[38;5;124;43mmin\u001b[39;49m\u001b[38;5;124;43m\"\u001b[39;49m\u001b[43m,\u001b[49m\u001b[43m \u001b[49m\u001b[38;5;124;43m\"\u001b[39;49m\u001b[38;5;124;43mmean\u001b[39;49m\u001b[38;5;124;43m\"\u001b[39;49m\u001b[43m,\u001b[49m\u001b[43m \u001b[49m\u001b[38;5;124;43m\"\u001b[39;49m\u001b[38;5;124;43mmax\u001b[39;49m\u001b[38;5;124;43m\"\u001b[39;49m\u001b[43m)\u001b[49m\u001b[38;5;241;43m.\u001b[39;49m\u001b[43mcast\u001b[49m\u001b[43m(\u001b[49m\u001b[43mpl\u001b[49m\u001b[38;5;241;43m.\u001b[39;49m\u001b[43mFloat64\u001b[49m\u001b[43m)\u001b[49m\u001b[43m,\u001b[49m\n\u001b[1;32m     12\u001b[0m \u001b[43m    \u001b[49m\u001b[43mpl\u001b[49m\u001b[38;5;241;43m.\u001b[39;49m\u001b[43mcol\u001b[49m\u001b[43m(\u001b[49m\u001b[38;5;124;43m\"\u001b[39;49m\u001b[38;5;124;43mmetadata\u001b[39;49m\u001b[38;5;124;43m\"\u001b[39;49m\u001b[43m)\u001b[49m\u001b[38;5;241;43m.\u001b[39;49m\u001b[43mstr\u001b[49m\u001b[38;5;241;43m.\u001b[39;49m\u001b[43msplit\u001b[49m\u001b[43m(\u001b[49m\u001b[38;5;124;43m\"\u001b[39;49m\u001b[38;5;124;43m_\u001b[39;49m\u001b[38;5;124;43m\"\u001b[39;49m\u001b[43m)\u001b[49m\u001b[38;5;241;43m.\u001b[39;49m\u001b[43mlist\u001b[49m\u001b[38;5;241;43m.\u001b[39;49m\u001b[43mslice\u001b[49m\u001b[43m(\u001b[49m\u001b[43moffset\u001b[49m\u001b[38;5;241;43m=\u001b[39;49m\u001b[38;5;241;43m0\u001b[39;49m\u001b[43m,\u001b[49m\u001b[43m \u001b[49m\u001b[43mlength\u001b[49m\u001b[38;5;241;43m=\u001b[39;49m\u001b[38;5;241;43m2\u001b[39;49m\u001b[43m)\u001b[49m\n\u001b[1;32m     13\u001b[0m \u001b[43m    \u001b[49m\u001b[38;5;241;43m.\u001b[39;49m\u001b[43mlist\u001b[49m\u001b[38;5;241;43m.\u001b[39;49m\u001b[43mto_struct\u001b[49m\u001b[43m(\u001b[49m\u001b[43mfields\u001b[49m\u001b[38;5;241;43m=\u001b[39;49m\u001b[43m[\u001b[49m\u001b[38;5;124;43m\"\u001b[39;49m\u001b[38;5;124;43mdirection\u001b[39;49m\u001b[38;5;124;43m\"\u001b[39;49m\u001b[43m,\u001b[49m\u001b[43m \u001b[49m\u001b[38;5;124;43m\"\u001b[39;49m\u001b[38;5;124;43mhour\u001b[39;49m\u001b[38;5;124;43m\"\u001b[39;49m\u001b[43m]\u001b[49m\u001b[43m)\u001b[49m\n\u001b[1;32m     14\u001b[0m \u001b[43m\u001b[49m\u001b[43m)\u001b[49m\u001b[38;5;241;43m.\u001b[39;49m\u001b[43munnest\u001b[49m\u001b[43m(\u001b[49m\u001b[38;5;124;43m\"\u001b[39;49m\u001b[38;5;124;43mmetadata\u001b[39;49m\u001b[38;5;124;43m\"\u001b[39;49m\u001b[43m)\u001b[49m\u001b[43m\\\u001b[49m\n\u001b[0;32m---> 15\u001b[0m \u001b[43m\u001b[49m\u001b[38;5;241;43m.\u001b[39;49m\u001b[43mwith_columns\u001b[49m\u001b[43m(\u001b[49m\n\u001b[1;32m     16\u001b[0m \u001b[43m    \u001b[49m\u001b[43mpl\u001b[49m\u001b[38;5;241;43m.\u001b[39;49m\u001b[43mconcat_str\u001b[49m\u001b[43m(\u001b[49m\u001b[43m[\u001b[49m\u001b[38;5;124;43m\"\u001b[39;49m\u001b[38;5;124;43mtimestamp\u001b[39;49m\u001b[38;5;124;43m\"\u001b[39;49m\u001b[43m,\u001b[49m\u001b[43m \u001b[49m\u001b[38;5;124;43m\"\u001b[39;49m\u001b[38;5;124;43mhour\u001b[39;49m\u001b[38;5;124;43m\"\u001b[39;49m\u001b[43m,\u001b[49m\u001b[43m \u001b[49m\u001b[43mpl\u001b[49m\u001b[38;5;241;43m.\u001b[39;49m\u001b[43mlit\u001b[49m\u001b[43m(\u001b[49m\u001b[38;5;124;43m\"\u001b[39;49m\u001b[38;5;124;43m00\u001b[39;49m\u001b[38;5;124;43m\"\u001b[39;49m\u001b[43m)\u001b[49m\u001b[43m]\u001b[49m\u001b[43m,\u001b[49m\u001b[43m \u001b[49m\u001b[43mseparator\u001b[49m\u001b[38;5;241;43m=\u001b[39;49m\u001b[38;5;124;43m\"\u001b[39;49m\u001b[38;5;124;43m \u001b[39;49m\u001b[38;5;124;43m\"\u001b[39;49m\u001b[43m)\u001b[49m\u001b[38;5;241;43m.\u001b[39;49m\u001b[43mstr\u001b[49m\u001b[38;5;241;43m.\u001b[39;49m\u001b[43mto_datetime\u001b[49m\u001b[43m(\u001b[49m\u001b[38;5;124;43m\"\u001b[39;49m\u001b[38;5;124;43m%\u001b[39;49m\u001b[38;5;124;43mY-\u001b[39;49m\u001b[38;5;124;43m%\u001b[39;49m\u001b[38;5;124;43mm-\u001b[39;49m\u001b[38;5;132;43;01m%d\u001b[39;49;00m\u001b[38;5;124;43m \u001b[39;49m\u001b[38;5;124;43m%\u001b[39;49m\u001b[38;5;124;43mH \u001b[39;49m\u001b[38;5;124;43m%\u001b[39;49m\u001b[38;5;124;43mM\u001b[39;49m\u001b[38;5;124;43m\"\u001b[39;49m\u001b[43m,\u001b[49m\u001b[43m \u001b[49m\u001b[43mtime_zone\u001b[49m\u001b[38;5;241;43m=\u001b[39;49m\u001b[38;5;124;43m\"\u001b[39;49m\u001b[38;5;124;43mUTC\u001b[39;49m\u001b[38;5;124;43m\"\u001b[39;49m\u001b[43m)\u001b[49m\u001b[38;5;241;43m.\u001b[39;49m\u001b[43malias\u001b[49m\u001b[43m(\u001b[49m\u001b[38;5;124;43m\"\u001b[39;49m\u001b[38;5;124;43mtimestamp\u001b[39;49m\u001b[38;5;124;43m\"\u001b[39;49m\u001b[43m)\u001b[49m\u001b[43m,\u001b[49m\n\u001b[1;32m     17\u001b[0m \u001b[43m    \u001b[49m\u001b[43mc\u001b[49m\u001b[43m(\u001b[49m\u001b[38;5;124;43m\"\u001b[39;49m\u001b[38;5;124;43mdirection\u001b[39;49m\u001b[38;5;124;43m\"\u001b[39;49m\u001b[43m)\u001b[49m\u001b[38;5;241;43m.\u001b[39;49m\u001b[43mstr\u001b[49m\u001b[38;5;241;43m.\u001b[39;49m\u001b[43mto_lowercase\u001b[49m\u001b[43m(\u001b[49m\u001b[43m)\u001b[49m\u001b[43m,\u001b[49m\n\u001b[1;32m     18\u001b[0m \u001b[43m\u001b[49m\u001b[43m)\u001b[49m\u001b[38;5;241m.\u001b[39mwith_columns(\n\u001b[1;32m     19\u001b[0m     pl\u001b[38;5;241m.\u001b[39mlit(value)\u001b[38;5;241m.\u001b[39malias(name) \u001b[38;5;28;01mfor\u001b[39;00m name, value \u001b[38;5;129;01min\u001b[39;00m market_price_metadata[name][\u001b[38;5;124m\"\u001b[39m\u001b[38;5;124mdata\u001b[39m\u001b[38;5;124m\"\u001b[39m]\u001b[38;5;241m.\u001b[39mitems()\n\u001b[1;32m     20\u001b[0m )\u001b[38;5;241m.\u001b[39mfilter(pl\u001b[38;5;241m.\u001b[39many_horizontal(\u001b[38;5;241m~\u001b[39mc(\u001b[38;5;124m\"\u001b[39m\u001b[38;5;124mmax\u001b[39m\u001b[38;5;124m\"\u001b[39m, \u001b[38;5;124m\"\u001b[39m\u001b[38;5;124mmean\u001b[39m\u001b[38;5;124m\"\u001b[39m, \u001b[38;5;124m\"\u001b[39m\u001b[38;5;124mmin\u001b[39m\u001b[38;5;124m\"\u001b[39m)\u001b[38;5;241m.\u001b[39mis_null()))\n\u001b[1;32m     21\u001b[0m market_price \u001b[38;5;241m=\u001b[39m pl\u001b[38;5;241m.\u001b[39mconcat([market_price, data], how\u001b[38;5;241m=\u001b[39m\u001b[38;5;124m\"\u001b[39m\u001b[38;5;124mdiagonal_relaxed\u001b[39m\u001b[38;5;124m\"\u001b[39m)\n",
      "File \u001b[0;32m~/git/smallflex-vpp-codes/.venv/lib/python3.12/site-packages/polars/dataframe/frame.py:9183\u001b[0m, in \u001b[0;36mDataFrame.with_columns\u001b[0;34m(self, *exprs, **named_exprs)\u001b[0m\n\u001b[1;32m   9037\u001b[0m \u001b[38;5;28;01mdef\u001b[39;00m \u001b[38;5;21mwith_columns\u001b[39m(\n\u001b[1;32m   9038\u001b[0m     \u001b[38;5;28mself\u001b[39m,\n\u001b[1;32m   9039\u001b[0m     \u001b[38;5;241m*\u001b[39mexprs: IntoExpr \u001b[38;5;241m|\u001b[39m Iterable[IntoExpr],\n\u001b[1;32m   9040\u001b[0m     \u001b[38;5;241m*\u001b[39m\u001b[38;5;241m*\u001b[39mnamed_exprs: IntoExpr,\n\u001b[1;32m   9041\u001b[0m ) \u001b[38;5;241m-\u001b[39m\u001b[38;5;241m>\u001b[39m DataFrame:\n\u001b[1;32m   9042\u001b[0m \u001b[38;5;250m    \u001b[39m\u001b[38;5;124;03m\"\"\"\u001b[39;00m\n\u001b[1;32m   9043\u001b[0m \u001b[38;5;124;03m    Add columns to this DataFrame.\u001b[39;00m\n\u001b[1;32m   9044\u001b[0m \n\u001b[0;32m   (...)\u001b[0m\n\u001b[1;32m   9181\u001b[0m \u001b[38;5;124;03m    └─────┴──────┴─────────────┘\u001b[39;00m\n\u001b[1;32m   9182\u001b[0m \u001b[38;5;124;03m    \"\"\"\u001b[39;00m\n\u001b[0;32m-> 9183\u001b[0m     \u001b[38;5;28;01mreturn\u001b[39;00m \u001b[38;5;28;43mself\u001b[39;49m\u001b[38;5;241;43m.\u001b[39;49m\u001b[43mlazy\u001b[49m\u001b[43m(\u001b[49m\u001b[43m)\u001b[49m\u001b[38;5;241;43m.\u001b[39;49m\u001b[43mwith_columns\u001b[49m\u001b[43m(\u001b[49m\u001b[38;5;241;43m*\u001b[39;49m\u001b[43mexprs\u001b[49m\u001b[43m,\u001b[49m\u001b[43m \u001b[49m\u001b[38;5;241;43m*\u001b[39;49m\u001b[38;5;241;43m*\u001b[39;49m\u001b[43mnamed_exprs\u001b[49m\u001b[43m)\u001b[49m\u001b[38;5;241;43m.\u001b[39;49m\u001b[43mcollect\u001b[49m\u001b[43m(\u001b[49m\u001b[43m_eager\u001b[49m\u001b[38;5;241;43m=\u001b[39;49m\u001b[38;5;28;43;01mTrue\u001b[39;49;00m\u001b[43m)\u001b[49m\n",
      "File \u001b[0;32m~/git/smallflex-vpp-codes/.venv/lib/python3.12/site-packages/polars/lazyframe/frame.py:2050\u001b[0m, in \u001b[0;36mLazyFrame.collect\u001b[0;34m(self, type_coercion, predicate_pushdown, projection_pushdown, simplify_expression, slice_pushdown, comm_subplan_elim, comm_subexpr_elim, cluster_with_columns, collapse_joins, no_optimization, streaming, engine, background, _eager, **_kwargs)\u001b[0m\n\u001b[1;32m   2048\u001b[0m \u001b[38;5;66;03m# Only for testing purposes\u001b[39;00m\n\u001b[1;32m   2049\u001b[0m callback \u001b[38;5;241m=\u001b[39m _kwargs\u001b[38;5;241m.\u001b[39mget(\u001b[38;5;124m\"\u001b[39m\u001b[38;5;124mpost_opt_callback\u001b[39m\u001b[38;5;124m\"\u001b[39m, callback)\n\u001b[0;32m-> 2050\u001b[0m \u001b[38;5;28;01mreturn\u001b[39;00m wrap_df(\u001b[43mldf\u001b[49m\u001b[38;5;241;43m.\u001b[39;49m\u001b[43mcollect\u001b[49m\u001b[43m(\u001b[49m\u001b[43mcallback\u001b[49m\u001b[43m)\u001b[49m)\n",
      "\u001b[0;31mInvalidOperationError\u001b[0m: conversion from `str` to `datetime[μs, UTC]` failed in column 'timestamp' for 5760 out of 5760 values: [\"2023-11-01 001 00\", \"2023-11-01 002 00\", … \"2023-11-30 096 00\"]\n\nYou might want to try:\n- setting `strict=False` to set values that cannot be converted to `null`\n- using `str.strptime`, `str.to_date`, or `str.to_datetime` and providing a format string"
     ]
    }
   ],
   "source": [
    "\n",
    "market_price: pl.DataFrame = pl.DataFrame()\n",
    "name = \"reg_afrr_cap\"\n",
    "name= \"reg_afrr_ene\"\n",
    "for entry in list(os.scandir(market_price_metadata[name][\"folder\"])):\n",
    "    if entry.name.startswith(\"RESULT_OVERVIEW\"):\n",
    "        data: pl.DataFrame = pl.read_excel(entry.path)\n",
    "        if data.is_empty():\n",
    "            continue\n",
    "        col_mapping = dictionary_key_filtering(market_price_metadata[name][\"col_mapping\"], data.columns)\n",
    "        data = data[list(col_mapping.keys())].rename(col_mapping).with_columns(\n",
    "            c(\"min\", \"mean\", \"max\").cast(pl.Float64),\n",
    "            pl.col(\"metadata\").str.split(\"_\").list.slice(offset=0, length=2)\n",
    "            .list.to_struct(fields=[\"direction\", \"hour\"])\n",
    "        ).unnest(\"metadata\")\\\n",
    "        .with_columns(\n",
    "            pl.concat_str([\"timestamp\", \"hour\", pl.lit(\"00\")], separator=\" \").str.to_datetime(\"%Y-%m-%d %H %M\", time_zone=\"UTC\").alias(\"timestamp\"),\n",
    "            c(\"direction\").str.to_lowercase(),\n",
    "        ).with_columns(\n",
    "            pl.lit(value).alias(name) for name, value in market_price_metadata[name][\"data\"].items()\n",
    "        ).filter(pl.any_horizontal(~c(\"max\", \"mean\", \"min\").is_null()))\n",
    "        market_price = pl.concat([market_price, data], how=\"diagonal_relaxed\")"
   ]
  },
  {
   "cell_type": "code",
   "execution_count": 5,
   "metadata": {},
   "outputs": [
    {
     "data": {
      "text/html": [
       "<div><style>\n",
       ".dataframe > thead > tr,\n",
       ".dataframe > tbody > tr {\n",
       "  text-align: right;\n",
       "  white-space: pre-wrap;\n",
       "}\n",
       "</style>\n",
       "<small>shape: (5_760, 5)</small><table border=\"1\" class=\"dataframe\"><thead><tr><th>timestamp</th><th>metadata</th><th>min</th><th>mean</th><th>max</th></tr><tr><td>date</td><td>str</td><td>f64</td><td>f64</td><td>f64</td></tr></thead><tbody><tr><td>2023-11-01</td><td>&quot;NEG_001&quot;</td><td>48.34</td><td>-752.3</td><td>-15000.0</td></tr><tr><td>2023-11-01</td><td>&quot;NEG_002&quot;</td><td>42.34</td><td>-779.6</td><td>-15000.0</td></tr><tr><td>2023-11-01</td><td>&quot;NEG_003&quot;</td><td>40.34</td><td>-791.87</td><td>-15000.0</td></tr><tr><td>2023-11-01</td><td>&quot;NEG_004&quot;</td><td>39.34</td><td>-798.44</td><td>-15000.0</td></tr><tr><td>2023-11-01</td><td>&quot;NEG_005&quot;</td><td>31.34</td><td>-804.68</td><td>-15000.0</td></tr><tr><td>&hellip;</td><td>&hellip;</td><td>&hellip;</td><td>&hellip;</td><td>&hellip;</td></tr><tr><td>2023-11-30</td><td>&quot;POS_092&quot;</td><td>168.37</td><td>963.61</td><td>15000.0</td></tr><tr><td>2023-11-30</td><td>&quot;POS_093&quot;</td><td>183.34</td><td>1010.1</td><td>15000.0</td></tr><tr><td>2023-11-30</td><td>&quot;POS_094&quot;</td><td>187.91</td><td>979.19</td><td>15000.0</td></tr><tr><td>2023-11-30</td><td>&quot;POS_095&quot;</td><td>189.3</td><td>955.92</td><td>15000.0</td></tr><tr><td>2023-11-30</td><td>&quot;POS_096&quot;</td><td>189.3</td><td>955.4</td><td>15000.0</td></tr></tbody></table></div>"
      ],
      "text/plain": [
       "shape: (5_760, 5)\n",
       "┌────────────┬──────────┬────────┬─────────┬──────────┐\n",
       "│ timestamp  ┆ metadata ┆ min    ┆ mean    ┆ max      │\n",
       "│ ---        ┆ ---      ┆ ---    ┆ ---     ┆ ---      │\n",
       "│ date       ┆ str      ┆ f64    ┆ f64     ┆ f64      │\n",
       "╞════════════╪══════════╪════════╪═════════╪══════════╡\n",
       "│ 2023-11-01 ┆ NEG_001  ┆ 48.34  ┆ -752.3  ┆ -15000.0 │\n",
       "│ 2023-11-01 ┆ NEG_002  ┆ 42.34  ┆ -779.6  ┆ -15000.0 │\n",
       "│ 2023-11-01 ┆ NEG_003  ┆ 40.34  ┆ -791.87 ┆ -15000.0 │\n",
       "│ 2023-11-01 ┆ NEG_004  ┆ 39.34  ┆ -798.44 ┆ -15000.0 │\n",
       "│ 2023-11-01 ┆ NEG_005  ┆ 31.34  ┆ -804.68 ┆ -15000.0 │\n",
       "│ …          ┆ …        ┆ …      ┆ …       ┆ …        │\n",
       "│ 2023-11-30 ┆ POS_092  ┆ 168.37 ┆ 963.61  ┆ 15000.0  │\n",
       "│ 2023-11-30 ┆ POS_093  ┆ 183.34 ┆ 1010.1  ┆ 15000.0  │\n",
       "│ 2023-11-30 ┆ POS_094  ┆ 187.91 ┆ 979.19  ┆ 15000.0  │\n",
       "│ 2023-11-30 ┆ POS_095  ┆ 189.3  ┆ 955.92  ┆ 15000.0  │\n",
       "│ 2023-11-30 ┆ POS_096  ┆ 189.3  ┆ 955.4   ┆ 15000.0  │\n",
       "└────────────┴──────────┴────────┴─────────┴──────────┘"
      ]
     },
     "execution_count": 5,
     "metadata": {},
     "output_type": "execute_result"
    }
   ],
   "source": [
    "data[list(col_mapping.keys())].rename(col_mapping)"
   ]
  },
  {
   "cell_type": "code",
   "execution_count": 5,
   "metadata": {},
   "outputs": [
    {
     "data": {
      "text/html": [
       "<div><style>\n",
       ".dataframe > thead > tr,\n",
       ".dataframe > tbody > tr {\n",
       "  text-align: right;\n",
       "  white-space: pre-wrap;\n",
       "}\n",
       "</style>\n",
       "<small>shape: (5_760, 1)</small><table border=\"1\" class=\"dataframe\"><thead><tr><th>PRODUCT</th></tr><tr><td>str</td></tr></thead><tbody><tr><td>&quot;NEG_001&quot;</td></tr><tr><td>&quot;NEG_002&quot;</td></tr><tr><td>&quot;NEG_003&quot;</td></tr><tr><td>&quot;NEG_004&quot;</td></tr><tr><td>&quot;NEG_005&quot;</td></tr><tr><td>&hellip;</td></tr><tr><td>&quot;POS_092&quot;</td></tr><tr><td>&quot;POS_093&quot;</td></tr><tr><td>&quot;POS_094&quot;</td></tr><tr><td>&quot;POS_095&quot;</td></tr><tr><td>&quot;POS_096&quot;</td></tr></tbody></table></div>"
      ],
      "text/plain": [
       "shape: (5_760, 1)\n",
       "┌─────────┐\n",
       "│ PRODUCT │\n",
       "│ ---     │\n",
       "│ str     │\n",
       "╞═════════╡\n",
       "│ NEG_001 │\n",
       "│ NEG_002 │\n",
       "│ NEG_003 │\n",
       "│ NEG_004 │\n",
       "│ NEG_005 │\n",
       "│ …       │\n",
       "│ POS_092 │\n",
       "│ POS_093 │\n",
       "│ POS_094 │\n",
       "│ POS_095 │\n",
       "│ POS_096 │\n",
       "└─────────┘"
      ]
     },
     "execution_count": 5,
     "metadata": {},
     "output_type": "execute_result"
    }
   ],
   "source": [
    "data[list(col_mapping.keys())]"
   ]
  },
  {
   "cell_type": "code",
   "execution_count": 5,
   "metadata": {},
   "outputs": [],
   "source": [
    "name = \"reg_afrr_ene\"\n",
    "for entry in list(os.scandir(market_price_metadata[name][\"folder\"])):\n",
    "    if entry.name.startswith(\"RESULT_OVERVIEW\"):\n",
    "        data: pl.DataFrame = pl.read_excel(entry.path)"
   ]
  },
  {
   "cell_type": "code",
   "execution_count": 7,
   "metadata": {},
   "outputs": [
    {
     "data": {
      "text/html": [
       "<div><style>\n",
       ".dataframe > thead > tr,\n",
       ".dataframe > tbody > tr {\n",
       "  text-align: right;\n",
       "  white-space: pre-wrap;\n",
       "}\n",
       "</style>\n",
       "<small>shape: (372, 8)</small><table border=\"1\" class=\"dataframe\"><thead><tr><th>DELIVERY_DATE</th><th>TYPE_OF_RESERVES</th><th>PRODUCT</th><th>GERMANY_MIN_ENERGY_PRICE_[EUR/MWh]</th><th>GERMANY_AVERAGE_ENERGY_PRICE_[EUR/MWh]</th><th>GERMANY_MARGINAL_ENERGY_PRICE_[EUR/MWh]</th><th>GERMANY_SUM_OF_OFFERED_CAPACITY_[MW]</th><th>NOTE</th></tr><tr><td>date</td><td>str</td><td>str</td><td>f64</td><td>f64</td><td>f64</td><td>i64</td><td>str</td></tr></thead><tbody><tr><td>2021-01-01</td><td>&quot;aFRR&quot;</td><td>&quot;POS_00_04&quot;</td><td>65.76</td><td>32854.4</td><td>91241.37</td><td>2174</td><td>&quot;&quot;</td></tr><tr><td>2021-01-01</td><td>&quot;aFRR&quot;</td><td>&quot;POS_04_08&quot;</td><td>75.76</td><td>2703.12</td><td>13984.21</td><td>2508</td><td>&quot;&quot;</td></tr><tr><td>2021-01-01</td><td>&quot;aFRR&quot;</td><td>&quot;POS_08_12&quot;</td><td>76.56</td><td>2255.89</td><td>9869.0</td><td>2400</td><td>&quot;&quot;</td></tr><tr><td>2021-01-01</td><td>&quot;aFRR&quot;</td><td>&quot;POS_12_16&quot;</td><td>77.13</td><td>396.18</td><td>4899.0</td><td>2345</td><td>&quot;&quot;</td></tr><tr><td>2021-01-01</td><td>&quot;aFRR&quot;</td><td>&quot;POS_16_20&quot;</td><td>64.34</td><td>6801.55</td><td>35285.21</td><td>2307</td><td>&quot;&quot;</td></tr><tr><td>&hellip;</td><td>&hellip;</td><td>&hellip;</td><td>&hellip;</td><td>&hellip;</td><td>&hellip;</td><td>&hellip;</td><td>&hellip;</td></tr><tr><td>2021-01-31</td><td>&quot;aFRR&quot;</td><td>&quot;NEG_04_08&quot;</td><td>17.0</td><td>-843.68</td><td>-9999.0</td><td>2096</td><td>&quot;&quot;</td></tr><tr><td>2021-01-31</td><td>&quot;aFRR&quot;</td><td>&quot;NEG_08_12&quot;</td><td>26.0</td><td>-98.36</td><td>-600.0</td><td>2685</td><td>&quot;&quot;</td></tr><tr><td>2021-01-31</td><td>&quot;aFRR&quot;</td><td>&quot;NEG_12_16&quot;</td><td>26.0</td><td>-57.41</td><td>-300.0</td><td>2536</td><td>&quot;&quot;</td></tr><tr><td>2021-01-31</td><td>&quot;aFRR&quot;</td><td>&quot;NEG_16_20&quot;</td><td>25.34</td><td>-64.05</td><td>-764.58</td><td>2456</td><td>&quot;&quot;</td></tr><tr><td>2021-01-31</td><td>&quot;aFRR&quot;</td><td>&quot;NEG_20_24&quot;</td><td>25.0</td><td>-214.83</td><td>-1875.55</td><td>2177</td><td>&quot;&quot;</td></tr></tbody></table></div>"
      ],
      "text/plain": [
       "shape: (372, 8)\n",
       "┌─────────────┬─────────────┬───────────┬────────────┬────────────┬────────────┬────────────┬──────┐\n",
       "│ DELIVERY_DA ┆ TYPE_OF_RES ┆ PRODUCT   ┆ GERMANY_MI ┆ GERMANY_AV ┆ GERMANY_MA ┆ GERMANY_SU ┆ NOTE │\n",
       "│ TE          ┆ ERVES       ┆ ---       ┆ N_ENERGY_P ┆ ERAGE_ENER ┆ RGINAL_ENE ┆ M_OF_OFFER ┆ ---  │\n",
       "│ ---         ┆ ---         ┆ str       ┆ RICE_[EUR/ ┆ GY_PRICE_[ ┆ RGY_PRICE_ ┆ ED_CAPACIT ┆ str  │\n",
       "│ date        ┆ str         ┆           ┆ …          ┆ …          ┆ …          ┆ …          ┆      │\n",
       "│             ┆             ┆           ┆ ---        ┆ ---        ┆ ---        ┆ ---        ┆      │\n",
       "│             ┆             ┆           ┆ f64        ┆ f64        ┆ f64        ┆ i64        ┆      │\n",
       "╞═════════════╪═════════════╪═══════════╪════════════╪════════════╪════════════╪════════════╪══════╡\n",
       "│ 2021-01-01  ┆ aFRR        ┆ POS_00_04 ┆ 65.76      ┆ 32854.4    ┆ 91241.37   ┆ 2174       ┆      │\n",
       "│ 2021-01-01  ┆ aFRR        ┆ POS_04_08 ┆ 75.76      ┆ 2703.12    ┆ 13984.21   ┆ 2508       ┆      │\n",
       "│ 2021-01-01  ┆ aFRR        ┆ POS_08_12 ┆ 76.56      ┆ 2255.89    ┆ 9869.0     ┆ 2400       ┆      │\n",
       "│ 2021-01-01  ┆ aFRR        ┆ POS_12_16 ┆ 77.13      ┆ 396.18     ┆ 4899.0     ┆ 2345       ┆      │\n",
       "│ 2021-01-01  ┆ aFRR        ┆ POS_16_20 ┆ 64.34      ┆ 6801.55    ┆ 35285.21   ┆ 2307       ┆      │\n",
       "│ …           ┆ …           ┆ …         ┆ …          ┆ …          ┆ …          ┆ …          ┆ …    │\n",
       "│ 2021-01-31  ┆ aFRR        ┆ NEG_04_08 ┆ 17.0       ┆ -843.68    ┆ -9999.0    ┆ 2096       ┆      │\n",
       "│ 2021-01-31  ┆ aFRR        ┆ NEG_08_12 ┆ 26.0       ┆ -98.36     ┆ -600.0     ┆ 2685       ┆      │\n",
       "│ 2021-01-31  ┆ aFRR        ┆ NEG_12_16 ┆ 26.0       ┆ -57.41     ┆ -300.0     ┆ 2536       ┆      │\n",
       "│ 2021-01-31  ┆ aFRR        ┆ NEG_16_20 ┆ 25.34      ┆ -64.05     ┆ -764.58    ┆ 2456       ┆      │\n",
       "│ 2021-01-31  ┆ aFRR        ┆ NEG_20_24 ┆ 25.0       ┆ -214.83    ┆ -1875.55   ┆ 2177       ┆      │\n",
       "└─────────────┴─────────────┴───────────┴────────────┴────────────┴────────────┴────────────┴──────┘"
      ]
     },
     "execution_count": 7,
     "metadata": {},
     "output_type": "execute_result"
    }
   ],
   "source": [
    "data\n",
    "\n",
    "            \"GERMANY_MIN_ENERGY_PRICE_[(EUR/MW)/h]\": \"min\", \"GERMANY_AVERAGE_ENERGY_PRICE_[(EUR/MW)/h]\": \"mean\", \n",
    "            \"GERMANY_MARGINAL_ENERGY_PRICE_[(EUR/MW)/h]\": \"max\" "
   ]
  },
  {
   "cell_type": "code",
   "execution_count": 6,
   "metadata": {},
   "outputs": [
    {
     "ename": "ColumnNotFoundError",
     "evalue": "\"DATE_FROM\" not found",
     "output_type": "error",
     "traceback": [
      "\u001b[0;31m---------------------------------------------------------------------------\u001b[0m",
      "\u001b[0;31mTypeError\u001b[0m                                 Traceback (most recent call last)",
      "File \u001b[0;32m~/git/smallflex-vpp-codes/.venv/lib/python3.12/site-packages/polars/_utils/construction/series.py:308\u001b[0m, in \u001b[0;36m_construct_series_with_fallbacks\u001b[0;34m(constructor, name, values, dtype, strict)\u001b[0m\n\u001b[1;32m    307\u001b[0m \u001b[38;5;28;01mtry\u001b[39;00m:\n\u001b[0;32m--> 308\u001b[0m     \u001b[38;5;28;01mreturn\u001b[39;00m \u001b[43mconstructor\u001b[49m\u001b[43m(\u001b[49m\u001b[43mname\u001b[49m\u001b[43m,\u001b[49m\u001b[43m \u001b[49m\u001b[43mvalues\u001b[49m\u001b[43m,\u001b[49m\u001b[43m \u001b[49m\u001b[43mstrict\u001b[49m\u001b[43m)\u001b[49m\n\u001b[1;32m    309\u001b[0m \u001b[38;5;28;01mexcept\u001b[39;00m \u001b[38;5;167;01mTypeError\u001b[39;00m:\n",
      "\u001b[0;31mTypeError\u001b[0m: 'str' object cannot be interpreted as an integer",
      "\nDuring handling of the above exception, another exception occurred:\n",
      "\u001b[0;31mTypeError\u001b[0m                                 Traceback (most recent call last)",
      "File \u001b[0;32m~/git/smallflex-vpp-codes/.venv/lib/python3.12/site-packages/polars/_utils/getitem.py:167\u001b[0m, in \u001b[0;36mget_df_item_by_key\u001b[0;34m(df, key)\u001b[0m\n\u001b[1;32m    166\u001b[0m \u001b[38;5;28;01mtry\u001b[39;00m:\n\u001b[0;32m--> 167\u001b[0m     \u001b[38;5;28;01mreturn\u001b[39;00m \u001b[43m_select_rows\u001b[49m\u001b[43m(\u001b[49m\u001b[43mdf\u001b[49m\u001b[43m,\u001b[49m\u001b[43m \u001b[49m\u001b[43mkey\u001b[49m\u001b[43m)\u001b[49m  \u001b[38;5;66;03m# type: ignore[arg-type]\u001b[39;00m\n\u001b[1;32m    168\u001b[0m \u001b[38;5;28;01mexcept\u001b[39;00m \u001b[38;5;167;01mTypeError\u001b[39;00m:\n",
      "File \u001b[0;32m~/git/smallflex-vpp-codes/.venv/lib/python3.12/site-packages/polars/_utils/getitem.py:306\u001b[0m, in \u001b[0;36m_select_rows\u001b[0;34m(df, key)\u001b[0m\n\u001b[1;32m    305\u001b[0m     _raise_on_boolean_mask()\n\u001b[0;32m--> 306\u001b[0m s \u001b[38;5;241m=\u001b[39m \u001b[43mpl\u001b[49m\u001b[38;5;241;43m.\u001b[39;49m\u001b[43mSeries\u001b[49m\u001b[43m(\u001b[49m\u001b[38;5;124;43m\"\u001b[39;49m\u001b[38;5;124;43m\"\u001b[39;49m\u001b[43m,\u001b[49m\u001b[43m \u001b[49m\u001b[43mkey\u001b[49m\u001b[43m,\u001b[49m\u001b[43m \u001b[49m\u001b[43mdtype\u001b[49m\u001b[38;5;241;43m=\u001b[39;49m\u001b[43mInt64\u001b[49m\u001b[43m)\u001b[49m\n\u001b[1;32m    307\u001b[0m indices \u001b[38;5;241m=\u001b[39m _convert_series_to_indices(s, df\u001b[38;5;241m.\u001b[39mheight)\n",
      "File \u001b[0;32m~/git/smallflex-vpp-codes/.venv/lib/python3.12/site-packages/polars/series/series.py:289\u001b[0m, in \u001b[0;36mSeries.__init__\u001b[0;34m(self, name, values, dtype, strict, nan_to_null)\u001b[0m\n\u001b[1;32m    288\u001b[0m \u001b[38;5;28;01mif\u001b[39;00m \u001b[38;5;28misinstance\u001b[39m(values, Sequence):\n\u001b[0;32m--> 289\u001b[0m     \u001b[38;5;28mself\u001b[39m\u001b[38;5;241m.\u001b[39m_s \u001b[38;5;241m=\u001b[39m \u001b[43msequence_to_pyseries\u001b[49m\u001b[43m(\u001b[49m\n\u001b[1;32m    290\u001b[0m \u001b[43m        \u001b[49m\u001b[43mname\u001b[49m\u001b[43m,\u001b[49m\n\u001b[1;32m    291\u001b[0m \u001b[43m        \u001b[49m\u001b[43mvalues\u001b[49m\u001b[43m,\u001b[49m\n\u001b[1;32m    292\u001b[0m \u001b[43m        \u001b[49m\u001b[43mdtype\u001b[49m\u001b[38;5;241;43m=\u001b[39;49m\u001b[43mdtype\u001b[49m\u001b[43m,\u001b[49m\n\u001b[1;32m    293\u001b[0m \u001b[43m        \u001b[49m\u001b[43mstrict\u001b[49m\u001b[38;5;241;43m=\u001b[39;49m\u001b[43mstrict\u001b[49m\u001b[43m,\u001b[49m\n\u001b[1;32m    294\u001b[0m \u001b[43m        \u001b[49m\u001b[43mnan_to_null\u001b[49m\u001b[38;5;241;43m=\u001b[39;49m\u001b[43mnan_to_null\u001b[49m\u001b[43m,\u001b[49m\n\u001b[1;32m    295\u001b[0m \u001b[43m    \u001b[49m\u001b[43m)\u001b[49m\n\u001b[1;32m    297\u001b[0m \u001b[38;5;28;01melif\u001b[39;00m values \u001b[38;5;129;01mis\u001b[39;00m \u001b[38;5;28;01mNone\u001b[39;00m:\n",
      "File \u001b[0;32m~/git/smallflex-vpp-codes/.venv/lib/python3.12/site-packages/polars/_utils/construction/series.py:133\u001b[0m, in \u001b[0;36msequence_to_pyseries\u001b[0;34m(name, values, dtype, strict, nan_to_null)\u001b[0m\n\u001b[1;32m    132\u001b[0m constructor \u001b[38;5;241m=\u001b[39m polars_type_to_constructor(dtype)\n\u001b[0;32m--> 133\u001b[0m pyseries \u001b[38;5;241m=\u001b[39m \u001b[43m_construct_series_with_fallbacks\u001b[49m\u001b[43m(\u001b[49m\n\u001b[1;32m    134\u001b[0m \u001b[43m    \u001b[49m\u001b[43mconstructor\u001b[49m\u001b[43m,\u001b[49m\u001b[43m \u001b[49m\u001b[43mname\u001b[49m\u001b[43m,\u001b[49m\u001b[43m \u001b[49m\u001b[43mvalues\u001b[49m\u001b[43m,\u001b[49m\u001b[43m \u001b[49m\u001b[43mdtype\u001b[49m\u001b[43m,\u001b[49m\u001b[43m \u001b[49m\u001b[43mstrict\u001b[49m\u001b[38;5;241;43m=\u001b[39;49m\u001b[43mstrict\u001b[49m\n\u001b[1;32m    135\u001b[0m \u001b[43m\u001b[49m\u001b[43m)\u001b[49m\n\u001b[1;32m    136\u001b[0m \u001b[38;5;28;01mif\u001b[39;00m dtype \u001b[38;5;129;01min\u001b[39;00m (\n\u001b[1;32m    137\u001b[0m     Date,\n\u001b[1;32m    138\u001b[0m     Datetime,\n\u001b[0;32m   (...)\u001b[0m\n\u001b[1;32m    144\u001b[0m     Decimal,\n\u001b[1;32m    145\u001b[0m ):\n",
      "File \u001b[0;32m~/git/smallflex-vpp-codes/.venv/lib/python3.12/site-packages/polars/_utils/construction/series.py:313\u001b[0m, in \u001b[0;36m_construct_series_with_fallbacks\u001b[0;34m(constructor, name, values, dtype, strict)\u001b[0m\n\u001b[1;32m    312\u001b[0m \u001b[38;5;28;01melse\u001b[39;00m:\n\u001b[0;32m--> 313\u001b[0m     \u001b[38;5;28;01mreturn\u001b[39;00m \u001b[43mPySeries\u001b[49m\u001b[38;5;241;43m.\u001b[39;49m\u001b[43mnew_from_any_values_and_dtype\u001b[49m\u001b[43m(\u001b[49m\n\u001b[1;32m    314\u001b[0m \u001b[43m        \u001b[49m\u001b[43mname\u001b[49m\u001b[43m,\u001b[49m\u001b[43m \u001b[49m\u001b[43mvalues\u001b[49m\u001b[43m,\u001b[49m\u001b[43m \u001b[49m\u001b[43mdtype\u001b[49m\u001b[43m,\u001b[49m\u001b[43m \u001b[49m\u001b[43mstrict\u001b[49m\u001b[38;5;241;43m=\u001b[39;49m\u001b[43mstrict\u001b[49m\n\u001b[1;32m    315\u001b[0m \u001b[43m    \u001b[49m\u001b[43m)\u001b[49m\n",
      "\u001b[0;31mTypeError\u001b[0m: unexpected value while building Series of type Int64; found value of type String: \"DATE_FROM\"\n\nHint: Try setting `strict=False` to allow passing data with mixed types.",
      "\nDuring handling of the above exception, another exception occurred:\n",
      "\u001b[0;31mColumnNotFoundError\u001b[0m                       Traceback (most recent call last)",
      "Cell \u001b[0;32mIn[6], line 6\u001b[0m\n\u001b[1;32m      1\u001b[0m col_name \u001b[38;5;241m=\u001b[39m \u001b[38;5;124m\"\u001b[39m\u001b[38;5;124mGERMANY_AVERAGE_CAPACITY_PRICE\u001b[39m\u001b[38;5;124m\"\u001b[39m\n\u001b[0;32m----> 6\u001b[0m \u001b[43mdata\u001b[49m\u001b[43m[\u001b[49m\u001b[38;5;28;43mlist\u001b[39;49m\u001b[43m(\u001b[49m\u001b[43mCOL_MAPPING\u001b[49m\u001b[38;5;241;43m.\u001b[39;49m\u001b[43mkeys\u001b[49m\u001b[43m(\u001b[49m\u001b[43m)\u001b[49m\u001b[43m)\u001b[49m\u001b[43m]\u001b[49m\u001b[38;5;241m.\u001b[39mrename(COL_MAPPING)\u001b[38;5;241m.\u001b[39mwith_columns(\n\u001b[1;32m      7\u001b[0m     c(\u001b[38;5;124m\"\u001b[39m\u001b[38;5;124mmin\u001b[39m\u001b[38;5;124m\"\u001b[39m, \u001b[38;5;124m\"\u001b[39m\u001b[38;5;124mmean\u001b[39m\u001b[38;5;124m\"\u001b[39m, \u001b[38;5;124m\"\u001b[39m\u001b[38;5;124mmax\u001b[39m\u001b[38;5;124m\"\u001b[39m)\u001b[38;5;241m.\u001b[39mcast(pl\u001b[38;5;241m.\u001b[39mFloat64),\n\u001b[1;32m      8\u001b[0m     pl\u001b[38;5;241m.\u001b[39mcol(\u001b[38;5;124m\"\u001b[39m\u001b[38;5;124mmetadata\u001b[39m\u001b[38;5;124m\"\u001b[39m)\u001b[38;5;241m.\u001b[39mstr\u001b[38;5;241m.\u001b[39msplit(\u001b[38;5;124m\"\u001b[39m\u001b[38;5;124m_\u001b[39m\u001b[38;5;124m\"\u001b[39m)\u001b[38;5;241m.\u001b[39mlist\u001b[38;5;241m.\u001b[39mslice(offset\u001b[38;5;241m=\u001b[39m\u001b[38;5;241m0\u001b[39m, length\u001b[38;5;241m=\u001b[39m\u001b[38;5;241m2\u001b[39m)\n\u001b[1;32m      9\u001b[0m     \u001b[38;5;241m.\u001b[39mlist\u001b[38;5;241m.\u001b[39mto_struct(fields\u001b[38;5;241m=\u001b[39m[\u001b[38;5;124m\"\u001b[39m\u001b[38;5;124mdirection\u001b[39m\u001b[38;5;124m\"\u001b[39m, \u001b[38;5;124m\"\u001b[39m\u001b[38;5;124mhour\u001b[39m\u001b[38;5;124m\"\u001b[39m])\n\u001b[1;32m     10\u001b[0m )\u001b[38;5;241m.\u001b[39munnest(\u001b[38;5;124m\"\u001b[39m\u001b[38;5;124mmetadata\u001b[39m\u001b[38;5;124m\"\u001b[39m)\\\n\u001b[1;32m     11\u001b[0m \u001b[38;5;241m.\u001b[39mwith_columns(\n\u001b[1;32m     12\u001b[0m     pl\u001b[38;5;241m.\u001b[39mconcat_str([\u001b[38;5;124m\"\u001b[39m\u001b[38;5;124mtimestamp\u001b[39m\u001b[38;5;124m\"\u001b[39m, \u001b[38;5;124m\"\u001b[39m\u001b[38;5;124mhour\u001b[39m\u001b[38;5;124m\"\u001b[39m, pl\u001b[38;5;241m.\u001b[39mlit(\u001b[38;5;124m\"\u001b[39m\u001b[38;5;124m00\u001b[39m\u001b[38;5;124m\"\u001b[39m)], separator\u001b[38;5;241m=\u001b[39m\u001b[38;5;124m\"\u001b[39m\u001b[38;5;124m \u001b[39m\u001b[38;5;124m\"\u001b[39m)\u001b[38;5;241m.\u001b[39mstr\u001b[38;5;241m.\u001b[39mto_datetime(\u001b[38;5;124m\"\u001b[39m\u001b[38;5;124m%\u001b[39m\u001b[38;5;124mY-\u001b[39m\u001b[38;5;124m%\u001b[39m\u001b[38;5;124mm-\u001b[39m\u001b[38;5;132;01m%d\u001b[39;00m\u001b[38;5;124m \u001b[39m\u001b[38;5;124m%\u001b[39m\u001b[38;5;124mH \u001b[39m\u001b[38;5;124m%\u001b[39m\u001b[38;5;124mM\u001b[39m\u001b[38;5;124m\"\u001b[39m, time_zone\u001b[38;5;241m=\u001b[39m\u001b[38;5;124m\"\u001b[39m\u001b[38;5;124mUTC\u001b[39m\u001b[38;5;124m\"\u001b[39m)\u001b[38;5;241m.\u001b[39malias(\u001b[38;5;124m\"\u001b[39m\u001b[38;5;124mtimestamp\u001b[39m\u001b[38;5;124m\"\u001b[39m),\n\u001b[1;32m     13\u001b[0m     c(\u001b[38;5;124m\"\u001b[39m\u001b[38;5;124mdirection\u001b[39m\u001b[38;5;124m\"\u001b[39m)\u001b[38;5;241m.\u001b[39mstr\u001b[38;5;241m.\u001b[39mto_lowercase(),\n\u001b[1;32m     14\u001b[0m     c(\u001b[38;5;124m\"\u001b[39m\u001b[38;5;124mmarket\u001b[39m\u001b[38;5;124m\"\u001b[39m) \u001b[38;5;241m+\u001b[39m \u001b[38;5;124m\"\u001b[39m\u001b[38;5;124m-cap\u001b[39m\u001b[38;5;124m\"\u001b[39m\n\u001b[1;32m     15\u001b[0m )\n",
      "File \u001b[0;32m~/git/smallflex-vpp-codes/.venv/lib/python3.12/site-packages/polars/dataframe/frame.py:1350\u001b[0m, in \u001b[0;36mDataFrame.__getitem__\u001b[0;34m(self, key)\u001b[0m\n\u001b[1;32m   1213\u001b[0m \u001b[38;5;28;01mdef\u001b[39;00m \u001b[38;5;21m__getitem__\u001b[39m(\n\u001b[1;32m   1214\u001b[0m     \u001b[38;5;28mself\u001b[39m,\n\u001b[1;32m   1215\u001b[0m     key: (\n\u001b[0;32m   (...)\u001b[0m\n\u001b[1;32m   1224\u001b[0m     ),\n\u001b[1;32m   1225\u001b[0m ) \u001b[38;5;241m-\u001b[39m\u001b[38;5;241m>\u001b[39m DataFrame \u001b[38;5;241m|\u001b[39m Series \u001b[38;5;241m|\u001b[39m Any:\n\u001b[1;32m   1226\u001b[0m \u001b[38;5;250m    \u001b[39m\u001b[38;5;124;03m\"\"\"\u001b[39;00m\n\u001b[1;32m   1227\u001b[0m \u001b[38;5;124;03m    Get part of the DataFrame as a new DataFrame, Series, or scalar.\u001b[39;00m\n\u001b[1;32m   1228\u001b[0m \n\u001b[0;32m   (...)\u001b[0m\n\u001b[1;32m   1348\u001b[0m \u001b[38;5;124;03m    └─────┴─────┴─────┘\u001b[39;00m\n\u001b[1;32m   1349\u001b[0m \u001b[38;5;124;03m    \"\"\"\u001b[39;00m\n\u001b[0;32m-> 1350\u001b[0m     \u001b[38;5;28;01mreturn\u001b[39;00m \u001b[43mget_df_item_by_key\u001b[49m\u001b[43m(\u001b[49m\u001b[38;5;28;43mself\u001b[39;49m\u001b[43m,\u001b[49m\u001b[43m \u001b[49m\u001b[43mkey\u001b[49m\u001b[43m)\u001b[49m\n",
      "File \u001b[0;32m~/git/smallflex-vpp-codes/.venv/lib/python3.12/site-packages/polars/_utils/getitem.py:169\u001b[0m, in \u001b[0;36mget_df_item_by_key\u001b[0;34m(df, key)\u001b[0m\n\u001b[1;32m    167\u001b[0m     \u001b[38;5;28;01mreturn\u001b[39;00m _select_rows(df, key)  \u001b[38;5;66;03m# type: ignore[arg-type]\u001b[39;00m\n\u001b[1;32m    168\u001b[0m \u001b[38;5;28;01mexcept\u001b[39;00m \u001b[38;5;167;01mTypeError\u001b[39;00m:\n\u001b[0;32m--> 169\u001b[0m     \u001b[38;5;28;01mreturn\u001b[39;00m \u001b[43m_select_columns\u001b[49m\u001b[43m(\u001b[49m\u001b[43mdf\u001b[49m\u001b[43m,\u001b[49m\u001b[43m \u001b[49m\u001b[43mkey\u001b[49m\u001b[43m)\u001b[49m\n",
      "File \u001b[0;32m~/git/smallflex-vpp-codes/.venv/lib/python3.12/site-packages/polars/_utils/getitem.py:217\u001b[0m, in \u001b[0;36m_select_columns\u001b[0;34m(df, key)\u001b[0m\n\u001b[1;32m    215\u001b[0m     \u001b[38;5;28;01mreturn\u001b[39;00m _select_columns_by_index(df, key)  \u001b[38;5;66;03m# type: ignore[arg-type]\u001b[39;00m\n\u001b[1;32m    216\u001b[0m \u001b[38;5;28;01melif\u001b[39;00m \u001b[38;5;28misinstance\u001b[39m(first, \u001b[38;5;28mstr\u001b[39m):\n\u001b[0;32m--> 217\u001b[0m     \u001b[38;5;28;01mreturn\u001b[39;00m \u001b[43m_select_columns_by_name\u001b[49m\u001b[43m(\u001b[49m\u001b[43mdf\u001b[49m\u001b[43m,\u001b[49m\u001b[43m \u001b[49m\u001b[43mkey\u001b[49m\u001b[43m)\u001b[49m  \u001b[38;5;66;03m# type: ignore[arg-type]\u001b[39;00m\n\u001b[1;32m    218\u001b[0m \u001b[38;5;28;01melse\u001b[39;00m:\n\u001b[1;32m    219\u001b[0m     msg \u001b[38;5;241m=\u001b[39m \u001b[38;5;124mf\u001b[39m\u001b[38;5;124m\"\u001b[39m\u001b[38;5;124mcannot select columns using Sequence with elements of type \u001b[39m\u001b[38;5;132;01m{\u001b[39;00m\u001b[38;5;28mtype\u001b[39m(first)\u001b[38;5;241m.\u001b[39m\u001b[38;5;18m__name__\u001b[39m\u001b[38;5;132;01m!r}\u001b[39;00m\u001b[38;5;124m\"\u001b[39m\n",
      "File \u001b[0;32m~/git/smallflex-vpp-codes/.venv/lib/python3.12/site-packages/polars/_utils/getitem.py:265\u001b[0m, in \u001b[0;36m_select_columns_by_name\u001b[0;34m(df, key)\u001b[0m\n\u001b[1;32m    264\u001b[0m \u001b[38;5;28;01mdef\u001b[39;00m \u001b[38;5;21m_select_columns_by_name\u001b[39m(df: DataFrame, key: Iterable[\u001b[38;5;28mstr\u001b[39m]) \u001b[38;5;241m-\u001b[39m\u001b[38;5;241m>\u001b[39m DataFrame:\n\u001b[0;32m--> 265\u001b[0m     \u001b[38;5;28;01mreturn\u001b[39;00m df\u001b[38;5;241m.\u001b[39m_from_pydf(\u001b[43mdf\u001b[49m\u001b[38;5;241;43m.\u001b[39;49m\u001b[43m_df\u001b[49m\u001b[38;5;241;43m.\u001b[39;49m\u001b[43mselect\u001b[49m\u001b[43m(\u001b[49m\u001b[43mkey\u001b[49m\u001b[43m)\u001b[49m)\n",
      "\u001b[0;31mColumnNotFoundError\u001b[0m: \"DATE_FROM\" not found"
     ]
    }
   ],
   "source": [
    "col_name = \"GERMANY_AVERAGE_CAPACITY_PRICE\"\n",
    "\n",
    "\n",
    "\n",
    "\n",
    "data[list(COL_MAPPING.keys())].rename(COL_MAPPING).with_columns(\n",
    "    c(\"min\", \"mean\", \"max\").cast(pl.Float64),\n",
    "    pl.col(\"metadata\").str.split(\"_\").list.slice(offset=0, length=2)\n",
    "    .list.to_struct(fields=[\"direction\", \"hour\"])\n",
    ").unnest(\"metadata\")\\\n",
    ".with_columns(\n",
    "    pl.concat_str([\"timestamp\", \"hour\", pl.lit(\"00\")], separator=\" \").str.to_datetime(\"%Y-%m-%d %H %M\", time_zone=\"UTC\").alias(\"timestamp\"),\n",
    "    c(\"direction\").str.to_lowercase(),\n",
    "    c(\"market\") + \"-cap\"\n",
    ")"
   ]
  },
  {
   "cell_type": "code",
   "execution_count": 31,
   "metadata": {},
   "outputs": [
    {
     "ename": "NameError",
     "evalue": "name 'COL_MAPPING' is not defined",
     "output_type": "error",
     "traceback": [
      "\u001b[0;31m---------------------------------------------------------------------------\u001b[0m",
      "\u001b[0;31mNameError\u001b[0m                                 Traceback (most recent call last)",
      "Cell \u001b[0;32mIn[31], line 1\u001b[0m\n\u001b[0;32m----> 1\u001b[0m data[\u001b[43mCOL_MAPPING\u001b[49m\u001b[38;5;241m.\u001b[39mkeys()]\u001b[38;5;241m.\u001b[39mrename(COL_MAPPING)\n",
      "\u001b[0;31mNameError\u001b[0m: name 'COL_MAPPING' is not defined"
     ]
    }
   ],
   "source": []
  },
  {
   "cell_type": "code",
   "execution_count": 22,
   "metadata": {},
   "outputs": [
    {
     "data": {
      "text/html": [
       "<div><style>\n",
       ".dataframe > thead > tr,\n",
       ".dataframe > tbody > tr {\n",
       "  text-align: right;\n",
       "  white-space: pre-wrap;\n",
       "}\n",
       "</style>\n",
       "<small>shape: (372, 4)</small><table border=\"1\" class=\"dataframe\"><thead><tr><th>DATE_FROM</th><th>[EUR/MW]</th><th>market</th><th>time</th></tr><tr><td>date</td><td>f64</td><td>str</td><td>str</td></tr></thead><tbody><tr><td>2021-07-01</td><td>21.18</td><td>&quot;POS&quot;</td><td>&quot;00&quot;</td></tr><tr><td>2021-07-01</td><td>32.41</td><td>&quot;POS&quot;</td><td>&quot;04&quot;</td></tr><tr><td>2021-07-01</td><td>46.43</td><td>&quot;POS&quot;</td><td>&quot;08&quot;</td></tr><tr><td>2021-07-01</td><td>30.17</td><td>&quot;POS&quot;</td><td>&quot;12&quot;</td></tr><tr><td>2021-07-01</td><td>45.37</td><td>&quot;POS&quot;</td><td>&quot;16&quot;</td></tr><tr><td>&hellip;</td><td>&hellip;</td><td>&hellip;</td><td>&hellip;</td></tr><tr><td>2021-07-31</td><td>35.52</td><td>&quot;NEG&quot;</td><td>&quot;04&quot;</td></tr><tr><td>2021-07-31</td><td>88.74</td><td>&quot;NEG&quot;</td><td>&quot;08&quot;</td></tr><tr><td>2021-07-31</td><td>229.09</td><td>&quot;NEG&quot;</td><td>&quot;12&quot;</td></tr><tr><td>2021-07-31</td><td>100.81</td><td>&quot;NEG&quot;</td><td>&quot;16&quot;</td></tr><tr><td>2021-07-31</td><td>16.81</td><td>&quot;NEG&quot;</td><td>&quot;20&quot;</td></tr></tbody></table></div>"
      ],
      "text/plain": [
       "shape: (372, 4)\n",
       "┌────────────┬──────────┬────────┬──────┐\n",
       "│ DATE_FROM  ┆ [EUR/MW] ┆ market ┆ time │\n",
       "│ ---        ┆ ---      ┆ ---    ┆ ---  │\n",
       "│ date       ┆ f64      ┆ str    ┆ str  │\n",
       "╞════════════╪══════════╪════════╪══════╡\n",
       "│ 2021-07-01 ┆ 21.18    ┆ POS    ┆ 00   │\n",
       "│ 2021-07-01 ┆ 32.41    ┆ POS    ┆ 04   │\n",
       "│ 2021-07-01 ┆ 46.43    ┆ POS    ┆ 08   │\n",
       "│ 2021-07-01 ┆ 30.17    ┆ POS    ┆ 12   │\n",
       "│ 2021-07-01 ┆ 45.37    ┆ POS    ┆ 16   │\n",
       "│ …          ┆ …        ┆ …      ┆ …    │\n",
       "│ 2021-07-31 ┆ 35.52    ┆ NEG    ┆ 04   │\n",
       "│ 2021-07-31 ┆ 88.74    ┆ NEG    ┆ 08   │\n",
       "│ 2021-07-31 ┆ 229.09   ┆ NEG    ┆ 12   │\n",
       "│ 2021-07-31 ┆ 100.81   ┆ NEG    ┆ 16   │\n",
       "│ 2021-07-31 ┆ 16.81    ┆ NEG    ┆ 20   │\n",
       "└────────────┴──────────┴────────┴──────┘"
      ]
     },
     "execution_count": 22,
     "metadata": {},
     "output_type": "execute_result"
    }
   ],
   "source": [
    "data.select([\n",
    "    pl.col(\"DATE_FROM\"),\n",
    "    pl.col(act_col_name).alias(\"mean\").cast(pl.Float64, strict=False),\n",
    "    pl.col(\"PRODUCT\").str.split(\"_\").list.slice(offset=0, length=2)\n",
    "    .list.to_struct(fields=[\"market\", \"time\"]).alias(\"meta_data\")\n",
    "]).unnest(\"meta_data\").with_columns(\n",
    "    \n",
    ")\n"
   ]
  },
  {
   "cell_type": "code",
   "execution_count": null,
   "metadata": {},
   "outputs": [],
   "source": [
    "\n",
    ".with_columns([\n",
    "    pl.col(\"PRODUCT\").str.split_exact(\"_\", 2).struct.rename_fields([\"first_part\", \"second_part\", \"third_part\"]).alias(\"fields\")\n",
    "]).unnest(\"fields\").select([\n",
    "    (pl.concat_str([\"DATE_FROM\", \"second_part\"], separator=\" \") + \":00\") .str.to_datetime(\"%m-%d-%y %H:%M\").alias(\"datetime\"),\n",
    "    pl.col(\"first_part\").str.to_lowercase().alias(\"market\"),\n",
    "    pl.col(\"[EUR/MW]\")\n",
    "])"
   ]
  },
  {
   "cell_type": "code",
   "execution_count": 6,
   "metadata": {},
   "outputs": [
    {
     "data": {
      "text/html": [
       "<div><style>\n",
       ".dataframe > thead > tr,\n",
       ".dataframe > tbody > tr {\n",
       "  text-align: right;\n",
       "  white-space: pre-wrap;\n",
       "}\n",
       "</style>\n",
       "<small>shape: (335_222, 7)</small><table border=\"1\" class=\"dataframe\"><thead><tr><th>Time from [CET/CEST]</th><th>Time to [CET/CEST]</th><th>Type</th><th>Direction</th><th>Rank</th><th>Quantity [MW]</th><th>Energy Price [€/MWh]</th></tr><tr><td>str</td><td>str</td><td>str</td><td>str</td><td>i64</td><td>f64</td><td>f64</td></tr></thead><tbody><tr><td>&quot;2021-01-01 00:00:00&quot;</td><td>&quot;2021-01-01 04:00:00&quot;</td><td>&quot;SRR&quot;</td><td>&quot;NEG&quot;</td><td>1</td><td>1.0</td><td>7.4</td></tr><tr><td>&quot;2021-01-01 00:00:00&quot;</td><td>&quot;2021-01-01 04:00:00&quot;</td><td>&quot;SRR&quot;</td><td>&quot;NEG&quot;</td><td>2</td><td>5.0</td><td>-0.01</td></tr><tr><td>&quot;2021-01-01 00:00:00&quot;</td><td>&quot;2021-01-01 04:00:00&quot;</td><td>&quot;SRR&quot;</td><td>&quot;NEG&quot;</td><td>3</td><td>5.0</td><td>-0.01</td></tr><tr><td>&quot;2021-01-01 00:00:00&quot;</td><td>&quot;2021-01-01 04:00:00&quot;</td><td>&quot;SRR&quot;</td><td>&quot;NEG&quot;</td><td>4</td><td>1.0</td><td>-0.9</td></tr><tr><td>&quot;2021-01-01 00:00:00&quot;</td><td>&quot;2021-01-01 04:00:00&quot;</td><td>&quot;SRR&quot;</td><td>&quot;NEG&quot;</td><td>5</td><td>2.0</td><td>-2.7</td></tr><tr><td>&hellip;</td><td>&hellip;</td><td>&hellip;</td><td>&hellip;</td><td>&hellip;</td><td>&hellip;</td><td>&hellip;</td></tr><tr><td>&quot;2021-12-31 20:00:00&quot;</td><td>&quot;2022-01-01 00:00:00&quot;</td><td>&quot;TRR&quot;</td><td>&quot;POS&quot;</td><td>32</td><td>1.0</td><td>9990.0</td></tr><tr><td>&quot;2021-12-31 20:00:00&quot;</td><td>&quot;2022-01-01 00:00:00&quot;</td><td>&quot;TRR&quot;</td><td>&quot;POS&quot;</td><td>33</td><td>1.0</td><td>9990.0</td></tr><tr><td>&quot;2021-12-31 20:00:00&quot;</td><td>&quot;2022-01-01 00:00:00&quot;</td><td>&quot;TRR&quot;</td><td>&quot;POS&quot;</td><td>34</td><td>2.0</td><td>9990.0</td></tr><tr><td>&quot;2021-12-31 20:00:00&quot;</td><td>&quot;2022-01-01 00:00:00&quot;</td><td>&quot;TRR&quot;</td><td>&quot;POS&quot;</td><td>35</td><td>2.0</td><td>9990.0</td></tr><tr><td>&quot;2021-12-31 20:00:00&quot;</td><td>&quot;2022-01-01 00:00:00&quot;</td><td>&quot;TRR&quot;</td><td>&quot;POS&quot;</td><td>36</td><td>2.0</td><td>9990.0</td></tr></tbody></table></div>"
      ],
      "text/plain": [
       "shape: (335_222, 7)\n",
       "┌────────────┬─────────────────────┬──────┬───────────┬──────┬───────────────┬──────────────┐\n",
       "│ Time from  ┆ Time to [CET/CEST]  ┆ Type ┆ Direction ┆ Rank ┆ Quantity [MW] ┆ Energy Price │\n",
       "│ [CET/CEST] ┆ ---                 ┆ ---  ┆ ---       ┆ ---  ┆ ---           ┆ [€/MWh]      │\n",
       "│ ---        ┆ str                 ┆ str  ┆ str       ┆ i64  ┆ f64           ┆ ---          │\n",
       "│ str        ┆                     ┆      ┆           ┆      ┆               ┆ f64          │\n",
       "╞════════════╪═════════════════════╪══════╪═══════════╪══════╪═══════════════╪══════════════╡\n",
       "│ 2021-01-01 ┆ 2021-01-01 04:00:00 ┆ SRR  ┆ NEG       ┆ 1    ┆ 1.0           ┆ 7.4          │\n",
       "│ 00:00:00   ┆                     ┆      ┆           ┆      ┆               ┆              │\n",
       "│ 2021-01-01 ┆ 2021-01-01 04:00:00 ┆ SRR  ┆ NEG       ┆ 2    ┆ 5.0           ┆ -0.01        │\n",
       "│ 00:00:00   ┆                     ┆      ┆           ┆      ┆               ┆              │\n",
       "│ 2021-01-01 ┆ 2021-01-01 04:00:00 ┆ SRR  ┆ NEG       ┆ 3    ┆ 5.0           ┆ -0.01        │\n",
       "│ 00:00:00   ┆                     ┆      ┆           ┆      ┆               ┆              │\n",
       "│ 2021-01-01 ┆ 2021-01-01 04:00:00 ┆ SRR  ┆ NEG       ┆ 4    ┆ 1.0           ┆ -0.9         │\n",
       "│ 00:00:00   ┆                     ┆      ┆           ┆      ┆               ┆              │\n",
       "│ 2021-01-01 ┆ 2021-01-01 04:00:00 ┆ SRR  ┆ NEG       ┆ 5    ┆ 2.0           ┆ -2.7         │\n",
       "│ 00:00:00   ┆                     ┆      ┆           ┆      ┆               ┆              │\n",
       "│ …          ┆ …                   ┆ …    ┆ …         ┆ …    ┆ …             ┆ …            │\n",
       "│ 2021-12-31 ┆ 2022-01-01 00:00:00 ┆ TRR  ┆ POS       ┆ 32   ┆ 1.0           ┆ 9990.0       │\n",
       "│ 20:00:00   ┆                     ┆      ┆           ┆      ┆               ┆              │\n",
       "│ 2021-12-31 ┆ 2022-01-01 00:00:00 ┆ TRR  ┆ POS       ┆ 33   ┆ 1.0           ┆ 9990.0       │\n",
       "│ 20:00:00   ┆                     ┆      ┆           ┆      ┆               ┆              │\n",
       "│ 2021-12-31 ┆ 2022-01-01 00:00:00 ┆ TRR  ┆ POS       ┆ 34   ┆ 2.0           ┆ 9990.0       │\n",
       "│ 20:00:00   ┆                     ┆      ┆           ┆      ┆               ┆              │\n",
       "│ 2021-12-31 ┆ 2022-01-01 00:00:00 ┆ TRR  ┆ POS       ┆ 35   ┆ 2.0           ┆ 9990.0       │\n",
       "│ 20:00:00   ┆                     ┆      ┆           ┆      ┆               ┆              │\n",
       "│ 2021-12-31 ┆ 2022-01-01 00:00:00 ┆ TRR  ┆ POS       ┆ 36   ┆ 2.0           ┆ 9990.0       │\n",
       "│ 20:00:00   ┆                     ┆      ┆           ┆      ┆               ┆              │\n",
       "└────────────┴─────────────────────┴──────┴───────────┴──────┴───────────────┴──────────────┘"
      ]
     },
     "execution_count": 6,
     "metadata": {},
     "output_type": "execute_result"
    }
   ],
   "source": [
    "final_data: pl.DataFrame = pl.DataFrame()\n",
    "name = \"apg_energy\"\n",
    "for entry in os.scandir(market_price_metadata[name][\"folder\"]):\n",
    "    file_path: str = entry.path\n",
    "    \n",
    "data = pl.read_csv(file_path, separator=\",\", has_header=True, null_values=[\"NA\"])\n",
    "data"
   ]
  },
  {
   "cell_type": "code",
   "execution_count": 7,
   "metadata": {},
   "outputs": [
    {
     "ename": "NameError",
     "evalue": "name 'col_name' is not defined",
     "output_type": "error",
     "traceback": [
      "\u001b[0;31m---------------------------------------------------------------------------\u001b[0m",
      "\u001b[0;31mNameError\u001b[0m                                 Traceback (most recent call last)",
      "Cell \u001b[0;32mIn[7], line 5\u001b[0m\n\u001b[1;32m      1\u001b[0m pl\u001b[38;5;241m.\u001b[39mread_csv(file_path, separator\u001b[38;5;241m=\u001b[39m\u001b[38;5;124m\"\u001b[39m\u001b[38;5;124m,\u001b[39m\u001b[38;5;124m\"\u001b[39m, has_header\u001b[38;5;241m=\u001b[39m\u001b[38;5;28;01mTrue\u001b[39;00m, null_values\u001b[38;5;241m=\u001b[39m[\u001b[38;5;124m\"\u001b[39m\u001b[38;5;124mNA\u001b[39m\u001b[38;5;124m\"\u001b[39m])\\\n\u001b[1;32m      2\u001b[0m         \u001b[38;5;241m.\u001b[39mwith_columns([\n\u001b[1;32m      3\u001b[0m             pl\u001b[38;5;241m.\u001b[39mcol(\u001b[38;5;124m\"\u001b[39m\u001b[38;5;124mTime from [CET/CEST]\u001b[39m\u001b[38;5;124m\"\u001b[39m)\u001b[38;5;241m.\u001b[39mstr\u001b[38;5;241m.\u001b[39mto_datetime(\u001b[38;5;124m\"\u001b[39m\u001b[38;5;124m%\u001b[39m\u001b[38;5;124mY-\u001b[39m\u001b[38;5;124m%\u001b[39m\u001b[38;5;124mm-\u001b[39m\u001b[38;5;132;01m%d\u001b[39;00m\u001b[38;5;124m \u001b[39m\u001b[38;5;124m%\u001b[39m\u001b[38;5;124mH:\u001b[39m\u001b[38;5;124m%\u001b[39m\u001b[38;5;124mM:\u001b[39m\u001b[38;5;124m%\u001b[39m\u001b[38;5;124mS\u001b[39m\u001b[38;5;124m\"\u001b[39m)\u001b[38;5;241m.\u001b[39malias(\u001b[38;5;124m\"\u001b[39m\u001b[38;5;124mdatetime\u001b[39m\u001b[38;5;124m\"\u001b[39m), \n\u001b[1;32m      4\u001b[0m             pl\u001b[38;5;241m.\u001b[39mconcat_str([\u001b[38;5;124m\"\u001b[39m\u001b[38;5;124mType\u001b[39m\u001b[38;5;124m\"\u001b[39m, \u001b[38;5;124m\"\u001b[39m\u001b[38;5;124mDirection\u001b[39m\u001b[38;5;124m\"\u001b[39m], separator\u001b[38;5;241m=\u001b[39m\u001b[38;5;124m\"\u001b[39m\u001b[38;5;124m_\u001b[39m\u001b[38;5;124m\"\u001b[39m)\u001b[38;5;241m.\u001b[39malias(\u001b[38;5;124m\"\u001b[39m\u001b[38;5;124mmarket\u001b[39m\u001b[38;5;124m\"\u001b[39m), \n\u001b[0;32m----> 5\u001b[0m             (pl\u001b[38;5;241m.\u001b[39mcol(\u001b[38;5;124m\"\u001b[39m\u001b[38;5;124mQuantity [MW]\u001b[39m\u001b[38;5;124m\"\u001b[39m) \u001b[38;5;241m*\u001b[39m pl\u001b[38;5;241m.\u001b[39mcol(\u001b[43mcol_name\u001b[49m))\u001b[38;5;241m.\u001b[39malias(\u001b[38;5;124m\"\u001b[39m\u001b[38;5;124mvolume_price\u001b[39m\u001b[38;5;124m\"\u001b[39m)\n\u001b[1;32m      6\u001b[0m         ])\u001b[38;5;241m.\u001b[39mgroup_by([\u001b[38;5;124m\"\u001b[39m\u001b[38;5;124mdatetime\u001b[39m\u001b[38;5;124m\"\u001b[39m, \u001b[38;5;124m\"\u001b[39m\u001b[38;5;124mmarket\u001b[39m\u001b[38;5;124m\"\u001b[39m])\u001b[38;5;241m.\u001b[39magg(\n\u001b[1;32m      7\u001b[0m             pl\u001b[38;5;241m.\u001b[39mstruct(\n\u001b[1;32m      8\u001b[0m             c(col_name)\u001b[38;5;241m.\u001b[39mmax()\u001b[38;5;241m.\u001b[39malias(\u001b[38;5;124m\"\u001b[39m\u001b[38;5;124mmax\u001b[39m\u001b[38;5;124m\"\u001b[39m),\n\u001b[1;32m      9\u001b[0m             ((c(col_name) \u001b[38;5;241m*\u001b[39mc(\u001b[38;5;124m\"\u001b[39m\u001b[38;5;124mQuantity [MW]\u001b[39m\u001b[38;5;124m\"\u001b[39m))\u001b[38;5;241m.\u001b[39msum()\u001b[38;5;241m/\u001b[39mc(\u001b[38;5;124m\"\u001b[39m\u001b[38;5;124mQuantity [MW]\u001b[39m\u001b[38;5;124m\"\u001b[39m)\u001b[38;5;241m.\u001b[39msum())\u001b[38;5;241m.\u001b[39malias(\u001b[38;5;124m\"\u001b[39m\u001b[38;5;124mmean\u001b[39m\u001b[38;5;124m\"\u001b[39m), \n\u001b[1;32m     10\u001b[0m             c(col_name)\u001b[38;5;241m.\u001b[39mmin()\u001b[38;5;241m.\u001b[39malias(\u001b[38;5;124m\"\u001b[39m\u001b[38;5;124mmin\u001b[39m\u001b[38;5;124m\"\u001b[39m))\u001b[38;5;241m.\u001b[39malias(\u001b[38;5;124m\"\u001b[39m\u001b[38;5;124mprice\u001b[39m\u001b[38;5;124m\"\u001b[39m)\n\u001b[1;32m     11\u001b[0m         )\u001b[38;5;241m.\u001b[39mwith_columns(\n\u001b[1;32m     12\u001b[0m             pl\u001b[38;5;241m.\u001b[39mlit(\u001b[38;5;124m\"\u001b[39m\u001b[38;5;124m[EUR/MWh]\u001b[39m\u001b[38;5;124m\"\u001b[39m)\u001b[38;5;241m.\u001b[39malias(\u001b[38;5;124m\"\u001b[39m\u001b[38;5;124munit\u001b[39m\u001b[38;5;124m\"\u001b[39m)\n\u001b[1;32m     13\u001b[0m         )\n",
      "\u001b[0;31mNameError\u001b[0m: name 'col_name' is not defined"
     ]
    }
   ],
   "source": [
    "pl.read_csv(file_path, separator=\",\", has_header=True, null_values=[\"NA\"])\\\n",
    "        .with_columns([\n",
    "            pl.col(\"Time from [CET/CEST]\").str.to_datetime(\"%Y-%m-%d %H:%M:%S\").alias(\"datetime\"), \n",
    "            pl.concat_str([\"Type\", \"Direction\"], separator=\"_\").alias(\"market\"), \n",
    "            (pl.col(\"Quantity [MW]\") * pl.col(col_name)).alias(\"volume_price\")\n",
    "        ]).group_by([\"datetime\", \"market\"]).agg(\n",
    "            pl.struct(\n",
    "            c(col_name).max().alias(\"max\"),\n",
    "            ((c(col_name) *c(\"Quantity [MW]\")).sum()/c(\"Quantity [MW]\").sum()).alias(\"mean\"), \n",
    "            c(col_name).min().alias(\"min\")).alias(\"price\")\n",
    "        ).with_columns(\n",
    "            pl.lit(\"[EUR/MWh]\").alias(\"unit\")\n",
    "        )"
   ]
  },
  {
   "cell_type": "code",
   "execution_count": 7,
   "metadata": {},
   "outputs": [
    {
     "ename": "ColumnNotFoundError",
     "evalue": "\"datetime\" not found",
     "output_type": "error",
     "traceback": [
      "\u001b[0;31m---------------------------------------------------------------------------\u001b[0m",
      "\u001b[0;31mColumnNotFoundError\u001b[0m                       Traceback (most recent call last)",
      "Cell \u001b[0;32mIn[7], line 1\u001b[0m\n\u001b[0;32m----> 1\u001b[0m \u001b[43mdata\u001b[49m\u001b[38;5;241;43m.\u001b[39;49m\u001b[43msort\u001b[49m\u001b[43m(\u001b[49m\u001b[38;5;124;43m\"\u001b[39;49m\u001b[38;5;124;43mdatetime\u001b[39;49m\u001b[38;5;124;43m\"\u001b[39;49m\u001b[43m)\u001b[49m\n",
      "File \u001b[0;32m~/git/smallflex-vpp-codes/.venv/lib/python3.12/site-packages/polars/dataframe/frame.py:5140\u001b[0m, in \u001b[0;36mDataFrame.sort\u001b[0;34m(self, by, descending, nulls_last, multithreaded, maintain_order, *more_by)\u001b[0m\n\u001b[1;32m   5035\u001b[0m \u001b[38;5;28;01mdef\u001b[39;00m \u001b[38;5;21msort\u001b[39m(\n\u001b[1;32m   5036\u001b[0m     \u001b[38;5;28mself\u001b[39m,\n\u001b[1;32m   5037\u001b[0m     by: IntoExpr \u001b[38;5;241m|\u001b[39m Iterable[IntoExpr],\n\u001b[0;32m   (...)\u001b[0m\n\u001b[1;32m   5042\u001b[0m     maintain_order: \u001b[38;5;28mbool\u001b[39m \u001b[38;5;241m=\u001b[39m \u001b[38;5;28;01mFalse\u001b[39;00m,\n\u001b[1;32m   5043\u001b[0m ) \u001b[38;5;241m-\u001b[39m\u001b[38;5;241m>\u001b[39m DataFrame:\n\u001b[1;32m   5044\u001b[0m \u001b[38;5;250m    \u001b[39m\u001b[38;5;124;03m\"\"\"\u001b[39;00m\n\u001b[1;32m   5045\u001b[0m \u001b[38;5;124;03m    Sort the dataframe by the given columns.\u001b[39;00m\n\u001b[1;32m   5046\u001b[0m \n\u001b[0;32m   (...)\u001b[0m\n\u001b[1;32m   5128\u001b[0m \u001b[38;5;124;03m    └──────┴─────┴─────┘\u001b[39;00m\n\u001b[1;32m   5129\u001b[0m \u001b[38;5;124;03m    \"\"\"\u001b[39;00m\n\u001b[1;32m   5130\u001b[0m     \u001b[38;5;28;01mreturn\u001b[39;00m (\n\u001b[1;32m   5131\u001b[0m         \u001b[38;5;28;43mself\u001b[39;49m\u001b[38;5;241;43m.\u001b[39;49m\u001b[43mlazy\u001b[49m\u001b[43m(\u001b[49m\u001b[43m)\u001b[49m\n\u001b[1;32m   5132\u001b[0m \u001b[43m        \u001b[49m\u001b[38;5;241;43m.\u001b[39;49m\u001b[43msort\u001b[49m\u001b[43m(\u001b[49m\n\u001b[1;32m   5133\u001b[0m \u001b[43m            \u001b[49m\u001b[43mby\u001b[49m\u001b[43m,\u001b[49m\n\u001b[1;32m   5134\u001b[0m \u001b[43m            \u001b[49m\u001b[38;5;241;43m*\u001b[39;49m\u001b[43mmore_by\u001b[49m\u001b[43m,\u001b[49m\n\u001b[1;32m   5135\u001b[0m \u001b[43m            \u001b[49m\u001b[43mdescending\u001b[49m\u001b[38;5;241;43m=\u001b[39;49m\u001b[43mdescending\u001b[49m\u001b[43m,\u001b[49m\n\u001b[1;32m   5136\u001b[0m \u001b[43m            \u001b[49m\u001b[43mnulls_last\u001b[49m\u001b[38;5;241;43m=\u001b[39;49m\u001b[43mnulls_last\u001b[49m\u001b[43m,\u001b[49m\n\u001b[1;32m   5137\u001b[0m \u001b[43m            \u001b[49m\u001b[43mmultithreaded\u001b[49m\u001b[38;5;241;43m=\u001b[39;49m\u001b[43mmultithreaded\u001b[49m\u001b[43m,\u001b[49m\n\u001b[1;32m   5138\u001b[0m \u001b[43m            \u001b[49m\u001b[43mmaintain_order\u001b[49m\u001b[38;5;241;43m=\u001b[39;49m\u001b[43mmaintain_order\u001b[49m\u001b[43m,\u001b[49m\n\u001b[1;32m   5139\u001b[0m \u001b[43m        \u001b[49m\u001b[43m)\u001b[49m\n\u001b[0;32m-> 5140\u001b[0m \u001b[43m        \u001b[49m\u001b[38;5;241;43m.\u001b[39;49m\u001b[43mcollect\u001b[49m\u001b[43m(\u001b[49m\u001b[43m_eager\u001b[49m\u001b[38;5;241;43m=\u001b[39;49m\u001b[38;5;28;43;01mTrue\u001b[39;49;00m\u001b[43m)\u001b[49m\n\u001b[1;32m   5141\u001b[0m     )\n",
      "File \u001b[0;32m~/git/smallflex-vpp-codes/.venv/lib/python3.12/site-packages/polars/lazyframe/frame.py:2050\u001b[0m, in \u001b[0;36mLazyFrame.collect\u001b[0;34m(self, type_coercion, predicate_pushdown, projection_pushdown, simplify_expression, slice_pushdown, comm_subplan_elim, comm_subexpr_elim, cluster_with_columns, collapse_joins, no_optimization, streaming, engine, background, _eager, **_kwargs)\u001b[0m\n\u001b[1;32m   2048\u001b[0m \u001b[38;5;66;03m# Only for testing purposes\u001b[39;00m\n\u001b[1;32m   2049\u001b[0m callback \u001b[38;5;241m=\u001b[39m _kwargs\u001b[38;5;241m.\u001b[39mget(\u001b[38;5;124m\"\u001b[39m\u001b[38;5;124mpost_opt_callback\u001b[39m\u001b[38;5;124m\"\u001b[39m, callback)\n\u001b[0;32m-> 2050\u001b[0m \u001b[38;5;28;01mreturn\u001b[39;00m wrap_df(\u001b[43mldf\u001b[49m\u001b[38;5;241;43m.\u001b[39;49m\u001b[43mcollect\u001b[49m\u001b[43m(\u001b[49m\u001b[43mcallback\u001b[49m\u001b[43m)\u001b[49m)\n",
      "\u001b[0;31mColumnNotFoundError\u001b[0m: \"datetime\" not found"
     ]
    }
   ],
   "source": [
    "data.sort(\"datetime\")"
   ]
  },
  {
   "cell_type": "code",
   "execution_count": 8,
   "metadata": {},
   "outputs": [
    {
     "ename": "IndentationError",
     "evalue": "unexpected indent (1432515968.py, line 4)",
     "output_type": "error",
     "traceback": [
      "\u001b[0;36m  Cell \u001b[0;32mIn[8], line 4\u001b[0;36m\u001b[0m\n\u001b[0;31m    file_path = os.path.join(local_file_path, file_name)\u001b[0m\n\u001b[0m    ^\u001b[0m\n\u001b[0;31mIndentationError\u001b[0m\u001b[0;31m:\u001b[0m unexpected indent\n"
     ]
    }
   ],
   "source": [
    "\n",
    "all_data = pl.DataFrame()\n",
    "\n",
    "\n",
    "    file_path = os.path.join(local_file_path, file_name)\n",
    "    df_temp = pl.read_csv(file_path, separator=\",\", has_header=True, null_values=[\"NA\"])\n",
    "    df_temp = df_temp.with_columns([\n",
    "        pl.col(\"Time from [CET/CEST]\").alias(\"datetime\"), \n",
    "        pl.concat_str([\"Type\", \"Direction\"], separator=\"_\").alias(\"market\"), \n",
    "        (pl.col(\"Quantity [MW]\") * pl.col(col_name)).alias(\"volume_price\")\n",
    "        ]).group_by(by=[\"datetime\", \"market\"]).sum().with_columns(\n",
    "            (pl.col(\"volume_price\") / pl.col(\"Quantity [MW]\")).alias(final_col)\n",
    "            ).select([\"datetime\", \"market\", final_col]).with_columns(\n",
    "                pl.col(\"datetime\").str.to_datetime(\"%Y-%m-%d %H:%M:%S\")\n",
    "                )\n",
    "    df_temp0 = df_temp.filter(~pl.col(\"market\").is_in([\"SRR_NEG\", \"TRR_NEG\"]))\n",
    "    if energy:\n",
    "        df_temp1 = df_temp.filter(pl.col(\"market\").is_in([\"SRR_NEG\", \"TRR_NEG\"])).with_columns(- pl.col(final_col))  # pylint: disable= invalid-unary-operand-type\n",
    "    else:\n",
    "        df_temp1 = df_temp.filter(pl.col(\"market\").is_in([\"SRR_NEG\", \"TRR_NEG\"]))\n",
    "    all_data = pl.concat([all_data, df_temp0, df_temp1], how=\"diagonal\")\n",
    "all_data = all_data.unique().sort(\"datetime\")\n",
    "if where is not None:\n",
    "    save_pyarrow_data(all_data, where)\n",
    "return all_data"
   ]
  },
  {
   "cell_type": "code",
   "execution_count": 7,
   "metadata": {},
   "outputs": [
    {
     "data": {
      "text/html": [
       "<div><style>\n",
       ".dataframe > thead > tr,\n",
       ".dataframe > tbody > tr {\n",
       "  text-align: right;\n",
       "  white-space: pre-wrap;\n",
       "}\n",
       "</style>\n",
       "<small>shape: (352_180, 7)</small><table border=\"1\" class=\"dataframe\"><thead><tr><th>Time from [CET/CEST]</th><th>Time to [CET/CEST]</th><th>Type</th><th>Direction</th><th>Rank</th><th>Quantity [MW]</th><th>Capacity Price [€/MWh]</th></tr><tr><td>str</td><td>str</td><td>str</td><td>str</td><td>i64</td><td>f64</td><td>f64</td></tr></thead><tbody><tr><td>&quot;2020-01-01 00:00:00&quot;</td><td>&quot;2020-01-01 04:00:00&quot;</td><td>&quot;SRR&quot;</td><td>&quot;NEG&quot;</td><td>1</td><td>1.0</td><td>4.0</td></tr><tr><td>&quot;2020-01-01 00:00:00&quot;</td><td>&quot;2020-01-01 04:00:00&quot;</td><td>&quot;SRR&quot;</td><td>&quot;NEG&quot;</td><td>2</td><td>5.0</td><td>4.5</td></tr><tr><td>&quot;2020-01-01 00:00:00&quot;</td><td>&quot;2020-01-01 04:00:00&quot;</td><td>&quot;SRR&quot;</td><td>&quot;NEG&quot;</td><td>3</td><td>8.0</td><td>5.0</td></tr><tr><td>&quot;2020-01-01 00:00:00&quot;</td><td>&quot;2020-01-01 04:00:00&quot;</td><td>&quot;SRR&quot;</td><td>&quot;NEG&quot;</td><td>4</td><td>5.0</td><td>5.0</td></tr><tr><td>&quot;2020-01-01 00:00:00&quot;</td><td>&quot;2020-01-01 04:00:00&quot;</td><td>&quot;SRR&quot;</td><td>&quot;NEG&quot;</td><td>5</td><td>1.0</td><td>5.0</td></tr><tr><td>&hellip;</td><td>&hellip;</td><td>&hellip;</td><td>&hellip;</td><td>&hellip;</td><td>&hellip;</td><td>&hellip;</td></tr><tr><td>&quot;2020-12-31 20:00:00&quot;</td><td>&quot;2021-01-01 00:00:00&quot;</td><td>&quot;TRR&quot;</td><td>&quot;POS&quot;</td><td>43</td><td>5.0</td><td>1.69</td></tr><tr><td>&quot;2020-12-31 20:00:00&quot;</td><td>&quot;2021-01-01 00:00:00&quot;</td><td>&quot;TRR&quot;</td><td>&quot;POS&quot;</td><td>44</td><td>5.0</td><td>1.71</td></tr><tr><td>&quot;2020-12-31 20:00:00&quot;</td><td>&quot;2021-01-01 00:00:00&quot;</td><td>&quot;TRR&quot;</td><td>&quot;POS&quot;</td><td>45</td><td>5.0</td><td>1.73</td></tr><tr><td>&quot;2020-12-31 20:00:00&quot;</td><td>&quot;2021-01-01 00:00:00&quot;</td><td>&quot;TRR&quot;</td><td>&quot;POS&quot;</td><td>46</td><td>5.0</td><td>1.81</td></tr><tr><td>&quot;2020-12-31 20:00:00&quot;</td><td>&quot;2021-01-01 00:00:00&quot;</td><td>&quot;TRR&quot;</td><td>&quot;POS&quot;</td><td>47</td><td>10.0</td><td>1.86</td></tr></tbody></table></div>"
      ],
      "text/plain": [
       "shape: (352_180, 7)\n",
       "┌────────────┬─────────────────────┬──────┬───────────┬──────┬───────────────┬────────────────┐\n",
       "│ Time from  ┆ Time to [CET/CEST]  ┆ Type ┆ Direction ┆ Rank ┆ Quantity [MW] ┆ Capacity Price │\n",
       "│ [CET/CEST] ┆ ---                 ┆ ---  ┆ ---       ┆ ---  ┆ ---           ┆ [€/MWh]        │\n",
       "│ ---        ┆ str                 ┆ str  ┆ str       ┆ i64  ┆ f64           ┆ ---            │\n",
       "│ str        ┆                     ┆      ┆           ┆      ┆               ┆ f64            │\n",
       "╞════════════╪═════════════════════╪══════╪═══════════╪══════╪═══════════════╪════════════════╡\n",
       "│ 2020-01-01 ┆ 2020-01-01 04:00:00 ┆ SRR  ┆ NEG       ┆ 1    ┆ 1.0           ┆ 4.0            │\n",
       "│ 00:00:00   ┆                     ┆      ┆           ┆      ┆               ┆                │\n",
       "│ 2020-01-01 ┆ 2020-01-01 04:00:00 ┆ SRR  ┆ NEG       ┆ 2    ┆ 5.0           ┆ 4.5            │\n",
       "│ 00:00:00   ┆                     ┆      ┆           ┆      ┆               ┆                │\n",
       "│ 2020-01-01 ┆ 2020-01-01 04:00:00 ┆ SRR  ┆ NEG       ┆ 3    ┆ 8.0           ┆ 5.0            │\n",
       "│ 00:00:00   ┆                     ┆      ┆           ┆      ┆               ┆                │\n",
       "│ 2020-01-01 ┆ 2020-01-01 04:00:00 ┆ SRR  ┆ NEG       ┆ 4    ┆ 5.0           ┆ 5.0            │\n",
       "│ 00:00:00   ┆                     ┆      ┆           ┆      ┆               ┆                │\n",
       "│ 2020-01-01 ┆ 2020-01-01 04:00:00 ┆ SRR  ┆ NEG       ┆ 5    ┆ 1.0           ┆ 5.0            │\n",
       "│ 00:00:00   ┆                     ┆      ┆           ┆      ┆               ┆                │\n",
       "│ …          ┆ …                   ┆ …    ┆ …         ┆ …    ┆ …             ┆ …              │\n",
       "│ 2020-12-31 ┆ 2021-01-01 00:00:00 ┆ TRR  ┆ POS       ┆ 43   ┆ 5.0           ┆ 1.69           │\n",
       "│ 20:00:00   ┆                     ┆      ┆           ┆      ┆               ┆                │\n",
       "│ 2020-12-31 ┆ 2021-01-01 00:00:00 ┆ TRR  ┆ POS       ┆ 44   ┆ 5.0           ┆ 1.71           │\n",
       "│ 20:00:00   ┆                     ┆      ┆           ┆      ┆               ┆                │\n",
       "│ 2020-12-31 ┆ 2021-01-01 00:00:00 ┆ TRR  ┆ POS       ┆ 45   ┆ 5.0           ┆ 1.73           │\n",
       "│ 20:00:00   ┆                     ┆      ┆           ┆      ┆               ┆                │\n",
       "│ 2020-12-31 ┆ 2021-01-01 00:00:00 ┆ TRR  ┆ POS       ┆ 46   ┆ 5.0           ┆ 1.81           │\n",
       "│ 20:00:00   ┆                     ┆      ┆           ┆      ┆               ┆                │\n",
       "│ 2020-12-31 ┆ 2021-01-01 00:00:00 ┆ TRR  ┆ POS       ┆ 47   ┆ 10.0          ┆ 1.86           │\n",
       "│ 20:00:00   ┆                     ┆      ┆           ┆      ┆               ┆                │\n",
       "└────────────┴─────────────────────┴──────┴───────────┴──────┴───────────────┴────────────────┘"
      ]
     },
     "execution_count": 7,
     "metadata": {},
     "output_type": "execute_result"
    }
   ],
   "source": [
    "data"
   ]
  }
 ],
 "metadata": {
  "kernelspec": {
   "display_name": ".venv",
   "language": "python",
   "name": "python3"
  },
  "language_info": {
   "codemirror_mode": {
    "name": "ipython",
    "version": 3
   },
   "file_extension": ".py",
   "mimetype": "text/x-python",
   "name": "python",
   "nbconvert_exporter": "python",
   "pygments_lexer": "ipython3",
   "version": "3.12.6"
  }
 },
 "nbformat": 4,
 "nbformat_minor": 2
}
