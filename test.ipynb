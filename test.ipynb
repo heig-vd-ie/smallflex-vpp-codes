{
 "cells": [
  {
   "cell_type": "code",
   "execution_count": 1,
   "metadata": {},
   "outputs": [],
   "source": [
    "import json\n",
    "import os\n",
    "import polars as pl\n",
    "from polars import col as c\n",
    "import polars.selectors as cs\n",
    "import re\n",
    "from data_federation.input_model import SmallflexInputSchema\n",
    "import owncloud\n",
    "\n",
    "\n",
    "from data_federation.parser.market_price import parse_market_price\n",
    "from data_federation.parser.discharge_flow import parse_discharge_flow\n",
    "from data_federation.parser.weather import parse_weather\n",
    "from data_federation.parser.aegina_hydro_power_plant import parse_aegina_hydro_power_plant\n",
    "from data_federation.parser.merezenbach_hydro_power_plant import parse_merezenbach_hydro_power_plant\n",
    "from data_federation.parser.morel_hydro_power_plant import parse_morel_hydro_power_plant\n",
    "from utility.general_function import dictionary_key_filtering, scan_switch_directory, modify_string, generate_uuid, pl_to_dict\n",
    "from utility.polars_operation import modify_string_col, generate_uuid_col\n",
    "\n",
    "from data_federation.parser.hydro_power_plant import get_hydro_power_plant_data\n",
    "from config import settings\n",
    "import plotly.express as px\n",
    "\n",
    "from itertools import product\n",
    "\n",
    "os.chdir(os.getcwd().replace(\"/src\", \"\"))\n",
    "\n",
    "\n"
   ]
  },
  {
   "cell_type": "code",
   "execution_count": 2,
   "metadata": {},
   "outputs": [],
   "source": [
    "input_file_names: dict[str, str] = json.load(open(settings.INPUT_FILE_NAMES))\n",
    "market_price_metadata: dict = json.load(open(input_file_names[\"market_price_metadata\"]))\n",
    "small_flex_input_schema: SmallflexInputSchema = SmallflexInputSchema()"
   ]
  },
  {
   "cell_type": "code",
   "execution_count": 3,
   "metadata": {},
   "outputs": [],
   "source": [
    "kwargs: dict = {\"small_flex_input_schema\": small_flex_input_schema, \"input_file_names\": input_file_names}\n",
    "# kwargs[\"small_flex_input_schema\"] = parse_market_price(**kwargs)\n",
    "# kwargs[\"small_flex_input_schema\"] = parse_discharge_flow(**kwargs)\n",
    "# kwargs[\"small_flex_input_schema\"] = parse_weather(**kwargs, area=\"greis\")\n",
    "kwargs[\"small_flex_input_schema\"] = parse_aegina_hydro_power_plant(**kwargs)\n",
    "kwargs[\"small_flex_input_schema\"] = parse_merezenbach_hydro_power_plant(**kwargs)\n",
    "kwargs[\"small_flex_input_schema\"] = parse_morel_hydro_power_plant(**kwargs)\n",
    "# kwargs[\"small_flex_input_schema\"] "
   ]
  },
  {
   "cell_type": "code",
   "execution_count": 5,
   "metadata": {},
   "outputs": [
    {
     "data": {
      "text/plain": [
       "SmallflexInputSchema(humidity=shape: (0, 4)\n",
       "┌───────────────────┬───────────┬──────────────┬───────┐\n",
       "│ timestamp         ┆ sub_basin ┆ start_height ┆ value │\n",
       "│ ---               ┆ ---       ┆ ---          ┆ ---   │\n",
       "│ datetime[μs, UTC] ┆ str       ┆ i32          ┆ f64   │\n",
       "╞═══════════════════╪═══════════╪══════════════╪═══════╡\n",
       "└───────────────────┴───────────┴──────────────┴───────┘, basin_height=shape: (1_826, 3)\n",
       "┌─────────────────────────────────┬─────────────────────────┬─────────┐\n",
       "│ water_basin_fk                  ┆ timestamp               ┆ height  │\n",
       "│ ---                             ┆ ---                     ┆ ---     │\n",
       "│ str                             ┆ datetime[μs, UTC]       ┆ f64     │\n",
       "╞═════════════════════════════════╪═════════════════════════╪═════════╡\n",
       "│ f7ef6d1c-fa81-556e-8c39-66cf9a… ┆ 2018-10-01 00:00:00 UTC ┆ 2384.0  │\n",
       "│ f7ef6d1c-fa81-556e-8c39-66cf9a… ┆ 2018-10-02 00:00:00 UTC ┆ 2384.0  │\n",
       "│ f7ef6d1c-fa81-556e-8c39-66cf9a… ┆ 2018-10-03 00:00:00 UTC ┆ 2384.0  │\n",
       "│ f7ef6d1c-fa81-556e-8c39-66cf9a… ┆ 2018-10-04 00:00:00 UTC ┆ 2384.0  │\n",
       "│ f7ef6d1c-fa81-556e-8c39-66cf9a… ┆ 2018-10-05 00:00:00 UTC ┆ 2384.0  │\n",
       "│ …                               ┆ …                       ┆ …       │\n",
       "│ f7ef6d1c-fa81-556e-8c39-66cf9a… ┆ 2023-09-26 00:00:00 UTC ┆ 2383.47 │\n",
       "│ f7ef6d1c-fa81-556e-8c39-66cf9a… ┆ 2023-09-27 00:00:00 UTC ┆ 2383.26 │\n",
       "│ f7ef6d1c-fa81-556e-8c39-66cf9a… ┆ 2023-09-28 00:00:00 UTC ┆ 2383.2  │\n",
       "│ f7ef6d1c-fa81-556e-8c39-66cf9a… ┆ 2023-09-29 00:00:00 UTC ┆ 2383.24 │\n",
       "│ f7ef6d1c-fa81-556e-8c39-66cf9a… ┆ 2023-09-30 00:00:00 UTC ┆ 2383.29 │\n",
       "└─────────────────────────────────┴─────────────────────────┴─────────┘, hydro_power_plant=shape: (3, 9)\n",
       "┌───────────┬───────────┬───────────┬───────────┬───┬───────────┬───────────┬───────────┬──────────┐\n",
       "│ name      ┆ uuid      ┆ resource_ ┆ upstream_ ┆ … ┆ rated_pow ┆ rated_flo ┆ control   ┆ type     │\n",
       "│ ---       ┆ ---       ┆ fk_list   ┆ basin_fk  ┆   ┆ er        ┆ w         ┆ ---       ┆ ---      │\n",
       "│ str       ┆ str       ┆ ---       ┆ ---       ┆   ┆ ---       ┆ ---       ┆ str       ┆ str      │\n",
       "│           ┆           ┆ list[str] ┆ str       ┆   ┆ f64       ┆ f64       ┆           ┆          │\n",
       "╞═══════════╪═══════════╪═══════════╪═══════════╪═══╪═══════════╪═══════════╪═══════════╪══════════╡\n",
       "│ Aegina    ┆ 9e3da7c3- ┆ [\"f7d845f ┆ f7ef6d1c- ┆ … ┆ 9.2       ┆ 2.8       ┆ discrete  ┆ buildup_ │\n",
       "│           ┆ 5a15-5802 ┆ f-ad6b-58 ┆ fa81-556e ┆   ┆           ┆           ┆           ┆ pump_tur │\n",
       "│           ┆ -a924-d99 ┆ d4-accd-5 ┆ -8c39-66c ┆   ┆           ┆           ┆           ┆ bine     │\n",
       "│           ┆ dda…      ┆ 9b1…      ┆ f9a…      ┆   ┆           ┆           ┆           ┆          │\n",
       "│ Merezenba ┆ 094cdd39- ┆ [\"c154aa5 ┆ 828cf84b- ┆ … ┆ 1.9       ┆ 0.5       ┆ continuou ┆ buildup_ │\n",
       "│ ch        ┆ df2c-5a2d ┆ f-343b-52 ┆ 90e3-5040 ┆   ┆           ┆           ┆ s         ┆ turbine  │\n",
       "│           ┆ -9704-3de ┆ 8f-8146-7 ┆ -bed4-302 ┆   ┆           ┆           ┆           ┆          │\n",
       "│           ┆ 498…      ┆ 360…      ┆ 29e…      ┆   ┆           ┆           ┆           ┆          │\n",
       "│ Morel     ┆ 404348cd- ┆ [\"ca01006 ┆ 4c38176f- ┆ … ┆ 51.0      ┆ 22.0      ┆ continuou ┆ buildup_ │\n",
       "│           ┆ ae72-560b ┆ a-1970-59 ┆ a7e2-50de ┆   ┆           ┆           ┆ s         ┆ pump_tur │\n",
       "│           ┆ -a106-9c6 ┆ ca-bf44-9 ┆ -b8de-2b3 ┆   ┆           ┆           ┆           ┆ bine     │\n",
       "│           ┆ b65…      ┆ 9fb…      ┆ 756…      ┆   ┆           ┆           ┆           ┆          │\n",
       "└───────────┴───────────┴───────────┴───────────┴───┴───────────┴───────────┴───────────┴──────────┘, ssd=shape: (0, 4)\n",
       "┌───────────────────┬───────────┬──────────────┬───────┐\n",
       "│ timestamp         ┆ sub_basin ┆ start_height ┆ value │\n",
       "│ ---               ┆ ---       ┆ ---          ┆ ---   │\n",
       "│ datetime[μs, UTC] ┆ str       ┆ i32          ┆ f64   │\n",
       "╞═══════════════════╪═══════════╪══════════════╪═══════╡\n",
       "└───────────────────┴───────────┴──────────────┴───────┘, precipitation=shape: (0, 4)\n",
       "┌───────────────────┬───────────┬──────────────┬───────┐\n",
       "│ timestamp         ┆ sub_basin ┆ start_height ┆ value │\n",
       "│ ---               ┆ ---       ┆ ---          ┆ ---   │\n",
       "│ datetime[μs, UTC] ┆ str       ┆ i32          ┆ f64   │\n",
       "╞═══════════════════╪═══════════╪══════════════╪═══════╡\n",
       "└───────────────────┴───────────┴──────────────┴───────┘, market_price=shape: (0, 9)\n",
       "┌───────────────────┬────────┬───────────┬─────────┬───┬──────┬─────┬─────┬─────┐\n",
       "│ timestamp         ┆ market ┆ direction ┆ country ┆ … ┆ unit ┆ max ┆ avg ┆ min │\n",
       "│ ---               ┆ ---    ┆ ---       ┆ ---     ┆   ┆ ---  ┆ --- ┆ --- ┆ --- │\n",
       "│ datetime[μs, UTC] ┆ str    ┆ str       ┆ str     ┆   ┆ str  ┆ f64 ┆ f64 ┆ f64 │\n",
       "╞═══════════════════╪════════╪═══════════╪═════════╪═══╪══════╪═════╪═════╪═════╡\n",
       "└───────────────────┴────────┴───────────┴─────────┴───┴──────┴─────┴─────┴─────┘, power_plant_state=shape: (16, 4)\n",
       "┌─────────────────────────────┬──────────────┬─────────────────────────────┬───────────────────────┐\n",
       "│ uuid                        ┆ state_number ┆ power_plant_fk              ┆ resource_state_list   │\n",
       "│ ---                         ┆ ---          ┆ ---                         ┆ ---                   │\n",
       "│ str                         ┆ i32          ┆ str                         ┆ list[bool]            │\n",
       "╞═════════════════════════════╪══════════════╪═════════════════════════════╪═══════════════════════╡\n",
       "│ ce468a60-da0d-5897-a712-4e9 ┆ 0            ┆ 9e3da7c3-5a15-5802-a924-d99 ┆ [true, true, true]    │\n",
       "│ 34c…                        ┆              ┆ dda…                        ┆                       │\n",
       "│ c94c113c-0e4b-5035-ac9b-5a0 ┆ 1            ┆ 9e3da7c3-5a15-5802-a924-d99 ┆ [true, true, false]   │\n",
       "│ 2f3…                        ┆              ┆ dda…                        ┆                       │\n",
       "│ 1fc5e0d4-0ac0-5ce0-8a1b-ae4 ┆ 2            ┆ 9e3da7c3-5a15-5802-a924-d99 ┆ [true, false, true]   │\n",
       "│ cfc…                        ┆              ┆ dda…                        ┆                       │\n",
       "│ 0c2cc127-a41f-5464-87f1-6bc ┆ 3            ┆ 9e3da7c3-5a15-5802-a924-d99 ┆ [true, false, false]  │\n",
       "│ 886…                        ┆              ┆ dda…                        ┆                       │\n",
       "│ a124d562-87d9-5723-b32b-44b ┆ 4            ┆ 9e3da7c3-5a15-5802-a924-d99 ┆ [false, true, true]   │\n",
       "│ 7ae…                        ┆              ┆ dda…                        ┆                       │\n",
       "│ …                           ┆ …            ┆ …                           ┆ …                     │\n",
       "│ 4bb6ee9b-f6e5-50f0-bbc9-ceb ┆ 3            ┆ 404348cd-ae72-560b-a106-9c6 ┆ [true, false, false]  │\n",
       "│ 1a3…                        ┆              ┆ b65…                        ┆                       │\n",
       "│ 58756ffe-5c7e-5bca-9a07-54c ┆ 4            ┆ 404348cd-ae72-560b-a106-9c6 ┆ [false, true, true]   │\n",
       "│ 97f…                        ┆              ┆ b65…                        ┆                       │\n",
       "│ 3147493e-b308-56ea-bb53-94d ┆ 5            ┆ 404348cd-ae72-560b-a106-9c6 ┆ [false, true, false]  │\n",
       "│ 337…                        ┆              ┆ b65…                        ┆                       │\n",
       "│ 1d2ceeb0-a57c-589a-bdab-649 ┆ 6            ┆ 404348cd-ae72-560b-a106-9c6 ┆ [false, false, true]  │\n",
       "│ 88d…                        ┆              ┆ b65…                        ┆                       │\n",
       "│ 1a195de5-c62b-5867-9fa7-6f3 ┆ 7            ┆ 404348cd-ae72-560b-a106-9c6 ┆ [false, false, false] │\n",
       "│ e9e…                        ┆              ┆ b65…                        ┆                       │\n",
       "└─────────────────────────────┴──────────────┴─────────────────────────────┴───────────────────────┘, basin_height_volume_table=shape: (51, 3)\n",
       "┌─────────────────────────────────┬────────┬───────────┐\n",
       "│ water_basin_fk                  ┆ height ┆ volume    │\n",
       "│ ---                             ┆ ---    ┆ ---       │\n",
       "│ str                             ┆ f64    ┆ f64       │\n",
       "╞═════════════════════════════════╪════════╪═══════════╡\n",
       "│ f7ef6d1c-fa81-556e-8c39-66cf9a… ┆ 2332.0 ┆ 0.0       │\n",
       "│ f7ef6d1c-fa81-556e-8c39-66cf9a… ┆ 2333.0 ┆ 9.0       │\n",
       "│ f7ef6d1c-fa81-556e-8c39-66cf9a… ┆ 2334.0 ┆ 50.0      │\n",
       "│ f7ef6d1c-fa81-556e-8c39-66cf9a… ┆ 2335.0 ┆ 150.0     │\n",
       "│ f7ef6d1c-fa81-556e-8c39-66cf9a… ┆ 2336.0 ┆ 365.0     │\n",
       "│ …                               ┆ …      ┆ …         │\n",
       "│ f7ef6d1c-fa81-556e-8c39-66cf9a… ┆ 2378.0 ┆ 1.34132e7 │\n",
       "│ f7ef6d1c-fa81-556e-8c39-66cf9a… ┆ 2379.0 ┆ 1.40021e7 │\n",
       "│ f7ef6d1c-fa81-556e-8c39-66cf9a… ┆ 2380.0 ┆ 1.45983e7 │\n",
       "│ f7ef6d1c-fa81-556e-8c39-66cf9a… ┆ 2381.0 ┆ 1.52017e7 │\n",
       "│ f7ef6d1c-fa81-556e-8c39-66cf9a… ┆ 2382.0 ┆ 1.581e7   │\n",
       "└─────────────────────────────────┴────────┴───────────┘, water_basin=shape: (6, 7)\n",
       "┌───────────────┬───────────────┬──────────────┬────────────┬────────────┬────────────┬────────────┐\n",
       "│ name          ┆ uuid          ┆ power_plant_ ┆ volume_max ┆ volume_min ┆ height_max ┆ height_min │\n",
       "│ ---           ┆ ---           ┆ fk           ┆ ---        ┆ ---        ┆ ---        ┆ ---        │\n",
       "│ str           ┆ str           ┆ ---          ┆ f64        ┆ f64        ┆ f64        ┆ f64        │\n",
       "│               ┆               ┆ str          ┆            ┆            ┆            ┆            │\n",
       "╞═══════════════╪═══════════════╪══════════════╪════════════╪════════════╪════════════╪════════════╡\n",
       "│ Aegina        ┆ f7ef6d1c-fa81 ┆ 9e3da7c3-5a1 ┆ 1.58e7     ┆ 56996.0    ┆ 2382.0     ┆ 2340.0     │\n",
       "│ upstream      ┆ -556e-8c39-66 ┆ 5-5802-a924- ┆            ┆            ┆            ┆            │\n",
       "│ basin         ┆ cf9a…         ┆ d99dda…      ┆            ┆            ┆            ┆            │\n",
       "│ Aegina        ┆ fa0d5019-59c1 ┆ 9e3da7c3-5a1 ┆ 1e6        ┆ null       ┆ 1970.0     ┆ null       │\n",
       "│ downstream    ┆ -5181-81f7-a5 ┆ 5-5802-a924- ┆            ┆            ┆            ┆            │\n",
       "│ basin         ┆ fe9f…         ┆ d99dda…      ┆            ┆            ┆            ┆            │\n",
       "│ Merezenbach   ┆ 828cf84b-90e3 ┆ 094cdd39-df2 ┆ 1200.0     ┆ 0.0        ┆ 1842.7     ┆ null       │\n",
       "│ upstream      ┆ -5040-bed4-30 ┆ c-5a2d-9704- ┆            ┆            ┆            ┆            │\n",
       "│ basin         ┆ 229e…         ┆ 3de498…      ┆            ┆            ┆            ┆            │\n",
       "│ Merezenbach   ┆ 845258d3-8688 ┆ 094cdd39-df2 ┆ 0.0        ┆ null       ┆ 1337.7     ┆ null       │\n",
       "│ downstream    ┆ -5a75-8669-ab ┆ c-5a2d-9704- ┆            ┆            ┆            ┆            │\n",
       "│ basin         ┆ ce2d…         ┆ 3de498…      ┆            ┆            ┆            ┆            │\n",
       "│ Morel         ┆ 4c38176f-a7e2 ┆ 404348cd-ae7 ┆ 20000.0    ┆ 0.0        ┆ 985.15     ┆ 981.36     │\n",
       "│ upstream      ┆ -50de-b8de-2b ┆ 2-560b-a106- ┆            ┆            ┆            ┆            │\n",
       "│ basin         ┆ 3756…         ┆ 9c6b65…      ┆            ┆            ┆            ┆            │\n",
       "│ Morel         ┆ 0379a482-4dea ┆ 404348cd-ae7 ┆ 0.0        ┆ null       ┆ 739.2      ┆ null       │\n",
       "│ downstream    ┆ -5092-87de-65 ┆ 2-560b-a106- ┆            ┆            ┆            ┆            │\n",
       "│ basin         ┆ 6278…         ┆ 9c6b65…      ┆            ┆            ┆            ┆            │\n",
       "└───────────────┴───────────────┴──────────────┴────────────┴────────────┴────────────┴────────────┘, irradiation=shape: (0, 4)\n",
       "┌───────────────────┬───────────┬──────────────┬───────┐\n",
       "│ timestamp         ┆ sub_basin ┆ start_height ┆ value │\n",
       "│ ---               ┆ ---       ┆ ---          ┆ ---   │\n",
       "│ datetime[μs, UTC] ┆ str       ┆ i32          ┆ f64   │\n",
       "╞═══════════════════╪═══════════╪══════════════╪═══════╡\n",
       "└───────────────────┴───────────┴──────────────┴───────┘, hydro_power_performance_table=shape: (205, 7)\n",
       "┌─────────────────┬────────────────┬──────────────┬────────┬─────────┬────────────────┬────────────┐\n",
       "│ power_plant_fk  ┆ power_plant_st ┆ state_number ┆ head   ┆ flow    ┆ electrical_pow ┆ efficiency │\n",
       "│ ---             ┆ ate_fk         ┆ ---          ┆ ---    ┆ ---     ┆ er             ┆ ---        │\n",
       "│ str             ┆ ---            ┆ i32          ┆ f64    ┆ f64     ┆ ---            ┆ f64        │\n",
       "│                 ┆ str            ┆              ┆        ┆         ┆ f64            ┆            │\n",
       "╞═════════════════╪════════════════╪══════════════╪════════╪═════════╪════════════════╪════════════╡\n",
       "│ 9e3da7c3-5a15-5 ┆ 38df61b2-6144- ┆ 7            ┆ 432.5  ┆ 0.0     ┆ 0.0            ┆ 0.0        │\n",
       "│ 802-a924-d99dda ┆ 593d-b913-5609 ┆              ┆        ┆         ┆                ┆            │\n",
       "│ …               ┆ 40…            ┆              ┆        ┆         ┆                ┆            │\n",
       "│ 9e3da7c3-5a15-5 ┆ ce468a60-da0d- ┆ 0            ┆ 432.5  ┆ 0.38122 ┆ -1.2768        ┆ -1.2655    │\n",
       "│ 802-a924-d99dda ┆ 5897-a712-4e93 ┆              ┆        ┆         ┆                ┆            │\n",
       "│ …               ┆ 4c…            ┆              ┆        ┆         ┆                ┆            │\n",
       "│ 9e3da7c3-5a15-5 ┆ 0c2cc127-a41f- ┆ 3            ┆ 432.5  ┆ 2.5848  ┆ 9.2969         ┆ 0.8486     │\n",
       "│ 802-a924-d99dda ┆ 5464-87f1-6bc8 ┆              ┆        ┆         ┆                ┆            │\n",
       "│ …               ┆ 86…            ┆              ┆        ┆         ┆                ┆            │\n",
       "│ 9e3da7c3-5a15-5 ┆ 1fc5e0d4-0ac0- ┆ 2            ┆ 432.5  ┆ 1.473   ┆ 4.1166         ┆ 0.65936    │\n",
       "│ 802-a924-d99dda ┆ 5ce0-8a1b-ae4c ┆              ┆        ┆         ┆                ┆            │\n",
       "│ …               ┆ fc…            ┆              ┆        ┆         ┆                ┆            │\n",
       "│ 9e3da7c3-5a15-5 ┆ a124d562-87d9- ┆ 4            ┆ 432.5  ┆ -1.9735 ┆ -10.614        ┆ 0.78813    │\n",
       "│ 802-a924-d99dda ┆ 5723-b32b-44b7 ┆              ┆        ┆         ┆                ┆            │\n",
       "│ …               ┆ ae…            ┆              ┆        ┆         ┆                ┆            │\n",
       "│ …               ┆ …              ┆ …            ┆ …      ┆ …       ┆ …              ┆ …          │\n",
       "│ 404348cd-ae72-5 ┆ 4066ebef-a13c- ┆ 0            ┆ 242.16 ┆ 19.136  ┆ 40.0           ┆ 0.88081    │\n",
       "│ 60b-a106-9c6b65 ┆ 5f79-9be7-e79e ┆              ┆        ┆         ┆                ┆            │\n",
       "│ …               ┆ e5…            ┆              ┆        ┆         ┆                ┆            │\n",
       "│ 404348cd-ae72-5 ┆ 4066ebef-a13c- ┆ 0            ┆ 242.16 ┆ 19.639  ┆ 41.0           ┆ 0.87974    │\n",
       "│ 60b-a106-9c6b65 ┆ 5f79-9be7-e79e ┆              ┆        ┆         ┆                ┆            │\n",
       "│ …               ┆ e5…            ┆              ┆        ┆         ┆                ┆            │\n",
       "│ 404348cd-ae72-5 ┆ 4066ebef-a13c- ┆ 0            ┆ 242.16 ┆ 20.172  ┆ 42.0           ┆ 0.87738    │\n",
       "│ 60b-a106-9c6b65 ┆ 5f79-9be7-e79e ┆              ┆        ┆         ┆                ┆            │\n",
       "│ …               ┆ e5…            ┆              ┆        ┆         ┆                ┆            │\n",
       "│ 404348cd-ae72-5 ┆ 4066ebef-a13c- ┆ 0            ┆ 242.16 ┆ 20.777  ┆ 43.0           ┆ 0.87209    │\n",
       "│ 60b-a106-9c6b65 ┆ 5f79-9be7-e79e ┆              ┆        ┆         ┆                ┆            │\n",
       "│ …               ┆ e5…            ┆              ┆        ┆         ┆                ┆            │\n",
       "│ 404348cd-ae72-5 ┆ 4066ebef-a13c- ┆ 0            ┆ 242.16 ┆ 21.307  ┆ 44.0           ┆ 0.87019    │\n",
       "│ 60b-a106-9c6b65 ┆ 5f79-9be7-e79e ┆              ┆        ┆         ┆                ┆            │\n",
       "│ …               ┆ e5…            ┆              ┆        ┆         ┆                ┆            │\n",
       "└─────────────────┴────────────────┴──────────────┴────────┴─────────┴────────────────┴────────────┘, resource=shape: (7, 6)\n",
       "┌──────────────────┬──────────────────┬───────────────┬──────────────────┬─────────────┬───────────┐\n",
       "│ name             ┆ uuid             ┆ type          ┆ power_plant_fk   ┆ rated_power ┆ installed │\n",
       "│ ---              ┆ ---              ┆ ---           ┆ ---              ┆ ---         ┆ ---       │\n",
       "│ str              ┆ str              ┆ str           ┆ str              ┆ f64         ┆ bool      │\n",
       "╞══════════════════╪══════════════════╪═══════════════╪══════════════════╪═════════════╪═══════════╡\n",
       "│ Aegina turbine   ┆ f7d845ff-ad6b-58 ┆ hydro_turbine ┆ 9e3da7c3-5a15-58 ┆ 9.2         ┆ true      │\n",
       "│                  ┆ d4-accd-59b1c8…  ┆               ┆ 02-a924-d99dda…  ┆             ┆           │\n",
       "│ Aegina pump 1    ┆ db200379-c96b-56 ┆ hydro_pump    ┆ 9e3da7c3-5a15-58 ┆ 6.0         ┆ false     │\n",
       "│                  ┆ 85-a446-a9d285…  ┆               ┆ 02-a924-d99dda…  ┆             ┆           │\n",
       "│ Aegina pump 2    ┆ b039c287-9763-5a ┆ hydro_pump    ┆ 9e3da7c3-5a15-58 ┆ 6.0         ┆ false     │\n",
       "│                  ┆ ec-b12b-0935cc…  ┆               ┆ 02-a924-d99dda…  ┆             ┆           │\n",
       "│ Merezenbach      ┆ c154aa5f-343b-52 ┆ hydro_turbine ┆ 094cdd39-df2c-5a ┆ 1.9         ┆ true      │\n",
       "│ turbine          ┆ 8f-8146-73601e…  ┆               ┆ 2d-9704-3de498…  ┆             ┆           │\n",
       "│ Morel turbine 1  ┆ ca01006a-1970-59 ┆ hydro_turbine ┆ 404348cd-ae72-56 ┆ 17.0        ┆ true      │\n",
       "│                  ┆ ca-bf44-99fb3f…  ┆               ┆ 0b-a106-9c6b65…  ┆             ┆           │\n",
       "│ Morel turbine 2  ┆ c139092b-bfbb-55 ┆ hydro_turbine ┆ 404348cd-ae72-56 ┆ 17.0        ┆ true      │\n",
       "│                  ┆ a8-b072-aa9233…  ┆               ┆ 0b-a106-9c6b65…  ┆             ┆           │\n",
       "│ Morel turbine 3  ┆ 36c6a942-adba-59 ┆ hydro_turbine ┆ 404348cd-ae72-56 ┆ 17.0        ┆ true      │\n",
       "│                  ┆ cf-bd9d-6503cd…  ┆               ┆ 0b-a106-9c6b65…  ┆             ┆           │\n",
       "└──────────────────┴──────────────────┴───────────────┴──────────────────┴─────────────┴───────────┘, temperature=shape: (0, 4)\n",
       "┌───────────────────┬───────────┬──────────────┬───────┐\n",
       "│ timestamp         ┆ sub_basin ┆ start_height ┆ value │\n",
       "│ ---               ┆ ---       ┆ ---          ┆ ---   │\n",
       "│ datetime[μs, UTC] ┆ str       ┆ i32          ┆ f64   │\n",
       "╞═══════════════════╪═══════════╪══════════════╪═══════╡\n",
       "└───────────────────┴───────────┴──────────────┴───────┘, wind=shape: (0, 4)\n",
       "┌───────────────────┬───────────┬──────────────┬───────┐\n",
       "│ timestamp         ┆ sub_basin ┆ start_height ┆ value │\n",
       "│ ---               ┆ ---       ┆ ---          ┆ ---   │\n",
       "│ datetime[μs, UTC] ┆ str       ┆ i32          ┆ f64   │\n",
       "╞═══════════════════╪═══════════╪══════════════╪═══════╡\n",
       "└───────────────────┴───────────┴──────────────┴───────┘, discharge_flow=shape: (0, 3)\n",
       "┌───────────────────┬───────┬───────┐\n",
       "│ timestamp         ┆ river ┆ value │\n",
       "│ ---               ┆ ---   ┆ ---   │\n",
       "│ datetime[μs, UTC] ┆ str   ┆ f64   │\n",
       "╞═══════════════════╪═══════╪═══════╡\n",
       "└───────────────────┴───────┴───────┘)"
      ]
     },
     "execution_count": 5,
     "metadata": {},
     "output_type": "execute_result"
    }
   ],
   "source": [
    "kwargs[\"small_flex_input_schema\"]"
   ]
  },
  {
   "cell_type": "code",
   "execution_count": 4,
   "metadata": {},
   "outputs": [
    {
     "ename": "AttributeError",
     "evalue": "module 'polars' has no attribute 'li'",
     "output_type": "error",
     "traceback": [
      "\u001b[0;31m---------------------------------------------------------------------------\u001b[0m",
      "\u001b[0;31mAttributeError\u001b[0m                            Traceback (most recent call last)",
      "Cell \u001b[0;32mIn[4], line 6\u001b[0m\n\u001b[1;32m      1\u001b[0m file_name \u001b[38;5;241m=\u001b[39m \u001b[38;5;124m\"\u001b[39m\u001b[38;5;124m.cache/input/greis_fmv_input_data/KWA_Seeniveau_2018-2023.csv\u001b[39m\u001b[38;5;124m\"\u001b[39m\n\u001b[1;32m      3\u001b[0m data: pl\u001b[38;5;241m.\u001b[39mDataFrame \u001b[38;5;241m=\u001b[39m pl\u001b[38;5;241m.\u001b[39mread_csv(file_name, separator\u001b[38;5;241m=\u001b[39m\u001b[38;5;124m\"\u001b[39m\u001b[38;5;124m;\u001b[39m\u001b[38;5;124m\"\u001b[39m, infer_schema_length\u001b[38;5;241m=\u001b[39m\u001b[38;5;241m0\u001b[39m)\u001b[38;5;241m.\u001b[39mselect(\n\u001b[1;32m      4\u001b[0m     c(\u001b[38;5;124m\"\u001b[39m\u001b[38;5;124mDate\u001b[39m\u001b[38;5;124m\"\u001b[39m)\u001b[38;5;241m.\u001b[39mstr\u001b[38;5;241m.\u001b[39mto_datetime(\u001b[38;5;28mformat\u001b[39m\u001b[38;5;241m=\u001b[39m\u001b[38;5;124m\"\u001b[39m\u001b[38;5;132;01m%d\u001b[39;00m\u001b[38;5;124m.\u001b[39m\u001b[38;5;124m%\u001b[39m\u001b[38;5;124mm.\u001b[39m\u001b[38;5;124m%\u001b[39m\u001b[38;5;124mY\u001b[39m\u001b[38;5;124m\"\u001b[39m, time_zone\u001b[38;5;241m=\u001b[39m\u001b[38;5;124m\"\u001b[39m\u001b[38;5;124mUTC\u001b[39m\u001b[38;5;124m\"\u001b[39m)\u001b[38;5;241m.\u001b[39malias(\u001b[38;5;124m\"\u001b[39m\u001b[38;5;124mtimestamp\u001b[39m\u001b[38;5;124m\"\u001b[39m),\n\u001b[1;32m      5\u001b[0m     c(\u001b[38;5;124m\"\u001b[39m\u001b[38;5;124mLast\u001b[39m\u001b[38;5;124m\"\u001b[39m)\u001b[38;5;241m.\u001b[39mstr\u001b[38;5;241m.\u001b[39mreplace(\u001b[38;5;124m\"\u001b[39m\u001b[38;5;124m,\u001b[39m\u001b[38;5;124m\"\u001b[39m, \u001b[38;5;124m\"\u001b[39m\u001b[38;5;124m.\u001b[39m\u001b[38;5;124m\"\u001b[39m)\u001b[38;5;241m.\u001b[39mcast(pl\u001b[38;5;241m.\u001b[39mFloat64)\u001b[38;5;241m.\u001b[39malias(\u001b[38;5;124m\"\u001b[39m\u001b[38;5;124mvolume\u001b[39m\u001b[38;5;124m\"\u001b[39m),\n\u001b[0;32m----> 6\u001b[0m     \u001b[43mpl\u001b[49m\u001b[38;5;241;43m.\u001b[39;49m\u001b[43mli\u001b[49m()\n\u001b[1;32m      7\u001b[0m )\n",
      "File \u001b[0;32m~/git/smallflex/smallflex-vpp-codes/.venv/lib/python3.12/site-packages/polars/__init__.py:429\u001b[0m, in \u001b[0;36m__getattr__\u001b[0;34m(name)\u001b[0m\n\u001b[1;32m    426\u001b[0m     \u001b[38;5;28;01mreturn\u001b[39;00m \u001b[38;5;28mgetattr\u001b[39m(dtgroup, name)\n\u001b[1;32m    428\u001b[0m msg \u001b[38;5;241m=\u001b[39m \u001b[38;5;124mf\u001b[39m\u001b[38;5;124m\"\u001b[39m\u001b[38;5;124mmodule \u001b[39m\u001b[38;5;132;01m{\u001b[39;00m\u001b[38;5;18m__name__\u001b[39m\u001b[38;5;132;01m!r}\u001b[39;00m\u001b[38;5;124m has no attribute \u001b[39m\u001b[38;5;132;01m{\u001b[39;00mname\u001b[38;5;132;01m!r}\u001b[39;00m\u001b[38;5;124m\"\u001b[39m\n\u001b[0;32m--> 429\u001b[0m \u001b[38;5;28;01mraise\u001b[39;00m \u001b[38;5;167;01mAttributeError\u001b[39;00m(msg)\n",
      "\u001b[0;31mAttributeError\u001b[0m: module 'polars' has no attribute 'li'"
     ]
    }
   ],
   "source": [
    "file_name = \".cache/input/greis_fmv_input_data/KWA_Seeniveau_2018-2023.csv\"\n",
    "\n",
    "data: pl.DataFrame = pl.read_csv(file_name, separator=\";\", infer_schema_length=0).select(\n",
    "    c(\"Date\").str.to_datetime(format=\"%d.%m.%Y\", time_zone=\"UTC\").alias(\"timestamp\"),\n",
    "    c(\"Last\").str.replace(\",\", \".\").cast(pl.Float64).alias(\"volume\"),\n",
    "    pl.li()\n",
    ")\n",
    "\n"
   ]
  },
  {
   "cell_type": "code",
   "execution_count": 5,
   "metadata": {},
   "outputs": [
    {
     "ename": "ColumnNotFoundError",
     "evalue": "time\n\nResolved plan until failure:\n\n\t---> FAILED HERE RESOLVING 'with_columns' <---\nDF [\"Ausschreibung\", \"Beschreibung\", \"Angebotenes Volumen\", \"Einheit\"]; PROJECT */16 COLUMNS; SELECTION: None",
     "output_type": "error",
     "traceback": [
      "\u001b[0;31m---------------------------------------------------------------------------\u001b[0m",
      "\u001b[0;31mColumnNotFoundError\u001b[0m                       Traceback (most recent call last)",
      "Cell \u001b[0;32mIn[5], line 9\u001b[0m\n\u001b[1;32m      5\u001b[0m         \u001b[38;5;66;03m# We remove weekly-based market prices\u001b[39;00m\n\u001b[1;32m      6\u001b[0m         data\u001b[38;5;241m.\u001b[39mrename(market_price_metadata[name][\u001b[38;5;124m\"\u001b[39m\u001b[38;5;124mcol_mapping\u001b[39m\u001b[38;5;124m\"\u001b[39m])\\\n\u001b[1;32m      7\u001b[0m             \u001b[38;5;241m.\u001b[39mfilter(pl\u001b[38;5;241m.\u001b[39mcol(\u001b[38;5;124m\"\u001b[39m\u001b[38;5;124mquantity\u001b[39m\u001b[38;5;124m\"\u001b[39m) \u001b[38;5;241m>\u001b[39m \u001b[38;5;241m0\u001b[39m)\\\n\u001b[1;32m      8\u001b[0m             \u001b[38;5;241m.\u001b[39mfilter(\u001b[38;5;241m~\u001b[39m pl\u001b[38;5;241m.\u001b[39mcol(\u001b[38;5;124m\"\u001b[39m\u001b[38;5;124mmetadata\u001b[39m\u001b[38;5;124m\"\u001b[39m)\u001b[38;5;241m.\u001b[39mstr\u001b[38;5;241m.\u001b[39mcontains(\u001b[38;5;124m\"\u001b[39m\u001b[38;5;124mKW\u001b[39m\u001b[38;5;124m\"\u001b[39m))\n\u001b[0;32m----> 9\u001b[0m         data \u001b[38;5;241m=\u001b[39m \u001b[43mdata\u001b[49m\u001b[38;5;241;43m.\u001b[39;49m\u001b[43mwith_columns\u001b[49m\u001b[43m(\u001b[49m\n\u001b[1;32m     10\u001b[0m \u001b[43m            \u001b[49m\u001b[43mpl\u001b[49m\u001b[38;5;241;43m.\u001b[39;49m\u001b[43mcol\u001b[49m\u001b[43m(\u001b[49m\u001b[38;5;124;43m\"\u001b[39;49m\u001b[38;5;124;43mtime\u001b[39;49m\u001b[38;5;124;43m\"\u001b[39;49m\u001b[43m)\u001b[49m\u001b[38;5;241;43m.\u001b[39;49m\u001b[43mstr\u001b[49m\u001b[38;5;241;43m.\u001b[39;49m\u001b[43msplit\u001b[49m\u001b[43m(\u001b[49m\u001b[38;5;124;43m\"\u001b[39;49m\u001b[38;5;124;43m bis \u001b[39;49m\u001b[38;5;124;43m\"\u001b[39;49m\u001b[43m)\u001b[49m\u001b[38;5;241;43m.\u001b[39;49m\u001b[43mlist\u001b[49m\u001b[38;5;241;43m.\u001b[39;49m\u001b[43mget\u001b[49m\u001b[43m(\u001b[49m\u001b[38;5;241;43m0\u001b[39;49m\u001b[43m)\u001b[49m\u001b[38;5;241;43m.\u001b[39;49m\u001b[43mstr\u001b[49m\u001b[38;5;241;43m.\u001b[39;49m\u001b[43msplit\u001b[49m\u001b[43m(\u001b[49m\u001b[38;5;124;43m\"\u001b[39;49m\u001b[38;5;124;43m \u001b[39;49m\u001b[38;5;124;43m\"\u001b[39;49m\u001b[43m)\u001b[49m\u001b[38;5;241;43m.\u001b[39;49m\u001b[43mlist\u001b[49m\u001b[38;5;241;43m.\u001b[39;49m\u001b[43mget\u001b[49m\u001b[43m(\u001b[49m\u001b[38;5;241;43m-\u001b[39;49m\u001b[38;5;241;43m1\u001b[39;49m\u001b[43m)\u001b[49m\u001b[38;5;241;43m.\u001b[39;49m\u001b[43malias\u001b[49m\u001b[43m(\u001b[49m\u001b[38;5;124;43m\"\u001b[39;49m\u001b[38;5;124;43mtime\u001b[39;49m\u001b[38;5;124;43m\"\u001b[39;49m\u001b[43m)\u001b[49m\u001b[43m,\u001b[49m\n\u001b[1;32m     11\u001b[0m \u001b[43m            \u001b[49m\u001b[43mpl\u001b[49m\u001b[38;5;241;43m.\u001b[39;49m\u001b[43mcol\u001b[49m\u001b[43m(\u001b[49m\u001b[38;5;124;43m\"\u001b[39;49m\u001b[38;5;124;43mmetadata\u001b[39;49m\u001b[38;5;124;43m\"\u001b[39;49m\u001b[43m)\u001b[49m\u001b[38;5;241;43m.\u001b[39;49m\u001b[43mstr\u001b[49m\u001b[38;5;241;43m.\u001b[39;49m\u001b[43msplit_exact\u001b[49m\u001b[43m(\u001b[49m\u001b[38;5;124;43m\"\u001b[39;49m\u001b[38;5;124;43m_\u001b[39;49m\u001b[38;5;124;43m\"\u001b[39;49m\u001b[43m,\u001b[49m\u001b[43m \u001b[49m\u001b[38;5;241;43m4\u001b[39;49m\u001b[43m)\u001b[49m\u001b[38;5;241;43m.\u001b[39;49m\u001b[43mstruct\u001b[49m\u001b[38;5;241;43m.\u001b[39;49m\u001b[43mrename_fields\u001b[49m\u001b[43m(\u001b[49m\u001b[43m[\u001b[49m\u001b[38;5;124;43m\"\u001b[39;49m\u001b[38;5;124;43mmarket\u001b[39;49m\u001b[38;5;124;43m\"\u001b[39;49m\u001b[43m,\u001b[49m\u001b[43m \u001b[49m\u001b[38;5;124;43m\"\u001b[39;49m\u001b[38;5;124;43my\u001b[39;49m\u001b[38;5;124;43m\"\u001b[39;49m\u001b[43m,\u001b[49m\u001b[43m \u001b[49m\u001b[38;5;124;43m\"\u001b[39;49m\u001b[38;5;124;43mm\u001b[39;49m\u001b[38;5;124;43m\"\u001b[39;49m\u001b[43m,\u001b[49m\u001b[43m \u001b[49m\u001b[38;5;124;43m\"\u001b[39;49m\u001b[38;5;124;43md\u001b[39;49m\u001b[38;5;124;43m\"\u001b[39;49m\u001b[43m]\u001b[49m\u001b[43m)\u001b[49m\u001b[43m,\u001b[49m\n\u001b[1;32m     12\u001b[0m \u001b[43m        \u001b[49m\u001b[43m)\u001b[49m\u001b[38;5;241m.\u001b[39munnest(\u001b[38;5;124m\"\u001b[39m\u001b[38;5;124mmetadata\u001b[39m\u001b[38;5;124m\"\u001b[39m)\\\n\u001b[1;32m     13\u001b[0m         \u001b[38;5;241m.\u001b[39mwith_columns(\n\u001b[1;32m     14\u001b[0m             pl\u001b[38;5;241m.\u001b[39mconcat_str([\u001b[38;5;124m\"\u001b[39m\u001b[38;5;124my\u001b[39m\u001b[38;5;124m\"\u001b[39m, \u001b[38;5;124m\"\u001b[39m\u001b[38;5;124mm\u001b[39m\u001b[38;5;124m\"\u001b[39m, \u001b[38;5;124m\"\u001b[39m\u001b[38;5;124md\u001b[39m\u001b[38;5;124m\"\u001b[39m, \u001b[38;5;124m\"\u001b[39m\u001b[38;5;124mtime\u001b[39m\u001b[38;5;124m\"\u001b[39m], separator\u001b[38;5;241m=\u001b[39m\u001b[38;5;124m\"\u001b[39m\u001b[38;5;124m-\u001b[39m\u001b[38;5;124m\"\u001b[39m)\n\u001b[1;32m     15\u001b[0m             \u001b[38;5;241m.\u001b[39mstr\u001b[38;5;241m.\u001b[39mto_datetime(\u001b[38;5;124m\"\u001b[39m\u001b[38;5;124m%\u001b[39m\u001b[38;5;124my-\u001b[39m\u001b[38;5;124m%\u001b[39m\u001b[38;5;124mm-\u001b[39m\u001b[38;5;132;01m%d\u001b[39;00m\u001b[38;5;124m-\u001b[39m\u001b[38;5;124m%\u001b[39m\u001b[38;5;124mH:\u001b[39m\u001b[38;5;124m%\u001b[39m\u001b[38;5;124mM\u001b[39m\u001b[38;5;124m\"\u001b[39m, time_zone\u001b[38;5;241m=\u001b[39m\u001b[38;5;124m\"\u001b[39m\u001b[38;5;124mUTC\u001b[39m\u001b[38;5;124m\"\u001b[39m)\u001b[38;5;241m.\u001b[39malias(\u001b[38;5;124m\"\u001b[39m\u001b[38;5;124mtimestamp\u001b[39m\u001b[38;5;124m\"\u001b[39m),\n\u001b[1;32m     16\u001b[0m         )\u001b[38;5;241m.\u001b[39mgroup_by([\u001b[38;5;124m\"\u001b[39m\u001b[38;5;124mtimestamp\u001b[39m\u001b[38;5;124m\"\u001b[39m, \u001b[38;5;124m\"\u001b[39m\u001b[38;5;124mmarket\u001b[39m\u001b[38;5;124m\"\u001b[39m])\u001b[38;5;241m.\u001b[39magg(\n\u001b[1;32m     17\u001b[0m             c(\u001b[38;5;124m\"\u001b[39m\u001b[38;5;124mprice\u001b[39m\u001b[38;5;124m\"\u001b[39m)\u001b[38;5;241m.\u001b[39mmin()\u001b[38;5;241m.\u001b[39malias(\u001b[38;5;124m\"\u001b[39m\u001b[38;5;124mmin\u001b[39m\u001b[38;5;124m\"\u001b[39m),\n\u001b[1;32m     18\u001b[0m             ((c(\u001b[38;5;124m\"\u001b[39m\u001b[38;5;124mprice\u001b[39m\u001b[38;5;124m\"\u001b[39m) \u001b[38;5;241m*\u001b[39mc(\u001b[38;5;124m\"\u001b[39m\u001b[38;5;124mquantity\u001b[39m\u001b[38;5;124m\"\u001b[39m))\u001b[38;5;241m.\u001b[39msum()\u001b[38;5;241m/\u001b[39mc(\u001b[38;5;124m\"\u001b[39m\u001b[38;5;124mquantity\u001b[39m\u001b[38;5;124m\"\u001b[39m)\u001b[38;5;241m.\u001b[39msum())\u001b[38;5;241m.\u001b[39malias(\u001b[38;5;124m\"\u001b[39m\u001b[38;5;124mavg\u001b[39m\u001b[38;5;124m\"\u001b[39m),\n\u001b[1;32m     19\u001b[0m             c(\u001b[38;5;124m\"\u001b[39m\u001b[38;5;124mprice\u001b[39m\u001b[38;5;124m\"\u001b[39m)\u001b[38;5;241m.\u001b[39mmax()\u001b[38;5;241m.\u001b[39malias(\u001b[38;5;124m\"\u001b[39m\u001b[38;5;124mmax\u001b[39m\u001b[38;5;124m\"\u001b[39m),\n\u001b[1;32m     20\u001b[0m         )\u001b[38;5;241m.\u001b[39mwith_columns(\n\u001b[1;32m     21\u001b[0m             c(\u001b[38;5;124m\"\u001b[39m\u001b[38;5;124mmarket\u001b[39m\u001b[38;5;124m\"\u001b[39m)\u001b[38;5;241m.\u001b[39mreplace_strict(market_price_metadata[name][\u001b[38;5;124m\"\u001b[39m\u001b[38;5;124mmarket_mapping\u001b[39m\u001b[38;5;124m\"\u001b[39m])\n\u001b[1;32m     22\u001b[0m         )\u001b[38;5;241m.\u001b[39mwith_columns(\n\u001b[1;32m     23\u001b[0m             pl\u001b[38;5;241m.\u001b[39mlit(value)\u001b[38;5;241m.\u001b[39malias(name) \u001b[38;5;28;01mfor\u001b[39;00m name, value \u001b[38;5;129;01min\u001b[39;00m market_price_metadata[name][\u001b[38;5;124m\"\u001b[39m\u001b[38;5;124mdata\u001b[39m\u001b[38;5;124m\"\u001b[39m]\u001b[38;5;241m.\u001b[39mitems()\n\u001b[1;32m     24\u001b[0m         )\u001b[38;5;241m.\u001b[39munnest(\u001b[38;5;124m\"\u001b[39m\u001b[38;5;124mmarket\u001b[39m\u001b[38;5;124m\"\u001b[39m)\n\u001b[1;32m     26\u001b[0m \u001b[38;5;66;03m# data = data.rename(market_price_metadata[name][\"col_mapping\"]).filter(pl.col(\"quantity\") > 0)\u001b[39;00m\n",
      "File \u001b[0;32m~/git/smallflex/smallflex-vpp-codes/.venv/lib/python3.12/site-packages/polars/dataframe/frame.py:9194\u001b[0m, in \u001b[0;36mDataFrame.with_columns\u001b[0;34m(self, *exprs, **named_exprs)\u001b[0m\n\u001b[1;32m   9048\u001b[0m \u001b[38;5;28;01mdef\u001b[39;00m \u001b[38;5;21mwith_columns\u001b[39m(\n\u001b[1;32m   9049\u001b[0m     \u001b[38;5;28mself\u001b[39m,\n\u001b[1;32m   9050\u001b[0m     \u001b[38;5;241m*\u001b[39mexprs: IntoExpr \u001b[38;5;241m|\u001b[39m Iterable[IntoExpr],\n\u001b[1;32m   9051\u001b[0m     \u001b[38;5;241m*\u001b[39m\u001b[38;5;241m*\u001b[39mnamed_exprs: IntoExpr,\n\u001b[1;32m   9052\u001b[0m ) \u001b[38;5;241m-\u001b[39m\u001b[38;5;241m>\u001b[39m DataFrame:\n\u001b[1;32m   9053\u001b[0m \u001b[38;5;250m    \u001b[39m\u001b[38;5;124;03m\"\"\"\u001b[39;00m\n\u001b[1;32m   9054\u001b[0m \u001b[38;5;124;03m    Add columns to this DataFrame.\u001b[39;00m\n\u001b[1;32m   9055\u001b[0m \n\u001b[0;32m   (...)\u001b[0m\n\u001b[1;32m   9192\u001b[0m \u001b[38;5;124;03m    └─────┴──────┴─────────────┘\u001b[39;00m\n\u001b[1;32m   9193\u001b[0m \u001b[38;5;124;03m    \"\"\"\u001b[39;00m\n\u001b[0;32m-> 9194\u001b[0m     \u001b[38;5;28;01mreturn\u001b[39;00m \u001b[38;5;28;43mself\u001b[39;49m\u001b[38;5;241;43m.\u001b[39;49m\u001b[43mlazy\u001b[49m\u001b[43m(\u001b[49m\u001b[43m)\u001b[49m\u001b[38;5;241;43m.\u001b[39;49m\u001b[43mwith_columns\u001b[49m\u001b[43m(\u001b[49m\u001b[38;5;241;43m*\u001b[39;49m\u001b[43mexprs\u001b[49m\u001b[43m,\u001b[49m\u001b[43m \u001b[49m\u001b[38;5;241;43m*\u001b[39;49m\u001b[38;5;241;43m*\u001b[39;49m\u001b[43mnamed_exprs\u001b[49m\u001b[43m)\u001b[49m\u001b[38;5;241;43m.\u001b[39;49m\u001b[43mcollect\u001b[49m\u001b[43m(\u001b[49m\u001b[43m_eager\u001b[49m\u001b[38;5;241;43m=\u001b[39;49m\u001b[38;5;28;43;01mTrue\u001b[39;49;00m\u001b[43m)\u001b[49m\n",
      "File \u001b[0;32m~/git/smallflex/smallflex-vpp-codes/.venv/lib/python3.12/site-packages/polars/lazyframe/frame.py:2055\u001b[0m, in \u001b[0;36mLazyFrame.collect\u001b[0;34m(self, type_coercion, predicate_pushdown, projection_pushdown, simplify_expression, slice_pushdown, comm_subplan_elim, comm_subexpr_elim, cluster_with_columns, collapse_joins, no_optimization, streaming, engine, background, _eager, **_kwargs)\u001b[0m\n\u001b[1;32m   2053\u001b[0m \u001b[38;5;66;03m# Only for testing purposes\u001b[39;00m\n\u001b[1;32m   2054\u001b[0m callback \u001b[38;5;241m=\u001b[39m _kwargs\u001b[38;5;241m.\u001b[39mget(\u001b[38;5;124m\"\u001b[39m\u001b[38;5;124mpost_opt_callback\u001b[39m\u001b[38;5;124m\"\u001b[39m, callback)\n\u001b[0;32m-> 2055\u001b[0m \u001b[38;5;28;01mreturn\u001b[39;00m wrap_df(\u001b[43mldf\u001b[49m\u001b[38;5;241;43m.\u001b[39;49m\u001b[43mcollect\u001b[49m\u001b[43m(\u001b[49m\u001b[43mcallback\u001b[49m\u001b[43m)\u001b[49m)\n",
      "\u001b[0;31mColumnNotFoundError\u001b[0m: time\n\nResolved plan until failure:\n\n\t---> FAILED HERE RESOLVING 'with_columns' <---\nDF [\"Ausschreibung\", \"Beschreibung\", \"Angebotenes Volumen\", \"Einheit\"]; PROJECT */16 COLUMNS; SELECTION: None"
     ]
    }
   ],
   "source": [
    "for name in  [\"swissgrid_cap\"]:\n",
    "    for entry in list(os.scandir(market_price_metadata[name][\"folder\"])):\n",
    "\n",
    "        data: pl.DataFrame = pl.read_csv(entry.path, separator=\";\", encoding='iso-8859-1', null_values=[\"*\", \"N/A\"])\n",
    "        # We remove weekly-based market prices\n",
    "        data.rename(market_price_metadata[name][\"col_mapping\"])\\\n",
    "            .filter(pl.col(\"quantity\") > 0)\\\n",
    "            .filter(~ pl.col(\"metadata\").str.contains(\"KW\"))\n",
    "        data = data.with_columns(\n",
    "            pl.col(\"time\").str.split(\" bis \").list.get(0).str.split(\" \").list.get(-1).alias(\"time\"),\n",
    "            pl.col(\"metadata\").str.split_exact(\"_\", 4).struct.rename_fields([\"market\", \"y\", \"m\", \"d\"]),\n",
    "        ).unnest(\"metadata\")\\\n",
    "        .with_columns(\n",
    "            pl.concat_str([\"y\", \"m\", \"d\", \"time\"], separator=\"-\")\n",
    "            .str.to_datetime(\"%y-%m-%d-%H:%M\", time_zone=\"UTC\").alias(\"timestamp\"),\n",
    "        ).group_by([\"timestamp\", \"market\"]).agg(\n",
    "            c(\"price\").min().alias(\"min\"),\n",
    "            ((c(\"price\") *c(\"quantity\")).sum()/c(\"quantity\").sum()).alias(\"avg\"),\n",
    "            c(\"price\").max().alias(\"max\"),\n",
    "        ).with_columns(\n",
    "            c(\"market\").replace_strict(market_price_metadata[name][\"market_mapping\"])\n",
    "        ).with_columns(\n",
    "            pl.lit(value).alias(name) for name, value in market_price_metadata[name][\"data\"].items()\n",
    "        ).unnest(\"market\")\n",
    "\n",
    "# data = data.rename(market_price_metadata[name][\"col_mapping\"]).filter(pl.col(\"quantity\") > 0)"
   ]
  },
  {
   "cell_type": "code",
   "execution_count": null,
   "metadata": {},
   "outputs": [],
   "source": []
  },
  {
   "cell_type": "code",
   "execution_count": null,
   "metadata": {},
   "outputs": [],
   "source": [
    "head_table"
   ]
  },
  {
   "cell_type": "code",
   "execution_count": null,
   "metadata": {},
   "outputs": [],
   "source": []
  },
  {
   "cell_type": "code",
   "execution_count": null,
   "metadata": {},
   "outputs": [],
   "source": [
    "data_pl"
   ]
  },
  {
   "cell_type": "code",
   "execution_count": null,
   "metadata": {},
   "outputs": [],
   "source": [
    "data_pl.select(\n",
    "    pl.struct(cs.contains(\"Pe_\") != 0).alias(\"resource_state\")\n",
    ")"
   ]
  },
  {
   "cell_type": "markdown",
   "metadata": {},
   "source": []
  },
  {
   "cell_type": "code",
   "execution_count": null,
   "metadata": {},
   "outputs": [],
   "source": [
    "precipitation = data.unpivot(\n",
    "        index=[\"timestamp\"], variable_name=\"metadata\", value_name=\"value\", on=cs.starts_with(\"prec_\")\n",
    "    ).with_columns(\n",
    "    (\"gries_\" + c(\"metadata\").str.slice(-3, 1)).alias(\"sub_basin\"),\n",
    "    ((c(\"metadata\").str.slice(-2) + \"00\").cast(pl.Int32)-50).alias(\"start_height\")\n",
    ")\n"
   ]
  },
  {
   "cell_type": "code",
   "execution_count": null,
   "metadata": {},
   "outputs": [],
   "source": [
    "precipitation"
   ]
  },
  {
   "cell_type": "code",
   "execution_count": null,
   "metadata": {},
   "outputs": [],
   "source": [
    "data.columns"
   ]
  },
  {
   "cell_type": "code",
   "execution_count": null,
   "metadata": {},
   "outputs": [],
   "source": [
    "small_flex_input_schema"
   ]
  },
  {
   "cell_type": "code",
   "execution_count": null,
   "metadata": {},
   "outputs": [],
   "source": [
    "discharge_flow"
   ]
  },
  {
   "cell_type": "code",
   "execution_count": null,
   "metadata": {},
   "outputs": [],
   "source": []
  },
  {
   "cell_type": "code",
   "execution_count": null,
   "metadata": {},
   "outputs": [],
   "source": [
    "data_str = str(ro.r['df'])\n",
    "data_str = (list(map(lambda x: modify_string(x, format_str={r\"\\s+\": \" \"}).split(\" \"), data_str.split(\"\\n\"))))\n",
    "\n",
    "\n",
    "index = [i for i in range(len(data_str)) if data_str[i][0] == \"\"]\n",
    "for i in range(len(index)-2):\n",
    "    if i == 0:\n",
    "        columns = [\"index\", \"date\"] + data_str[index[i]][1:]\n",
    "        data: pl.DataFrame = pl.DataFrame(data_str[index[i] + 1:index[i+1]], schema=columns, orient=\"row\")\n",
    "    else:\n",
    "        columns = [\"index\"] + data_str[index[i]][1:]\n",
    "        data = data.join(\n",
    "            pl.DataFrame(data_str[index[i] + 1:index[i+1]], schema=columns, orient=\"row\"), on=\"index\", how=\"left\")\n"
   ]
  },
  {
   "cell_type": "code",
   "execution_count": null,
   "metadata": {},
   "outputs": [],
   "source": [
    "\n",
    "data = data.with_columns(\n",
    "    pl.concat_str([\"date\", \"time\"], separator=\" \").str.to_datetime(\"%Y-%m-%d %H:%M:%S\", time_zone=\"UTC\").alias(\"timestamp\")\n",
    ")\n",
    "\n",
    "wind_data = data.unpivot(on=cs.contains(\"wind\"), index=\"timestamp\", value_name=\"wind_speed\", variable_name=\"height\")\\\n",
    "    .with_columns(\n",
    "        c(\"height\").str.replace(\"wind_X\", \"\"),\n",
    "        c(\"wind_speed\").cast(pl.Float64),\n",
    "    )\n",
    "\n",
    "irradiance_data = data.unpivot(on=cs.contains(\"glob\"), index=\"timestamp\", value_name=\"irradiance\", variable_name=\"height\")\\\n",
    "    .with_columns(\n",
    "        c(\"height\").str.replace(\"glob__X\", \"\"),\n",
    "        c(\"irradiance\").cast(pl.Float64),\n",
    "    )\n",
    "\n",
    "irradiance_data"
   ]
  },
  {
   "cell_type": "code",
   "execution_count": null,
   "metadata": {},
   "outputs": [],
   "source": [
    "data"
   ]
  },
  {
   "cell_type": "code",
   "execution_count": null,
   "metadata": {},
   "outputs": [],
   "source": [
    "list(map(lambda x: x.split(\" \"), data_str.split(\"\\n\")))\n"
   ]
  },
  {
   "cell_type": "code",
   "execution_count": null,
   "metadata": {},
   "outputs": [],
   "source": [
    "data = pl.from_pandas(pandas2ri.rpy2py())\n",
    "print(data.head())"
   ]
  },
  {
   "cell_type": "code",
   "execution_count": null,
   "metadata": {},
   "outputs": [],
   "source": [
    "ro.r['df']"
   ]
  },
  {
   "cell_type": "code",
   "execution_count": null,
   "metadata": {},
   "outputs": [],
   "source": [
    "df_temp2 =data.filter(pl.col(\"metadata\").str.contains(\"KW\"))\\\n",
    "    .with_columns(\n",
    "        c(\"metadata\").str.replace(\"KW\", \"\").\n",
    "        str.split_exact(\"_\", 4).struct.rename_fields([\"market\", \"y\", \"w\"]).alias(\"metadata\"),\n",
    "    ).unnest(\"metadata\").with_columns(\n",
    "        (c(\"y\").str.to_datetime(\"%y\", time_zone=\"UTC\") + \n",
    "        ((pl.col(\"w\").cast(pl.Int32) - 1)*7*24*60*60*1e3).cast(pl.Duration(time_unit=\"ms\"))).alias(\"timestamp\"),\n",
    "    )\n",
    "df_temp2.head(1)\n"
   ]
  },
  {
   "cell_type": "code",
   "execution_count": null,
   "metadata": {},
   "outputs": [],
   "source": [
    "    .with_columns(\n",
    "        pl.col(\"Date\").str.split(\"_\").map_elements(lambda x: x[0]).alias(\"market\"),\n",
    "        pl.col(\"Date\").str.split(\"_\").map_elements(lambda x: x[1]).alias(\"y\").cast(pl.Int64),\n",
    "        pl.col(\"Date\").str.split(\"KW\").map_elements(lambda x: x[-1]).alias(\"week\").str.split(\"_\")\n",
    "        .map_elements(lambda x: x[0]).cast(pl.Int64)]).with_columns(\n",
    "            ((pl.col(\"week\") - 1)*7*24*60*60*1e6).cast(pl.Duration(time_unit=\"us\")),\n",
    "                (pl.col(\"y\") + 2000).cast(pl.Utf8).str.strptime(pl.Datetime, \"%Y\")\n",
    "            )\n"
   ]
  },
  {
   "cell_type": "code",
   "execution_count": null,
   "metadata": {},
   "outputs": [],
   "source": [
    "name = \"rte_ene\"\n",
    "market_price: pl.DataFrame = pl.read_csv(\n",
    "    market_price_metadata[name][\"file\"], separator=\";\", null_values=[\"*\"])\n",
    "\n",
    "market_price.columns"
   ]
  }
 ],
 "metadata": {
  "kernelspec": {
   "display_name": ".venv",
   "language": "python",
   "name": "python3"
  },
  "language_info": {
   "codemirror_mode": {
    "name": "ipython",
    "version": 3
   },
   "file_extension": ".py",
   "mimetype": "text/x-python",
   "name": "python",
   "nbconvert_exporter": "python",
   "pygments_lexer": "ipython3",
   "version": "3.12.6"
  }
 },
 "nbformat": 4,
 "nbformat_minor": 2
}
