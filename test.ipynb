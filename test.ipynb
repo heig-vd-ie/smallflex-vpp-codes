{
 "cells": [
  {
   "cell_type": "code",
   "execution_count": 1,
   "metadata": {},
   "outputs": [],
   "source": [
    "\n",
    "import json\n",
    "import os\n",
    "import polars as pl\n",
    "from polars import col as c\n",
    "import polars.selectors as cs\n",
    "import re\n",
    "from data_federation.input_model import SmallflexInputSchema\n",
    "import owncloud\n",
    "\n",
    "\n",
    "from data_federation.parser.market_price import parse_market_price\n",
    "from data_federation.parser.discharge_flow import parse_discharge_flow\n",
    "from data_federation.parser.weather import parse_weather\n",
    "from data_federation.parser.aegina_hydro_power_plant import parse_aegina_hydro_power_plant\n",
    "from data_federation.parser.merezenbach_hydro_power_plant import parse_merezenbach_hydro_power_plant\n",
    "from data_federation.parser.morel_hydro_power_plant import parse_morel_hydro_power_plant\n",
    "from data_federation.parser.aegina_wind_power_plant import parse_aegina_wind_power_plant\n",
    "from data_federation.parser.parser_pipeline import input_pipeline\n",
    "from utility.general_function import dictionary_key_filtering, scan_switch_directory, modify_string, generate_uuid, pl_to_dict\n",
    "from utility.polars_operation import modify_string_col, generate_uuid_col\n",
    "\n",
    "from data_federation.parser.hydro_power_plant import get_hydro_power_plant_data\n",
    "from config import settings\n",
    "import plotly.express as px\n",
    "\n",
    "from itertools import product\n",
    "\n",
    "os.chdir(os.getcwd().replace(\"/src\", \"\"))\n",
    "\n",
    "\n"
   ]
  },
  {
   "cell_type": "code",
   "execution_count": 2,
   "metadata": {},
   "outputs": [],
   "source": [
    "\n",
    "input_file_names: dict[str, str] = json.load(open(settings.INPUT_FILE_NAMES))\n",
    "output_file_names: dict[str, str] = json.load(open(settings.OUTPUT_FILE_NAMES))\n",
    "market_price_metadata: dict = json.load(open(input_file_names[\"market_price_metadata\"]))\n"
   ]
  },
  {
   "cell_type": "code",
   "execution_count": 3,
   "metadata": {},
   "outputs": [
    {
     "name": "stderr",
     "output_type": "stream",
     "text": [
      "Read and validate tables from small_flex_input_data.db file: 100%|████████████████████████████████████████████████████| 12/12 [00:01<00:00,  7.06it/s]\n"
     ]
    }
   ],
   "source": [
    "file_path = output_file_names[\"duckdb_input\"]\n",
    "small_flex_input_schema: SmallflexInputSchema = SmallflexInputSchema().duckdb_to_schema(file_path=file_path)\n",
    "\n",
    "# kwargs[\"small_flex_input_schema\"] "
   ]
  },
  {
   "cell_type": "markdown",
   "metadata": {},
   "source": []
  },
  {
   "cell_type": "code",
   "execution_count": 4,
   "metadata": {},
   "outputs": [
    {
     "data": {
      "text/plain": [
       "SmallflexInputSchema(market_price_measurement=shape: (2_133_830, 9)\n",
       "┌─────────────────────┬──────────┬───────────┬─────────┬───┬─────────┬───────┬───────────┬──────┐\n",
       "│ timestamp           ┆ market   ┆ direction ┆ country ┆ … ┆ unit    ┆ max   ┆ avg       ┆ min  │\n",
       "│ ---                 ┆ ---      ┆ ---       ┆ ---     ┆   ┆ ---     ┆ ---   ┆ ---       ┆ ---  │\n",
       "│ datetime[μs, UTC]   ┆ str      ┆ str       ┆ str     ┆   ┆ str     ┆ f64   ┆ f64       ┆ f64  │\n",
       "╞═════════════════════╪══════════╪═══════════╪═════════╪═══╪═════════╪═══════╪═══════════╪══════╡\n",
       "│ 2020-10-14 04:00:00 ┆ FCR-cap  ┆ sym       ┆ AT      ┆ … ┆ EUR/MW  ┆ 10.98 ┆ 3.662791  ┆ 1.7  │\n",
       "│ UTC                 ┆          ┆           ┆         ┆   ┆         ┆       ┆           ┆      │\n",
       "│ 2020-11-04 08:00:00 ┆ mFRR-cap ┆ pos       ┆ AT      ┆ … ┆ EUR/MW  ┆ 10.58 ┆ 8.007895  ┆ 1.45 │\n",
       "│ UTC                 ┆          ┆           ┆         ┆   ┆         ┆       ┆           ┆      │\n",
       "│ 2020-08-13 04:00:00 ┆ mFRR-cap ┆ neg       ┆ AT      ┆ … ┆ EUR/MW  ┆ 2.28  ┆ 1.709703  ┆ 0.0  │\n",
       "│ UTC                 ┆          ┆           ┆         ┆   ┆         ┆       ┆           ┆      │\n",
       "│ 2020-11-09 00:00:00 ┆ mFRR-cap ┆ pos       ┆ AT      ┆ … ┆ EUR/MW  ┆ 1.11  ┆ 0.566148  ┆ 0.0  │\n",
       "│ UTC                 ┆          ┆           ┆         ┆   ┆         ┆       ┆           ┆      │\n",
       "│ 2020-11-11 20:00:00 ┆ aFRR-cap ┆ pos       ┆ AT      ┆ … ┆ EUR/MW  ┆ 3.68  ┆ 2.477895  ┆ 0.0  │\n",
       "│ UTC                 ┆          ┆           ┆         ┆   ┆         ┆       ┆           ┆      │\n",
       "│ …                   ┆ …        ┆ …         ┆ …       ┆ … ┆ …       ┆ …     ┆ …         ┆ …    │\n",
       "│ 2015-02-15 08:00:00 ┆ mFRR-cap ┆ neg       ┆ CH      ┆ … ┆ EUR/MWh ┆ 30.0  ┆ 11.823346 ┆ 1.25 │\n",
       "│ UTC                 ┆          ┆           ┆         ┆   ┆         ┆       ┆           ┆      │\n",
       "│ 2015-03-15 16:00:00 ┆ mFRR-cap ┆ pos       ┆ CH      ┆ … ┆ EUR/MWh ┆ 2.35  ┆ 1.82875   ┆ 0.22 │\n",
       "│ UTC                 ┆          ┆           ┆         ┆   ┆         ┆       ┆           ┆      │\n",
       "│ 2015-03-28 12:00:00 ┆ mFRR-cap ┆ neg       ┆ CH      ┆ … ┆ EUR/MWh ┆ 6.95  ┆ 2.428333  ┆ 0.25 │\n",
       "│ UTC                 ┆          ┆           ┆         ┆   ┆         ┆       ┆           ┆      │\n",
       "│ 2015-01-24 20:00:00 ┆ mFRR-cap ┆ pos       ┆ CH      ┆ … ┆ EUR/MWh ┆ 0.75  ┆ 0.524875  ┆ 0.22 │\n",
       "│ UTC                 ┆          ┆           ┆         ┆   ┆         ┆       ┆           ┆      │\n",
       "│ 2015-08-09 08:00:00 ┆ mFRR-cap ┆ pos       ┆ CH      ┆ … ┆ EUR/MWh ┆ 0.02  ┆ 0.01      ┆ 0.0  │\n",
       "│ UTC                 ┆          ┆           ┆         ┆   ┆         ┆       ┆           ┆      │\n",
       "└─────────────────────┴──────────┴───────────┴─────────┴───┴─────────┴───────┴───────────┴──────┘, discharge_flow_measurement=shape: (631_104, 3)\n",
       "┌─────────────────────────┬────────────────────────┬──────────┐\n",
       "│ timestamp               ┆ river                  ┆ value    │\n",
       "│ ---                     ┆ ---                    ┆ ---      │\n",
       "│ datetime[μs, UTC]       ┆ str                    ┆ f64      │\n",
       "╞═════════════════════════╪════════════════════════╪══════════╡\n",
       "│ 2007-01-01 00:00:00 UTC ┆ Chummbach_Restgebiet   ┆ 0.0377   │\n",
       "│ 2007-01-01 01:00:00 UTC ┆ Chummbach_Restgebiet   ┆ 0.0377   │\n",
       "│ 2007-01-01 02:00:00 UTC ┆ Chummbach_Restgebiet   ┆ 0.0377   │\n",
       "│ 2007-01-01 03:00:00 UTC ┆ Chummbach_Restgebiet   ┆ 0.037556 │\n",
       "│ 2007-01-01 04:00:00 UTC ┆ Chummbach_Restgebiet   ┆ 0.037556 │\n",
       "│ …                       ┆ …                      ┆ …        │\n",
       "│ 2020-12-31 19:00:00 UTC ┆ Laengtalbach_Altstafel ┆ 0.034428 │\n",
       "│ 2020-12-31 20:00:00 UTC ┆ Laengtalbach_Altstafel ┆ 0.034428 │\n",
       "│ 2020-12-31 21:00:00 UTC ┆ Laengtalbach_Altstafel ┆ 0.034428 │\n",
       "│ 2020-12-31 22:00:00 UTC ┆ Laengtalbach_Altstafel ┆ 0.034428 │\n",
       "│ 2020-12-31 23:00:00 UTC ┆ Laengtalbach_Altstafel ┆ 0.034235 │\n",
       "└─────────────────────────┴────────────────────────┴──────────┘, hydro_power_plant=shape: (3, 9)\n",
       "┌───────────┬───────────┬───────────┬───────────┬───┬───────────┬───────────┬───────────┬──────────┐\n",
       "│ name      ┆ uuid      ┆ resource_ ┆ upstream_ ┆ … ┆ rated_pow ┆ rated_flo ┆ control   ┆ type     │\n",
       "│ ---       ┆ ---       ┆ fk_list   ┆ basin_fk  ┆   ┆ er        ┆ w         ┆ ---       ┆ ---      │\n",
       "│ str       ┆ str       ┆ ---       ┆ ---       ┆   ┆ ---       ┆ ---       ┆ str       ┆ str      │\n",
       "│           ┆           ┆ list[str] ┆ str       ┆   ┆ f64       ┆ f64       ┆           ┆          │\n",
       "╞═══════════╪═══════════╪═══════════╪═══════════╪═══╪═══════════╪═══════════╪═══════════╪══════════╡\n",
       "│ Aegina    ┆ d8e48953- ┆ [\"f7d845f ┆ f7ef6d1c- ┆ … ┆ 9.2       ┆ 2.8       ┆ discrete  ┆ buildup_ │\n",
       "│ hydro     ┆ 3fde-5a72 ┆ f-ad6b-58 ┆ fa81-556e ┆   ┆           ┆           ┆           ┆ pump_tur │\n",
       "│ power     ┆ -be02-ad4 ┆ d4-accd-5 ┆ -8c39-66c ┆   ┆           ┆           ┆           ┆ bine     │\n",
       "│ plant     ┆ 193…      ┆ 9b1…      ┆ f9a…      ┆   ┆           ┆           ┆           ┆          │\n",
       "│ Merezenba ┆ 094cdd39- ┆ [\"c154aa5 ┆ 828cf84b- ┆ … ┆ 1.9       ┆ 0.5       ┆ continuou ┆ buildup_ │\n",
       "│ ch        ┆ df2c-5a2d ┆ f-343b-52 ┆ 90e3-5040 ┆   ┆           ┆           ┆ s         ┆ turbine  │\n",
       "│           ┆ -9704-3de ┆ 8f-8146-7 ┆ -bed4-302 ┆   ┆           ┆           ┆           ┆          │\n",
       "│           ┆ 498…      ┆ 360…      ┆ 29e…      ┆   ┆           ┆           ┆           ┆          │\n",
       "│ Morel     ┆ 404348cd- ┆ [\"ca01006 ┆ 4c38176f- ┆ … ┆ 51.0      ┆ 22.0      ┆ continuou ┆ buildup_ │\n",
       "│           ┆ ae72-560b ┆ a-1970-59 ┆ a7e2-50de ┆   ┆           ┆           ┆ s         ┆ pump_tur │\n",
       "│           ┆ -a106-9c6 ┆ ca-bf44-9 ┆ -b8de-2b3 ┆   ┆           ┆           ┆           ┆ bine     │\n",
       "│           ┆ b65…      ┆ 9fb…      ┆ 756…      ┆   ┆           ┆           ┆           ┆          │\n",
       "└───────────┴───────────┴───────────┴───────────┴───┴───────────┴───────────┴───────────┴──────────┘, power_plant_state=shape: (16, 4)\n",
       "┌─────────────────────────────┬──────────────┬─────────────────────────────┬───────────────────────┐\n",
       "│ uuid                        ┆ state_number ┆ power_plant_fk              ┆ resource_state_list   │\n",
       "│ ---                         ┆ ---          ┆ ---                         ┆ ---                   │\n",
       "│ str                         ┆ i32          ┆ str                         ┆ list[bool]            │\n",
       "╞═════════════════════════════╪══════════════╪═════════════════════════════╪═══════════════════════╡\n",
       "│ 3cffcfde-3d13-5c17-800b-9c2 ┆ 0            ┆ d8e48953-3fde-5a72-be02-ad4 ┆ [true, true, true]    │\n",
       "│ 939…                        ┆              ┆ 193…                        ┆                       │\n",
       "│ e0cdf1bb-c682-52cb-b5ef-035 ┆ 1            ┆ d8e48953-3fde-5a72-be02-ad4 ┆ [true, true, false]   │\n",
       "│ e0d…                        ┆              ┆ 193…                        ┆                       │\n",
       "│ bb5b4fe6-5472-5831-a2e6-538 ┆ 2            ┆ d8e48953-3fde-5a72-be02-ad4 ┆ [true, false, true]   │\n",
       "│ 753…                        ┆              ┆ 193…                        ┆                       │\n",
       "│ 8e82704e-67b5-54f0-a5af-f8b ┆ 3            ┆ d8e48953-3fde-5a72-be02-ad4 ┆ [true, false, false]  │\n",
       "│ e83…                        ┆              ┆ 193…                        ┆                       │\n",
       "│ f90e27f4-4fc2-5418-a6a7-7d0 ┆ 4            ┆ d8e48953-3fde-5a72-be02-ad4 ┆ [false, true, true]   │\n",
       "│ 758…                        ┆              ┆ 193…                        ┆                       │\n",
       "│ …                           ┆ …            ┆ …                           ┆ …                     │\n",
       "│ 4bb6ee9b-f6e5-50f0-bbc9-ceb ┆ 3            ┆ 404348cd-ae72-560b-a106-9c6 ┆ [true, false, false]  │\n",
       "│ 1a3…                        ┆              ┆ b65…                        ┆                       │\n",
       "│ 58756ffe-5c7e-5bca-9a07-54c ┆ 4            ┆ 404348cd-ae72-560b-a106-9c6 ┆ [false, true, true]   │\n",
       "│ 97f…                        ┆              ┆ b65…                        ┆                       │\n",
       "│ 3147493e-b308-56ea-bb53-94d ┆ 5            ┆ 404348cd-ae72-560b-a106-9c6 ┆ [false, true, false]  │\n",
       "│ 337…                        ┆              ┆ b65…                        ┆                       │\n",
       "│ 1d2ceeb0-a57c-589a-bdab-649 ┆ 6            ┆ 404348cd-ae72-560b-a106-9c6 ┆ [false, false, true]  │\n",
       "│ 88d…                        ┆              ┆ b65…                        ┆                       │\n",
       "│ 1a195de5-c62b-5867-9fa7-6f3 ┆ 7            ┆ 404348cd-ae72-560b-a106-9c6 ┆ [false, false, false] │\n",
       "│ e9e…                        ┆              ┆ b65…                        ┆                       │\n",
       "└─────────────────────────────┴──────────────┴─────────────────────────────┴───────────────────────┘, basin_height_volume_table=shape: (51, 3)\n",
       "┌─────────────────────────────────┬────────┬───────────┐\n",
       "│ water_basin_fk                  ┆ height ┆ volume    │\n",
       "│ ---                             ┆ ---    ┆ ---       │\n",
       "│ str                             ┆ f64    ┆ f64       │\n",
       "╞═════════════════════════════════╪════════╪═══════════╡\n",
       "│ f7ef6d1c-fa81-556e-8c39-66cf9a… ┆ 2332.0 ┆ 0.0       │\n",
       "│ f7ef6d1c-fa81-556e-8c39-66cf9a… ┆ 2333.0 ┆ 9.0       │\n",
       "│ f7ef6d1c-fa81-556e-8c39-66cf9a… ┆ 2334.0 ┆ 50.0      │\n",
       "│ f7ef6d1c-fa81-556e-8c39-66cf9a… ┆ 2335.0 ┆ 150.0     │\n",
       "│ f7ef6d1c-fa81-556e-8c39-66cf9a… ┆ 2336.0 ┆ 365.0     │\n",
       "│ …                               ┆ …      ┆ …         │\n",
       "│ f7ef6d1c-fa81-556e-8c39-66cf9a… ┆ 2378.0 ┆ 1.34132e7 │\n",
       "│ f7ef6d1c-fa81-556e-8c39-66cf9a… ┆ 2379.0 ┆ 1.40021e7 │\n",
       "│ f7ef6d1c-fa81-556e-8c39-66cf9a… ┆ 2380.0 ┆ 1.45983e7 │\n",
       "│ f7ef6d1c-fa81-556e-8c39-66cf9a… ┆ 2381.0 ┆ 1.52017e7 │\n",
       "│ f7ef6d1c-fa81-556e-8c39-66cf9a… ┆ 2382.0 ┆ 1.581e7   │\n",
       "└─────────────────────────────────┴────────┴───────────┘, wind_power_plant=shape: (0, 4)\n",
       "┌──────┬──────┬──────────────────┬─────────────┐\n",
       "│ name ┆ uuid ┆ resource_fk_list ┆ rated_power │\n",
       "│ ---  ┆ ---  ┆ ---              ┆ ---         │\n",
       "│ str  ┆ str  ┆ list[str]        ┆ f64         │\n",
       "╞══════╪══════╪══════════════════╪═════════════╡\n",
       "└──────┴──────┴──────────────────┴─────────────┘, basin_height_measurement=shape: (1_826, 3)\n",
       "┌─────────────────────────────────┬─────────────────────────┬─────────┐\n",
       "│ water_basin_fk                  ┆ timestamp               ┆ height  │\n",
       "│ ---                             ┆ ---                     ┆ ---     │\n",
       "│ str                             ┆ datetime[μs, UTC]       ┆ f64     │\n",
       "╞═════════════════════════════════╪═════════════════════════╪═════════╡\n",
       "│ f7ef6d1c-fa81-556e-8c39-66cf9a… ┆ 2018-10-01 00:00:00 UTC ┆ 2384.0  │\n",
       "│ f7ef6d1c-fa81-556e-8c39-66cf9a… ┆ 2018-10-02 00:00:00 UTC ┆ 2384.0  │\n",
       "│ f7ef6d1c-fa81-556e-8c39-66cf9a… ┆ 2018-10-03 00:00:00 UTC ┆ 2384.0  │\n",
       "│ f7ef6d1c-fa81-556e-8c39-66cf9a… ┆ 2018-10-04 00:00:00 UTC ┆ 2384.0  │\n",
       "│ f7ef6d1c-fa81-556e-8c39-66cf9a… ┆ 2018-10-05 00:00:00 UTC ┆ 2384.0  │\n",
       "│ …                               ┆ …                       ┆ …       │\n",
       "│ f7ef6d1c-fa81-556e-8c39-66cf9a… ┆ 2023-09-26 00:00:00 UTC ┆ 2383.47 │\n",
       "│ f7ef6d1c-fa81-556e-8c39-66cf9a… ┆ 2023-09-27 00:00:00 UTC ┆ 2383.26 │\n",
       "│ f7ef6d1c-fa81-556e-8c39-66cf9a… ┆ 2023-09-28 00:00:00 UTC ┆ 2383.2  │\n",
       "│ f7ef6d1c-fa81-556e-8c39-66cf9a… ┆ 2023-09-29 00:00:00 UTC ┆ 2383.24 │\n",
       "│ f7ef6d1c-fa81-556e-8c39-66cf9a… ┆ 2023-09-30 00:00:00 UTC ┆ 2383.29 │\n",
       "└─────────────────────────────────┴─────────────────────────┴─────────┘, water_basin=shape: (6, 7)\n",
       "┌───────────────┬───────────────┬──────────────┬────────────┬────────────┬────────────┬────────────┐\n",
       "│ name          ┆ uuid          ┆ power_plant_ ┆ volume_max ┆ volume_min ┆ height_max ┆ height_min │\n",
       "│ ---           ┆ ---           ┆ fk           ┆ ---        ┆ ---        ┆ ---        ┆ ---        │\n",
       "│ str           ┆ str           ┆ ---          ┆ f64        ┆ f64        ┆ f64        ┆ f64        │\n",
       "│               ┆               ┆ str          ┆            ┆            ┆            ┆            │\n",
       "╞═══════════════╪═══════════════╪══════════════╪════════════╪════════════╪════════════╪════════════╡\n",
       "│ Aegina        ┆ f7ef6d1c-fa81 ┆ d8e48953-3fd ┆ 1.58e7     ┆ 56996.0    ┆ 2382.0     ┆ 2340.0     │\n",
       "│ upstream      ┆ -556e-8c39-66 ┆ e-5a72-be02- ┆            ┆            ┆            ┆            │\n",
       "│ basin         ┆ cf9a…         ┆ ad4193…      ┆            ┆            ┆            ┆            │\n",
       "│ Aegina        ┆ fa0d5019-59c1 ┆ d8e48953-3fd ┆ 1e6        ┆ null       ┆ 1970.0     ┆ null       │\n",
       "│ downstream    ┆ -5181-81f7-a5 ┆ e-5a72-be02- ┆            ┆            ┆            ┆            │\n",
       "│ basin         ┆ fe9f…         ┆ ad4193…      ┆            ┆            ┆            ┆            │\n",
       "│ Merezenbach   ┆ 828cf84b-90e3 ┆ 094cdd39-df2 ┆ 1200.0     ┆ 0.0        ┆ 1842.7     ┆ null       │\n",
       "│ upstream      ┆ -5040-bed4-30 ┆ c-5a2d-9704- ┆            ┆            ┆            ┆            │\n",
       "│ basin         ┆ 229e…         ┆ 3de498…      ┆            ┆            ┆            ┆            │\n",
       "│ Merezenbach   ┆ 845258d3-8688 ┆ 094cdd39-df2 ┆ 0.0        ┆ null       ┆ 1337.7     ┆ null       │\n",
       "│ downstream    ┆ -5a75-8669-ab ┆ c-5a2d-9704- ┆            ┆            ┆            ┆            │\n",
       "│ basin         ┆ ce2d…         ┆ 3de498…      ┆            ┆            ┆            ┆            │\n",
       "│ Morel         ┆ 4c38176f-a7e2 ┆ 404348cd-ae7 ┆ 20000.0    ┆ 0.0        ┆ 985.15     ┆ 981.36     │\n",
       "│ upstream      ┆ -50de-b8de-2b ┆ 2-560b-a106- ┆            ┆            ┆            ┆            │\n",
       "│ basin         ┆ 3756…         ┆ 9c6b65…      ┆            ┆            ┆            ┆            │\n",
       "│ Morel         ┆ 0379a482-4dea ┆ 404348cd-ae7 ┆ 0.0        ┆ null       ┆ 739.2      ┆ null       │\n",
       "│ downstream    ┆ -5092-87de-65 ┆ 2-560b-a106- ┆            ┆            ┆            ┆            │\n",
       "│ basin         ┆ 6278…         ┆ 9c6b65…      ┆            ┆            ┆            ┆            │\n",
       "└───────────────┴───────────────┴──────────────┴────────────┴────────────┴────────────┴────────────┘, weather_measurement=shape: (5_995_488, 8)\n",
       "┌─────────────┬───────────┬─────────────┬──────────┬─────────────┬─────────────┬──────┬────────────┐\n",
       "│ timestamp   ┆ sub_basin ┆ start_heigh ┆ humidity ┆ irradiation ┆ precipitati ┆ wind ┆ temperatur │\n",
       "│ ---         ┆ ---       ┆ t           ┆ ---      ┆ ---         ┆ on          ┆ ---  ┆ e          │\n",
       "│ datetime[μs ┆ str       ┆ ---         ┆ f64      ┆ f64         ┆ ---         ┆ f64  ┆ ---        │\n",
       "│ , UTC]      ┆           ┆ i32         ┆          ┆             ┆ f64         ┆      ┆ f64        │\n",
       "╞═════════════╪═══════════╪═════════════╪══════════╪═════════════╪═════════════╪══════╪════════════╡\n",
       "│ 2011-12-31  ┆ greis_1   ┆ 1950        ┆ 0.953    ┆ 1.4         ┆ 0.35        ┆ 2.33 ┆ -0.53      │\n",
       "│ 23:00:00    ┆           ┆             ┆          ┆             ┆             ┆      ┆            │\n",
       "│ UTC         ┆           ┆             ┆          ┆             ┆             ┆      ┆            │\n",
       "│ 2012-01-01  ┆ greis_1   ┆ 1950        ┆ 0.943    ┆ 0.8         ┆ 0.44        ┆ 2.68 ┆ -0.28      │\n",
       "│ 00:00:00    ┆           ┆             ┆          ┆             ┆             ┆      ┆            │\n",
       "│ UTC         ┆           ┆             ┆          ┆             ┆             ┆      ┆            │\n",
       "│ 2012-01-01  ┆ greis_1   ┆ 1950        ┆ 0.945    ┆ 0.7         ┆ 0.37        ┆ 2.24 ┆ -0.13      │\n",
       "│ 01:00:00    ┆           ┆             ┆          ┆             ┆             ┆      ┆            │\n",
       "│ UTC         ┆           ┆             ┆          ┆             ┆             ┆      ┆            │\n",
       "│ 2012-01-01  ┆ greis_1   ┆ 1950        ┆ 0.929    ┆ 1.3         ┆ 0.59        ┆ 2.21 ┆ 0.03       │\n",
       "│ 02:00:00    ┆           ┆             ┆          ┆             ┆             ┆      ┆            │\n",
       "│ UTC         ┆           ┆             ┆          ┆             ┆             ┆      ┆            │\n",
       "│ 2012-01-01  ┆ greis_1   ┆ 1950        ┆ 0.938    ┆ 0.7         ┆ 0.12        ┆ 1.89 ┆ 0.0        │\n",
       "│ 03:00:00    ┆           ┆             ┆          ┆             ┆             ┆      ┆            │\n",
       "│ UTC         ┆           ┆             ┆          ┆             ┆             ┆      ┆            │\n",
       "│ …           ┆ …         ┆ …           ┆ …        ┆ …           ┆ …           ┆ …    ┆ …          │\n",
       "│ 2008-12-31  ┆ greis_4   ┆ 3050        ┆ 0.899    ┆ 0.0         ┆ 0.16        ┆ 6.31 ┆ -9.38      │\n",
       "│ 18:00:00    ┆           ┆             ┆          ┆             ┆             ┆      ┆            │\n",
       "│ UTC         ┆           ┆             ┆          ┆             ┆             ┆      ┆            │\n",
       "│ 2008-12-31  ┆ greis_4   ┆ 3050        ┆ 0.905    ┆ 0.0         ┆ 0.3         ┆ 6.16 ┆ -9.34      │\n",
       "│ 19:00:00    ┆           ┆             ┆          ┆             ┆             ┆      ┆            │\n",
       "│ UTC         ┆           ┆             ┆          ┆             ┆             ┆      ┆            │\n",
       "│ 2008-12-31  ┆ greis_4   ┆ 3050        ┆ 0.912    ┆ 0.0         ┆ 0.61        ┆ 5.37 ┆ -9.48      │\n",
       "│ 20:00:00    ┆           ┆             ┆          ┆             ┆             ┆      ┆            │\n",
       "│ UTC         ┆           ┆             ┆          ┆             ┆             ┆      ┆            │\n",
       "│ 2008-12-31  ┆ greis_4   ┆ 3050        ┆ 0.913    ┆ 0.0         ┆ 0.91        ┆ 4.16 ┆ -9.4       │\n",
       "│ 21:00:00    ┆           ┆             ┆          ┆             ┆             ┆      ┆            │\n",
       "│ UTC         ┆           ┆             ┆          ┆             ┆             ┆      ┆            │\n",
       "│ 2008-12-31  ┆ greis_4   ┆ 3050        ┆ 0.906    ┆ 0.0         ┆ 0.93        ┆ 4.46 ┆ -9.48      │\n",
       "│ 22:00:00    ┆           ┆             ┆          ┆             ┆             ┆      ┆            │\n",
       "│ UTC         ┆           ┆             ┆          ┆             ┆             ┆      ┆            │\n",
       "└─────────────┴───────────┴─────────────┴──────────┴─────────────┴─────────────┴──────┴────────────┘, hydro_power_performance_table=shape: (205, 7)\n",
       "┌─────────────────┬────────────────┬──────────────┬────────┬─────────┬────────────────┬────────────┐\n",
       "│ power_plant_fk  ┆ power_plant_st ┆ state_number ┆ head   ┆ flow    ┆ electrical_pow ┆ efficiency │\n",
       "│ ---             ┆ ate_fk         ┆ ---          ┆ ---    ┆ ---     ┆ er             ┆ ---        │\n",
       "│ str             ┆ ---            ┆ i32          ┆ f64    ┆ f64     ┆ ---            ┆ f64        │\n",
       "│                 ┆ str            ┆              ┆        ┆         ┆ f64            ┆            │\n",
       "╞═════════════════╪════════════════╪══════════════╪════════╪═════════╪════════════════╪════════════╡\n",
       "│ d8e48953-3fde-5 ┆ fabc6180-7167- ┆ 7            ┆ 432.5  ┆ 0.0     ┆ 0.0            ┆ 0.0        │\n",
       "│ a72-be02-ad4193 ┆ 5392-ada8-7db9 ┆              ┆        ┆         ┆                ┆            │\n",
       "│ …               ┆ 45…            ┆              ┆        ┆         ┆                ┆            │\n",
       "│ d8e48953-3fde-5 ┆ 921f0033-fb58- ┆ 5            ┆ 432.5  ┆ -1.0342 ┆ -5.3762        ┆ 0.81536    │\n",
       "│ a72-be02-ad4193 ┆ 5d99-8d57-c092 ┆              ┆        ┆         ┆                ┆            │\n",
       "│ …               ┆ a2…            ┆              ┆        ┆         ┆                ┆            │\n",
       "│ d8e48953-3fde-5 ┆ b45256f4-d371- ┆ 6            ┆ 432.5  ┆ -1.0907 ┆ -5.5038        ┆ 0.83997    │\n",
       "│ a72-be02-ad4193 ┆ 5ae9-b34d-9716 ┆              ┆        ┆         ┆                ┆            │\n",
       "│ …               ┆ 36…            ┆              ┆        ┆         ┆                ┆            │\n",
       "│ d8e48953-3fde-5 ┆ f90e27f4-4fc2- ┆ 4            ┆ 432.5  ┆ -1.9735 ┆ -10.614        ┆ 0.78813    │\n",
       "│ a72-be02-ad4193 ┆ 5418-a6a7-7d07 ┆              ┆        ┆         ┆                ┆            │\n",
       "│ …               ┆ 58…            ┆              ┆        ┆         ┆                ┆            │\n",
       "│ d8e48953-3fde-5 ┆ 3cffcfde-3d13- ┆ 0            ┆ 432.5  ┆ 0.38122 ┆ -1.2768        ┆ -1.2655    │\n",
       "│ a72-be02-ad4193 ┆ 5c17-800b-9c29 ┆              ┆        ┆         ┆                ┆            │\n",
       "│ …               ┆ 39…            ┆              ┆        ┆         ┆                ┆            │\n",
       "│ …               ┆ …              ┆ …            ┆ …      ┆ …       ┆ …              ┆ …          │\n",
       "│ 404348cd-ae72-5 ┆ 4066ebef-a13c- ┆ 0            ┆ 242.16 ┆ 19.136  ┆ 40.0           ┆ 0.88081    │\n",
       "│ 60b-a106-9c6b65 ┆ 5f79-9be7-e79e ┆              ┆        ┆         ┆                ┆            │\n",
       "│ …               ┆ e5…            ┆              ┆        ┆         ┆                ┆            │\n",
       "│ 404348cd-ae72-5 ┆ 4066ebef-a13c- ┆ 0            ┆ 242.16 ┆ 19.639  ┆ 41.0           ┆ 0.87974    │\n",
       "│ 60b-a106-9c6b65 ┆ 5f79-9be7-e79e ┆              ┆        ┆         ┆                ┆            │\n",
       "│ …               ┆ e5…            ┆              ┆        ┆         ┆                ┆            │\n",
       "│ 404348cd-ae72-5 ┆ 4066ebef-a13c- ┆ 0            ┆ 242.16 ┆ 20.172  ┆ 42.0           ┆ 0.87738    │\n",
       "│ 60b-a106-9c6b65 ┆ 5f79-9be7-e79e ┆              ┆        ┆         ┆                ┆            │\n",
       "│ …               ┆ e5…            ┆              ┆        ┆         ┆                ┆            │\n",
       "│ 404348cd-ae72-5 ┆ 4066ebef-a13c- ┆ 0            ┆ 242.16 ┆ 20.777  ┆ 43.0           ┆ 0.87209    │\n",
       "│ 60b-a106-9c6b65 ┆ 5f79-9be7-e79e ┆              ┆        ┆         ┆                ┆            │\n",
       "│ …               ┆ e5…            ┆              ┆        ┆         ┆                ┆            │\n",
       "│ 404348cd-ae72-5 ┆ 4066ebef-a13c- ┆ 0            ┆ 242.16 ┆ 21.307  ┆ 44.0           ┆ 0.87019    │\n",
       "│ 60b-a106-9c6b65 ┆ 5f79-9be7-e79e ┆              ┆        ┆         ┆                ┆            │\n",
       "│ …               ┆ e5…            ┆              ┆        ┆         ┆                ┆            │\n",
       "└─────────────────┴────────────────┴──────────────┴────────┴─────────┴────────────────┴────────────┘, power_production_measurement=shape: (122_151, 15)\n",
       "┌───────────┬───────────┬───────────┬───────────┬───┬───────────┬───────────┬───────────┬──────────┐\n",
       "│ timestamp ┆ power_pla ┆ resource_ ┆ min_curre ┆ … ┆ max_activ ┆ min_react ┆ avg_react ┆ max_reac │\n",
       "│ ---       ┆ nt_fk     ┆ fk        ┆ nt        ┆   ┆ e_power   ┆ ive_power ┆ ive_power ┆ tive_pow │\n",
       "│ datetime[ ┆ ---       ┆ ---       ┆ ---       ┆   ┆ ---       ┆ ---       ┆ ---       ┆ er       │\n",
       "│ μs, UTC]  ┆ str       ┆ str       ┆ f64       ┆   ┆ f64       ┆ f64       ┆ f64       ┆ ---      │\n",
       "│           ┆           ┆           ┆           ┆   ┆           ┆           ┆           ┆ f64      │\n",
       "╞═══════════╪═══════════╪═══════════╪═══════════╪═══╪═══════════╪═══════════╪═══════════╪══════════╡\n",
       "│ 2023-12-3 ┆ 9267008b- ┆ null      ┆ 2.755     ┆ … ┆ 0.27      ┆ -0.111    ┆ -0.11     ┆ -0.11    │\n",
       "│ 1         ┆ 9859-579b ┆           ┆           ┆   ┆           ┆           ┆           ┆          │\n",
       "│ 23:15:00  ┆ -bf5c-5a3 ┆           ┆           ┆   ┆           ┆           ┆           ┆          │\n",
       "│ UTC       ┆ fd9…      ┆           ┆           ┆   ┆           ┆           ┆           ┆          │\n",
       "│ 2023-12-3 ┆ 9267008b- ┆ null      ┆ 2.755     ┆ … ┆ 0.27      ┆ -0.111    ┆ -0.11     ┆ -0.11    │\n",
       "│ 1         ┆ 9859-579b ┆           ┆           ┆   ┆           ┆           ┆           ┆          │\n",
       "│ 23:30:00  ┆ -bf5c-5a3 ┆           ┆           ┆   ┆           ┆           ┆           ┆          │\n",
       "│ UTC       ┆ fd9…      ┆           ┆           ┆   ┆           ┆           ┆           ┆          │\n",
       "│ 2023-12-3 ┆ 9267008b- ┆ null      ┆ 3.742     ┆ … ┆ 0.287     ┆ -0.111    ┆ -0.11     ┆ -0.11    │\n",
       "│ 1         ┆ 9859-579b ┆           ┆           ┆   ┆           ┆           ┆           ┆          │\n",
       "│ 23:45:00  ┆ -bf5c-5a3 ┆           ┆           ┆   ┆           ┆           ┆           ┆          │\n",
       "│ UTC       ┆ fd9…      ┆           ┆           ┆   ┆           ┆           ┆           ┆          │\n",
       "│ 2024-01-0 ┆ 9267008b- ┆ null      ┆ 4.491     ┆ … ┆ 0.287     ┆ -0.129    ┆ -0.107    ┆ -0.092   │\n",
       "│ 1         ┆ 9859-579b ┆           ┆           ┆   ┆           ┆           ┆           ┆          │\n",
       "│ 00:00:00  ┆ -bf5c-5a3 ┆           ┆           ┆   ┆           ┆           ┆           ┆          │\n",
       "│ UTC       ┆ fd9…      ┆           ┆           ┆   ┆           ┆           ┆           ┆          │\n",
       "│ 2024-01-0 ┆ 9267008b- ┆ null      ┆ 3.493     ┆ … ┆ 0.306     ┆ -0.129    ┆ -0.107    ┆ -0.092   │\n",
       "│ 1         ┆ 9859-579b ┆           ┆           ┆   ┆           ┆           ┆           ┆          │\n",
       "│ 00:15:00  ┆ -bf5c-5a3 ┆           ┆           ┆   ┆           ┆           ┆           ┆          │\n",
       "│ UTC       ┆ fd9…      ┆           ┆           ┆   ┆           ┆           ┆           ┆          │\n",
       "│ …         ┆ …         ┆ …         ┆ …         ┆ … ┆ …         ┆ …         ┆ …         ┆ …        │\n",
       "│ 2022-11-2 ┆ 9267008b- ┆ null      ┆ 29.858    ┆ … ┆ -1.071    ┆ -0.037    ┆ -0.004    ┆ 0.036    │\n",
       "│ 2         ┆ 9859-579b ┆           ┆           ┆   ┆           ┆           ┆           ┆          │\n",
       "│ 10:30:00  ┆ -bf5c-5a3 ┆           ┆           ┆   ┆           ┆           ┆           ┆          │\n",
       "│ UTC       ┆ fd9…      ┆           ┆           ┆   ┆           ┆           ┆           ┆          │\n",
       "│ 2022-11-2 ┆ 9267008b- ┆ null      ┆ 39.811    ┆ … ┆ -1.416    ┆ -0.02     ┆ 0.017     ┆ 0.091    │\n",
       "│ 2         ┆ 9859-579b ┆           ┆           ┆   ┆           ┆           ┆           ┆          │\n",
       "│ 10:45:00  ┆ -bf5c-5a3 ┆           ┆           ┆   ┆           ┆           ┆           ┆          │\n",
       "│ UTC       ┆ fd9…      ┆           ┆           ┆   ┆           ┆           ┆           ┆          │\n",
       "│ 2022-11-2 ┆ 9267008b- ┆ null      ┆ 36.577    ┆ … ┆ -1.271    ┆ -0.037    ┆ 0.017     ┆ 0.072    │\n",
       "│ 2         ┆ 9859-579b ┆           ┆           ┆   ┆           ┆           ┆           ┆          │\n",
       "│ 11:00:00  ┆ -bf5c-5a3 ┆           ┆           ┆   ┆           ┆           ┆           ┆          │\n",
       "│ UTC       ┆ fd9…      ┆           ┆           ┆   ┆           ┆           ┆           ┆          │\n",
       "│ 2022-11-2 ┆ 9267008b- ┆ null      ┆ 51.002    ┆ … ┆ -1.815    ┆ -0.002    ┆ 0.098     ┆ 0.272    │\n",
       "│ 2         ┆ 9859-579b ┆           ┆           ┆   ┆           ┆           ┆           ┆          │\n",
       "│ 11:15:00  ┆ -bf5c-5a3 ┆           ┆           ┆   ┆           ┆           ┆           ┆          │\n",
       "│ UTC       ┆ fd9…      ┆           ┆           ┆   ┆           ┆           ┆           ┆          │\n",
       "│ 2022-11-2 ┆ 9267008b- ┆ null      ┆ 96.004    ┆ … ┆ -3.395    ┆ 0.09      ┆ 0.24      ┆ 0.417    │\n",
       "│ 2         ┆ 9859-579b ┆           ┆           ┆   ┆           ┆           ┆           ┆          │\n",
       "│ 11:30:00  ┆ -bf5c-5a3 ┆           ┆           ┆   ┆           ┆           ┆           ┆          │\n",
       "│ UTC       ┆ fd9…      ┆           ┆           ┆   ┆           ┆           ┆           ┆          │\n",
       "└───────────┴───────────┴───────────┴───────────┴───┴───────────┴───────────┴───────────┴──────────┘, resource=shape: (7, 6)\n",
       "┌──────────────────┬──────────────────┬───────────────┬──────────────────┬─────────────┬───────────┐\n",
       "│ name             ┆ uuid             ┆ type          ┆ power_plant_fk   ┆ rated_power ┆ installed │\n",
       "│ ---              ┆ ---              ┆ ---           ┆ ---              ┆ ---         ┆ ---       │\n",
       "│ str              ┆ str              ┆ str           ┆ str              ┆ f64         ┆ bool      │\n",
       "╞══════════════════╪══════════════════╪═══════════════╪══════════════════╪═════════════╪═══════════╡\n",
       "│ Aegina turbine   ┆ f7d845ff-ad6b-58 ┆ hydro_turbine ┆ d8e48953-3fde-5a ┆ 9.2         ┆ true      │\n",
       "│                  ┆ d4-accd-59b1c8…  ┆               ┆ 72-be02-ad4193…  ┆             ┆           │\n",
       "│ Aegina pump 1    ┆ db200379-c96b-56 ┆ hydro_pump    ┆ d8e48953-3fde-5a ┆ 6.0         ┆ false     │\n",
       "│                  ┆ 85-a446-a9d285…  ┆               ┆ 72-be02-ad4193…  ┆             ┆           │\n",
       "│ Aegina pump 2    ┆ b039c287-9763-5a ┆ hydro_pump    ┆ d8e48953-3fde-5a ┆ 6.0         ┆ false     │\n",
       "│                  ┆ ec-b12b-0935cc…  ┆               ┆ 72-be02-ad4193…  ┆             ┆           │\n",
       "│ Merezenbach      ┆ c154aa5f-343b-52 ┆ hydro_turbine ┆ 094cdd39-df2c-5a ┆ 1.9         ┆ true      │\n",
       "│ turbine          ┆ 8f-8146-73601e…  ┆               ┆ 2d-9704-3de498…  ┆             ┆           │\n",
       "│ Morel turbine 1  ┆ ca01006a-1970-59 ┆ hydro_turbine ┆ 404348cd-ae72-56 ┆ 17.0        ┆ true      │\n",
       "│                  ┆ ca-bf44-99fb3f…  ┆               ┆ 0b-a106-9c6b65…  ┆             ┆           │\n",
       "│ Morel turbine 2  ┆ c139092b-bfbb-55 ┆ hydro_turbine ┆ 404348cd-ae72-56 ┆ 17.0        ┆ true      │\n",
       "│                  ┆ a8-b072-aa9233…  ┆               ┆ 0b-a106-9c6b65…  ┆             ┆           │\n",
       "│ Morel turbine 3  ┆ 36c6a942-adba-59 ┆ hydro_turbine ┆ 404348cd-ae72-56 ┆ 17.0        ┆ true      │\n",
       "│                  ┆ cf-bd9d-6503cd…  ┆               ┆ 0b-a106-9c6b65…  ┆             ┆           │\n",
       "└──────────────────┴──────────────────┴───────────────┴──────────────────┴─────────────┴───────────┘)"
      ]
     },
     "execution_count": 4,
     "metadata": {},
     "output_type": "execute_result"
    }
   ],
   "source": [
    "small_flex_input_schema"
   ]
  },
  {
   "cell_type": "code",
   "execution_count": null,
   "metadata": {},
   "outputs": [
    {
     "name": "stdout",
     "output_type": "stream",
     "text": [
      "shape: (122_151, 15)\n",
      "┌───────────┬───────────┬───────────┬───────────┬───┬───────────┬───────────┬───────────┬──────────┐\n",
      "│ timestamp ┆ power_pla ┆ resource_ ┆ min_curre ┆ … ┆ max_activ ┆ min_react ┆ avg_react ┆ max_reac │\n",
      "│ ---       ┆ nt_fk     ┆ fk        ┆ nt        ┆   ┆ e_power   ┆ ive_power ┆ ive_power ┆ tive_pow │\n",
      "│ datetime[ ┆ ---       ┆ ---       ┆ ---       ┆   ┆ ---       ┆ ---       ┆ ---       ┆ er       │\n",
      "│ μs, Europ ┆ str       ┆ str       ┆ f64       ┆   ┆ f64       ┆ f64       ┆ f64       ┆ ---      │\n",
      "│ e/Zurich] ┆           ┆           ┆           ┆   ┆           ┆           ┆           ┆ f64      │\n",
      "╞═══════════╪═══════════╪═══════════╪═══════════╪═══╪═══════════╪═══════════╪═══════════╪══════════╡\n",
      "│ 2024-01-0 ┆ 9267008b- ┆ null      ┆ 2.755     ┆ … ┆ 0.27      ┆ -0.111    ┆ -0.11     ┆ -0.11    │\n",
      "│ 1         ┆ 9859-579b ┆           ┆           ┆   ┆           ┆           ┆           ┆          │\n",
      "│ 00:15:00  ┆ -bf5c-5a3 ┆           ┆           ┆   ┆           ┆           ┆           ┆          │\n",
      "│ CET       ┆ fd9…      ┆           ┆           ┆   ┆           ┆           ┆           ┆          │\n",
      "│ 2024-01-0 ┆ 9267008b- ┆ null      ┆ 2.755     ┆ … ┆ 0.27      ┆ -0.111    ┆ -0.11     ┆ -0.11    │\n",
      "│ 1         ┆ 9859-579b ┆           ┆           ┆   ┆           ┆           ┆           ┆          │\n",
      "│ 00:30:00  ┆ -bf5c-5a3 ┆           ┆           ┆   ┆           ┆           ┆           ┆          │\n",
      "│ CET       ┆ fd9…      ┆           ┆           ┆   ┆           ┆           ┆           ┆          │\n",
      "│ 2024-01-0 ┆ 9267008b- ┆ null      ┆ 3.742     ┆ … ┆ 0.287     ┆ -0.111    ┆ -0.11     ┆ -0.11    │\n",
      "│ 1         ┆ 9859-579b ┆           ┆           ┆   ┆           ┆           ┆           ┆          │\n",
      "│ 00:45:00  ┆ -bf5c-5a3 ┆           ┆           ┆   ┆           ┆           ┆           ┆          │\n",
      "│ CET       ┆ fd9…      ┆           ┆           ┆   ┆           ┆           ┆           ┆          │\n",
      "│ 2024-01-0 ┆ 9267008b- ┆ null      ┆ 4.491     ┆ … ┆ 0.287     ┆ -0.129    ┆ -0.107    ┆ -0.092   │\n",
      "│ 1         ┆ 9859-579b ┆           ┆           ┆   ┆           ┆           ┆           ┆          │\n",
      "│ 01:00:00  ┆ -bf5c-5a3 ┆           ┆           ┆   ┆           ┆           ┆           ┆          │\n",
      "│ CET       ┆ fd9…      ┆           ┆           ┆   ┆           ┆           ┆           ┆          │\n",
      "│ 2024-01-0 ┆ 9267008b- ┆ null      ┆ 3.493     ┆ … ┆ 0.306     ┆ -0.129    ┆ -0.107    ┆ -0.092   │\n",
      "│ 1         ┆ 9859-579b ┆           ┆           ┆   ┆           ┆           ┆           ┆          │\n",
      "│ 01:15:00  ┆ -bf5c-5a3 ┆           ┆           ┆   ┆           ┆           ┆           ┆          │\n",
      "│ CET       ┆ fd9…      ┆           ┆           ┆   ┆           ┆           ┆           ┆          │\n",
      "│ …         ┆ …         ┆ …         ┆ …         ┆ … ┆ …         ┆ …         ┆ …         ┆ …        │\n",
      "│ 2022-11-2 ┆ 9267008b- ┆ null      ┆ 29.858    ┆ … ┆ -1.071    ┆ -0.037    ┆ -0.004    ┆ 0.036    │\n",
      "│ 2         ┆ 9859-579b ┆           ┆           ┆   ┆           ┆           ┆           ┆          │\n",
      "│ 11:30:00  ┆ -bf5c-5a3 ┆           ┆           ┆   ┆           ┆           ┆           ┆          │\n",
      "│ CET       ┆ fd9…      ┆           ┆           ┆   ┆           ┆           ┆           ┆          │\n",
      "│ 2022-11-2 ┆ 9267008b- ┆ null      ┆ 39.811    ┆ … ┆ -1.416    ┆ -0.02     ┆ 0.017     ┆ 0.091    │\n",
      "│ 2         ┆ 9859-579b ┆           ┆           ┆   ┆           ┆           ┆           ┆          │\n",
      "│ 11:45:00  ┆ -bf5c-5a3 ┆           ┆           ┆   ┆           ┆           ┆           ┆          │\n",
      "│ CET       ┆ fd9…      ┆           ┆           ┆   ┆           ┆           ┆           ┆          │\n",
      "│ 2022-11-2 ┆ 9267008b- ┆ null      ┆ 36.577    ┆ … ┆ -1.271    ┆ -0.037    ┆ 0.017     ┆ 0.072    │\n",
      "│ 2         ┆ 9859-579b ┆           ┆           ┆   ┆           ┆           ┆           ┆          │\n",
      "│ 12:00:00  ┆ -bf5c-5a3 ┆           ┆           ┆   ┆           ┆           ┆           ┆          │\n",
      "│ CET       ┆ fd9…      ┆           ┆           ┆   ┆           ┆           ┆           ┆          │\n",
      "│ 2022-11-2 ┆ 9267008b- ┆ null      ┆ 51.002    ┆ … ┆ -1.815    ┆ -0.002    ┆ 0.098     ┆ 0.272    │\n",
      "│ 2         ┆ 9859-579b ┆           ┆           ┆   ┆           ┆           ┆           ┆          │\n",
      "│ 12:15:00  ┆ -bf5c-5a3 ┆           ┆           ┆   ┆           ┆           ┆           ┆          │\n",
      "│ CET       ┆ fd9…      ┆           ┆           ┆   ┆           ┆           ┆           ┆          │\n",
      "│ 2022-11-2 ┆ 9267008b- ┆ null      ┆ 96.004    ┆ … ┆ -3.395    ┆ 0.09      ┆ 0.24      ┆ 0.417    │\n",
      "│ 2         ┆ 9859-579b ┆           ┆           ┆   ┆           ┆           ┆           ┆          │\n",
      "│ 12:30:00  ┆ -bf5c-5a3 ┆           ┆           ┆   ┆           ┆           ┆           ┆          │\n",
      "│ CET       ┆ fd9…      ┆           ┆           ┆   ┆           ┆           ┆           ┆          │\n",
      "└───────────┴───────────┴───────────┴───────────┴───┴───────────┴───────────┴───────────┴──────────┘\n"
     ]
    }
   ],
   "source": [
    "import duckdb\n",
    "\n",
    "with duckdb.connect(database=file_path) as con:\n",
    "\n",
    "    query: str = f\"SELECT * FROM power_production_measurement\"\n",
    "    data  = con.execute(query).pl()\n",
    "print(data)"
   ]
  },
  {
   "cell_type": "code",
   "execution_count": 6,
   "metadata": {},
   "outputs": [
    {
     "ename": "SyntaxError",
     "evalue": "illegal target for annotation (558766353.py, line 1)",
     "output_type": "error",
     "traceback": [
      "\u001b[0;36m  Cell \u001b[0;32mIn[6], line 1\u001b[0;36m\u001b[0m\n\u001b[0;31m    \"Ausschreibung\":\"date\"\u001b[0m\n\u001b[0m    ^\u001b[0m\n\u001b[0;31mSyntaxError\u001b[0m\u001b[0;31m:\u001b[0m illegal target for annotation\n"
     ]
    }
   ],
   "source": [
    "\n",
    "\"Ausschreibung\":\"date\"\n",
    "\"Von\": \"time\",\n",
    "\"Angebotene Menge\":\"ava MW\",\n",
    "\"Abgerufene Menge\": \"pur MW\",\n",
    "\"Produkt\": \"market\",\n",
    "\"Preis\": \"price\"\n"
   ]
  },
  {
   "cell_type": "code",
   "execution_count": 13,
   "metadata": {},
   "outputs": [
    {
     "data": {
      "text/html": [
       "<div><style>\n",
       ".dataframe > thead > tr,\n",
       ".dataframe > tbody > tr {\n",
       "  text-align: right;\n",
       "  white-space: pre-wrap;\n",
       "}\n",
       "</style>\n",
       "<small>shape: (135_068, 11)</small><table border=\"1\" class=\"dataframe\"><thead><tr><th>Ausschreibung</th><th>Von</th><th>Bis</th><th>Produkt</th><th>Angebotene Menge</th><th>Einheit</th><th>Abgerufene Menge</th><th>Einheit_duplicated_0</th><th>Preis</th><th>Einheit_duplicated_1</th><th>Status</th></tr><tr><td>str</td><td>str</td><td>str</td><td>str</td><td>i64</td><td>str</td><td>i64</td><td>str</td><td>f64</td><td>str</td><td>str</td></tr></thead><tbody><tr><td>&quot;TRE_20_03_01&quot;</td><td>&quot;00:00&quot;</td><td>&quot;01:00&quot;</td><td>&quot;TREnergie+_s&quot;</td><td>5</td><td>&quot;MW&quot;</td><td>0</td><td>&quot;MW&quot;</td><td>499.0</td><td>&quot;EUR/MWh&quot;</td><td>&quot;verfügbar&quot;</td></tr><tr><td>&quot;TRE_20_03_01&quot;</td><td>&quot;00:00&quot;</td><td>&quot;01:00&quot;</td><td>&quot;TREnergie+_s&quot;</td><td>5</td><td>&quot;MW&quot;</td><td>0</td><td>&quot;MW&quot;</td><td>272.0</td><td>&quot;EUR/MWh&quot;</td><td>&quot;verfügbar&quot;</td></tr><tr><td>&quot;TRE_20_03_01&quot;</td><td>&quot;00:00&quot;</td><td>&quot;01:00&quot;</td><td>&quot;TREnergie+_s&quot;</td><td>5</td><td>&quot;MW&quot;</td><td>0</td><td>&quot;MW&quot;</td><td>92.0</td><td>&quot;EUR/MWh&quot;</td><td>&quot;verfügbar&quot;</td></tr><tr><td>&quot;TRE_20_03_01&quot;</td><td>&quot;00:00&quot;</td><td>&quot;01:00&quot;</td><td>&quot;TREnergie+_s&quot;</td><td>5</td><td>&quot;MW&quot;</td><td>0</td><td>&quot;MW&quot;</td><td>374.0</td><td>&quot;EUR/MWh&quot;</td><td>&quot;verfügbar&quot;</td></tr><tr><td>&quot;TRE_20_03_01&quot;</td><td>&quot;00:00&quot;</td><td>&quot;01:00&quot;</td><td>&quot;TREnergie+_s&quot;</td><td>5</td><td>&quot;MW&quot;</td><td>0</td><td>&quot;MW&quot;</td><td>81.0</td><td>&quot;EUR/MWh&quot;</td><td>&quot;verfügbar&quot;</td></tr><tr><td>&hellip;</td><td>&hellip;</td><td>&hellip;</td><td>&hellip;</td><td>&hellip;</td><td>&hellip;</td><td>&hellip;</td><td>&hellip;</td><td>&hellip;</td><td>&hellip;</td><td>&hellip;</td></tr><tr><td>&quot;TRE_20_03_31&quot;</td><td>&quot;23:00&quot;</td><td>&quot;00:00&quot;</td><td>&quot;TREnergie-_s&quot;</td><td>25</td><td>&quot;MW&quot;</td><td>0</td><td>&quot;MW&quot;</td><td>10.0</td><td>&quot;EUR/MWh&quot;</td><td>&quot;verfügbar&quot;</td></tr><tr><td>&quot;TRE_20_03_31&quot;</td><td>&quot;23:00&quot;</td><td>&quot;00:00&quot;</td><td>&quot;TREnergie-_s&quot;</td><td>25</td><td>&quot;MW&quot;</td><td>0</td><td>&quot;MW&quot;</td><td>6.0</td><td>&quot;EUR/MWh&quot;</td><td>&quot;verfügbar&quot;</td></tr><tr><td>&quot;TRE_20_03_31&quot;</td><td>&quot;23:00&quot;</td><td>&quot;00:00&quot;</td><td>&quot;TREnergie-_s&quot;</td><td>25</td><td>&quot;MW&quot;</td><td>0</td><td>&quot;MW&quot;</td><td>14.0</td><td>&quot;EUR/MWh&quot;</td><td>&quot;verfügbar&quot;</td></tr><tr><td>&quot;TRE_20_03_31&quot;</td><td>&quot;23:00&quot;</td><td>&quot;00:00&quot;</td><td>&quot;TREnergie-_s&quot;</td><td>27</td><td>&quot;MW&quot;</td><td>0</td><td>&quot;MW&quot;</td><td>2.0</td><td>&quot;EUR/MWh&quot;</td><td>&quot;verfügbar&quot;</td></tr><tr><td>&quot;TRE_20_03_31&quot;</td><td>&quot;23:00&quot;</td><td>&quot;00:00&quot;</td><td>&quot;TREnergie-_s&quot;</td><td>28</td><td>&quot;MW&quot;</td><td>0</td><td>&quot;MW&quot;</td><td>-150.0</td><td>&quot;EUR/MWh&quot;</td><td>&quot;verfügbar&quot;</td></tr></tbody></table></div>"
      ],
      "text/plain": [
       "shape: (135_068, 11)\n",
       "┌──────────────┬───────┬───────┬──────────────┬───┬─────────────┬────────┬─────────────┬───────────┐\n",
       "│ Ausschreibun ┆ Von   ┆ Bis   ┆ Produkt      ┆ … ┆ Einheit_dup ┆ Preis  ┆ Einheit_dup ┆ Status    │\n",
       "│ g            ┆ ---   ┆ ---   ┆ ---          ┆   ┆ licated_0   ┆ ---    ┆ licated_1   ┆ ---       │\n",
       "│ ---          ┆ str   ┆ str   ┆ str          ┆   ┆ ---         ┆ f64    ┆ ---         ┆ str       │\n",
       "│ str          ┆       ┆       ┆              ┆   ┆ str         ┆        ┆ str         ┆           │\n",
       "╞══════════════╪═══════╪═══════╪══════════════╪═══╪═════════════╪════════╪═════════════╪═══════════╡\n",
       "│ TRE_20_03_01 ┆ 00:00 ┆ 01:00 ┆ TREnergie+_s ┆ … ┆ MW          ┆ 499.0  ┆ EUR/MWh     ┆ verfügbar │\n",
       "│ TRE_20_03_01 ┆ 00:00 ┆ 01:00 ┆ TREnergie+_s ┆ … ┆ MW          ┆ 272.0  ┆ EUR/MWh     ┆ verfügbar │\n",
       "│ TRE_20_03_01 ┆ 00:00 ┆ 01:00 ┆ TREnergie+_s ┆ … ┆ MW          ┆ 92.0   ┆ EUR/MWh     ┆ verfügbar │\n",
       "│ TRE_20_03_01 ┆ 00:00 ┆ 01:00 ┆ TREnergie+_s ┆ … ┆ MW          ┆ 374.0  ┆ EUR/MWh     ┆ verfügbar │\n",
       "│ TRE_20_03_01 ┆ 00:00 ┆ 01:00 ┆ TREnergie+_s ┆ … ┆ MW          ┆ 81.0   ┆ EUR/MWh     ┆ verfügbar │\n",
       "│ …            ┆ …     ┆ …     ┆ …            ┆ … ┆ …           ┆ …      ┆ …           ┆ …         │\n",
       "│ TRE_20_03_31 ┆ 23:00 ┆ 00:00 ┆ TREnergie-_s ┆ … ┆ MW          ┆ 10.0   ┆ EUR/MWh     ┆ verfügbar │\n",
       "│ TRE_20_03_31 ┆ 23:00 ┆ 00:00 ┆ TREnergie-_s ┆ … ┆ MW          ┆ 6.0    ┆ EUR/MWh     ┆ verfügbar │\n",
       "│ TRE_20_03_31 ┆ 23:00 ┆ 00:00 ┆ TREnergie-_s ┆ … ┆ MW          ┆ 14.0   ┆ EUR/MWh     ┆ verfügbar │\n",
       "│ TRE_20_03_31 ┆ 23:00 ┆ 00:00 ┆ TREnergie-_s ┆ … ┆ MW          ┆ 2.0    ┆ EUR/MWh     ┆ verfügbar │\n",
       "│ TRE_20_03_31 ┆ 23:00 ┆ 00:00 ┆ TREnergie-_s ┆ … ┆ MW          ┆ -150.0 ┆ EUR/MWh     ┆ verfügbar │\n",
       "└──────────────┴───────┴───────┴──────────────┴───┴─────────────┴────────┴─────────────┴───────────┘"
      ]
     },
     "execution_count": 13,
     "metadata": {},
     "output_type": "execute_result"
    }
   ],
   "source": [
    "energy = \".cache/input/alpiq_input_data/swissgrid/energy/2020-03-TRE-Ergebnis.csv\"\n",
    "\n",
    "data = pl.read_csv(energy, separator=\";\", encoding='iso-8859-1', null_values=[\"*\", \"N/A\"])\n",
    "\n",
    "\n",
    "data"
   ]
  },
  {
   "cell_type": "code",
   "execution_count": 42,
   "metadata": {},
   "outputs": [
    {
     "data": {
      "text/html": [
       "<div><style>\n",
       ".dataframe > thead > tr,\n",
       ".dataframe > tbody > tr {\n",
       "  text-align: right;\n",
       "  white-space: pre-wrap;\n",
       "}\n",
       "</style>\n",
       "<small>shape: (44_996, 9)</small><table border=\"1\" class=\"dataframe\"><thead><tr><th>timestamp</th><th>market</th><th>direction</th><th>min</th><th>avg</th><th>max</th><th>country</th><th>source</th><th>unit</th></tr><tr><td>datetime[μs, UTC]</td><td>str</td><td>str</td><td>f64</td><td>f64</td><td>f64</td><td>str</td><td>str</td><td>str</td></tr></thead><tbody><tr><td>2020-11-21 20:00:00 UTC</td><td>&quot;mFRR-cap&quot;</td><td>&quot;pos&quot;</td><td>0.0</td><td>0.144331</td><td>0.24</td><td>&quot;CH&quot;</td><td>&quot;swissgrid&quot;</td><td>&quot;EUR/MWh&quot;</td></tr><tr><td>2020-12-13 20:00:00 UTC</td><td>&quot;mFRR-cap&quot;</td><td>&quot;pos&quot;</td><td>0.0</td><td>0.183571</td><td>0.48</td><td>&quot;CH&quot;</td><td>&quot;swissgrid&quot;</td><td>&quot;EUR/MWh&quot;</td></tr><tr><td>2020-01-22 08:00:00 UTC</td><td>&quot;mFRR-cap&quot;</td><td>&quot;pos&quot;</td><td>0.45</td><td>0.474096</td><td>0.5</td><td>&quot;CH&quot;</td><td>&quot;swissgrid&quot;</td><td>&quot;EUR/MWh&quot;</td></tr><tr><td>2020-08-25 00:00:00 UTC</td><td>&quot;mFRR-cap&quot;</td><td>&quot;pos&quot;</td><td>0.0</td><td>0.002</td><td>0.01</td><td>&quot;CH&quot;</td><td>&quot;swissgrid&quot;</td><td>&quot;EUR/MWh&quot;</td></tr><tr><td>2020-11-14 20:00:00 UTC</td><td>&quot;FCR-cap&quot;</td><td>&quot;sym&quot;</td><td>11.72</td><td>12.339788</td><td>33.08</td><td>&quot;CH&quot;</td><td>&quot;swissgrid&quot;</td><td>&quot;EUR/MWh&quot;</td></tr><tr><td>&hellip;</td><td>&hellip;</td><td>&hellip;</td><td>&hellip;</td><td>&hellip;</td><td>&hellip;</td><td>&hellip;</td><td>&hellip;</td><td>&hellip;</td></tr><tr><td>2015-01-29 00:00:00 UTC</td><td>&quot;mFRR-cap&quot;</td><td>&quot;neg&quot;</td><td>0.98</td><td>0.998824</td><td>1.0</td><td>&quot;CH&quot;</td><td>&quot;swissgrid&quot;</td><td>&quot;EUR/MWh&quot;</td></tr><tr><td>2015-03-31 08:00:00 UTC</td><td>&quot;mFRR-cap&quot;</td><td>&quot;neg&quot;</td><td>0.72</td><td>3.394839</td><td>4.75</td><td>&quot;CH&quot;</td><td>&quot;swissgrid&quot;</td><td>&quot;EUR/MWh&quot;</td></tr><tr><td>2015-03-27 08:00:00 UTC</td><td>&quot;mFRR-cap&quot;</td><td>&quot;pos&quot;</td><td>6.25</td><td>10.104925</td><td>12.25</td><td>&quot;CH&quot;</td><td>&quot;swissgrid&quot;</td><td>&quot;EUR/MWh&quot;</td></tr><tr><td>2015-10-22 00:00:00 UTC</td><td>&quot;mFRR-cap&quot;</td><td>&quot;neg&quot;</td><td>1.75</td><td>1.948333</td><td>2.5</td><td>&quot;CH&quot;</td><td>&quot;swissgrid&quot;</td><td>&quot;EUR/MWh&quot;</td></tr><tr><td>2015-02-07 08:00:00 UTC</td><td>&quot;mFRR-cap&quot;</td><td>&quot;pos&quot;</td><td>0.5</td><td>2.193978</td><td>5.75</td><td>&quot;CH&quot;</td><td>&quot;swissgrid&quot;</td><td>&quot;EUR/MWh&quot;</td></tr></tbody></table></div>"
      ],
      "text/plain": [
       "shape: (44_996, 9)\n",
       "┌───────────────────────┬──────────┬───────────┬───────┬───┬───────┬─────────┬───────────┬─────────┐\n",
       "│ timestamp             ┆ market   ┆ direction ┆ min   ┆ … ┆ max   ┆ country ┆ source    ┆ unit    │\n",
       "│ ---                   ┆ ---      ┆ ---       ┆ ---   ┆   ┆ ---   ┆ ---     ┆ ---       ┆ ---     │\n",
       "│ datetime[μs, UTC]     ┆ str      ┆ str       ┆ f64   ┆   ┆ f64   ┆ str     ┆ str       ┆ str     │\n",
       "╞═══════════════════════╪══════════╪═══════════╪═══════╪═══╪═══════╪═════════╪═══════════╪═════════╡\n",
       "│ 2020-11-21 20:00:00   ┆ mFRR-cap ┆ pos       ┆ 0.0   ┆ … ┆ 0.24  ┆ CH      ┆ swissgrid ┆ EUR/MWh │\n",
       "│ UTC                   ┆          ┆           ┆       ┆   ┆       ┆         ┆           ┆         │\n",
       "│ 2020-12-13 20:00:00   ┆ mFRR-cap ┆ pos       ┆ 0.0   ┆ … ┆ 0.48  ┆ CH      ┆ swissgrid ┆ EUR/MWh │\n",
       "│ UTC                   ┆          ┆           ┆       ┆   ┆       ┆         ┆           ┆         │\n",
       "│ 2020-01-22 08:00:00   ┆ mFRR-cap ┆ pos       ┆ 0.45  ┆ … ┆ 0.5   ┆ CH      ┆ swissgrid ┆ EUR/MWh │\n",
       "│ UTC                   ┆          ┆           ┆       ┆   ┆       ┆         ┆           ┆         │\n",
       "│ 2020-08-25 00:00:00   ┆ mFRR-cap ┆ pos       ┆ 0.0   ┆ … ┆ 0.01  ┆ CH      ┆ swissgrid ┆ EUR/MWh │\n",
       "│ UTC                   ┆          ┆           ┆       ┆   ┆       ┆         ┆           ┆         │\n",
       "│ 2020-11-14 20:00:00   ┆ FCR-cap  ┆ sym       ┆ 11.72 ┆ … ┆ 33.08 ┆ CH      ┆ swissgrid ┆ EUR/MWh │\n",
       "│ UTC                   ┆          ┆           ┆       ┆   ┆       ┆         ┆           ┆         │\n",
       "│ …                     ┆ …        ┆ …         ┆ …     ┆ … ┆ …     ┆ …       ┆ …         ┆ …       │\n",
       "│ 2015-01-29 00:00:00   ┆ mFRR-cap ┆ neg       ┆ 0.98  ┆ … ┆ 1.0   ┆ CH      ┆ swissgrid ┆ EUR/MWh │\n",
       "│ UTC                   ┆          ┆           ┆       ┆   ┆       ┆         ┆           ┆         │\n",
       "│ 2015-03-31 08:00:00   ┆ mFRR-cap ┆ neg       ┆ 0.72  ┆ … ┆ 4.75  ┆ CH      ┆ swissgrid ┆ EUR/MWh │\n",
       "│ UTC                   ┆          ┆           ┆       ┆   ┆       ┆         ┆           ┆         │\n",
       "│ 2015-03-27 08:00:00   ┆ mFRR-cap ┆ pos       ┆ 6.25  ┆ … ┆ 12.25 ┆ CH      ┆ swissgrid ┆ EUR/MWh │\n",
       "│ UTC                   ┆          ┆           ┆       ┆   ┆       ┆         ┆           ┆         │\n",
       "│ 2015-10-22 00:00:00   ┆ mFRR-cap ┆ neg       ┆ 1.75  ┆ … ┆ 2.5   ┆ CH      ┆ swissgrid ┆ EUR/MWh │\n",
       "│ UTC                   ┆          ┆           ┆       ┆   ┆       ┆         ┆           ┆         │\n",
       "│ 2015-02-07 08:00:00   ┆ mFRR-cap ┆ pos       ┆ 0.5   ┆ … ┆ 5.75  ┆ CH      ┆ swissgrid ┆ EUR/MWh │\n",
       "│ UTC                   ┆          ┆           ┆       ┆   ┆       ┆         ┆           ┆         │\n",
       "└───────────────────────┴──────────┴───────────┴───────┴───┴───────┴─────────┴───────────┴─────────┘"
      ]
     },
     "execution_count": 42,
     "metadata": {},
     "output_type": "execute_result"
    }
   ],
   "source": [
    "market_price_measurement"
   ]
  },
  {
   "cell_type": "code",
   "execution_count": 15,
   "metadata": {},
   "outputs": [
    {
     "data": {
      "text/html": [
       "<div><style>\n",
       ".dataframe > thead > tr,\n",
       ".dataframe > tbody > tr {\n",
       "  text-align: right;\n",
       "  white-space: pre-wrap;\n",
       "}\n",
       "</style>\n",
       "<small>shape: (840_481, 19)</small><table border=\"1\" class=\"dataframe\"><thead><tr><th>market</th><th>y</th><th>m</th><th>d</th><th>time</th><th>Angebotenes Volumen</th><th>Einheit</th><th>quantity</th><th>Einheit_duplicated_0</th><th>Leistungspreis</th><th>Einheit_duplicated_1</th><th>Kosten</th><th>Einheit_duplicated_2</th><th>price</th><th>Einheit_duplicated_3</th><th>Land</th><th>Angebotspreis</th><th>Einheit_duplicated_4</th><th>Teilbarkeit</th></tr><tr><td>str</td><td>str</td><td>str</td><td>str</td><td>str</td><td>i64</td><td>str</td><td>i64</td><td>str</td><td>f64</td><td>str</td><td>f64</td><td>str</td><td>f64</td><td>str</td><td>str</td><td>f64</td><td>str</td><td>str</td></tr></thead><tbody><tr><td>&quot;PRL&quot;</td><td>&quot;20&quot;</td><td>&quot;01&quot;</td><td>&quot;01&quot;</td><td>&quot;Auction&quot;</td><td>16</td><td>&quot;MW&quot;</td><td>16</td><td>&quot;MW&quot;</td><td>50.0</td><td>&quot;EUR/MW&quot;</td><td>800.0</td><td>&quot;EUR&quot;</td><td>6.21</td><td>&quot;EUR/MWh*&quot;</td><td>&quot;CH&quot;</td><td>2.08</td><td>&quot;EUR/MWh*&quot;</td><td>&quot;Ja&quot;</td></tr><tr><td>&quot;PRL&quot;</td><td>&quot;20&quot;</td><td>&quot;01&quot;</td><td>&quot;01&quot;</td><td>&quot;Auction&quot;</td><td>1</td><td>&quot;MW&quot;</td><td>1</td><td>&quot;MW&quot;</td><td>80.0</td><td>&quot;EUR/MW&quot;</td><td>80.0</td><td>&quot;EUR&quot;</td><td>6.21</td><td>&quot;EUR/MWh*&quot;</td><td>&quot;CH&quot;</td><td>3.33</td><td>&quot;EUR/MWh*&quot;</td><td>&quot;Ja&quot;</td></tr><tr><td>&quot;PRL&quot;</td><td>&quot;20&quot;</td><td>&quot;01&quot;</td><td>&quot;01&quot;</td><td>&quot;Auction&quot;</td><td>1</td><td>&quot;MW&quot;</td><td>1</td><td>&quot;MW&quot;</td><td>80.0</td><td>&quot;EUR/MW&quot;</td><td>80.0</td><td>&quot;EUR&quot;</td><td>6.21</td><td>&quot;EUR/MWh*&quot;</td><td>&quot;CH&quot;</td><td>3.33</td><td>&quot;EUR/MWh*&quot;</td><td>&quot;Ja&quot;</td></tr><tr><td>&quot;PRL&quot;</td><td>&quot;20&quot;</td><td>&quot;01&quot;</td><td>&quot;01&quot;</td><td>&quot;Auction&quot;</td><td>1</td><td>&quot;MW&quot;</td><td>1</td><td>&quot;MW&quot;</td><td>80.0</td><td>&quot;EUR/MW&quot;</td><td>80.0</td><td>&quot;EUR&quot;</td><td>6.21</td><td>&quot;EUR/MWh*&quot;</td><td>&quot;CH&quot;</td><td>3.33</td><td>&quot;EUR/MWh*&quot;</td><td>&quot;Ja&quot;</td></tr><tr><td>&quot;PRL&quot;</td><td>&quot;20&quot;</td><td>&quot;01&quot;</td><td>&quot;01&quot;</td><td>&quot;Auction&quot;</td><td>1</td><td>&quot;MW&quot;</td><td>1</td><td>&quot;MW&quot;</td><td>120.0</td><td>&quot;EUR/MW&quot;</td><td>120.0</td><td>&quot;EUR&quot;</td><td>6.21</td><td>&quot;EUR/MWh*&quot;</td><td>&quot;CH&quot;</td><td>5.0</td><td>&quot;EUR/MWh*&quot;</td><td>&quot;Ja&quot;</td></tr><tr><td>&hellip;</td><td>&hellip;</td><td>&hellip;</td><td>&hellip;</td><td>&hellip;</td><td>&hellip;</td><td>&hellip;</td><td>&hellip;</td><td>&hellip;</td><td>&hellip;</td><td>&hellip;</td><td>&hellip;</td><td>&hellip;</td><td>&hellip;</td><td>&hellip;</td><td>&hellip;</td><td>&hellip;</td><td>&hellip;</td><td>&hellip;</td></tr><tr><td>&quot;TRL+&quot;</td><td>&quot;20&quot;</td><td>&quot;12&quot;</td><td>&quot;31&quot;</td><td>&quot;20:00&quot;</td><td>10</td><td>&quot;MW&quot;</td><td>10</td><td>&quot;MW&quot;</td><td>0.35</td><td>&quot;CHF/MW&quot;</td><td>3.5</td><td>&quot;CHF&quot;</td><td>0.09</td><td>&quot;CHF/MWh*&quot;</td><td>&quot;CH&quot;</td><td>0.09</td><td>&quot;CHF/MWh*&quot;</td><td>null</td></tr><tr><td>&quot;TRL+&quot;</td><td>&quot;20&quot;</td><td>&quot;12&quot;</td><td>&quot;31&quot;</td><td>&quot;20:00&quot;</td><td>10</td><td>&quot;MW&quot;</td><td>10</td><td>&quot;MW&quot;</td><td>0.96</td><td>&quot;CHF/MW&quot;</td><td>9.6</td><td>&quot;CHF&quot;</td><td>0.24</td><td>&quot;CHF/MWh*&quot;</td><td>&quot;CH&quot;</td><td>0.24</td><td>&quot;CHF/MWh*&quot;</td><td>null</td></tr><tr><td>&quot;TRL+&quot;</td><td>&quot;20&quot;</td><td>&quot;12&quot;</td><td>&quot;31&quot;</td><td>&quot;20:00&quot;</td><td>10</td><td>&quot;MW&quot;</td><td>10</td><td>&quot;MW&quot;</td><td>1.8</td><td>&quot;CHF/MW&quot;</td><td>18.0</td><td>&quot;CHF&quot;</td><td>0.45</td><td>&quot;CHF/MWh*&quot;</td><td>&quot;CH&quot;</td><td>0.45</td><td>&quot;CHF/MWh*&quot;</td><td>null</td></tr><tr><td>&quot;TRL+&quot;</td><td>&quot;20&quot;</td><td>&quot;12&quot;</td><td>&quot;31&quot;</td><td>&quot;20:00&quot;</td><td>10</td><td>&quot;MW&quot;</td><td>10</td><td>&quot;MW&quot;</td><td>4.8</td><td>&quot;CHF/MW&quot;</td><td>48.0</td><td>&quot;CHF&quot;</td><td>1.2</td><td>&quot;CHF/MWh*&quot;</td><td>&quot;CH&quot;</td><td>1.2</td><td>&quot;CHF/MWh*&quot;</td><td>null</td></tr><tr><td>&quot;TRL+&quot;</td><td>&quot;20&quot;</td><td>&quot;12&quot;</td><td>&quot;31&quot;</td><td>&quot;20:00&quot;</td><td>10</td><td>&quot;MW&quot;</td><td>10</td><td>&quot;MW&quot;</td><td>2.16</td><td>&quot;CHF/MW&quot;</td><td>21.6</td><td>&quot;CHF&quot;</td><td>0.54</td><td>&quot;CHF/MWh*&quot;</td><td>&quot;CH&quot;</td><td>0.54</td><td>&quot;CHF/MWh*&quot;</td><td>null</td></tr></tbody></table></div>"
      ],
      "text/plain": [
       "shape: (840_481, 19)\n",
       "┌────────┬─────┬─────┬─────┬───┬──────┬───────────────┬──────────────────────┬─────────────┐\n",
       "│ market ┆ y   ┆ m   ┆ d   ┆ … ┆ Land ┆ Angebotspreis ┆ Einheit_duplicated_4 ┆ Teilbarkeit │\n",
       "│ ---    ┆ --- ┆ --- ┆ --- ┆   ┆ ---  ┆ ---           ┆ ---                  ┆ ---         │\n",
       "│ str    ┆ str ┆ str ┆ str ┆   ┆ str  ┆ f64           ┆ str                  ┆ str         │\n",
       "╞════════╪═════╪═════╪═════╪═══╪══════╪═══════════════╪══════════════════════╪═════════════╡\n",
       "│ PRL    ┆ 20  ┆ 01  ┆ 01  ┆ … ┆ CH   ┆ 2.08          ┆ EUR/MWh*             ┆ Ja          │\n",
       "│ PRL    ┆ 20  ┆ 01  ┆ 01  ┆ … ┆ CH   ┆ 3.33          ┆ EUR/MWh*             ┆ Ja          │\n",
       "│ PRL    ┆ 20  ┆ 01  ┆ 01  ┆ … ┆ CH   ┆ 3.33          ┆ EUR/MWh*             ┆ Ja          │\n",
       "│ PRL    ┆ 20  ┆ 01  ┆ 01  ┆ … ┆ CH   ┆ 3.33          ┆ EUR/MWh*             ┆ Ja          │\n",
       "│ PRL    ┆ 20  ┆ 01  ┆ 01  ┆ … ┆ CH   ┆ 5.0           ┆ EUR/MWh*             ┆ Ja          │\n",
       "│ …      ┆ …   ┆ …   ┆ …   ┆ … ┆ …    ┆ …             ┆ …                    ┆ …           │\n",
       "│ TRL+   ┆ 20  ┆ 12  ┆ 31  ┆ … ┆ CH   ┆ 0.09          ┆ CHF/MWh*             ┆ null        │\n",
       "│ TRL+   ┆ 20  ┆ 12  ┆ 31  ┆ … ┆ CH   ┆ 0.24          ┆ CHF/MWh*             ┆ null        │\n",
       "│ TRL+   ┆ 20  ┆ 12  ┆ 31  ┆ … ┆ CH   ┆ 0.45          ┆ CHF/MWh*             ┆ null        │\n",
       "│ TRL+   ┆ 20  ┆ 12  ┆ 31  ┆ … ┆ CH   ┆ 1.2           ┆ CHF/MWh*             ┆ null        │\n",
       "│ TRL+   ┆ 20  ┆ 12  ┆ 31  ┆ … ┆ CH   ┆ 0.54          ┆ CHF/MWh*             ┆ null        │\n",
       "└────────┴─────┴─────┴─────┴───┴──────┴───────────────┴──────────────────────┴─────────────┘"
      ]
     },
     "execution_count": 15,
     "metadata": {},
     "output_type": "execute_result"
    }
   ],
   "source": [
    "data"
   ]
  },
  {
   "cell_type": "code",
   "execution_count": null,
   "metadata": {},
   "outputs": [],
   "source": [
    "        .with_columns(\n",
    "            pl.concat_str([\"y\", \"m\", \"d\", \"time\"], separator=\"-\")\n",
    "            .str.to_datetime(\"%y-%m-%d-%H:%M\", time_zone=\"UTC\").alias(\"timestamp\"),\n",
    "        ).group_by([\"timestamp\", \"market\"]).agg(\n",
    "            c(\"price\").min().alias(\"min\"),\n",
    "            ((c(\"price\") *c(\"quantity\")).sum()/c(\"quantity\").sum()).alias(\"avg\"),\n",
    "            c(\"price\").max().alias(\"max\"),\n",
    "        ).with_columns(\n",
    "            c(\"market\").replace_strict(market_price_metadata[name][\"market_mapping\"])\n",
    "        ).with_columns(\n",
    "            pl.lit(value).alias(name) for name, value in market_price_metadata[name][\"data\"].items()\n",
    "        ).unnest(\"market\")\n",
    "\n",
    "# data = data.rename(market_price_metadata[name][\"col_mapping\"]).filter(pl.col(\"quantity\") > 0)"
   ]
  },
  {
   "cell_type": "code",
   "execution_count": 7,
   "metadata": {},
   "outputs": [
    {
     "data": {
      "text/html": [
       "<div><style>\n",
       ".dataframe > thead > tr,\n",
       ".dataframe > tbody > tr {\n",
       "  text-align: right;\n",
       "  white-space: pre-wrap;\n",
       "}\n",
       "</style>\n",
       "<small>shape: (882_788, 16)</small><table border=\"1\" class=\"dataframe\"><thead><tr><th>Ausschreibung</th><th>Beschreibung</th><th>Angebotenes Volumen</th><th>Einheit</th><th>Zugesprochenes Volumen</th><th>Einheit_duplicated_0</th><th>Leistungspreis</th><th>Einheit_duplicated_1</th><th>Kosten</th><th>Einheit_duplicated_2</th><th>Preis</th><th>Einheit_duplicated_3</th><th>Land</th><th>Angebotspreis</th><th>Einheit_duplicated_4</th><th>Teilbarkeit</th></tr><tr><td>str</td><td>str</td><td>i64</td><td>str</td><td>i64</td><td>str</td><td>f64</td><td>str</td><td>f64</td><td>str</td><td>f64</td><td>str</td><td>str</td><td>f64</td><td>str</td><td>str</td></tr></thead><tbody><tr><td>&quot;PRL_20_01_01&quot;</td><td>&quot;Primary control Auction&quot;</td><td>16</td><td>&quot;MW&quot;</td><td>16</td><td>&quot;MW&quot;</td><td>50.0</td><td>&quot;EUR/MW&quot;</td><td>800.0</td><td>&quot;EUR&quot;</td><td>6.21</td><td>&quot;EUR/MWh*&quot;</td><td>&quot;CH&quot;</td><td>2.08</td><td>&quot;EUR/MWh*&quot;</td><td>&quot;Ja&quot;</td></tr><tr><td>&quot;PRL_20_01_01&quot;</td><td>&quot;Primary control Auction&quot;</td><td>1</td><td>&quot;MW&quot;</td><td>1</td><td>&quot;MW&quot;</td><td>80.0</td><td>&quot;EUR/MW&quot;</td><td>80.0</td><td>&quot;EUR&quot;</td><td>6.21</td><td>&quot;EUR/MWh*&quot;</td><td>&quot;CH&quot;</td><td>3.33</td><td>&quot;EUR/MWh*&quot;</td><td>&quot;Ja&quot;</td></tr><tr><td>&quot;PRL_20_01_01&quot;</td><td>&quot;Primary control Auction&quot;</td><td>1</td><td>&quot;MW&quot;</td><td>1</td><td>&quot;MW&quot;</td><td>80.0</td><td>&quot;EUR/MW&quot;</td><td>80.0</td><td>&quot;EUR&quot;</td><td>6.21</td><td>&quot;EUR/MWh*&quot;</td><td>&quot;CH&quot;</td><td>3.33</td><td>&quot;EUR/MWh*&quot;</td><td>&quot;Ja&quot;</td></tr><tr><td>&quot;PRL_20_01_01&quot;</td><td>&quot;Primary control Auction&quot;</td><td>1</td><td>&quot;MW&quot;</td><td>1</td><td>&quot;MW&quot;</td><td>80.0</td><td>&quot;EUR/MW&quot;</td><td>80.0</td><td>&quot;EUR&quot;</td><td>6.21</td><td>&quot;EUR/MWh*&quot;</td><td>&quot;CH&quot;</td><td>3.33</td><td>&quot;EUR/MWh*&quot;</td><td>&quot;Ja&quot;</td></tr><tr><td>&quot;PRL_20_01_01&quot;</td><td>&quot;Primary control Auction&quot;</td><td>1</td><td>&quot;MW&quot;</td><td>1</td><td>&quot;MW&quot;</td><td>120.0</td><td>&quot;EUR/MW&quot;</td><td>120.0</td><td>&quot;EUR&quot;</td><td>6.21</td><td>&quot;EUR/MWh*&quot;</td><td>&quot;CH&quot;</td><td>5.0</td><td>&quot;EUR/MWh*&quot;</td><td>&quot;Ja&quot;</td></tr><tr><td>&hellip;</td><td>&hellip;</td><td>&hellip;</td><td>&hellip;</td><td>&hellip;</td><td>&hellip;</td><td>&hellip;</td><td>&hellip;</td><td>&hellip;</td><td>&hellip;</td><td>&hellip;</td><td>&hellip;</td><td>&hellip;</td><td>&hellip;</td><td>&hellip;</td><td>&hellip;</td></tr><tr><td>&quot;TRL+_20_12_31&quot;</td><td>&quot;Tertiary Power UP 20:00 bis 24…</td><td>10</td><td>&quot;MW&quot;</td><td>0</td><td>&quot;MW&quot;</td><td>14.0</td><td>&quot;CHF/MW&quot;</td><td>0.0</td><td>&quot;CHF&quot;</td><td>3.5</td><td>&quot;CHF/MWh*&quot;</td><td>&quot;CH&quot;</td><td>3.5</td><td>&quot;CHF/MWh*&quot;</td><td>null</td></tr><tr><td>&quot;TRL+_20_12_31&quot;</td><td>&quot;Tertiary Power UP 20:00 bis 24…</td><td>10</td><td>&quot;MW&quot;</td><td>0</td><td>&quot;MW&quot;</td><td>20.0</td><td>&quot;CHF/MW&quot;</td><td>0.0</td><td>&quot;CHF&quot;</td><td>5.0</td><td>&quot;CHF/MWh*&quot;</td><td>&quot;CH&quot;</td><td>5.0</td><td>&quot;CHF/MWh*&quot;</td><td>null</td></tr><tr><td>&quot;TRL+_20_12_31&quot;</td><td>&quot;Tertiary Power UP 20:00 bis 24…</td><td>10</td><td>&quot;MW&quot;</td><td>10</td><td>&quot;MW&quot;</td><td>2.16</td><td>&quot;CHF/MW&quot;</td><td>21.6</td><td>&quot;CHF&quot;</td><td>0.54</td><td>&quot;CHF/MWh*&quot;</td><td>&quot;CH&quot;</td><td>0.54</td><td>&quot;CHF/MWh*&quot;</td><td>null</td></tr><tr><td>&quot;TRL+_20_12_31&quot;</td><td>&quot;Tertiary Power UP 20:00 bis 24…</td><td>50</td><td>&quot;MW&quot;</td><td>0</td><td>&quot;MW&quot;</td><td>25.0</td><td>&quot;CHF/MW&quot;</td><td>0.0</td><td>&quot;CHF&quot;</td><td>6.25</td><td>&quot;CHF/MWh*&quot;</td><td>&quot;CH&quot;</td><td>6.25</td><td>&quot;CHF/MWh*&quot;</td><td>null</td></tr><tr><td>&quot;TRL+_20_12_31&quot;</td><td>&quot;Tertiary Power UP 20:00 bis 24…</td><td>58</td><td>&quot;MW&quot;</td><td>0</td><td>&quot;MW&quot;</td><td>50.0</td><td>&quot;CHF/MW&quot;</td><td>0.0</td><td>&quot;CHF&quot;</td><td>12.5</td><td>&quot;CHF/MWh*&quot;</td><td>&quot;CH&quot;</td><td>12.5</td><td>&quot;CHF/MWh*&quot;</td><td>null</td></tr></tbody></table></div>"
      ],
      "text/plain": [
       "shape: (882_788, 16)\n",
       "┌────────────┬────────────┬────────────┬─────────┬───┬──────┬────────────┬────────────┬────────────┐\n",
       "│ Ausschreib ┆ Beschreibu ┆ Angebotene ┆ Einheit ┆ … ┆ Land ┆ Angebotspr ┆ Einheit_du ┆ Teilbarkei │\n",
       "│ ung        ┆ ng         ┆ s Volumen  ┆ ---     ┆   ┆ ---  ┆ eis        ┆ plicated_4 ┆ t          │\n",
       "│ ---        ┆ ---        ┆ ---        ┆ str     ┆   ┆ str  ┆ ---        ┆ ---        ┆ ---        │\n",
       "│ str        ┆ str        ┆ i64        ┆         ┆   ┆      ┆ f64        ┆ str        ┆ str        │\n",
       "╞════════════╪════════════╪════════════╪═════════╪═══╪══════╪════════════╪════════════╪════════════╡\n",
       "│ PRL_20_01_ ┆ Primary    ┆ 16         ┆ MW      ┆ … ┆ CH   ┆ 2.08       ┆ EUR/MWh*   ┆ Ja         │\n",
       "│ 01         ┆ control    ┆            ┆         ┆   ┆      ┆            ┆            ┆            │\n",
       "│            ┆ Auction    ┆            ┆         ┆   ┆      ┆            ┆            ┆            │\n",
       "│ PRL_20_01_ ┆ Primary    ┆ 1          ┆ MW      ┆ … ┆ CH   ┆ 3.33       ┆ EUR/MWh*   ┆ Ja         │\n",
       "│ 01         ┆ control    ┆            ┆         ┆   ┆      ┆            ┆            ┆            │\n",
       "│            ┆ Auction    ┆            ┆         ┆   ┆      ┆            ┆            ┆            │\n",
       "│ PRL_20_01_ ┆ Primary    ┆ 1          ┆ MW      ┆ … ┆ CH   ┆ 3.33       ┆ EUR/MWh*   ┆ Ja         │\n",
       "│ 01         ┆ control    ┆            ┆         ┆   ┆      ┆            ┆            ┆            │\n",
       "│            ┆ Auction    ┆            ┆         ┆   ┆      ┆            ┆            ┆            │\n",
       "│ PRL_20_01_ ┆ Primary    ┆ 1          ┆ MW      ┆ … ┆ CH   ┆ 3.33       ┆ EUR/MWh*   ┆ Ja         │\n",
       "│ 01         ┆ control    ┆            ┆         ┆   ┆      ┆            ┆            ┆            │\n",
       "│            ┆ Auction    ┆            ┆         ┆   ┆      ┆            ┆            ┆            │\n",
       "│ PRL_20_01_ ┆ Primary    ┆ 1          ┆ MW      ┆ … ┆ CH   ┆ 5.0        ┆ EUR/MWh*   ┆ Ja         │\n",
       "│ 01         ┆ control    ┆            ┆         ┆   ┆      ┆            ┆            ┆            │\n",
       "│            ┆ Auction    ┆            ┆         ┆   ┆      ┆            ┆            ┆            │\n",
       "│ …          ┆ …          ┆ …          ┆ …       ┆ … ┆ …    ┆ …          ┆ …          ┆ …          │\n",
       "│ TRL+_20_12 ┆ Tertiary   ┆ 10         ┆ MW      ┆ … ┆ CH   ┆ 3.5        ┆ CHF/MWh*   ┆ null       │\n",
       "│ _31        ┆ Power UP   ┆            ┆         ┆   ┆      ┆            ┆            ┆            │\n",
       "│            ┆ 20:00 bis  ┆            ┆         ┆   ┆      ┆            ┆            ┆            │\n",
       "│            ┆ 24…        ┆            ┆         ┆   ┆      ┆            ┆            ┆            │\n",
       "│ TRL+_20_12 ┆ Tertiary   ┆ 10         ┆ MW      ┆ … ┆ CH   ┆ 5.0        ┆ CHF/MWh*   ┆ null       │\n",
       "│ _31        ┆ Power UP   ┆            ┆         ┆   ┆      ┆            ┆            ┆            │\n",
       "│            ┆ 20:00 bis  ┆            ┆         ┆   ┆      ┆            ┆            ┆            │\n",
       "│            ┆ 24…        ┆            ┆         ┆   ┆      ┆            ┆            ┆            │\n",
       "│ TRL+_20_12 ┆ Tertiary   ┆ 10         ┆ MW      ┆ … ┆ CH   ┆ 0.54       ┆ CHF/MWh*   ┆ null       │\n",
       "│ _31        ┆ Power UP   ┆            ┆         ┆   ┆      ┆            ┆            ┆            │\n",
       "│            ┆ 20:00 bis  ┆            ┆         ┆   ┆      ┆            ┆            ┆            │\n",
       "│            ┆ 24…        ┆            ┆         ┆   ┆      ┆            ┆            ┆            │\n",
       "│ TRL+_20_12 ┆ Tertiary   ┆ 50         ┆ MW      ┆ … ┆ CH   ┆ 6.25       ┆ CHF/MWh*   ┆ null       │\n",
       "│ _31        ┆ Power UP   ┆            ┆         ┆   ┆      ┆            ┆            ┆            │\n",
       "│            ┆ 20:00 bis  ┆            ┆         ┆   ┆      ┆            ┆            ┆            │\n",
       "│            ┆ 24…        ┆            ┆         ┆   ┆      ┆            ┆            ┆            │\n",
       "│ TRL+_20_12 ┆ Tertiary   ┆ 58         ┆ MW      ┆ … ┆ CH   ┆ 12.5       ┆ CHF/MWh*   ┆ null       │\n",
       "│ _31        ┆ Power UP   ┆            ┆         ┆   ┆      ┆            ┆            ┆            │\n",
       "│            ┆ 20:00 bis  ┆            ┆         ┆   ┆      ┆            ┆            ┆            │\n",
       "│            ┆ 24…        ┆            ┆         ┆   ┆      ┆            ┆            ┆            │\n",
       "└────────────┴────────────┴────────────┴─────────┴───┴──────┴────────────┴────────────┴────────────┘"
      ]
     },
     "execution_count": 7,
     "metadata": {},
     "output_type": "execute_result"
    }
   ],
   "source": [
    "data"
   ]
  },
  {
   "cell_type": "code",
   "execution_count": null,
   "metadata": {},
   "outputs": [],
   "source": [
    "head_table"
   ]
  },
  {
   "cell_type": "code",
   "execution_count": null,
   "metadata": {},
   "outputs": [],
   "source": []
  },
  {
   "cell_type": "code",
   "execution_count": null,
   "metadata": {},
   "outputs": [],
   "source": [
    "data_pl"
   ]
  },
  {
   "cell_type": "code",
   "execution_count": null,
   "metadata": {},
   "outputs": [],
   "source": [
    "data_pl.select(\n",
    "    pl.struct(cs.contains(\"Pe_\") != 0).alias(\"resource_state\")\n",
    ")"
   ]
  },
  {
   "cell_type": "markdown",
   "metadata": {},
   "source": []
  },
  {
   "cell_type": "code",
   "execution_count": null,
   "metadata": {},
   "outputs": [],
   "source": [
    "precipitation = data.unpivot(\n",
    "        index=[\"timestamp\"], variable_name=\"metadata\", value_name=\"value\", on=cs.starts_with(\"prec_\")\n",
    "    ).with_columns(\n",
    "    (\"gries_\" + c(\"metadata\").str.slice(-3, 1)).alias(\"sub_basin\"),\n",
    "    ((c(\"metadata\").str.slice(-2) + \"00\").cast(pl.Int32)-50).alias(\"start_height\")\n",
    ")\n"
   ]
  },
  {
   "cell_type": "code",
   "execution_count": null,
   "metadata": {},
   "outputs": [],
   "source": [
    "precipitation"
   ]
  },
  {
   "cell_type": "code",
   "execution_count": null,
   "metadata": {},
   "outputs": [],
   "source": [
    "data.columns"
   ]
  },
  {
   "cell_type": "code",
   "execution_count": null,
   "metadata": {},
   "outputs": [],
   "source": [
    "small_flex_input_schema"
   ]
  },
  {
   "cell_type": "code",
   "execution_count": null,
   "metadata": {},
   "outputs": [],
   "source": [
    "discharge_flow"
   ]
  },
  {
   "cell_type": "code",
   "execution_count": null,
   "metadata": {},
   "outputs": [],
   "source": []
  },
  {
   "cell_type": "code",
   "execution_count": null,
   "metadata": {},
   "outputs": [],
   "source": [
    "data_str = str(ro.r['df'])\n",
    "data_str = (list(map(lambda x: modify_string(x, format_str={r\"\\s+\": \" \"}).split(\" \"), data_str.split(\"\\n\"))))\n",
    "\n",
    "\n",
    "index = [i for i in range(len(data_str)) if data_str[i][0] == \"\"]\n",
    "for i in range(len(index)-2):\n",
    "    if i == 0:\n",
    "        columns = [\"index\", \"date\"] + data_str[index[i]][1:]\n",
    "        data: pl.DataFrame = pl.DataFrame(data_str[index[i] + 1:index[i+1]], schema=columns, orient=\"row\")\n",
    "    else:\n",
    "        columns = [\"index\"] + data_str[index[i]][1:]\n",
    "        data = data.join(\n",
    "            pl.DataFrame(data_str[index[i] + 1:index[i+1]], schema=columns, orient=\"row\"), on=\"index\", how=\"left\")\n"
   ]
  },
  {
   "cell_type": "code",
   "execution_count": null,
   "metadata": {},
   "outputs": [],
   "source": [
    "\n",
    "data = data.with_columns(\n",
    "    pl.concat_str([\"date\", \"time\"], separator=\" \").str.to_datetime(\"%Y-%m-%d %H:%M:%S\", time_zone=\"UTC\").alias(\"timestamp\")\n",
    ")\n",
    "\n",
    "wind_data = data.unpivot(on=cs.contains(\"wind\"), index=\"timestamp\", value_name=\"wind_speed\", variable_name=\"height\")\\\n",
    "    .with_columns(\n",
    "        c(\"height\").str.replace(\"wind_X\", \"\"),\n",
    "        c(\"wind_speed\").cast(pl.Float64),\n",
    "    )\n",
    "\n",
    "irradiance_data = data.unpivot(on=cs.contains(\"glob\"), index=\"timestamp\", value_name=\"irradiance\", variable_name=\"height\")\\\n",
    "    .with_columns(\n",
    "        c(\"height\").str.replace(\"glob__X\", \"\"),\n",
    "        c(\"irradiance\").cast(pl.Float64),\n",
    "    )\n",
    "\n",
    "irradiance_data"
   ]
  },
  {
   "cell_type": "code",
   "execution_count": null,
   "metadata": {},
   "outputs": [],
   "source": [
    "data"
   ]
  },
  {
   "cell_type": "code",
   "execution_count": null,
   "metadata": {},
   "outputs": [],
   "source": [
    "list(map(lambda x: x.split(\" \"), data_str.split(\"\\n\")))\n"
   ]
  },
  {
   "cell_type": "code",
   "execution_count": null,
   "metadata": {},
   "outputs": [],
   "source": [
    "data = pl.from_pandas(pandas2ri.rpy2py())\n",
    "print(data.head())"
   ]
  },
  {
   "cell_type": "code",
   "execution_count": null,
   "metadata": {},
   "outputs": [],
   "source": [
    "ro.r['df']"
   ]
  },
  {
   "cell_type": "code",
   "execution_count": null,
   "metadata": {},
   "outputs": [],
   "source": [
    "df_temp2 =data.filter(pl.col(\"metadata\").str.contains(\"KW\"))\\\n",
    "    .with_columns(\n",
    "        c(\"metadata\").str.replace(\"KW\", \"\").\n",
    "        str.split_exact(\"_\", 4).struct.rename_fields([\"market\", \"y\", \"w\"]).alias(\"metadata\"),\n",
    "    ).unnest(\"metadata\").with_columns(\n",
    "        (c(\"y\").str.to_datetime(\"%y\", time_zone=\"UTC\") + \n",
    "        ((pl.col(\"w\").cast(pl.Int32) - 1)*7*24*60*60*1e3).cast(pl.Duration(time_unit=\"ms\"))).alias(\"timestamp\"),\n",
    "    )\n",
    "df_temp2.head(1)\n"
   ]
  },
  {
   "cell_type": "code",
   "execution_count": null,
   "metadata": {},
   "outputs": [],
   "source": [
    "    .with_columns(\n",
    "        pl.col(\"Date\").str.split(\"_\").map_elements(lambda x: x[0]).alias(\"market\"),\n",
    "        pl.col(\"Date\").str.split(\"_\").map_elements(lambda x: x[1]).alias(\"y\").cast(pl.Int64),\n",
    "        pl.col(\"Date\").str.split(\"KW\").map_elements(lambda x: x[-1]).alias(\"week\").str.split(\"_\")\n",
    "        .map_elements(lambda x: x[0]).cast(pl.Int64)]).with_columns(\n",
    "            ((pl.col(\"week\") - 1)*7*24*60*60*1e6).cast(pl.Duration(time_unit=\"us\")),\n",
    "                (pl.col(\"y\") + 2000).cast(pl.Utf8).str.strptime(pl.Datetime, \"%Y\")\n",
    "            )\n"
   ]
  },
  {
   "cell_type": "code",
   "execution_count": null,
   "metadata": {},
   "outputs": [],
   "source": [
    "name = \"rte_ene\"\n",
    "market_price: pl.DataFrame = pl.read_csv(\n",
    "    market_price_metadata[name][\"file\"], separator=\";\", null_values=[\"*\"])\n",
    "\n",
    "market_price.columns"
   ]
  }
 ],
 "metadata": {
  "kernelspec": {
   "display_name": ".venv",
   "language": "python",
   "name": "python3"
  },
  "language_info": {
   "codemirror_mode": {
    "name": "ipython",
    "version": 3
   },
   "file_extension": ".py",
   "mimetype": "text/x-python",
   "name": "python",
   "nbconvert_exporter": "python",
   "pygments_lexer": "ipython3",
   "version": "3.12.6"
  }
 },
 "nbformat": 4,
 "nbformat_minor": 2
}
