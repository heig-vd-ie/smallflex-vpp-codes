{
 "cells": [
  {
   "cell_type": "code",
   "execution_count": 1,
   "metadata": {},
   "outputs": [
    {
     "name": "stderr",
     "output_type": "stream",
     "text": [
      "Download files from remote directory /alpiq: 100%|████████████████████████████████████████████████████████████████████| 10/10 [00:02<00:00,  4.95it/s]\n",
      "Download files from remote directory /alpiq/apg/capacity: 100%|██████████████████████████████████████████████████████| 11/11 [00:00<00:00, 703.75it/s]\n",
      "Download files from remote directory /alpiq/apg/energy: 100%|█████████████████████████████████████████████████████████████████| 10/10 [00:00<?, ?it/s]\n",
      "Download files from remote directory /alpiq/da-ida: 100%|█████████████████████████████████████████████████████████████| 2/2 [00:00<00:00, 3718.35it/s]\n",
      "Download files from remote directory /alpiq/regelleistung/aFRR-capacity: 100%|███████████████████████████████████| 216/216 [00:00<00:00, 13788.86it/s]\n",
      "Download files from remote directory /alpiq/regelleistung/aFRR-energy: 100%|████████████████████████████████████████████████| 116/116 [00:00<?, ?it/s]\n",
      "Download files from remote directory /alpiq/regelleistung/FCR-capacity: 100%|███████████████████████████████████████| 18/18 [00:00<00:00, 9491.76it/s]\n",
      "Download files from remote directory /alpiq/regelleistung/mFRR-capacity: 100%|███████████████████████████████████| 216/216 [00:00<00:00, 26140.28it/s]\n",
      "Download files from remote directory /alpiq/regelleistung/mFRR-energy: 100%|████████████████████████████████████████| 12/12 [00:00<00:00, 3039.72it/s]\n",
      "Download files from remote directory /alpiq/rte/capacity: 100%|███████████████████████████████████████████████████████████████| 10/10 [00:00<?, ?it/s]\n",
      "Download files from remote directory /alpiq/rte/energy: 100%|███████████████████████████████████████████████████████████████████| 8/8 [00:00<?, ?it/s]\n",
      "Download files from remote directory /alpiq/swissgrid/capacity: 100%|██████████████████████████████████████████████████| 9/9 [00:00<00:00, 575.18it/s]\n",
      "Download files from remote directory /alpiq/swissgrid/energy: 100%|███████████████████████████████████████████████████| 46/46 [00:44<00:00,  1.03it/s]\n"
     ]
    },
    {
     "data": {
      "text/plain": [
       "True"
      ]
     },
     "execution_count": 1,
     "metadata": {},
     "output_type": "execute_result"
    }
   ],
   "source": [
    "from auxiliary.download_data import download_from_switch\n",
    "\n",
    "download_from_switch(switch_path=r\"/alpiq\", local_file_path=r\"../.cache/data/alpiq\", env_file=\"../.env\")\n",
    "\n",
    "download_from_switch(switch_path=r\"/alpiq/apg/capacity\", local_file_path=r\"../.cache/data/alpiq/apg/capacity\", env_file=\"../.env\")\n",
    "download_from_switch(switch_path=r\"/alpiq/apg/energy\", local_file_path=r\"../.cache/data/alpiq/apg/energy\", env_file=\"../.env\")\n",
    "\n",
    "download_from_switch(switch_path=r\"/alpiq/da-ida\", local_file_path=r\"../.cache/data/alpiq/da-ida\", env_file=\"../.env\")\n",
    "\n",
    "download_from_switch(switch_path=r\"/alpiq/regelleistung/aFRR-capacity\", local_file_path=r\"../.cache/data/alpiq/regelleistung/aFRR-capacity\", env_file=\"../.env\")\n",
    "download_from_switch(switch_path=r\"/alpiq/regelleistung/aFRR-energy\", local_file_path=r\"../.cache/data/alpiq/regelleistung/aFRR-energy\", env_file=\"../.env\")\n",
    "download_from_switch(switch_path=r\"/alpiq/regelleistung/FCR-capacity\", local_file_path=r\"../.cache/data/alpiq/regelleistung/FCR-capacity\", env_file=\"../.env\")\n",
    "download_from_switch(switch_path=r\"/alpiq/regelleistung/mFRR-capacity\", local_file_path=r\"../.cache/data/alpiq/regelleistung/mFRR-capacity\", env_file=\"../.env\")\n",
    "download_from_switch(switch_path=r\"/alpiq/regelleistung/mFRR-energy\", local_file_path=r\"../.cache/data/alpiq/regelleistung/mFRR-energy\", env_file=\"../.env\")\n",
    "\n",
    "download_from_switch(switch_path=r\"/alpiq/rte/capacity\", local_file_path=r\"../.cache/data/alpiq/rte/capacity\", env_file=\"../.env\")\n",
    "download_from_switch(switch_path=r\"/alpiq/rte/energy\", local_file_path=r\"../.cache/data/alpiq/rte/energy\", env_file=\"../.env\")\n",
    "\n",
    "download_from_switch(switch_path=r\"/alpiq/swissgrid/capacity\", local_file_path=r\"../.cache/data/alpiq/swissgrid/capacity\", env_file=\"../.env\")\n",
    "download_from_switch(switch_path=r\"/alpiq/swissgrid/energy\", local_file_path=r\"../.cache/data/alpiq/swissgrid/energy\", env_file=\"../.env\")"
   ]
  }
 ],
 "metadata": {
  "kernelspec": {
   "display_name": ".venv",
   "language": "python",
   "name": "python3"
  },
  "language_info": {
   "codemirror_mode": {
    "name": "ipython",
    "version": 3
   },
   "file_extension": ".py",
   "mimetype": "text/x-python",
   "name": "python",
   "nbconvert_exporter": "python",
   "pygments_lexer": "ipython3",
   "version": "3.10.0"
  }
 },
 "nbformat": 4,
 "nbformat_minor": 2
}
