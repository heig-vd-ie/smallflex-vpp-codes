{
 "cells": [
  {
   "cell_type": "code",
   "execution_count": 2,
   "metadata": {},
   "outputs": [
    {
     "name": "stderr",
     "output_type": "stream",
     "text": [
      "Download files from remote directory /alpiq: 100%|█████████████████████████████████████████████████████████████████| 10/10 [00:00<00:00, 10036.62it/s]\n",
      "Download files from remote directory /alpiq/apg/capacity: 100%|████████████████████████████████████████████████████| 11/11 [00:00<00:00, 10998.17it/s]\n",
      "Download files from remote directory /alpiq/apg/energy: 100%|███████████████████████████████████████████████████████| 10/10 [00:00<00:00, 5087.09it/s]\n",
      "Download files from remote directory /alpiq/da-ida: 100%|███████████████████████████████████████████████████████████████████████| 2/2 [00:00<?, ?it/s]\n",
      "Download files from remote directory /alpiq/regelleistung/aFRR-capacity: 100%|███████████████████████████████████| 216/216 [00:00<00:00, 10754.11it/s]\n",
      "Download files from remote directory /alpiq/regelleistung/aFRR-energy: 100%|████████████████████████████████████████████████| 116/116 [00:00<?, ?it/s]\n",
      "Download files from remote directory /alpiq/regelleistung/FCR-capacity: 100%|█████████████████████████████████████████████████| 18/18 [00:00<?, ?it/s]\n",
      "Download files from remote directory /alpiq/regelleistung/mFRR-capacity: 100%|███████████████████████████████████| 216/216 [00:00<00:00, 10771.63it/s]\n",
      "Download files from remote directory /alpiq/regelleistung/mFRR-energy: 100%|██████████████████████████████████████████████████| 12/12 [00:00<?, ?it/s]\n",
      "Download files from remote directory /alpiq/rte/capacity: 100%|█████████████████████████████████████████████████████| 10/10 [00:00<00:00, 4546.18it/s]\n",
      "Download files from remote directory /alpiq/rte/energy: 100%|███████████████████████████████████████████████████████████████████| 8/8 [00:00<?, ?it/s]\n",
      "Download files from remote directory /alpiq/swissgrid/capacity: 100%|█████████████████████████████████████████████████| 9/9 [00:00<00:00, 1445.81it/s]\n",
      "Download files from remote directory /alpiq/swissgrid/energy: 100%|█████████████████████████████████████████████████| 46/46 [00:00<00:00, 4607.69it/s]\n"
     ]
    }
   ],
   "source": [
    "from auxiliary.download_data import download_from_switch\n",
    "\n",
    "download_from_switch(switch_path=r\"/alpiq\", local_file_path=r\"../.cache/data/alpiq\", env_file=\"../.env\")\n",
    "\n",
    "download_from_switch(switch_path=r\"/alpiq/apg/capacity\", local_file_path=r\"../.cache/data/alpiq/apg/capacity\", env_file=\"../.env\")\n",
    "download_from_switch(switch_path=r\"/alpiq/apg/energy\", local_file_path=r\"../.cache/data/alpiq/apg/energy\", env_file=\"../.env\")\n",
    "\n",
    "download_from_switch(switch_path=r\"/alpiq/da-ida\", local_file_path=r\"../.cache/data/alpiq/da-ida\", env_file=\"../.env\")\n",
    "\n",
    "download_from_switch(switch_path=r\"/alpiq/regelleistung/aFRR-capacity\", local_file_path=r\"../.cache/data/alpiq/regelleistung/aFRR-capacity\", env_file=\"../.env\")\n",
    "download_from_switch(switch_path=r\"/alpiq/regelleistung/aFRR-energy\", local_file_path=r\"../.cache/data/alpiq/regelleistung/aFRR-energy\", env_file=\"../.env\")\n",
    "download_from_switch(switch_path=r\"/alpiq/regelleistung/FCR-capacity\", local_file_path=r\"../.cache/data/alpiq/regelleistung/FCR-capacity\", env_file=\"../.env\")\n",
    "download_from_switch(switch_path=r\"/alpiq/regelleistung/mFRR-capacity\", local_file_path=r\"../.cache/data/alpiq/regelleistung/mFRR-capacity\", env_file=\"../.env\")\n",
    "download_from_switch(switch_path=r\"/alpiq/regelleistung/mFRR-energy\", local_file_path=r\"../.cache/data/alpiq/regelleistung/mFRR-energy\", env_file=\"../.env\")\n",
    "\n",
    "download_from_switch(switch_path=r\"/alpiq/rte/capacity\", local_file_path=r\"../.cache/data/alpiq/rte/capacity\", env_file=\"../.env\")\n",
    "download_from_switch(switch_path=r\"/alpiq/rte/energy\", local_file_path=r\"../.cache/data/alpiq/rte/energy\", env_file=\"../.env\")\n",
    "\n",
    "download_from_switch(switch_path=r\"/alpiq/swissgrid/capacity\", local_file_path=r\"../.cache/data/alpiq/swissgrid/capacity\", env_file=\"../.env\")\n",
    "download_from_switch(switch_path=r\"/alpiq/swissgrid/energy\", local_file_path=r\"../.cache/data/alpiq/swissgrid/energy\", env_file=\"../.env\");"
   ]
  },
  {
   "cell_type": "code",
   "execution_count": 1,
   "metadata": {},
   "outputs": [
    {
     "name": "stderr",
     "output_type": "stream",
     "text": [
      "Read files of rte price: 100%|██████████| 9/9 [00:00<00:00, 21.87it/s]\n"
     ]
    }
   ],
   "source": [
    "local_file_path = \"../.cache/data/alpiq/swissgrid/capacity\"\n",
    "\n",
    "from auxiliary.read_alpiq_data import read_apg, read_da_ida, read_reg_afrr_cap, read_reg_afrr_ene, read_reg_fcr, read_reg_mfrr_cap, read_reg_mfrr_ene, read_rte_cap, read_rte_ene\n",
    "import numpy as np\n",
    "import plotly.express as px\n",
    "import polars as pl\n",
    "import polars.selectors as cs\n",
    "import os\n",
    "import tqdm\n",
    "\n",
    "# all_data1 = read_apg(local_file_path=r\"../.cache/data/alpiq/apg/capacity\", where=r\"../.cache/interim/alpiq/apg_capacity.parquet\", energy=False)\n",
    "# all_data2 = read_apg(local_file_path=r\"../.cache/data/alpiq/apg/energy\", where=r\"../.cache/interim/alpiq/apg_energy.parquet\", energy=True)\n",
    "# all_data3 = read_da_ida(local_file_path=r\"../.cache/data/alpiq/da-ida/DA_2015-2023.csv\", where=r\"../.cache/interim/alpiq/da.parquet\")\n",
    "# all_data4 = read_da_ida(local_file_path=r\"../.cache/data/alpiq/da-ida/IDA_2015-2023.csv\", where=r\"../.cache/interim/alpiq/ida.parquet\")\n",
    "# all_data5 = read_reg_afrr_cap(local_file_path=r\"../.cache/data/alpiq/regelleistung/aFRR-capacity\", where=r\"../.cache/interim/alpiq/reg_afrr_cap.parquet\")\n",
    "# all_data6 = read_reg_afrr_ene(local_file_path=r\"../.cache/data/alpiq/regelleistung/aFRR-energy\", where=r\"../.cache/interim/alpiq/reg_afrr_ene.parquet\")\n",
    "# all_data7 = read_reg_fcr(local_file_path=r\"../.cache/data/alpiq/regelleistung/FCR-capacity\", where=r\"../.cache/interim/alpiq/reg_fcr.parquet\")\n",
    "# all_data8 = read_reg_mfrr_cap(local_file_path=r\"../.cache/data/alpiq/regelleistung/mFRR-capacity\", where=r\"../.cache/interim/alpiq/reg_mfrr_cap.parquet\")\n",
    "# all_data9 = read_reg_mfrr_ene(local_file_path=r\"../.cache/data/alpiq/regelleistung/mFRR-energy\", where=r\"../.cache/interim/alpiq/reg_mfrr_ene.parquet\")\n",
    "all_data10 = read_rte_cap(local_file_path=r\"../.cache/data/alpiq/rte/capacity\", where=r\"../.cache/interim/alpiq/rte_cap.parquet\")\n",
    "# all_data11 = read_rte_ene(local_file_path=r\"../.cache/data/alpiq/rte/energy\", where=r\"../.cache/interim/alpiq/rte_ene.parquet\")\n",
    "\n",
    "# all_data = pl.DataFrame()\n",
    "# file_names = os.listdir(local_file_path)\n",
    "# for file_name in tqdm.tqdm(file_names, desc=\"Read files of swissgridprice\"):\n",
    "#     file_path = os.path.join(local_file_path, file_name)\n",
    "#     df_temp = pl.read_csv(file_path, truncate_ragged_lines=True, encoding='iso-8859-1', has_header=True, skip_rows=1, separator=\"\\t\", null_values=[\"*\", \"N/A\"])\n",
    "    "
   ]
  },
  {
   "cell_type": "code",
   "execution_count": 9,
   "metadata": {},
   "outputs": [
    {
     "data": {
      "text/html": [
       "<div><style>\n",
       ".dataframe > thead > tr > th,\n",
       ".dataframe > tbody > tr > td {\n",
       "  text-align: right;\n",
       "  white-space: pre-wrap;\n",
       "}\n",
       "</style>\n",
       "<small>shape: (96, 3)</small><table border=\"1\" class=\"dataframe\"><thead><tr><th>datetime</th><th>market</th><th>[EUR/MW]</th></tr><tr><td>datetime[μs]</td><td>str</td><td>f64</td></tr></thead><tbody><tr><td>2018-07-10 00:00:00</td><td>null</td><td>null</td></tr><tr><td>2018-07-10 00:30:00</td><td>null</td><td>null</td></tr><tr><td>2018-07-10 01:00:00</td><td>null</td><td>null</td></tr><tr><td>2018-07-10 01:30:00</td><td>null</td><td>null</td></tr><tr><td>2018-07-10 02:00:00</td><td>null</td><td>null</td></tr><tr><td>2018-07-10 02:30:00</td><td>null</td><td>null</td></tr><tr><td>2018-07-10 03:00:00</td><td>null</td><td>null</td></tr><tr><td>2018-07-10 03:30:00</td><td>null</td><td>null</td></tr><tr><td>2018-07-10 04:00:00</td><td>null</td><td>null</td></tr><tr><td>2018-07-10 04:30:00</td><td>null</td><td>null</td></tr><tr><td>2018-07-10 05:00:00</td><td>null</td><td>null</td></tr><tr><td>2018-07-10 05:30:00</td><td>null</td><td>null</td></tr><tr><td>&hellip;</td><td>&hellip;</td><td>&hellip;</td></tr><tr><td>2020-06-08 18:00:00</td><td>null</td><td>null</td></tr><tr><td>2020-06-08 18:30:00</td><td>null</td><td>null</td></tr><tr><td>2020-06-08 19:00:00</td><td>null</td><td>null</td></tr><tr><td>2020-06-08 19:30:00</td><td>null</td><td>null</td></tr><tr><td>2020-06-08 20:00:00</td><td>null</td><td>null</td></tr><tr><td>2020-06-08 20:30:00</td><td>null</td><td>null</td></tr><tr><td>2020-06-08 21:00:00</td><td>null</td><td>null</td></tr><tr><td>2020-06-08 21:30:00</td><td>null</td><td>null</td></tr><tr><td>2020-06-08 22:00:00</td><td>null</td><td>null</td></tr><tr><td>2020-06-08 22:30:00</td><td>null</td><td>null</td></tr><tr><td>2020-06-08 23:00:00</td><td>null</td><td>null</td></tr><tr><td>2020-06-08 23:30:00</td><td>null</td><td>null</td></tr></tbody></table></div>"
      ],
      "text/plain": [
       "shape: (96, 3)\n",
       "┌─────────────────────┬────────┬──────────┐\n",
       "│ datetime            ┆ market ┆ [EUR/MW] │\n",
       "│ ---                 ┆ ---    ┆ ---      │\n",
       "│ datetime[μs]        ┆ str    ┆ f64      │\n",
       "╞═════════════════════╪════════╪══════════╡\n",
       "│ 2018-07-10 00:00:00 ┆ null   ┆ null     │\n",
       "│ 2018-07-10 00:30:00 ┆ null   ┆ null     │\n",
       "│ 2018-07-10 01:00:00 ┆ null   ┆ null     │\n",
       "│ 2018-07-10 01:30:00 ┆ null   ┆ null     │\n",
       "│ …                   ┆ …      ┆ …        │\n",
       "│ 2020-06-08 22:00:00 ┆ null   ┆ null     │\n",
       "│ 2020-06-08 22:30:00 ┆ null   ┆ null     │\n",
       "│ 2020-06-08 23:00:00 ┆ null   ┆ null     │\n",
       "│ 2020-06-08 23:30:00 ┆ null   ┆ null     │\n",
       "└─────────────────────┴────────┴──────────┘"
      ]
     },
     "execution_count": 9,
     "metadata": {},
     "output_type": "execute_result"
    }
   ],
   "source": [
    "all_data10.filter(pl.col(\"market\").is_null())"
   ]
  },
  {
   "cell_type": "code",
   "execution_count": 9,
   "metadata": {},
   "outputs": [],
   "source": [
    "import warnings\n",
    "warnings.filterwarnings(\"ignore\")\n",
    "# fig1 = px.line(all_data1, x=\"datetime\", y=\"[EUR/MW]\", color=\"market\")\n",
    "# fig2 = px.line(all_data2, x=\"datetime\", y=\"[EUR/MWh]\", color=\"market\")\n",
    "# fig3 = px.line(all_data3, x=\"datetime\", y=\"[EUR/MWh]\", color=\"market\")\n",
    "# fig4 = px.line(all_data4, x=\"datetime\", y=\"[EUR/MWh]\", color=\"market\")\n",
    "# fig5 = px.line(all_data5, x=\"datetime\", y=\"[EUR/MW]\", color=\"market\")\n",
    "# fig6 = px.line(all_data6, x=\"datetime\", y=\"[EUR/MW]\", color=\"market\")\n",
    "# fig7 = px.line(all_data7, x=\"datetime\", y=\"[EUR/MW]\", color=\"market\")\n",
    "# fig8 = px.line(all_data8, x=\"datetime\", y=\"[EUR/MW]\", color=\"market\")\n",
    "# fig9 = px.line(all_data9, x=\"datetime\", y=\"[EUR/MW]\", color=\"market\")\n",
    "# fig10 = px.line(all_data10, x=\"datetime\", y=\"[EUR/MW]\", color=\"market\")\n",
    "# fig11 = px.line(all_data11, x=\"datetime\", y=\"[EUR/MWh]\", color=\"market\")\n",
    "\n",
    "\n",
    "# fig1.show()\n",
    "# fig2.show()\n",
    "# fig3.show()\n",
    "# fig4.show()\n",
    "# fig5.show()\n",
    "# fig6.show()\n",
    "# fig7.show()\n",
    "# fig8.show()\n",
    "# fig9.show()\n",
    "# fig10.show()\n",
    "# fig11.show()"
   ]
  }
 ],
 "metadata": {
  "kernelspec": {
   "display_name": ".venv",
   "language": "python",
   "name": "python3"
  },
  "language_info": {
   "codemirror_mode": {
    "name": "ipython",
    "version": 3
   },
   "file_extension": ".py",
   "mimetype": "text/x-python",
   "name": "python",
   "nbconvert_exporter": "python",
   "pygments_lexer": "ipython3",
   "version": "3.10.0"
  }
 },
 "nbformat": 4,
 "nbformat_minor": 2
}
