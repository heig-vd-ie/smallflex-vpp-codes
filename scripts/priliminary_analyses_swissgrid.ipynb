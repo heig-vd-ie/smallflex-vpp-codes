{
 "cells": [
  {
   "cell_type": "code",
   "execution_count": 1,
   "id": "initial_id",
   "metadata": {
    "collapsed": true,
    "ExecuteTime": {
     "end_time": "2023-10-26T14:34:54.221278800Z",
     "start_time": "2023-10-26T14:33:04.467926900Z"
    }
   },
   "outputs": [
    {
     "name": "stderr",
     "output_type": "stream",
     "text": [
      "Download files from remote directory /swissgrid/spot: 100%|█████████████████████████████████████████████████████████████| 9/9 [00:16<00:00,  1.81s/it]\n",
      "Download files from remote directory /swissgrid/balancing: 100%|████████████████████████████████████████████████████| 100/100 [01:23<00:00,  1.19it/s]\n",
      "Download files from remote directory /swissgrid/fcr: 100%|██████████████████████████████████████████████████████████████| 1/1 [00:01<00:00,  1.14s/it]\n",
      "Download files from remote directory /swissgrid/frr: 100%|██████████████████████████████████████████████████████████████| 7/7 [00:03<00:00,  1.88it/s]\n"
     ]
    }
   ],
   "source": [
    "from auxiliary.download_data import download_from_switch\n",
    "download_from_switch(switch_path=\"/swissgrid/spot\", local_file_path=\"../.cache/data/swissgrid/spot\", env_file=\"../.env\")\n",
    "download_from_switch(switch_path=\"/swissgrid/balancing\", local_file_path=\"../.cache/data/swissgrid/balancing\", env_file=\"../.env\")\n",
    "download_from_switch(switch_path=\"/swissgrid/fcr\", local_file_path=\"../.cache/data/swissgrid/fcr\", env_file=\"../.env\")\n",
    "download_from_switch(switch_path=\"/swissgrid/frr\", local_file_path=\"../.cache/data/swissgrid/frr\", env_file=\"../.env\");"
   ]
  },
  {
   "cell_type": "code",
   "execution_count": 1,
   "outputs": [
    {
     "name": "stderr",
     "output_type": "stream",
     "text": [
      "Read files of spot price: 100%|██████████| 9/9 [00:00<00:00, 281.24it/s]\n"
     ]
    },
    {
     "data": {
      "text/plain": "shape: (77_318, 2)\n┌─────────────────────┬─────────────────┐\n│ datetime            ┆ Price [EUR/MWh] │\n│ ---                 ┆ ---             │\n│ datetime[μs]        ┆ f64             │\n╞═════════════════════╪═════════════════╡\n│ 2015-01-01 00:00:00 ┆ 44.94           │\n│ 2015-01-01 01:00:00 ┆ 43.43           │\n│ 2015-01-01 02:00:00 ┆ 38.08           │\n│ 2015-01-01 03:00:00 ┆ 35.47           │\n│ …                   ┆ …               │\n│ 2023-10-27 11:00:00 ┆ null            │\n│ 2023-10-27 12:00:00 ┆ null            │\n│ 2023-10-27 13:00:00 ┆ null            │\n│ 2023-10-27 14:00:00 ┆ null            │\n└─────────────────────┴─────────────────┘",
      "text/html": "<div><style>\n.dataframe > thead > tr > th,\n.dataframe > tbody > tr > td {\n  text-align: right;\n  white-space: pre-wrap;\n}\n</style>\n<small>shape: (77_318, 2)</small><table border=\"1\" class=\"dataframe\"><thead><tr><th>datetime</th><th>Price [EUR/MWh]</th></tr><tr><td>datetime[μs]</td><td>f64</td></tr></thead><tbody><tr><td>2015-01-01 00:00:00</td><td>44.94</td></tr><tr><td>2015-01-01 01:00:00</td><td>43.43</td></tr><tr><td>2015-01-01 02:00:00</td><td>38.08</td></tr><tr><td>2015-01-01 03:00:00</td><td>35.47</td></tr><tr><td>2015-01-01 04:00:00</td><td>30.83</td></tr><tr><td>2015-01-01 05:00:00</td><td>28.26</td></tr><tr><td>2015-01-01 06:00:00</td><td>25.36</td></tr><tr><td>2015-01-01 07:00:00</td><td>26.93</td></tr><tr><td>2015-01-01 08:00:00</td><td>24.95</td></tr><tr><td>2015-01-01 09:00:00</td><td>26.71</td></tr><tr><td>2015-01-01 10:00:00</td><td>30.04</td></tr><tr><td>2015-01-01 11:00:00</td><td>31.77</td></tr><tr><td>&hellip;</td><td>&hellip;</td></tr><tr><td>2023-10-27 03:00:00</td><td>null</td></tr><tr><td>2023-10-27 04:00:00</td><td>null</td></tr><tr><td>2023-10-27 05:00:00</td><td>null</td></tr><tr><td>2023-10-27 06:00:00</td><td>null</td></tr><tr><td>2023-10-27 07:00:00</td><td>null</td></tr><tr><td>2023-10-27 08:00:00</td><td>null</td></tr><tr><td>2023-10-27 09:00:00</td><td>null</td></tr><tr><td>2023-10-27 10:00:00</td><td>null</td></tr><tr><td>2023-10-27 11:00:00</td><td>null</td></tr><tr><td>2023-10-27 12:00:00</td><td>null</td></tr><tr><td>2023-10-27 13:00:00</td><td>null</td></tr><tr><td>2023-10-27 14:00:00</td><td>null</td></tr></tbody></table></div>"
     },
     "execution_count": 1,
     "metadata": {},
     "output_type": "execute_result"
    }
   ],
   "source": [
    "from auxiliary.read_swissgrid_data import read_spot_price_swissgrid\n",
    "all_data1 = read_spot_price_swissgrid(local_file_path=\"../.cache/data/swissgrid/spot\", where=\"../.cache/interim/swissgrid/spot_price.parquet\")\n"
   ],
   "metadata": {
    "collapsed": false,
    "ExecuteTime": {
     "end_time": "2023-10-26T15:25:25.584559700Z",
     "start_time": "2023-10-26T15:25:25.193537700Z"
    }
   },
   "id": "e7c9c083e53f002c"
  }
 ],
 "metadata": {
  "kernelspec": {
   "display_name": "Python 3",
   "language": "python",
   "name": "python3"
  },
  "language_info": {
   "codemirror_mode": {
    "name": "ipython",
    "version": 2
   },
   "file_extension": ".py",
   "mimetype": "text/x-python",
   "name": "python",
   "nbconvert_exporter": "python",
   "pygments_lexer": "ipython2",
   "version": "2.7.6"
  }
 },
 "nbformat": 4,
 "nbformat_minor": 5
}
