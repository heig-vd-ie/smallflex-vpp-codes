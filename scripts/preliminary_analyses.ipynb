{
 "cells": [
  {
   "cell_type": "code",
   "execution_count": 2,
   "metadata": {
    "collapsed": true,
    "ExecuteTime": {
     "end_time": "2023-08-29T10:49:00.759278900Z",
     "start_time": "2023-08-29T10:48:49.280410100Z"
    }
   },
   "outputs": [
    {
     "name": "stderr",
     "output_type": "stream",
     "text": [
      "Download files from remote directory /hydrometeo/Gletsch2020: 100%|████████████████████████████████████████████| 1544/1544 [00:00<00:00, 22057.92it/s]\n",
      "Download files from remote directory /hydrometeo/Gletsch2019: 100%|████████████████████████████████████████████| 2141/2141 [00:00<00:00, 19638.08it/s]\n"
     ]
    }
   ],
   "source": [
    "from auxiliary.download_data import download_from_switch\n",
    "download_from_switch(switch_path=\"/hydrometeo/Gletsch2020\", local_file_path=\"../.cache/data/hydrometeo/Gletsch2020\")\n",
    "download_from_switch(switch_path=\"/hydrometeo/Gletsch2019\", local_file_path=\"../.cache/data/hydrometeo/Gletsch2019\");"
   ]
  }
 ],
 "metadata": {
  "kernelspec": {
   "display_name": "Python 3",
   "language": "python",
   "name": "python3"
  },
  "language_info": {
   "codemirror_mode": {
    "name": "ipython",
    "version": 2
   },
   "file_extension": ".py",
   "mimetype": "text/x-python",
   "name": "python",
   "nbconvert_exporter": "python",
   "pygments_lexer": "ipython2",
   "version": "2.7.6"
  }
 },
 "nbformat": 4,
 "nbformat_minor": 0
}
