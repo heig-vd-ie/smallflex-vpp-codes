{
 "cells": [
  {
   "cell_type": "code",
   "execution_count": 1,
   "metadata": {
    "collapsed": true,
    "ExecuteTime": {
     "end_time": "2023-08-30T13:19:23.338148400Z",
     "start_time": "2023-08-30T13:19:09.930421Z"
    }
   },
   "outputs": [
    {
     "name": "stderr",
     "output_type": "stream",
     "text": [
      "Download files from remote directory /hydrometeo/Gletsch2020: 100%|████████████████████████████████████████████| 1544/1544 [00:00<00:00, 11969.28it/s]\n",
      "Download files from remote directory /hydrometeo/Gletsch2019: 100%|████████████████████████████████████████████| 2141/2141 [00:00<00:00, 19835.50it/s]\n"
     ]
    }
   ],
   "source": [
    "import os.path\n",
    "\n",
    "from auxiliary.download_data import download_from_switch\n",
    "download_from_switch(switch_path=\"/hydrometeo/Gletsch2020\", local_file_path=\"../.cache/data/hydrometeo/Gletsch2020\")\n",
    "download_from_switch(switch_path=\"/hydrometeo/Gletsch2019\", local_file_path=\"../.cache/data/hydrometeo/Gletsch2019\");"
   ]
  },
  {
   "cell_type": "code",
   "execution_count": 1,
   "outputs": [
    {
     "name": "stderr",
     "output_type": "stream",
     "text": [
      "Read files of the year 2019: 100%|██████████| 930/930 [00:37<00:00, 24.82it/s] \n",
      "Read files of the year 2020: 100%|██████████| 772/772 [00:48<00:00, 16.01it/s]\n",
      "Read files of the year 2019: 100%|██████████| 1211/1211 [00:33<00:00, 36.02it/s] \n",
      "Read files of the year 2020: 100%|██████████| 772/772 [00:45<00:00, 17.00it/s]\n"
     ]
    }
   ],
   "source": [
    "from auxiliary.read_gletsch_data import read_gletsch_csv_data\n",
    "all_data_ar = read_gletsch_csv_data(hydro_mateo_path=r\"../.cache/data/hydrometeo/Gletsch\", years=[\"2019\", \"2020\"], ar_selection=True, where=\"../.cache/interim/hydrometeo/gletsch_ar.parquet\")\n",
    "all_data_nar = read_gletsch_csv_data(hydro_mateo_path=r\"../.cache/data/hydrometeo/Gletsch\", years=[\"2019\", \"2020\"], ar_selection=False, where=\"../.cache/interim/hydrometeo/gletsch_nar.parquet\")"
   ],
   "metadata": {
    "collapsed": false,
    "ExecuteTime": {
     "end_time": "2023-08-31T10:13:56.131583700Z",
     "start_time": "2023-08-31T10:11:08.291764200Z"
    }
   }
  },
  {
   "cell_type": "code",
   "execution_count": 2,
   "outputs": [],
   "source": [
    "from auxiliary.read_gletsch_data import read_gletsch_pyarrow_data\n",
    "all_data_ar = read_gletsch_pyarrow_data(where=\"../.cache/interim/hydrometeo/gletsch_ar.parquet\")\n",
    "all_data_nar = read_gletsch_pyarrow_data(where=\"../.cache/interim/hydrometeo/gletsch_nar.parquet\")"
   ],
   "metadata": {
    "collapsed": false,
    "ExecuteTime": {
     "end_time": "2023-08-31T10:13:56.717636800Z",
     "start_time": "2023-08-31T10:13:56.135584600Z"
    }
   }
  },
  {
   "cell_type": "code",
   "execution_count": 5,
   "outputs": [
    {
     "data": {
      "text/plain": "shape: (6_438_323, 5)\n┌─────────────────────┬──────────┬──────────┬──────────┬───────┐\n│ datetime            ┆ X0.05    ┆ X0.5     ┆ X0.95    ┆ obs   │\n│ ---                 ┆ ---      ┆ ---      ┆ ---      ┆ ---   │\n│ datetime[μs]        ┆ f64      ┆ f64      ┆ f64      ┆ f64   │\n╞═════════════════════╪══════════╪══════════╪══════════╪═══════╡\n│ 2018-10-19 18:00:00 ┆ 1.489574 ┆ 1.489645 ┆ 1.489784 ┆ 1.483 │\n│ 2018-10-19 19:00:00 ┆ 1.52628  ┆ 1.526342 ┆ 1.526425 ┆ 1.494 │\n│ 2018-10-19 20:00:00 ┆ 1.55296  ┆ 1.55315  ┆ 1.553249 ┆ 1.496 │\n│ 2018-10-19 21:00:00 ┆ 1.571877 ┆ 1.571963 ┆ 1.572081 ┆ 1.498 │\n│ …                   ┆ …        ┆ …        ┆ …        ┆ …     │\n│ 2023-01-28 03:00:00 ┆ 0.283217 ┆ 0.283236 ┆ 0.283288 ┆ null  │\n│ 2023-01-28 04:00:00 ┆ 0.283649 ┆ 0.283676 ┆ 0.283728 ┆ null  │\n│ 2023-01-28 05:00:00 ┆ 0.283911 ┆ 0.283931 ┆ 0.283979 ┆ null  │\n│ 2023-01-28 06:00:00 ┆ 0.283898 ┆ 0.283906 ┆ 0.283973 ┆ null  │\n└─────────────────────┴──────────┴──────────┴──────────┴───────┘",
      "text/html": "<div><style>\n.dataframe > thead > tr > th,\n.dataframe > tbody > tr > td {\n  text-align: right;\n}\n</style>\n<small>shape: (6_438_323, 5)</small><table border=\"1\" class=\"dataframe\"><thead><tr><th>datetime</th><th>X0.05</th><th>X0.5</th><th>X0.95</th><th>obs</th></tr><tr><td>datetime[μs]</td><td>f64</td><td>f64</td><td>f64</td><td>f64</td></tr></thead><tbody><tr><td>2018-10-19 18:00:00</td><td>1.489574</td><td>1.489645</td><td>1.489784</td><td>1.483</td></tr><tr><td>2018-10-19 19:00:00</td><td>1.52628</td><td>1.526342</td><td>1.526425</td><td>1.494</td></tr><tr><td>2018-10-19 20:00:00</td><td>1.55296</td><td>1.55315</td><td>1.553249</td><td>1.496</td></tr><tr><td>2018-10-19 21:00:00</td><td>1.571877</td><td>1.571963</td><td>1.572081</td><td>1.498</td></tr><tr><td>2018-10-19 22:00:00</td><td>1.583421</td><td>1.583611</td><td>1.583919</td><td>1.497</td></tr><tr><td>2018-10-19 23:00:00</td><td>1.588311</td><td>1.58898</td><td>1.589765</td><td>1.494</td></tr><tr><td>2018-10-20 00:00:00</td><td>1.587752</td><td>1.588943</td><td>1.590391</td><td>1.485</td></tr><tr><td>2018-10-20 01:00:00</td><td>1.58252</td><td>1.584472</td><td>1.586628</td><td>1.49</td></tr><tr><td>2018-10-20 02:00:00</td><td>1.573444</td><td>1.576325</td><td>1.578913</td><td>1.478</td></tr><tr><td>2018-10-20 03:00:00</td><td>1.561412</td><td>1.564899</td><td>1.56789</td><td>1.461</td></tr><tr><td>2018-10-20 04:00:00</td><td>1.546343</td><td>1.550493</td><td>1.554796</td><td>1.446</td></tr><tr><td>2018-10-20 05:00:00</td><td>1.528911</td><td>1.533765</td><td>1.539076</td><td>1.428</td></tr><tr><td>&hellip;</td><td>&hellip;</td><td>&hellip;</td><td>&hellip;</td><td>&hellip;</td></tr><tr><td>2023-01-27 19:00:00</td><td>0.281922</td><td>0.28195</td><td>0.282011</td><td>null</td></tr><tr><td>2023-01-27 20:00:00</td><td>0.2818</td><td>0.281826</td><td>0.281895</td><td>null</td></tr><tr><td>2023-01-27 21:00:00</td><td>0.281662</td><td>0.281687</td><td>0.281751</td><td>null</td></tr><tr><td>2023-01-27 22:00:00</td><td>0.281579</td><td>0.281605</td><td>0.281648</td><td>null</td></tr><tr><td>2023-01-27 23:00:00</td><td>0.281627</td><td>0.281636</td><td>0.281698</td><td>null</td></tr><tr><td>2023-01-28 00:00:00</td><td>0.281834</td><td>0.281842</td><td>0.281906</td><td>null</td></tr><tr><td>2023-01-28 01:00:00</td><td>0.282201</td><td>0.282212</td><td>0.282277</td><td>null</td></tr><tr><td>2023-01-28 02:00:00</td><td>0.282686</td><td>0.282713</td><td>0.282776</td><td>null</td></tr><tr><td>2023-01-28 03:00:00</td><td>0.283217</td><td>0.283236</td><td>0.283288</td><td>null</td></tr><tr><td>2023-01-28 04:00:00</td><td>0.283649</td><td>0.283676</td><td>0.283728</td><td>null</td></tr><tr><td>2023-01-28 05:00:00</td><td>0.283911</td><td>0.283931</td><td>0.283979</td><td>null</td></tr><tr><td>2023-01-28 06:00:00</td><td>0.283898</td><td>0.283906</td><td>0.283973</td><td>null</td></tr></tbody></table></div>"
     },
     "execution_count": 5,
     "metadata": {},
     "output_type": "execute_result"
    }
   ],
   "source": [],
   "metadata": {
    "collapsed": false,
    "ExecuteTime": {
     "end_time": "2023-08-31T11:00:31.211578600Z",
     "start_time": "2023-08-31T11:00:31.195574800Z"
    }
   }
  }
 ],
 "metadata": {
  "kernelspec": {
   "display_name": "Python 3",
   "language": "python",
   "name": "python3"
  },
  "language_info": {
   "codemirror_mode": {
    "name": "ipython",
    "version": 2
   },
   "file_extension": ".py",
   "mimetype": "text/x-python",
   "name": "python",
   "nbconvert_exporter": "python",
   "pygments_lexer": "ipython2",
   "version": "2.7.6"
  }
 },
 "nbformat": 4,
 "nbformat_minor": 0
}
